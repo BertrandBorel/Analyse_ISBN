{
 "cells": [
  {
   "cell_type": "markdown",
   "id": "68f0d5b1",
   "metadata": {},
   "source": [
    "# <center> Fonctions projet chef-d'oeuvre </center>"
   ]
  },
  {
   "cell_type": "markdown",
   "id": "639dd7ef",
   "metadata": {},
   "source": [
    "---"
   ]
  },
  {
   "cell_type": "markdown",
   "id": "6940cff0",
   "metadata": {},
   "source": [
    "## <center> Web scraping </center>"
   ]
  },
  {
   "cell_type": "markdown",
   "id": "e3177afe",
   "metadata": {},
   "source": [
    "## Créer un nouveau csv"
   ]
  },
  {
   "cell_type": "code",
   "execution_count": 13,
   "id": "58ce9157",
   "metadata": {},
   "outputs": [],
   "source": [
    "import csv\n",
    "\n",
    "def creation_csv(nom): # il suffit d'indiquer le nom du csv (sans l'extension)\n",
    "    header = ['Auteur(s)', 'Titre', 'Edition', 'Date', 'ISBN']\n",
    "    with open(nom +'.csv', 'w') as f:\n",
    "            writer = csv.writer(f)\n",
    "            # write the header\n",
    "            writer.writerow(header)\n",
    "    print(\"fichier créé avec le nom suivant :\", nom)"
   ]
  },
  {
   "cell_type": "code",
   "execution_count": 92,
   "id": "cff2ba04",
   "metadata": {},
   "outputs": [
    {
     "name": "stdout",
     "output_type": "stream",
     "text": [
      "fichier créé avec le nom suivant : test4\n"
     ]
    }
   ],
   "source": [
    "creation_csv(\"test4\")"
   ]
  },
  {
   "cell_type": "markdown",
   "id": "96cf707c",
   "metadata": {},
   "source": [
    "## Web-scraping (les Libraires.fr)"
   ]
  },
  {
   "cell_type": "code",
   "execution_count": 102,
   "id": "d600aac7",
   "metadata": {},
   "outputs": [],
   "source": [
    "import requests\n",
    "from bs4 import BeautifulSoup\n",
    "import csv\n",
    "from tqdm.notebook import tqdm_notebook\n",
    "\n",
    "\n",
    "def web_scraping(nom_csv='test4', nb_livres=5000, nombre=205000, site = 'https://www.leslibraires.fr/livre/'):\n",
    "    liste_totale = []\n",
    "    for livre in tqdm_notebook(range(nb_livres)) : \n",
    "        erreur = 0\n",
    "        \n",
    "        try : \n",
    "            url = site + str(nombre)\n",
    "            page = requests.get(url)\n",
    "            soup = BeautifulSoup(page.content, 'html.parser')\n",
    "\n",
    "            liste = []\n",
    "\n",
    "            # auteur \n",
    "            auteur = soup.find(\"h2\")\n",
    "            auteur = auteur.text.strip('\\n')\n",
    "            liste.append(auteur)\n",
    "\n",
    "            # titre\n",
    "            titre = soup.find(\"h1\")\n",
    "            titre = titre.text.strip('\\n')\n",
    "            liste.append(titre)\n",
    "\n",
    "            # edition\n",
    "            edition = soup.find(\"h3\")\n",
    "            edition = edition.text.strip('\\n')\n",
    "            liste.append(edition)\n",
    "\n",
    "            # date\n",
    "            date = soup.findAll(\"dd\")\n",
    "            # on récupère la date dans une variable temporaire\n",
    "            var_temp = date[5].text\n",
    "            # on split la date et on ne récupère que l'année\n",
    "            split = var_temp.split(\"/\")\n",
    "            date = split[-1]\n",
    "            # # on ajoute la date (format : int) à la liste\n",
    "            # liste.append(int(date))\n",
    "            liste.append(date)\n",
    "\n",
    "            # ISBN\n",
    "            # Récupérer l'isbn\n",
    "            info = soup.findAll(\"dd\")\n",
    "            # on récupère l'isbn dans une variable temporaire\n",
    "            isbn = info[2].text\n",
    "            liste.append(isbn)\n",
    "\n",
    "            liste_totale.append(liste)\n",
    "\n",
    "            nombre += 1\n",
    "\n",
    "        except :\n",
    "\n",
    "            nombre += 1\n",
    "            erreur += 1\n",
    "\n",
    "\n",
    "    print(\"Nb d'erreurs :\", erreur)\n",
    "\n",
    "    # insérer les informations pour chaque livre (à partir de la liste totale)\n",
    "    with open(nom_csv+'.csv', 'a', encoding='UTF8') as f:\n",
    "            for x in tqdm_notebook(liste_totale) :\n",
    "                writer = csv.writer(f)\n",
    "                writer.writerow(x)\n",
    "\n",
    "            # message de réussite\n",
    "            print(\"Insertion des données réussies.\")"
   ]
  },
  {
   "cell_type": "code",
   "execution_count": 103,
   "id": "c9c55fad",
   "metadata": {},
   "outputs": [
    {
     "data": {
      "application/vnd.jupyter.widget-view+json": {
       "model_id": "c8f099d21e334b0e836b1416a534c858",
       "version_major": 2,
       "version_minor": 0
      },
      "text/plain": [
       "  0%|          | 0/5000 [00:00<?, ?it/s]"
      ]
     },
     "metadata": {},
     "output_type": "display_data"
    },
    {
     "name": "stdout",
     "output_type": "stream",
     "text": [
      "Nb d'erreurs : 0\n"
     ]
    },
    {
     "data": {
      "application/vnd.jupyter.widget-view+json": {
       "model_id": "a95a8f72a5604c5fb6665c36eb5a2108",
       "version_major": 2,
       "version_minor": 0
      },
      "text/plain": [
       "  0%|          | 0/4625 [00:00<?, ?it/s]"
      ]
     },
     "metadata": {},
     "output_type": "display_data"
    },
    {
     "name": "stdout",
     "output_type": "stream",
     "text": [
      "Insertion des données réussies.\n"
     ]
    }
   ],
   "source": [
    "web_scraping()"
   ]
  },
  {
   "cell_type": "markdown",
   "id": "06678cb7",
   "metadata": {},
   "source": [
    "---"
   ]
  },
  {
   "cell_type": "markdown",
   "id": "a1ba8979",
   "metadata": {},
   "source": [
    "## <center> Formatage des données </center>"
   ]
  },
  {
   "cell_type": "markdown",
   "id": "6b33828f",
   "metadata": {},
   "source": [
    "## Ouvrir un df"
   ]
  },
  {
   "cell_type": "code",
   "execution_count": 40,
   "id": "7e0416e5",
   "metadata": {},
   "outputs": [],
   "source": [
    "import pandas as pd\n",
    "\n",
    "def open_df(file_name):\n",
    "    df = pd.read_csv(file_name + '.csv')\n",
    "    return df"
   ]
  },
  {
   "cell_type": "code",
   "execution_count": 105,
   "id": "bbbc4879",
   "metadata": {},
   "outputs": [
    {
     "data": {
      "text/html": [
       "<div>\n",
       "<style scoped>\n",
       "    .dataframe tbody tr th:only-of-type {\n",
       "        vertical-align: middle;\n",
       "    }\n",
       "\n",
       "    .dataframe tbody tr th {\n",
       "        vertical-align: top;\n",
       "    }\n",
       "\n",
       "    .dataframe thead th {\n",
       "        text-align: right;\n",
       "    }\n",
       "</style>\n",
       "<table border=\"1\" class=\"dataframe\">\n",
       "  <thead>\n",
       "    <tr style=\"text-align: right;\">\n",
       "      <th></th>\n",
       "      <th>Auteur(s)</th>\n",
       "      <th>Titre</th>\n",
       "      <th>Edition</th>\n",
       "      <th>Date</th>\n",
       "      <th>ISBN</th>\n",
       "    </tr>\n",
       "  </thead>\n",
       "  <tbody>\n",
       "    <tr>\n",
       "      <th>0</th>\n",
       "      <td>Brookes John</td>\n",
       "      <td>Garden Design</td>\n",
       "      <td>Dorling Kinders</td>\n",
       "      <td>26,9 x 23,9 x 3 cm</td>\n",
       "      <td>DORLING KINDERS</td>\n",
       "    </tr>\n",
       "    <tr>\n",
       "      <th>1</th>\n",
       "      <td>Cecil Saint-Laurent</td>\n",
       "      <td>Mutante Al</td>\n",
       "      <td>Flammarion</td>\n",
       "      <td>2006</td>\n",
       "      <td>9782082310352</td>\n",
       "    </tr>\n",
       "    <tr>\n",
       "      <th>2</th>\n",
       "      <td>mélanges offerts à Michel Sales</td>\n",
       "      <td>Lettre de l'esprit</td>\n",
       "      <td>Parole et silence</td>\n",
       "      <td>2005</td>\n",
       "      <td>9782845733282</td>\n",
       "    </tr>\n",
       "    <tr>\n",
       "      <th>3</th>\n",
       "      <td>De Jacques Pessis</td>\n",
       "      <td>Johnny Hallyday</td>\n",
       "      <td>Altinéa</td>\n",
       "      <td>2003</td>\n",
       "      <td>9782847630022</td>\n",
       "    </tr>\n",
       "    <tr>\n",
       "      <th>4</th>\n",
       "      <td>De Dominique Balaÿ, Francis Balaÿ</td>\n",
       "      <td>Ile De Camargue - Il Etait Une Fois</td>\n",
       "      <td>Illustrations de Jean Cubaud, Jean Roché</td>\n",
       "      <td>2007</td>\n",
       "      <td>9782848110592</td>\n",
       "    </tr>\n",
       "  </tbody>\n",
       "</table>\n",
       "</div>"
      ],
      "text/plain": [
       "                           Auteur(s)                                Titre  \\\n",
       "0                       Brookes John                        Garden Design   \n",
       "1                Cecil Saint-Laurent                           Mutante Al   \n",
       "2    mélanges offerts à Michel Sales                   Lettre de l'esprit   \n",
       "3                  De Jacques Pessis                      Johnny Hallyday   \n",
       "4  De Dominique Balaÿ, Francis Balaÿ  Ile De Camargue - Il Etait Une Fois   \n",
       "\n",
       "                                    Edition                Date  \\\n",
       "0                           Dorling Kinders  26,9 x 23,9 x 3 cm   \n",
       "1                                Flammarion                2006   \n",
       "2                         Parole et silence                2005   \n",
       "3                                   Altinéa                2003   \n",
       "4  Illustrations de Jean Cubaud, Jean Roché                2007   \n",
       "\n",
       "              ISBN  \n",
       "0  DORLING KINDERS  \n",
       "1    9782082310352  \n",
       "2    9782845733282  \n",
       "3    9782847630022  \n",
       "4    9782848110592  "
      ]
     },
     "execution_count": 105,
     "metadata": {},
     "output_type": "execute_result"
    }
   ],
   "source": [
    "df = open_df('test4')  \n",
    "df.head()"
   ]
  },
  {
   "cell_type": "markdown",
   "id": "88064a38",
   "metadata": {},
   "source": [
    "## Récupérer des infos sur le df"
   ]
  },
  {
   "cell_type": "code",
   "execution_count": 106,
   "id": "3204b492",
   "metadata": {},
   "outputs": [],
   "source": [
    "def info_df (file_name):\n",
    "    df = open_df(file_name)\n",
    "    df.info()"
   ]
  },
  {
   "cell_type": "code",
   "execution_count": 107,
   "id": "b9c152bc",
   "metadata": {},
   "outputs": [
    {
     "name": "stdout",
     "output_type": "stream",
     "text": [
      "<class 'pandas.core.frame.DataFrame'>\n",
      "RangeIndex: 4625 entries, 0 to 4624\n",
      "Data columns (total 5 columns):\n",
      " #   Column     Non-Null Count  Dtype \n",
      "---  ------     --------------  ----- \n",
      " 0   Auteur(s)  4625 non-null   object\n",
      " 1   Titre      4625 non-null   object\n",
      " 2   Edition    4625 non-null   object\n",
      " 3   Date       4624 non-null   object\n",
      " 4   ISBN       4625 non-null   object\n",
      "dtypes: object(5)\n",
      "memory usage: 180.8+ KB\n"
     ]
    }
   ],
   "source": [
    "info_df('test4')"
   ]
  },
  {
   "cell_type": "markdown",
   "id": "49e66269",
   "metadata": {},
   "source": [
    "## Supprimer doublons dans le csv"
   ]
  },
  {
   "cell_type": "code",
   "execution_count": 108,
   "id": "5760e925",
   "metadata": {},
   "outputs": [],
   "source": [
    "def delete_duplicates(file_name):\n",
    "    # Suppression\n",
    "    df.drop_duplicates(subset=None, inplace=True)\n",
    "    # Sauvegarde = écrase le csv\n",
    "    df.to_csv(file_name + \".csv\", index=False)\n",
    "    print(\"Les doublons ont bien été supprimés.\")\n",
    "    return df"
   ]
  },
  {
   "cell_type": "markdown",
   "id": "bbd584ec",
   "metadata": {},
   "source": [
    "## Formater la colonne 'Auteur'"
   ]
  },
  {
   "cell_type": "code",
   "execution_count": 109,
   "id": "471c1fbe",
   "metadata": {},
   "outputs": [],
   "source": [
    "def formater_auteur(file_name):\n",
    "    # replace\n",
    "    df['Auteur(s)'] = df['Auteur(s)'].str.replace(\"De \", \"\", regex=False)\n",
    "#     # Sauvegarde du csv \n",
    "#     df.to_csv(file_name + \".csv\", index=False)\n",
    "    # # None \n",
    "    df['Auteur(s)'] = df['Auteur(s)'].replace(to_replace =[\"[none]\", \"[None]\", \"nones\", \"none\", \"Inconnu\", \"inconnu\", \"Xxx\", \" . \",\n",
    "                                                          \"nouvelles\", \"nouvelle\", \"roman\", \"romans\", \"poème\", \"poèmes\",\"Poèmes\", \"Poème\", \"poésie\", \"poésies\", \"récit\", \n",
    "                                                          \"récits\", \"Livre\", \"Livres\", \"livre\", \"livres\", \"Volume 2\", \"et autres nouvelles\",\n",
    "                                                          \"<<<<< \", \"<<<<<\", \"Volume 1\", \"[nouvelles]\", \"livre du professeur\", \"l'intégrale\",\n",
    "                                                          \"Pro\", \"Prof\", \"théâtre\", \"Théâtre\", \"A Preciser\", \"Po\", \"France\", \"- Roman\", \"Roman\",\n",
    "                                                          \"3\",\"2\", \"Anonyme\", \"anthologie\", \"Inconnu / Inconnu\", \"essai\", \"essais\", \"5e\", \"Tome 1\"], \n",
    "                                value =\"None\")\n",
    "\n",
    "    # Collectif\n",
    "    df['Auteur(s)'] = df['Auteur(s)'].replace(to_replace =[\"De Collectif\", \"Collectifs\", \"collectif\", \" Collectif\", \"De Collectifs\",\n",
    "                                                          \"Collectif d'auteurs\", \" Collectif d'auteurs\", \"Collectifs Jeunesse\", \"Collectifs Lois\",\n",
    "                                                          \"Collectif,\", \"Collectifs Gallimard\"],\n",
    "                                value = \"Collectif\")\n",
    "    # Sauvegarde du csv \n",
    "    df.to_csv(file_name + \".csv\", index=False)\n",
    "    print(\"Formatage de la colonne 'Auteur' : OK\")\n",
    "    return df"
   ]
  },
  {
   "cell_type": "markdown",
   "id": "b98a36f1",
   "metadata": {},
   "source": [
    "## Formatage de la colonne 'Edition'"
   ]
  },
  {
   "cell_type": "code",
   "execution_count": 110,
   "id": "2758201b",
   "metadata": {},
   "outputs": [],
   "source": [
    "def formater_edition(file_name):\n",
    "    # Formatage des éditions \n",
    "    df['Edition'] = df['Edition'].str.replace(\"L'Harmattan\", \"Harmattan\", regex=False)\n",
    "    df['Edition'] = df['Edition'].str.replace(\"Presses universitaires de France\", \"PUF\", regex=False)\n",
    "    df['Edition'] = df['Edition'].str.replace(\"Editions Ellipses\", \"Ellipses\", regex=False)\n",
    "    df['Edition'] = df['Edition'].str.replace(\"Éditions du Rocher\", \"Rocher\", regex=False)\n",
    "    df['Edition'] = df['Edition'].str.replace(\"Editions du Rocher\", \"Rocher\", regex=False)\n",
    "    df['Edition'] = df['Edition'].str.replace(\"Editions \", \"\", regex=False)\n",
    "    df['Edition'] = df['Edition'].str.replace(\"Éditions \", \"\", regex=False)\n",
    "\n",
    "    # Sauvegarde du csv \n",
    "    df.to_csv(file_name + \".csv\", index=False)\n",
    "    print(\"Formatage de la colonne 'Edition' : OK\")\n",
    "    return df"
   ]
  },
  {
   "cell_type": "markdown",
   "id": "19dc58ac",
   "metadata": {},
   "source": [
    "---"
   ]
  },
  {
   "cell_type": "markdown",
   "id": "07df476a",
   "metadata": {},
   "source": [
    "## Traitement des ISBN"
   ]
  },
  {
   "cell_type": "code",
   "execution_count": 113,
   "id": "ea8dc6a5",
   "metadata": {},
   "outputs": [],
   "source": [
    "# Suppression des ISBN non chiffrés\n",
    "from tqdm.notebook import tqdm_notebook\n",
    "\n",
    "def traitement_isbn(nom_csv):\n",
    "    liste=[]\n",
    "    index = 0\n",
    "    for x in tqdm_notebook(df['ISBN']):\n",
    "        try :\n",
    "            test = int(x)\n",
    "            index += 1\n",
    "        except :\n",
    "            df.drop([index], axis=0, inplace=True)\n",
    "            index +=1 \n",
    "\n",
    "    # Sauvegarde\n",
    "    df.to_csv(nom_csv+\".csv\", index=False)\n",
    "    \n",
    "    return df\n"
   ]
  },
  {
   "cell_type": "code",
   "execution_count": 114,
   "id": "9ffe06e5",
   "metadata": {},
   "outputs": [],
   "source": [
    "# Trouver des ISBN aberrants :\n",
    "\n",
    "def min_max_isbn():\n",
    "    print(\"Min : \", df['ISBN'].min())\n",
    "    print(\"Max : \", df['ISBN'].max())"
   ]
  },
  {
   "cell_type": "code",
   "execution_count": 115,
   "id": "d1137a73",
   "metadata": {},
   "outputs": [],
   "source": [
    "# Supprimer les ISBN aberrants\n",
    "\n",
    "\n",
    "def delete_bad_isbn(csv_name):\n",
    "    index = -1\n",
    "    liste = []\n",
    "\n",
    "    for x in df['ISBN']:\n",
    "        index += 1\n",
    "        if x <= 9780000000000 :\n",
    "            liste.append(index)\n",
    "        \n",
    "    # message    \n",
    "    print(\"Nb d'erreurs d'ISBN :\", len(liste))\n",
    "    # delete\n",
    "    df.drop(liste, axis=0, inplace=True)\n",
    "    # save\n",
    "    df.to_csv(csv_name + \".csv\", index=False)\n",
    "    \n",
    "    return df.info()"
   ]
  },
  {
   "cell_type": "markdown",
   "id": "6702d3a2",
   "metadata": {},
   "source": [
    "## Traitement sur les dates"
   ]
  },
  {
   "cell_type": "code",
   "execution_count": 116,
   "id": "1f725717",
   "metadata": {},
   "outputs": [],
   "source": [
    "# Formatage\n",
    "def formater_date(csv_name):\n",
    "    # formatage des dates\n",
    "    df['Date'] = df['Date'].replace(to_replace =[\"©\",\"© \",\"Imp \",\"imp\",\"imp \",\"impr \",\"Impr \",\"DL \",\"dl \",\"ilmpr\",\"ilmpr \",\n",
    "        \"cop\",\"Cop\",\"ca\",\"(c)\",\"Paris PUF \",\"Paris PUF\",\"Paris Gallimard \",\"Paris Gallimard\",\"Paris Flammarion \",\n",
    "        \"Paris Flammarion\",\"Paris Les Belles Lettres \",\"Paris Les Belles Lettres\",\"Paris L'Harmattan \",\"Paris L'Harmattan\",\n",
    "        \"Paris Hachette \",\"Paris Hachette\",\"Paris Colin\",\"Paris Colin \" \n",
    "        ],\n",
    "        value = \"\")\n",
    "    # suppression des dates non numériques\n",
    "    liste=[]\n",
    "    index = 0\n",
    "    for x in tqdm_notebook(df['Date']):\n",
    "        try :\n",
    "            test = int(x)\n",
    "            index += 1\n",
    "        except :\n",
    "            df.drop([index], axis=0, inplace=True)\n",
    "            index +=1 \n",
    "\n",
    "    # Sauvegarde du csv \n",
    "    df.to_csv(csv_name +\".csv\", index=False)\n",
    "    \n",
    "    return df"
   ]
  },
  {
   "cell_type": "code",
   "execution_count": 117,
   "id": "0c12b82d",
   "metadata": {},
   "outputs": [],
   "source": [
    "# Statistiques sur les dates\n",
    "\n",
    "def stats_date():\n",
    "    print(\"Moyenne :\", round(df.Date.mean(), 2))\n",
    "    print(\"Min :\", df.Date.min())\n",
    "    print(\"Max :\", df.Date.max())"
   ]
  },
  {
   "cell_type": "code",
   "execution_count": 118,
   "id": "11e6fdc9",
   "metadata": {},
   "outputs": [],
   "source": [
    "# supression des dates aberrantes \n",
    "\n",
    "def delete_bad_dates(csv_name):\n",
    "    nombre = 0\n",
    "    index = -1\n",
    "    for x in df['Date']:\n",
    "        index += 1\n",
    "        if x < 1700 :\n",
    "            df.drop([index], axis=0, inplace=True)\n",
    "            nombre += 1\n",
    "    # Save\n",
    "    df.to_csv(csv_name+\".csv\", index=False)"
   ]
  },
  {
   "cell_type": "markdown",
   "id": "236c8c19",
   "metadata": {},
   "source": [
    "## Concaténation"
   ]
  },
  {
   "cell_type": "code",
   "execution_count": 119,
   "id": "7ee13a52",
   "metadata": {},
   "outputs": [],
   "source": [
    "def concat_csv(csv_1, csv_2, nom_csv):\n",
    "    df = pd.concat(\n",
    "    map(pd.read_csv, [csv_1+'.csv',csv_2+'.csv']), ignore_index=True)\n",
    "    # Sauvegarde\n",
    "    df.to_csv(nom_csv+\".csv\", index=False)"
   ]
  },
  {
   "cell_type": "markdown",
   "id": "31f8b9d9",
   "metadata": {},
   "source": [
    "---"
   ]
  },
  {
   "cell_type": "markdown",
   "id": "7371d705",
   "metadata": {},
   "source": [
    "# <center> Traitement du csv </center>"
   ]
  },
  {
   "cell_type": "code",
   "execution_count": 169,
   "id": "ce1c1556",
   "metadata": {},
   "outputs": [],
   "source": [
    "nom_csv = '43'"
   ]
  },
  {
   "cell_type": "code",
   "execution_count": 170,
   "id": "584d459c",
   "metadata": {},
   "outputs": [
    {
     "name": "stdout",
     "output_type": "stream",
     "text": [
      "<class 'pandas.core.frame.DataFrame'>\n",
      "RangeIndex: 129345 entries, 0 to 129344\n",
      "Data columns (total 5 columns):\n",
      " #   Column     Non-Null Count   Dtype \n",
      "---  ------     --------------   ----- \n",
      " 0   Auteur(s)  128768 non-null  object\n",
      " 1   Titre      129345 non-null  object\n",
      " 2   Edition    129167 non-null  object\n",
      " 3   Date       129345 non-null  int64 \n",
      " 4   ISBN       129345 non-null  int64 \n",
      "dtypes: int64(2), object(3)\n",
      "memory usage: 4.9+ MB\n"
     ]
    }
   ],
   "source": [
    "df = open_df(nom_csv)\n",
    "df.info()"
   ]
  },
  {
   "cell_type": "markdown",
   "id": "26e4eabc",
   "metadata": {},
   "source": [
    "## Formater Auteur/Edition"
   ]
  },
  {
   "cell_type": "code",
   "execution_count": 166,
   "id": "cc52cf37",
   "metadata": {},
   "outputs": [],
   "source": [
    "def traitement_csv(file_name):\n",
    "    df = open_df(file_name)\n",
    "    df = delete_duplicates(file_name)\n",
    "    df = formater_auteur(file_name)\n",
    "    df = formater_edition(file_name)\n",
    "    return df"
   ]
  },
  {
   "cell_type": "code",
   "execution_count": 167,
   "id": "a2aaad48",
   "metadata": {},
   "outputs": [
    {
     "name": "stdout",
     "output_type": "stream",
     "text": [
      "Les doublons ont bien été supprimés.\n",
      "Formatage de la colonne 'Auteur' : OK\n",
      "Formatage de la colonne 'Edition' : OK\n"
     ]
    },
    {
     "data": {
      "text/html": [
       "<div>\n",
       "<style scoped>\n",
       "    .dataframe tbody tr th:only-of-type {\n",
       "        vertical-align: middle;\n",
       "    }\n",
       "\n",
       "    .dataframe tbody tr th {\n",
       "        vertical-align: top;\n",
       "    }\n",
       "\n",
       "    .dataframe thead th {\n",
       "        text-align: right;\n",
       "    }\n",
       "</style>\n",
       "<table border=\"1\" class=\"dataframe\">\n",
       "  <thead>\n",
       "    <tr style=\"text-align: right;\">\n",
       "      <th></th>\n",
       "      <th>Auteur(s)</th>\n",
       "      <th>Titre</th>\n",
       "      <th>Edition</th>\n",
       "      <th>Date</th>\n",
       "      <th>ISBN</th>\n",
       "    </tr>\n",
       "  </thead>\n",
       "  <tbody>\n",
       "    <tr>\n",
       "      <th>0</th>\n",
       "      <td>Reynal Sorel</td>\n",
       "      <td>Orphee Et L Orphisme</td>\n",
       "      <td>Que sais-je ?</td>\n",
       "      <td>1998</td>\n",
       "      <td>9782130472100</td>\n",
       "    </tr>\n",
       "    <tr>\n",
       "      <th>1</th>\n",
       "      <td>Gilbert Delahaye</td>\n",
       "      <td>Martine à l'cinse - Martine à la ferme en Ch'ti</td>\n",
       "      <td>Illustrations de Marcel Marlier</td>\n",
       "      <td>2006</td>\n",
       "      <td>9782203104730</td>\n",
       "    </tr>\n",
       "    <tr>\n",
       "      <th>2</th>\n",
       "      <td>Traduit par Daniel Garance</td>\n",
       "      <td>100 Techniques De Pros Pour Le Cinema Amateur</td>\n",
       "      <td>Eyrolles</td>\n",
       "      <td>2006</td>\n",
       "      <td>9782212119060</td>\n",
       "    </tr>\n",
       "    <tr>\n",
       "      <th>3</th>\n",
       "      <td>Satprem</td>\n",
       "      <td>La légende de l'avenir</td>\n",
       "      <td>Robert Laffont</td>\n",
       "      <td>2000</td>\n",
       "      <td>9782221091890</td>\n",
       "    </tr>\n",
       "    <tr>\n",
       "      <th>4</th>\n",
       "      <td>L'Imitation (fragments, Épitomé) - Première le...</td>\n",
       "      <td>Opuscules rhétoriques / Denys d'Halicarnasse.\\...</td>\n",
       "      <td>Édité par Germaine Aujac</td>\n",
       "      <td>1992</td>\n",
       "      <td>9782251004310</td>\n",
       "    </tr>\n",
       "    <tr>\n",
       "      <th>...</th>\n",
       "      <td>...</td>\n",
       "      <td>...</td>\n",
       "      <td>...</td>\n",
       "      <td>...</td>\n",
       "      <td>...</td>\n",
       "    </tr>\n",
       "    <tr>\n",
       "      <th>12200</th>\n",
       "      <td>None</td>\n",
       "      <td>6 - Intégrale Chick Bill - Tome 6 - Intégrale ...</td>\n",
       "      <td>Le Lombard</td>\n",
       "      <td>2001</td>\n",
       "      <td>9782803616220</td>\n",
       "    </tr>\n",
       "    <tr>\n",
       "      <th>12222</th>\n",
       "      <td>None</td>\n",
       "      <td>Des musées et des femmes et autres nouvelles</td>\n",
       "      <td>Traduit par Georges Magnane</td>\n",
       "      <td>1975</td>\n",
       "      <td>9782070291700</td>\n",
       "    </tr>\n",
       "    <tr>\n",
       "      <th>12241</th>\n",
       "      <td>None</td>\n",
       "      <td>Abécédaire de l'Apocalypse [Board book] Parnov...</td>\n",
       "      <td>Traduit par Bernard Kreise</td>\n",
       "      <td>2008</td>\n",
       "      <td>9782355860010</td>\n",
       "    </tr>\n",
       "    <tr>\n",
       "      <th>12242</th>\n",
       "      <td>None</td>\n",
       "      <td>Un pont sur la Loire</td>\n",
       "      <td>Table Ronde</td>\n",
       "      <td>2006</td>\n",
       "      <td>9782710328490</td>\n",
       "    </tr>\n",
       "    <tr>\n",
       "      <th>12246</th>\n",
       "      <td>None</td>\n",
       "      <td>Villa Argane</td>\n",
       "      <td>Presses du Midi</td>\n",
       "      <td>2001</td>\n",
       "      <td>9782878673050</td>\n",
       "    </tr>\n",
       "  </tbody>\n",
       "</table>\n",
       "<p>6527 rows × 5 columns</p>\n",
       "</div>"
      ],
      "text/plain": [
       "                                               Auteur(s)  \\\n",
       "0                                           Reynal Sorel   \n",
       "1                                       Gilbert Delahaye   \n",
       "2                             Traduit par Daniel Garance   \n",
       "3                                                Satprem   \n",
       "4      L'Imitation (fragments, Épitomé) - Première le...   \n",
       "...                                                  ...   \n",
       "12200                                               None   \n",
       "12222                                               None   \n",
       "12241                                               None   \n",
       "12242                                               None   \n",
       "12246                                               None   \n",
       "\n",
       "                                                   Titre  \\\n",
       "0                                   Orphee Et L Orphisme   \n",
       "1        Martine à l'cinse - Martine à la ferme en Ch'ti   \n",
       "2          100 Techniques De Pros Pour Le Cinema Amateur   \n",
       "3                                 La légende de l'avenir   \n",
       "4      Opuscules rhétoriques / Denys d'Halicarnasse.\\...   \n",
       "...                                                  ...   \n",
       "12200  6 - Intégrale Chick Bill - Tome 6 - Intégrale ...   \n",
       "12222       Des musées et des femmes et autres nouvelles   \n",
       "12241  Abécédaire de l'Apocalypse [Board book] Parnov...   \n",
       "12242                               Un pont sur la Loire   \n",
       "12246                                       Villa Argane   \n",
       "\n",
       "                               Edition  Date           ISBN  \n",
       "0                        Que sais-je ?  1998  9782130472100  \n",
       "1      Illustrations de Marcel Marlier  2006  9782203104730  \n",
       "2                             Eyrolles  2006  9782212119060  \n",
       "3                       Robert Laffont  2000  9782221091890  \n",
       "4             Édité par Germaine Aujac  1992  9782251004310  \n",
       "...                                ...   ...            ...  \n",
       "12200                       Le Lombard  2001  9782803616220  \n",
       "12222      Traduit par Georges Magnane  1975  9782070291700  \n",
       "12241       Traduit par Bernard Kreise  2008  9782355860010  \n",
       "12242                      Table Ronde  2006  9782710328490  \n",
       "12246                  Presses du Midi  2001  9782878673050  \n",
       "\n",
       "[6527 rows x 5 columns]"
      ]
     },
     "execution_count": 167,
     "metadata": {},
     "output_type": "execute_result"
    }
   ],
   "source": [
    "traitement_csv(nom_csv)"
   ]
  },
  {
   "cell_type": "markdown",
   "id": "af6e77da",
   "metadata": {},
   "source": [
    "## Formater ISBN/Dates"
   ]
  },
  {
   "cell_type": "code",
   "execution_count": 168,
   "id": "34ca5f41",
   "metadata": {},
   "outputs": [
    {
     "data": {
      "application/vnd.jupyter.widget-view+json": {
       "model_id": "29d321921cce454195cafe9587893e3b",
       "version_major": 2,
       "version_minor": 0
      },
      "text/plain": [
       "  0%|          | 0/6527 [00:00<?, ?it/s]"
      ]
     },
     "metadata": {},
     "output_type": "display_data"
    },
    {
     "name": "stdout",
     "output_type": "stream",
     "text": [
      "Nb d'erreurs d'ISBN : 0\n",
      "<class 'pandas.core.frame.DataFrame'>\n",
      "RangeIndex: 6527 entries, 0 to 6526\n",
      "Data columns (total 5 columns):\n",
      " #   Column     Non-Null Count  Dtype \n",
      "---  ------     --------------  ----- \n",
      " 0   Auteur(s)  6511 non-null   object\n",
      " 1   Titre      6527 non-null   object\n",
      " 2   Edition    6527 non-null   object\n",
      " 3   Date       6527 non-null   int64 \n",
      " 4   ISBN       6527 non-null   int64 \n",
      "dtypes: int64(2), object(3)\n",
      "memory usage: 255.1+ KB\n"
     ]
    },
    {
     "data": {
      "application/vnd.jupyter.widget-view+json": {
       "model_id": "12008abcf3134be39f03e2c6fbb11fa7",
       "version_major": 2,
       "version_minor": 0
      },
      "text/plain": [
       "  0%|          | 0/6527 [00:00<?, ?it/s]"
      ]
     },
     "metadata": {},
     "output_type": "display_data"
    },
    {
     "name": "stdout",
     "output_type": "stream",
     "text": [
      "<class 'pandas.core.frame.DataFrame'>\n",
      "RangeIndex: 6527 entries, 0 to 6526\n",
      "Data columns (total 5 columns):\n",
      " #   Column     Non-Null Count  Dtype \n",
      "---  ------     --------------  ----- \n",
      " 0   Auteur(s)  6511 non-null   object\n",
      " 1   Titre      6527 non-null   object\n",
      " 2   Edition    6527 non-null   object\n",
      " 3   Date       6527 non-null   int64 \n",
      " 4   ISBN       6527 non-null   int64 \n",
      "dtypes: int64(2), object(3)\n",
      "memory usage: 255.1+ KB\n"
     ]
    }
   ],
   "source": [
    "# nom_csv = 'test4'\n",
    "traitement_isbn(nom_csv)\n",
    "df = open_df(nom_csv)\n",
    "\n",
    "delete_bad_isbn(nom_csv)\n",
    "df = open_df(nom_csv)\n",
    "\n",
    "formater_date(nom_csv)\n",
    "df = open_df(nom_csv)\n",
    "\n",
    "delete_bad_dates(nom_csv)\n",
    "df = open_df(nom_csv)\n",
    "df.info()"
   ]
  },
  {
   "cell_type": "markdown",
   "id": "6712b4ec",
   "metadata": {},
   "source": [
    "## Concaténation"
   ]
  },
  {
   "cell_type": "code",
   "execution_count": 163,
   "id": "399c08f1",
   "metadata": {},
   "outputs": [],
   "source": [
    "concat_csv(\"test3\", nom_csv, \"test5\")"
   ]
  },
  {
   "cell_type": "code",
   "execution_count": null,
   "id": "65b262e5",
   "metadata": {},
   "outputs": [],
   "source": []
  }
 ],
 "metadata": {
  "kernelspec": {
   "display_name": "Python 3 (ipykernel)",
   "language": "python",
   "name": "python3"
  },
  "language_info": {
   "codemirror_mode": {
    "name": "ipython",
    "version": 3
   },
   "file_extension": ".py",
   "mimetype": "text/x-python",
   "name": "python",
   "nbconvert_exporter": "python",
   "pygments_lexer": "ipython3",
   "version": "3.8.3"
  }
 },
 "nbformat": 4,
 "nbformat_minor": 5
}
