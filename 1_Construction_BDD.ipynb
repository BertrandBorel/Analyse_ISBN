{
 "cells": [
  {
   "cell_type": "markdown",
   "id": "1017b074",
   "metadata": {},
   "source": [
    "# <center> Construction de la BDD <center>"
   ]
  },
  {
   "cell_type": "code",
   "execution_count": 1,
   "id": "349d5d0a",
   "metadata": {},
   "outputs": [
    {
     "name": "stderr",
     "output_type": "stream",
     "text": [
      "C:\\Users\\utilisateur\\anaconda3\\lib\\site-packages\\requests\\__init__.py:109: RequestsDependencyWarning: urllib3 (1.26.9) or chardet (5.0.0)/charset_normalizer (2.0.12) doesn't match a supported version!\n",
      "  warnings.warn(\n"
     ]
    }
   ],
   "source": [
    "import pandas as pd\n",
    "import mysql.connector as msql\n",
    "from mysql.connector import Error\n",
    "from tqdm.notebook import tqdm_notebook"
   ]
  },
  {
   "cell_type": "code",
   "execution_count": 2,
   "id": "2a98b51f",
   "metadata": {},
   "outputs": [],
   "source": [
    "def connexion(bdd):\n",
    "    global conn\n",
    "    try:\n",
    "        conn = msql.connect(host='localhost', user='root', port='8080', password='root', database=bdd)\n",
    "        if conn.is_connected():\n",
    "            print(\"Connexion réussie !\")\n",
    "        cursor = conn.cursor()\n",
    "    except Error as e:\n",
    "        print(\"Erreur : impossible de se connecter à la bdd...\", e)\n",
    "        \n",
    "def deconnexion():\n",
    "    global conn\n",
    "    conn.close()\n",
    "    print(\"Déconnexion réussie.\")"
   ]
  },
  {
   "cell_type": "markdown",
   "id": "07a57600",
   "metadata": {},
   "source": [
    "## Création des tables"
   ]
  },
  {
   "cell_type": "code",
   "execution_count": 3,
   "id": "f28a2819",
   "metadata": {},
   "outputs": [],
   "source": [
    "requete = '''CREATE TABLE Auteur (\n",
    "  id_auteur INT PRIMARY KEY AUTO_INCREMENT,\n",
    "  nom_auteur VARCHAR(255)\n",
    ");\n",
    "\n",
    "CREATE TABLE Edition (\n",
    "  id_edition INT PRIMARY KEY AUTO_INCREMENT,\n",
    "  nom_edition VARCHAR(255)\n",
    ");\n",
    "\n",
    "CREATE TABLE Date (\n",
    "  id_date INT PRIMARY KEY AUTO_INCREMENT,\n",
    "  date INT(11)\n",
    ");\n",
    "\n",
    "CREATE TABLE Refs (\n",
    "  ISBN VARCHAR(13),\n",
    "  titre VARCHAR(255),\n",
    "  auteur INT,\n",
    "  FOREIGN KEY (auteur) REFERENCES Auteur(id_auteur),\n",
    "  edition INT,\n",
    "  FOREIGN KEY (edition) REFERENCES Edition(id_edition),\n",
    "  date INT,\n",
    "  FOREIGN KEY (date) REFERENCES Date(id_date),\n",
    "  PRIMARY KEY (ISBN)\n",
    ");'''"
   ]
  },
  {
   "cell_type": "code",
   "execution_count": 4,
   "id": "180b39fa",
   "metadata": {},
   "outputs": [],
   "source": [
    "def create_table():\n",
    "    global conn\n",
    "    sql = requete\n",
    "    try:\n",
    "        cursor = conn.cursor()\n",
    "        cursor.execute(sql)\n",
    "        print(\"Création des tables : ok\")\n",
    "    except Error as e:\n",
    "        print(\"Erreur : impossible de créer la table.\", e) "
   ]
  },
  {
   "cell_type": "code",
   "execution_count": 5,
   "id": "2e74a4af",
   "metadata": {},
   "outputs": [
    {
     "name": "stdout",
     "output_type": "stream",
     "text": [
      "Connexion réussie !\n",
      "Création des tables : ok\n",
      "Déconnexion réussie.\n"
     ]
    }
   ],
   "source": [
    "connexion(\"test_pco\")\n",
    "create_table()\n",
    "deconnexion()"
   ]
  }
 ],
 "metadata": {
  "kernelspec": {
   "display_name": "Python 3 (ipykernel)",
   "language": "python",
   "name": "python3"
  },
  "language_info": {
   "codemirror_mode": {
    "name": "ipython",
    "version": 3
   },
   "file_extension": ".py",
   "mimetype": "text/x-python",
   "name": "python",
   "nbconvert_exporter": "python",
   "pygments_lexer": "ipython3",
   "version": "3.8.3"
  }
 },
 "nbformat": 4,
 "nbformat_minor": 5
}
