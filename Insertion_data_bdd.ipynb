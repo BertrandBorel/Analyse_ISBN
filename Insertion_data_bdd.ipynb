{
 "cells": [
  {
   "cell_type": "markdown",
   "id": "97e4e618",
   "metadata": {},
   "source": [
    "# <center> Insérer un csv dans la base de données </center>"
   ]
  },
  {
   "cell_type": "code",
   "execution_count": 1,
   "id": "16f71d5f",
   "metadata": {},
   "outputs": [],
   "source": [
    "import pandas as pd\n",
    "import mysql.connector as msql\n",
    "from mysql.connector import Error"
   ]
  },
  {
   "cell_type": "markdown",
   "id": "711a9319",
   "metadata": {},
   "source": [
    "## Code"
   ]
  },
  {
   "cell_type": "code",
   "execution_count": 111,
   "id": "3d9f6b51",
   "metadata": {},
   "outputs": [],
   "source": [
    "def connexion():\n",
    "    global conn\n",
    "    try:\n",
    "        conn = msql.connect(host='localhost', user='name_user', port='port', password='user_password', database='database_name')\n",
    "        if conn.is_connected():\n",
    "            print(\"Connexion réussie !\")\n",
    "        cursor = conn.cursor()\n",
    "    except Error as e:\n",
    "        print(\"Erreur : impossible de se connecter à la bdd...\", e)\n",
    "        \n",
    "def create_table(name):\n",
    "    global conn\n",
    "    sql = '''CREATE TABLE IF NOT EXISTS ''' + name + ''' (ISBN VARCHAR(13) PRIMARY KEY, auteur VARCHAR(255),titre VARCHAR(255),edition VARCHAR(255),date INT(4))'''\n",
    "    try:\n",
    "        cursor = conn.cursor()\n",
    "        cursor.execute(sql)\n",
    "        print(\"Création de la table\", name, \": ok !\")\n",
    "    except Error as e:\n",
    "        print(\"Erreur : impossible de créer la table.\", e)   \n",
    "        \n",
    "def delete_table(name):\n",
    "    \n",
    "    sql = '''DROP TABLE  ''' + name\n",
    "    try:\n",
    "        cursor = conn.cursor()\n",
    "        cursor.execute(sql)\n",
    "        print(\"Suppression de la table\", name,\": ok !\")\n",
    "\n",
    "    except Error as e:\n",
    "        print(\"Erreur : impossible de supprimer la table.\", e)   \n",
    "        \n",
    "def insert_data(df_name, table_name):\n",
    "    import pandas as pd\n",
    "    # dataframe :\n",
    "    df = pd.read_csv(df_name + '.csv')\n",
    "    # insert data\n",
    "    try : \n",
    "        cursor = conn.cursor()\n",
    "        for row in df.itertuples():\n",
    "            cursor.execute('''\n",
    "                            INSERT INTO '''+ table_name +''' (ISBN, auteur, titre, edition, date)\n",
    "                        VALUES (%s, %s, %s, %s, %s)\n",
    "                        ''',\n",
    "                        (row.ISBN, row.Auteur, row.Titre, row.Edition,row.Date))\n",
    "        conn.commit()\n",
    "        print(\"Insertions data : ok !\")\n",
    "    \n",
    "    except Error as e:\n",
    "        print(\"Error while connecting to MySQL\", e)  \n",
    "\n",
    "def deconnexion():\n",
    "    global conn\n",
    "    conn.close()\n",
    "    print(\"Déconnexion réussie.\")\n"
   ]
  },
  {
   "cell_type": "code",
   "execution_count": null,
   "id": "d0b7f3b7",
   "metadata": {},
   "outputs": [],
   "source": [
    "\n",
    "    "
   ]
  },
  {
   "cell_type": "code",
   "execution_count": 107,
   "id": "5c26b386",
   "metadata": {},
   "outputs": [
    {
     "name": "stdout",
     "output_type": "stream",
     "text": [
      "Connexion réussie !\n"
     ]
    }
   ],
   "source": [
    "connexion()"
   ]
  },
  {
   "cell_type": "code",
   "execution_count": 109,
   "id": "18a7160c",
   "metadata": {},
   "outputs": [
    {
     "name": "stdout",
     "output_type": "stream",
     "text": [
      "Création de la table ref : ok !\n"
     ]
    }
   ],
   "source": [
    "create_table(\"ref\")"
   ]
  },
  {
   "cell_type": "code",
   "execution_count": 112,
   "id": "d692471b",
   "metadata": {},
   "outputs": [
    {
     "name": "stdout",
     "output_type": "stream",
     "text": [
      "Insertions data : ok !\n"
     ]
    }
   ],
   "source": [
    "insert_data(\"test_bdd\", \"ref\")"
   ]
  },
  {
   "cell_type": "code",
   "execution_count": 108,
   "id": "0a3de4a8",
   "metadata": {},
   "outputs": [
    {
     "name": "stdout",
     "output_type": "stream",
     "text": [
      "Suppression de la table ref : ok !\n"
     ]
    }
   ],
   "source": [
    "delete_table(\"ref\")"
   ]
  },
  {
   "cell_type": "code",
   "execution_count": 113,
   "id": "0f1d3823",
   "metadata": {},
   "outputs": [
    {
     "name": "stdout",
     "output_type": "stream",
     "text": [
      "Déconnexion réussie.\n"
     ]
    }
   ],
   "source": [
    "deconnexion()"
   ]
  },
  {
   "cell_type": "code",
   "execution_count": null,
   "id": "ef6c112e",
   "metadata": {},
   "outputs": [],
   "source": []
  }
 ],
 "metadata": {
  "kernelspec": {
   "display_name": "Python 3 (ipykernel)",
   "language": "python",
   "name": "python3"
  },
  "language_info": {
   "codemirror_mode": {
    "name": "ipython",
    "version": 3
   },
   "file_extension": ".py",
   "mimetype": "text/x-python",
   "name": "python",
   "nbconvert_exporter": "python",
   "pygments_lexer": "ipython3",
   "version": "3.8.3"
  }
 },
 "nbformat": 4,
 "nbformat_minor": 5
}
