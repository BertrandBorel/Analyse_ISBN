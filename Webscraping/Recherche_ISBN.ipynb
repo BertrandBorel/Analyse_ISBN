{
 "cells": [
  {
   "cell_type": "markdown",
   "id": "18e56800",
   "metadata": {},
   "source": [
    "# <center> Rechercher des informations via des ISBN</center>\n",
    "\n",
    "- A partir de chaque ISBN, recherche des informations. \n",
    "- Les ISBN peuvent venir d'un fichier texte ou directement d'une liste python.\n",
    "- Les résultats sont inscrits dans un fichier csv. "
   ]
  },
  {
   "cell_type": "markdown",
   "id": "cdaafb11",
   "metadata": {},
   "source": [
    "## Recherche à partir d'ISBN contenus dans un fichier texte"
   ]
  },
  {
   "cell_type": "code",
   "execution_count": 167,
   "id": "f7dc7b3b",
   "metadata": {},
   "outputs": [
    {
     "name": "stdout",
     "output_type": "stream",
     "text": [
      "Infos non trouvées :  []\n"
     ]
    },
    {
     "name": "stderr",
     "output_type": "stream",
     "text": [
      "Recherche d'informations: 100%|██████████████████████████████████████████████████████████| 8/8 [00:01<00:00,  7.88it/s]\n"
     ]
    },
    {
     "name": "stdout",
     "output_type": "stream",
     "text": [
      "Le fichier existe déjà. Ecriture des données dans le fichier existant.\n"
     ]
    },
    {
     "name": "stderr",
     "output_type": "stream",
     "text": [
      "Ecriture des données dans le fichier csv: 100%|██████████████████████████████████████████████████| 6/6 [00:00<?, ?it/s]"
     ]
    },
    {
     "name": "stdout",
     "output_type": "stream",
     "text": [
      "Processus achevé avec réussite.\n"
     ]
    },
    {
     "name": "stderr",
     "output_type": "stream",
     "text": [
      "\n"
     ]
    }
   ],
   "source": [
    "from isbnlib import canonical, meta\n",
    "import csv\n",
    "from tqdm import tqdm\n",
    "import re\n",
    "import os.path\n",
    "\n",
    "# liste principale = contient les informations sur les ouvrages\n",
    "liste = []\n",
    "\n",
    "# liste pour récupérer les ISBN sans informations\n",
    "infos_introuvables = []\n",
    "\n",
    "# expression régulière pour vérifier le bon format des ISBN\n",
    "regex = r\"^(978|979)\\d{10}$\"\n",
    "\n",
    "# fonction pour récupérer des isbn d'un fichier txt\n",
    "def construire_liste_ISBN(nom_fichier):\n",
    "    # Ouvrir le fichier\n",
    "    with open(nom_fichier, \"r\") as fichier :\n",
    "        # Lire le contenu du fichier\n",
    "        contenu = fichier.read()\n",
    "        # Séparer les ISBN en une liste\n",
    "        isbn_liste = contenu.split(', ')\n",
    "        # liste récupérant les ISBN\n",
    "        liste_ISBN = [int(x) for x in isbn_liste]\n",
    "        \n",
    "    return liste_ISBN\n",
    "\n",
    "# fonction pour rechercher les informations des ouvrages\n",
    "def search_informations(file=\"test_file.txt\"):\n",
    "    # recherche pour chaque ouvrage\n",
    "    for x in tqdm(construire_liste_ISBN(file), desc=\"Recherche d'informations\") :\n",
    "        # vérifier si l'ISBN est au bon format\n",
    "        if re.match(regex, str(x)):\n",
    "            # récupération des infos\n",
    "            isbn = canonical(str(x))\n",
    "            data = meta(isbn)\n",
    "\n",
    "            # si pas d'information, on ajoute l'ISBN à la liste prévue\n",
    "            if len(data) == 0 :\n",
    "                infos_introuvables.append(x)\n",
    "            # les infos ont bien été récupérées \n",
    "            else :\n",
    "                if len(data['Authors']) == 1 : \n",
    "                    # Récupérer le nom de la liste des auteurs\n",
    "                    noms_auteurs = \", \".join(data['Authors'])\n",
    "                else :\n",
    "                    # récupérer une liste de noms\n",
    "                    noms_auteurs = \", \".join(data['Authors'])\n",
    "                    noms_auteurs = noms_auteurs.replace(',', ' /')\n",
    "\n",
    "\n",
    "\n",
    "                # Concaténer les éléments avec une virgule\n",
    "                resultat = \", \".join([noms_auteurs, data['Title'], data['Publisher'], data['Year'], data['ISBN-13']])\n",
    "                # convertir en liste\n",
    "                liste_resultat = resultat.split(\", \")\n",
    "                # ajouter les références à la liste\n",
    "                liste.append(liste_resultat)\n",
    "\n",
    "        # l'ISBN entré est incorrect\n",
    "        else:\n",
    "            print(f\"{x} n'est pas un ISBN-13.\")\n",
    "    \n",
    "    # écriture dans un fichier csv\n",
    "    insert_to_csv()\n",
    "        \n",
    "\n",
    " # fonction d'écriture dans un fichier csv, création du fichier s'il n'existe pas.       \n",
    "def insert_to_csv(my_list= liste, file='test_biblio.csv'):\n",
    "        \n",
    "    # Vérifier si le fichier existe\n",
    "    if os.path.exists(file):\n",
    "        print(\"Le fichier existe déjà. Ecriture des données dans le fichier existant.\")\n",
    "    else:\n",
    "        # Création du fichier\n",
    "        header = ['Auteur', 'Titre', 'Edition', 'Date', 'ISBN']\n",
    "        with open(file, 'a') as f:\n",
    "            writer = csv.writer(f)\n",
    "            # Écrire l'en-tête\n",
    "            writer.writerow(header)\n",
    "            print(\"Fichier créé avec succès. Ecriture des données.\")\n",
    "\n",
    "    with open(file, 'a', encoding='UTF8') as f:\n",
    "        for x in tqdm(liste, desc=\"Ecriture des données dans le fichier csv\") :\n",
    "            writer = csv.writer(f)\n",
    "            writer.writerow(x)\n",
    "    \n",
    "    print(\"Processus achevé avec réussite.\")\n",
    "    \n",
    "# récupérer les ISBN qui n'ont pas de résultat\n",
    "print(\"Infos non trouvées : \", infos_introuvables)\n",
    "\n",
    "\n",
    "# appel de la fonction : déclenche le programme.\n",
    "search_informations()"
   ]
  },
  {
   "cell_type": "markdown",
   "id": "397e3851",
   "metadata": {},
   "source": [
    "## Recherche à partir d'ISBN contenus dans une liste"
   ]
  },
  {
   "cell_type": "code",
   "execution_count": 168,
   "id": "5159c9aa",
   "metadata": {},
   "outputs": [
    {
     "name": "stdout",
     "output_type": "stream",
     "text": [
      "Infos non trouvées :  []\n"
     ]
    },
    {
     "name": "stderr",
     "output_type": "stream",
     "text": [
      "Recherche d'informations: 100%|██████████████████████████████████████████████████████████| 8/8 [00:01<00:00,  7.93it/s]\n"
     ]
    },
    {
     "name": "stdout",
     "output_type": "stream",
     "text": [
      "Fichier créé avec succès. Ecriture des données.\n"
     ]
    },
    {
     "name": "stderr",
     "output_type": "stream",
     "text": [
      "Ecriture des données dans le fichier csv: 100%|██████████████████████████████████████████████████| 6/6 [00:00<?, ?it/s]"
     ]
    },
    {
     "name": "stdout",
     "output_type": "stream",
     "text": [
      "Processus achevé avec réussite.\n"
     ]
    },
    {
     "name": "stderr",
     "output_type": "stream",
     "text": [
      "\n"
     ]
    }
   ],
   "source": [
    "# liste contenant le ISBN :\n",
    "liste_ISBN = [9782930088938, 9782209059478, 9782749901312, 9782020087476, 9782020047135, 9782100790654, 9782412056028, 9782212124835]\n",
    "\n",
    "# récupère les informations\n",
    "liste = []\n",
    "\n",
    "# liste pour récupérer les ISBN sans informations\n",
    "infos_introuvables = []\n",
    "\n",
    "# expression régulière pour vérifier le bon format des ISBN\n",
    "regex = r\"^(978|979)\\d{10}$\"\n",
    "\n",
    "# fonction pour rechercher les informations des ouvrages\n",
    "def search_informations(my_list=liste_ISBN):\n",
    "    # recherche pour chaque ouvrage\n",
    "    for x in tqdm(my_list, desc=\"Recherche d'informations\") :\n",
    "        # vérifier si l'ISBN est au bon format\n",
    "        if re.match(regex, str(x)):\n",
    "            # récupération des infos\n",
    "            isbn = canonical(str(x))\n",
    "            data = meta(isbn)\n",
    "\n",
    "            # si pas d'information, on ajoute l'ISBN à la liste prévue\n",
    "            if len(data) == 0 :\n",
    "                infos_introuvables.append(x)\n",
    "            # les infos ont bien été récupérées \n",
    "            else :\n",
    "                if len(data['Authors']) == 1 : \n",
    "                    # Récupérer le nom de la liste des auteurs\n",
    "                    noms_auteurs = \", \".join(data['Authors'])\n",
    "                else :\n",
    "                    # récupérer une liste de noms\n",
    "                    noms_auteurs = \", \".join(data['Authors'])\n",
    "                    noms_auteurs = noms_auteurs.replace(',', ' /')\n",
    "\n",
    "\n",
    "\n",
    "                # Concaténer les éléments avec une virgule\n",
    "                resultat = \", \".join([noms_auteurs, data['Title'], data['Publisher'], data['Year'], data['ISBN-13']])\n",
    "                # convertir en liste\n",
    "                liste_resultat = resultat.split(\", \")\n",
    "                # ajouter les références à la liste\n",
    "                liste.append(liste_resultat)\n",
    "\n",
    "        # l'ISBN entré est incorrect\n",
    "        else:\n",
    "            print(f\"{x} n'est pas un ISBN-13.\")\n",
    "\n",
    "    insert_to_csv()\n",
    "        \n",
    "\n",
    "        \n",
    "def insert_to_csv(my_list= liste, file='test_biblio.csv'):\n",
    "    # Vérifier si le fichier existe\n",
    "    if os.path.exists(file):\n",
    "        print(\"Le fichier existe déjà. Ecriture des données dans le fichier existant.\")\n",
    "    else:\n",
    "        # Création du fichier\n",
    "        header = ['Auteur', 'Titre', 'Edition', 'Date', 'ISBN']\n",
    "        with open(file, 'a') as f:\n",
    "            writer = csv.writer(f)\n",
    "            # Écrire l'en-tête\n",
    "            writer.writerow(header)\n",
    "            print(\"Fichier créé avec succès. Ecriture des données.\")\n",
    "\n",
    "    with open(file, 'a', encoding='UTF8') as f:\n",
    "        for x in tqdm(liste, desc=\"Ecriture des données dans le fichier csv\") :\n",
    "            writer = csv.writer(f)\n",
    "            writer.writerow(x)\n",
    "    \n",
    "    print(\"Processus achevé avec réussite.\")\n",
    "    \n",
    "# récupérer les ISBN qui n'ont pas de résultat\n",
    "print(\"Infos non trouvées : \", infos_introuvables)\n",
    "\n",
    "\n",
    "search_informations()"
   ]
  }
 ],
 "metadata": {
  "kernelspec": {
   "display_name": "Python 3 (ipykernel)",
   "language": "python",
   "name": "python3"
  },
  "language_info": {
   "codemirror_mode": {
    "name": "ipython",
    "version": 3
   },
   "file_extension": ".py",
   "mimetype": "text/x-python",
   "name": "python",
   "nbconvert_exporter": "python",
   "pygments_lexer": "ipython3",
   "version": "3.8.3"
  }
 },
 "nbformat": 4,
 "nbformat_minor": 5
}
