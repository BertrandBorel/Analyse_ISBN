{
 "cells": [
  {
   "cell_type": "markdown",
   "id": "e49dcaf9",
   "metadata": {},
   "source": [
    "# <center> ISBN Web scraping </center>"
   ]
  },
  {
   "cell_type": "markdown",
   "id": "263dba70",
   "metadata": {},
   "source": [
    "- rédiger code pour automatiser la récupération des infos\n",
    "- quelles infos\n",
    "- stocker dans un txt\n",
    "- transformer txt en csv\n",
    "= bdd"
   ]
  },
  {
   "cell_type": "code",
   "execution_count": 1,
   "id": "09cd5f53",
   "metadata": {},
   "outputs": [
    {
     "name": "stderr",
     "output_type": "stream",
     "text": [
      "C:\\Users\\utilisateur\\anaconda3\\lib\\site-packages\\requests\\__init__.py:109: RequestsDependencyWarning: urllib3 (1.26.9) or chardet (5.0.0)/charset_normalizer (2.0.12) doesn't match a supported version!\n",
      "  warnings.warn(\n"
     ]
    }
   ],
   "source": [
    "import pandas as pd\n",
    "import numpy as np\n",
    "import requests"
   ]
  },
  {
   "cell_type": "code",
   "execution_count": 2,
   "id": "fb20978f",
   "metadata": {},
   "outputs": [],
   "source": [
    "# URL\n",
    "url_bu = 'https://bu-catalogue.univ-brest.fr/cgi-bin/koha/opac-detail.pl?biblionumber=300000'\n",
    "\n",
    "# URI-SUFFIX\n",
    "uri_pages = '?page='\n",
    "\n",
    "# Number of pages to read\n",
    "nbPages = 10\n",
    "\n",
    "# XPath content to collect\n",
    "tags = ['//dt class=\"labelxslt\"', '//h2', '//dt class=\"labelxslt\"', '//dt class=\"labelxslt\"', '//dt class=\"labelxslt\"']\n",
    "cols = ['Auteur(s)', 'Titre', 'Edition', 'Sujet(s)', 'EAN' ]\n",
    "\n",
    "#page = requests.get(url)\n",
    "#doc = lh.fromstring(page.content)\n",
    "\n",
    "def getPage(url):\n",
    "    page = requests.get(url)\n",
    "    doc = lh.fromstring(page.content)\n",
    "\n",
    "    # Get the Web data via XPath\n",
    "    content = []\n",
    "    for i in range(len(tags)):\n",
    "        content.append(doc.xpath(tags[i]))\n",
    "\n",
    "    # Gather the data into a Pandas DataFrame array\n",
    "    df_liste = []\n",
    "    for j in range(len(tags)):\n",
    "        tmp = pd.DataFrame([content[j][i].text_content().strip() for i in range(len(content[i]))], columns=[cols[j]])\n",
    "        tmp['key'] = tmp.index\n",
    "        df_liste.append(tmp)\n",
    "\n",
    "    # Build the unique Dataframe with one tag (xpath) content per column\n",
    "    liste = df_liste[0]\n",
    "    for j in range(len(tags)-1):\n",
    "        liste = liste.join(df_liste[j+1], on='key', how='left', lsuffix='_l', rsuffix='_r')\n",
    "        liste['key'] = liste.index\n",
    "        del liste['key_l']\n",
    "        del liste['key_r']\n",
    "    \n",
    "    return liste\n",
    "\n",
    "def getPages(_nbPages,_url):\n",
    "    liste_finale = pd.DataFrame()\n",
    "    for i in range (_nbPages):\n",
    "        liste = getPage(_url + uri_pages + str(i+1))\n",
    "        liste_finale = pd.concat([liste_finale, liste], ignore_index=True)\n",
    "    return liste_finale"
   ]
  },
  {
   "cell_type": "code",
   "execution_count": 2,
   "id": "b6282d70",
   "metadata": {},
   "outputs": [],
   "source": [
    "# df = getPages(nbPages,url_bu)"
   ]
  },
  {
   "cell_type": "markdown",
   "id": "2883c9a1",
   "metadata": {},
   "source": [
    "## Web scraping"
   ]
  },
  {
   "cell_type": "code",
   "execution_count": 2,
   "id": "f8b1b5cc",
   "metadata": {},
   "outputs": [],
   "source": [
    "import requests\n",
    "url = 'https://bu-catalogue.univ-brest.fr/cgi-bin/koha/opac-detail.pl?biblionumber=361715'\n",
    "page = requests.get(url)\n",
    "# Voir le code html source\n",
    "# print(page.content)"
   ]
  },
  {
   "cell_type": "code",
   "execution_count": 3,
   "id": "d51fd35d",
   "metadata": {},
   "outputs": [],
   "source": [
    "import requests\n",
    "from bs4 import BeautifulSoup\n",
    "url = 'https://bu-catalogue.univ-brest.fr/cgi-bin/koha/opac-detail.pl?biblionumber=361715'\n",
    "page = requests.get(url)\n",
    "soup = BeautifulSoup(page.content, 'html.parser')"
   ]
  },
  {
   "cell_type": "code",
   "execution_count": 4,
   "id": "5b89d8c7",
   "metadata": {},
   "outputs": [
    {
     "data": {
      "text/plain": [
       "'Catalogue Ma bibliothèque › Détails de Pierre Vidal-Naquet'"
      ]
     },
     "execution_count": 4,
     "metadata": {},
     "output_type": "execute_result"
    }
   ],
   "source": [
    "soup.title.string"
   ]
  },
  {
   "cell_type": "code",
   "execution_count": 13,
   "id": "a12ae278",
   "metadata": {},
   "outputs": [
    {
     "data": {
      "text/plain": [
       "[<a class=\"brand\" href=\"/cgi-bin/koha/opac-main.pl\">\n",
       "   Ma bibliothèque </a>,\n",
       " <a href=\"#\" id=\"cartmenulink\" role=\"button\" title=\"Sélectionnez les exemplaires qui vous intéressent\">\n",
       " <i class=\"fa fa-shopping-cart fa-icon-white\" id=\"carticon\"></i> <span class=\"cartlabel\">Panier</span> <span id=\"basketcount\"></span>\n",
       " </a>,\n",
       " <a class=\"dropdown-toggle\" data-toggle=\"dropdown\" href=\"#\" id=\"listsmenu\" role=\"button\" title=\"Afficher les listes\"><i class=\"fa fa-list fa-icon-white\"></i> <span class=\"listslabel\">Listes</span> <b class=\"caret\"></b></a>,\n",
       " <a href=\"/cgi-bin/koha/opac-shelves.pl?op=list&amp;category=2\" role=\"menuitem\" tabindex=\"-1\"><strong>Listes publiques</strong></a>,\n",
       " <a href=\"/cgi-bin/koha/opac-shelves.pl?op=view&amp;shelfnumber=830&amp;sortfield=title\" role=\"menuitem\" tabindex=\"-1\">Un été tout en légèreté</a>,\n",
       " <a href=\"/cgi-bin/koha/opac-shelves.pl?op=view&amp;shelfnumber=355&amp;sortfield=title\" role=\"menuitem\" tabindex=\"-1\">Sélection du moment</a>,\n",
       " <a href=\"/cgi-bin/koha/opac-shelves.pl?op=view&amp;shelfnumber=752&amp;sortfield=title\" role=\"menuitem\" tabindex=\"-1\">Arts et Sciences</a>,\n",
       " <a href=\"/cgi-bin/koha/opac-shelves.pl?op=view&amp;shelfnumber=611&amp;sortfield=title\" role=\"menuitem\" tabindex=\"-1\">Transport et mobilités durables</a>,\n",
       " <a href=\"/cgi-bin/koha/opac-shelves.pl?op=view&amp;shelfnumber=627&amp;sortfield=title\" role=\"menuitem\" tabindex=\"-1\"> Rencontre Bon état écologique (droit de l'environnement)</a>,\n",
       " <a href=\"/cgi-bin/koha/opac-shelves.pl?op=view&amp;shelfnumber=605&amp;sortfield=title\" role=\"menuitem\" tabindex=\"-1\">Peche durable</a>,\n",
       " <a href=\"/cgi-bin/koha/opac-shelves.pl?op=view&amp;shelfnumber=553&amp;sortfield=title\" role=\"menuitem\" tabindex=\"-1\">Périodiques à conservation pattagée</a>,\n",
       " <a href=\"/cgi-bin/koha/opac-shelves.pl?op=view&amp;shelfnumber=499&amp;sortfield=title\" role=\"menuitem\" tabindex=\"-1\">Sélection estivale 2021</a>,\n",
       " <a href=\"/cgi-bin/koha/opac-shelves.pl?op=view&amp;shelfnumber=259&amp;sortfield=title\" role=\"menuitem\" tabindex=\"-1\">Laïcité et liberté d'expression</a>,\n",
       " <a class=\"listmenulink\" href=\"/cgi-bin/koha/opac-shelves.pl?op=list&amp;category=2\" role=\"menuitem\" tabindex=\"-1\">Tout voir</a>,\n",
       " <a href=\"/cgi-bin/koha/opac-shelves.pl?op=list&amp;category=1\" role=\"menuitem\" tabindex=\"-1\"><strong>Mes listes</strong></a>,\n",
       " <a class=\"menu-inactive\" href=\"/cgi-bin/koha/opac-user.pl\" role=\"menuitem\" tabindex=\"-1\">Connectez-vous pour créer vos listes personnelles</a>,\n",
       " <a class=\"pull-right\" href=\"#\" id=\"user-menu-trigger\"><i class=\"fa fa-user fa-icon-white\"></i> <span class=\"caret\"></span></a>,\n",
       " <a class=\"login-link\" href=\"/cgi-bin/koha/opac-user.pl\">Connexion à votre compte</a>,\n",
       " <a class=\"bu\" href=\"/\"><h1><span>Le</span><p>Catalogue</p></h1></a>,\n",
       " <a href=\"/cgi-bin/koha/opac-search.pl\">Recherche avancée</a>,\n",
       " <a href=\"/cgi-bin/koha/opac-course-reserves.pl\">Réserves de cours</a>,\n",
       " <a href=\"/cgi-bin/koha/opac-main.pl\">Accueil</a>,\n",
       " <a href=\"#\"><span>Détails de : </span>Pierre Vidal-Naquet</a>,\n",
       " <a href=\"/cgi-bin/koha/opac-MARCdetail.pl?biblionumber=361715\" id=\"MARCview\">Vue MARC</a>,\n",
       " <a href=\"/cgi-bin/koha/opac-ISBDdetail.pl?biblionumber=361715\" id=\"ISBDview\">vue ISBD</a>,\n",
       " <a href=\"/cgi-bin/koha/opac-search.pl?q=an:70958\">Dosse, François</a>,\n",
       " <a class=\"voir_resume\" href=\"#descriptions\">Plus d'infos</a>,\n",
       " <a href=\"\n",
       "      /cgi-bin/koha/opac-search.pl?idx=su,phr&amp;q=Vidal-Naquet+Pierre\">Vidal-Naquet</a>,\n",
       " <a href=\"/cgi-bin/koha/opac-search.pl?idx=su&amp;q=Vidal-Naquet+Pierre\"><img src=\"/public/images/loupe.jpeg\" title=\"Lancer une recherche sur tous les mots sujet\"/></a>,\n",
       " <a href=\"/cgi-bin/koha/opac-search.pl?idx=su,phr&amp;q=Historiens\">Historiens</a>,\n",
       " <a href=\"/cgi-bin/koha/opac-search.pl?idx=su,phr&amp;q=France\">France</a>,\n",
       " <a href=\"/cgi-bin/koha/opac-search.pl?idx=su,phr&amp;q=1945-....\">1945-....</a>,\n",
       " <a href=\"/cgi-bin/koha/opac-search.pl?idx=su&amp;q=Historiens+France+1945-....\"><img src=\"/public/images/loupe.jpeg\" title=\"Lancer une recherche sur tous les mots sujet\"/></a>,\n",
       " <a href=\"/cgi-bin/koha/opac-search.pl?idx=su,phr&amp;q=Vie intellectuelle\">Vie intellectuelle</a>,\n",
       " <a href=\"/cgi-bin/koha/opac-search.pl?idx=su,phr&amp;q=France\">France</a>,\n",
       " <a href=\"/cgi-bin/koha/opac-search.pl?idx=su,phr&amp;q=1945-....\">1945-....</a>,\n",
       " <a href=\"/cgi-bin/koha/opac-search.pl?idx=su&amp;q=Vie intellectuelle+France+1945-....\"><img src=\"/public/images/loupe.jpeg\" title=\"Lancer une recherche sur tous les mots sujet\"/></a>,\n",
       " <a href=\"/cgi-bin/koha/opac-search.pl?idx=su,phr&amp;q=Biographies\">Biographies</a>,\n",
       " <a href=\"/cgi-bin/koha/opac-search.pl?idx=su&amp;q=Biographies\"><img src=\"/public/images/loupe.jpeg\" title=\"Lancer une recherche sur tous les mots sujet\"/></a>,\n",
       " <a href=\"/cgi-bin/koha/opac-search.pl?q=kw:001025589\">Cahiers libres</a>,\n",
       " <a href=\"#holdings\"><span>Exemplaires</span>  ( 1 )</a>,\n",
       " <a href=\"#descriptions\">Notes</a>,\n",
       " <a href=\"http://ubodoc.univ-brest.fr/bibliotheques/bu-lettres/\">BU Brest Lettres et Sciences Humaines</a>,\n",
       " <a href=\"/cgi-bin/koha/opac-detail.pl?biblionumber=361715&amp;shelfbrowse_itemnumber=681321#holdings\">Parcourir l'étagère</a>,\n",
       " <a class=\"print-large\" href=\"#\">Imprimer</a>,\n",
       " <a class=\"addtocart cart361715 addrecord\" data-biblionumber=\"361715\" href=\"#\">Ajouter à mon panier</a>,\n",
       " <a class=\"cartRemove cartR361715\" data-biblionumber=\"361715\" href=\"#\" style=\"display:none;\">(Supprimer)</a>,\n",
       " <a class=\"dropdown-toggle\" data-toggle=\"dropdown\" href=\"#\" id=\"format\">Enregistrer la notice <b class=\"caret\"></b></a>,\n",
       " <a href=\"/cgi-bin/koha/opac-export.pl?op=export&amp;bib=361715&amp;format=bibtex\" role=\"menuitem\">\n",
       "  BIBTEX  </a>,\n",
       " <a data-target=\"#exportModal_\" data-toggle=\"modal\" href=\"#\" role=\"menuitem\">Dublin Core</a>,\n",
       " <a href=\"/cgi-bin/koha/opac-export.pl?op=export&amp;bib=361715&amp;format=ris\" role=\"menuitem\">\n",
       "  RIS  </a>,\n",
       " <a class=\"dropdown-toggle\" data-toggle=\"dropdown\" href=\"#\" id=\"furthersearches\">Plus de recherches <b class=\"caret\"></b></a>,\n",
       " <a class=\"menu-inactive\" href=\"#\">Chercher ce titre dans :</a>,\n",
       " <a href=\"http://www.sudoc.abes.fr//DB=2.1/CMD?ACT=SRCHA&amp;IKT=4&amp;SRT=RLV&amp;TRM=Pierre%20Vidal-Naquet\" target=\"_blank\">Sudoc</a>,\n",
       " <a href=\"https://scholar.google.com/scholar?q=Pierre%20Vidal-Naquet\" target=\"_blank\">Google Scholar</a>,\n",
       " <a href=\"https://biblio.brest.fr/\" target=\"_blank\">Bibliothèques Municipales de Brest</a>,\n",
       " <a href=\"https://gallica.bnf.fr/services/engine/search/sru?operation=searchRetrieve&amp;version=1.2&amp;query=%28gallica%20all%20%22Pierre%20Vidal-Naquet%22%29&amp;lang=fr\n",
       " \" target=\"_blank\">Gallica</a>,\n",
       " <a href=\"http://ubodoc.univ-brest.fr/services/aide/\" style=\"font-size:1.1em;\">Contacts</a>,\n",
       " <a href=\"http://ubodoc.univ-brest.fr/accueil/mentions-legales/\">Mentions légales</a>,\n",
       " <a href=\"https://www.univ-brest.fr/\" id=\"logo-ubo\" target=\"_blank\"><span class=\"text-sc-reader\">UBO</span></a>,\n",
       " <a href=\"http://www.enib.fr\" id=\"logo-enib\"><span class=\"text-sc-reader\">ENIB</span></a>,\n",
       " <a href=\"http://www.ensta-bretagne.fr\" id=\"logo-ensta\"><span class=\"text-sc-reader\">ENSTA-Bretagne</span></a>,\n",
       " <a href=\"http://koha-community.org/\" target=\"_blank\">Koha</a>,\n",
       " <a id=\"backtotop\"></a>]"
      ]
     },
     "execution_count": 13,
     "metadata": {},
     "output_type": "execute_result"
    }
   ],
   "source": [
    "# Trouver tous les éléments avec la balise <a>\n",
    "soup.find_all('a')"
   ]
  },
  {
   "cell_type": "code",
   "execution_count": 14,
   "id": "8bb44dbe",
   "metadata": {},
   "outputs": [
    {
     "data": {
      "text/plain": [
       "[]"
      ]
     },
     "execution_count": 14,
     "metadata": {},
     "output_type": "execute_result"
    }
   ],
   "source": [
    "#Trouver tous les éléments p avec la classe « title »\n",
    "soup.find_all(\"p\", class_=\"title\")"
   ]
  },
  {
   "cell_type": "code",
   "execution_count": 17,
   "id": "f59d537d",
   "metadata": {},
   "outputs": [
    {
     "data": {
      "text/plain": [
       "[<dt class=\"labelxslt\">Auteur(s)</dt>,\n",
       " <dt class=\"labelxslt\">ISBN</dt>,\n",
       " <dt class=\"labelxslt\">EAN</dt>,\n",
       " <dt class=\"labelxslt\">Langue(s)</dt>,\n",
       " <dt class=\"labelxslt\">Publication</dt>,\n",
       " <dt class=\"labelxslt\">Description</dt>,\n",
       " <dt class=\"labelxslt\">Note(s) et résumé(s)</dt>,\n",
       " <dt class=\"labelxslt\">Sujet(s)</dt>,\n",
       " <dt class=\"labelxslt\">Autres titres en lien</dt>,\n",
       " <dt class=\"labelxslt\" style=\"display:none;\">098e</dt>]"
      ]
     },
     "execution_count": 17,
     "metadata": {},
     "output_type": "execute_result"
    }
   ],
   "source": [
    "soup.find_all(\"dt\", class_=\"labelxslt\")"
   ]
  },
  {
   "cell_type": "markdown",
   "id": "39f98600",
   "metadata": {},
   "source": [
    "#### Titre"
   ]
  },
  {
   "cell_type": "code",
   "execution_count": 20,
   "id": "26e78628",
   "metadata": {},
   "outputs": [
    {
     "data": {
      "text/plain": [
       "[<h2>Pierre Vidal-Naquet : une vie / François Dosse </h2>]"
      ]
     },
     "execution_count": 20,
     "metadata": {},
     "output_type": "execute_result"
    }
   ],
   "source": [
    "soup.find_all('h2')"
   ]
  },
  {
   "cell_type": "code",
   "execution_count": 27,
   "id": "5219ed08",
   "metadata": {},
   "outputs": [
    {
     "data": {
      "text/plain": [
       "[<dt class=\"labelxslt\">Auteur(s)</dt>,\n",
       " <dt class=\"labelxslt\">ISBN</dt>,\n",
       " <dt class=\"labelxslt\">EAN</dt>,\n",
       " <dt class=\"labelxslt\">Langue(s)</dt>,\n",
       " <dt class=\"labelxslt\">Publication</dt>,\n",
       " <dt class=\"labelxslt\">Description</dt>,\n",
       " <dt class=\"labelxslt\">Note(s) et résumé(s)</dt>,\n",
       " <dt class=\"labelxslt\">Sujet(s)</dt>,\n",
       " <dt class=\"labelxslt\">Autres titres en lien</dt>,\n",
       " <dt class=\"labelxslt\" style=\"display:none;\">098e</dt>]"
      ]
     },
     "execution_count": 27,
     "metadata": {},
     "output_type": "execute_result"
    }
   ],
   "source": [
    "soup.find_all(\"dt\", class_=\"labelxslt\")"
   ]
  },
  {
   "cell_type": "code",
   "execution_count": 29,
   "id": "68ac6a62",
   "metadata": {},
   "outputs": [
    {
     "data": {
      "text/plain": [
       "[<div id=\"opacxslt\">\n",
       " <h2>Pierre Vidal-Naquet : une vie / François Dosse </h2>\n",
       " <dl>\n",
       " <dt class=\"labelxslt\">Auteur(s)</dt>\n",
       " <dd>\n",
       " <a href=\"/cgi-bin/koha/opac-search.pl?q=an:70958\">Dosse, François</a>\n",
       " <span class=\"fctxslt\"> (Auteur)</span>\n",
       " <span class=\"fctxslt\"> (1950-....)</span>\n",
       " </dd>\n",
       " <dt class=\"labelxslt\">ISBN</dt>\n",
       " <dd>978-2-7071-9421-3 </dd>\n",
       " <dt class=\"labelxslt\">EAN</dt>\n",
       " <dd>9782707194213 </dd>\n",
       " <dt class=\"labelxslt\">Langue(s)</dt>\n",
       " <dd>français</dd>\n",
       " <dt class=\"labelxslt\">Publication</dt>\n",
       " <dd>Paris : La Découverte, DL 2020</dd>\n",
       " <dt class=\"labelxslt\">Description</dt>\n",
       " <dd>1 vol. (660 p.-[16] p. de pl.) : ill., portr., fac-sim., couv. ill. en coul. ; 24 cm. </dd>\n",
       " <dt class=\"labelxslt\">Note(s) et résumé(s)</dt>\n",
       " <dd>\n",
       " <a class=\"voir_resume\" href=\"#descriptions\">Plus d'infos</a>\n",
       " </dd>\n",
       " <dt class=\"labelxslt\">Sujet(s)</dt>\n",
       " <span class=\"subjectxslt\">\n",
       " <dd><a href=\"\n",
       "      /cgi-bin/koha/opac-search.pl?idx=su,phr&amp;q=Vidal-Naquet+Pierre\">Vidal-Naquet</a>, Pierre (1930-2006) | <a href=\"/cgi-bin/koha/opac-search.pl?idx=su&amp;q=Vidal-Naquet+Pierre\"><img src=\"/public/images/loupe.jpeg\" title=\"Lancer une recherche sur tous les mots sujet\"/></a><br/></dd>\n",
       " </span>\n",
       " <span class=\"subjectxslt\">\n",
       " <dd><span class=\"sujets-colles\"> -- </span><a href=\"/cgi-bin/koha/opac-search.pl?idx=su,phr&amp;q=Historiens\">Historiens</a> -- <a href=\"/cgi-bin/koha/opac-search.pl?idx=su,phr&amp;q=France\">France</a> -- <a href=\"/cgi-bin/koha/opac-search.pl?idx=su,phr&amp;q=1945-....\">1945-....</a> | <a href=\"/cgi-bin/koha/opac-search.pl?idx=su&amp;q=Historiens+France+1945-....\"><img src=\"/public/images/loupe.jpeg\" title=\"Lancer une recherche sur tous les mots sujet\"/></a><br/></dd>\n",
       " </span>\n",
       " <span class=\"subjectxslt\">\n",
       " <dd><span class=\"sujets-colles\"> -- </span><a href=\"/cgi-bin/koha/opac-search.pl?idx=su,phr&amp;q=Vie intellectuelle\">Vie intellectuelle</a> -- <a href=\"/cgi-bin/koha/opac-search.pl?idx=su,phr&amp;q=France\">France</a> -- <a href=\"/cgi-bin/koha/opac-search.pl?idx=su,phr&amp;q=1945-....\">1945-....</a> | <a href=\"/cgi-bin/koha/opac-search.pl?idx=su&amp;q=Vie intellectuelle+France+1945-....\"><img src=\"/public/images/loupe.jpeg\" title=\"Lancer une recherche sur tous les mots sujet\"/></a><br/></dd>\n",
       " </span>\n",
       " <span class=\"subjectxslt\">\n",
       " <dd><span class=\"sujets-colles\"> -- </span><a href=\"/cgi-bin/koha/opac-search.pl?idx=su,phr&amp;q=Biographies\">Biographies</a> | <a href=\"/cgi-bin/koha/opac-search.pl?idx=su&amp;q=Biographies\"><img src=\"/public/images/loupe.jpeg\" title=\"Lancer une recherche sur tous les mots sujet\"/></a><br/></dd>\n",
       " </span>\n",
       " <dt class=\"labelxslt\">Autres titres en lien</dt>\n",
       " <dd>\n",
       " <span class=\"labelxslt\">Appartient à la collection : </span>\n",
       " <a href=\"/cgi-bin/koha/opac-search.pl?q=kw:001025589\">Cahiers libres</a>\n",
       " </dd>\n",
       " <dt class=\"labelxslt\" style=\"display:none;\">098e</dt>\n",
       " <dd id=\"importsudoc\" style=\"display:none;\">2020-07-09</dd>\n",
       " </dl>\n",
       " </div>]"
      ]
     },
     "execution_count": 29,
     "metadata": {},
     "output_type": "execute_result"
    }
   ],
   "source": [
    "soup.find_all(\"div\", id=\"opacxslt\")"
   ]
  },
  {
   "cell_type": "markdown",
   "id": "6ebb4dde",
   "metadata": {},
   "source": [
    "## Titre"
   ]
  },
  {
   "cell_type": "code",
   "execution_count": 5,
   "id": "e58943c6",
   "metadata": {},
   "outputs": [
    {
     "data": {
      "text/plain": [
       "'Pierre Vidal-Naquet : une vie / François Dosse '"
      ]
     },
     "execution_count": 5,
     "metadata": {},
     "output_type": "execute_result"
    }
   ],
   "source": [
    "soup.h2.string"
   ]
  },
  {
   "cell_type": "code",
   "execution_count": 6,
   "id": "209fa1ae",
   "metadata": {},
   "outputs": [
    {
     "name": "stdout",
     "output_type": "stream",
     "text": [
      "Pierre Vidal-Naquet : une vie \n"
     ]
    }
   ],
   "source": [
    "titre = soup.h2.string\n",
    "titre = titre.split(\"/\")[0]\n",
    "print(titre)"
   ]
  },
  {
   "cell_type": "markdown",
   "id": "4626e5a0",
   "metadata": {},
   "source": [
    "## Récupérer EAN"
   ]
  },
  {
   "cell_type": "code",
   "execution_count": 7,
   "id": "ea4f5999",
   "metadata": {},
   "outputs": [
    {
     "name": "stdout",
     "output_type": "stream",
     "text": [
      "EAN brut : <dd>9782707194213 </dd>\n",
      "[9782707194213]\n"
     ]
    }
   ],
   "source": [
    "# liste pour accueillir chaque EAN \n",
    "liste_EAN = []\n",
    "\n",
    "# trouve l'EAN\n",
    "EAN =soup.find_all(\"dd\")\n",
    "print(\"EAN brut :\", EAN[2])\n",
    "\n",
    "# récupère uniquement les chiffres de l'EAN\n",
    "# ajout à la liste\n",
    "for x in EAN[2] :\n",
    "    liste_EAN.append(int(x))\n",
    "\n",
    "# visualisation de la liste\n",
    "print(liste_EAN)"
   ]
  },
  {
   "cell_type": "markdown",
   "id": "d92b6ba3",
   "metadata": {},
   "source": [
    "## Récupérer le ou les auteurs\n",
    "\n",
    "Problème = prénom avant le nom, compliqué pour recherche par ordre alphabétique"
   ]
  },
  {
   "cell_type": "code",
   "execution_count": 8,
   "id": "f20d87e1",
   "metadata": {},
   "outputs": [
    {
     "name": "stdout",
     "output_type": "stream",
     "text": [
      "François Dosse \n"
     ]
    }
   ],
   "source": [
    "auteur = soup.h2.string\n",
    "auteur = auteur.split(\"/ \")[1]\n",
    "print(auteur)"
   ]
  },
  {
   "cell_type": "markdown",
   "id": "7b94c513",
   "metadata": {},
   "source": [
    "## Récupérer l'édition"
   ]
  },
  {
   "cell_type": "code",
   "execution_count": 100,
   "id": "379873d0",
   "metadata": {},
   "outputs": [
    {
     "name": "stdout",
     "output_type": "stream",
     "text": [
      "Paris : La Découverte, DL 2020\n"
     ]
    }
   ],
   "source": [
    "edition = soup.find_all(\"dd\")\n",
    "for x in edition[4]:\n",
    "    edition_complete = x\n",
    "print(edition_complete)"
   ]
  },
  {
   "cell_type": "code",
   "execution_count": 132,
   "id": "351e54ab",
   "metadata": {},
   "outputs": [
    {
     "name": "stdout",
     "output_type": "stream",
     "text": [
      "La Découverte\n"
     ]
    }
   ],
   "source": [
    "import re\n",
    "maison_edition = re.split(': |,',edition_complete)\n",
    "maison_edition = maison_edition[1]\n",
    "print(maison_edition)"
   ]
  },
  {
   "cell_type": "code",
   "execution_count": 101,
   "id": "fea0ab6c",
   "metadata": {},
   "outputs": [
    {
     "data": {
      "text/plain": [
       "'Paris'"
      ]
     },
     "execution_count": 101,
     "metadata": {},
     "output_type": "execute_result"
    }
   ],
   "source": [
    "ville = edition_complete.split(\" \")[0]\n",
    "ville"
   ]
  },
  {
   "cell_type": "code",
   "execution_count": 110,
   "id": "da03ca3d",
   "metadata": {},
   "outputs": [
    {
     "data": {
      "text/plain": [
       "'2020'"
      ]
     },
     "execution_count": 110,
     "metadata": {},
     "output_type": "execute_result"
    }
   ],
   "source": [
    "date = edition_complete.split(\" \")[-1]\n",
    "date"
   ]
  },
  {
   "cell_type": "markdown",
   "id": "c8a617c9",
   "metadata": {},
   "source": [
    "## Récupérer la langue"
   ]
  },
  {
   "cell_type": "code",
   "execution_count": 12,
   "id": "98f12a7d",
   "metadata": {},
   "outputs": [
    {
     "name": "stdout",
     "output_type": "stream",
     "text": [
      "Pierre Vidal-Naquet : une vie / François Dosse \n",
      "François Dosse \n"
     ]
    }
   ],
   "source": [
    "langue = soup.h2.string\n",
    "print(langue)\n",
    "langue = langue.split(\"/ \")[1]\n",
    "print(langue)"
   ]
  },
  {
   "cell_type": "code",
   "execution_count": 27,
   "id": "e11c8d88",
   "metadata": {},
   "outputs": [
    {
     "name": "stdout",
     "output_type": "stream",
     "text": [
      "langue : <dd>français</dd>\n"
     ]
    }
   ],
   "source": [
    "# trouve l'EAN\n",
    "langue =soup.find_all(\"dd\")\n",
    "print(\"langue :\", langue[3])\n",
    "\n",
    "# # récupère uniquement les chiffres de l'EAN\n",
    "# # ajout à la liste\n",
    "# for x in langue[3] :\n",
    "# #     liste_EAN.append(int(x))\n",
    "#     print(x)\n",
    "\n",
    "# # visualisation de la liste\n"
   ]
  },
  {
   "cell_type": "code",
   "execution_count": 28,
   "id": "b269961f",
   "metadata": {},
   "outputs": [
    {
     "name": "stdout",
     "output_type": "stream",
     "text": [
      "<dd>français</dd>\n"
     ]
    }
   ],
   "source": [
    "langue =soup.find_all(\"dd\")\n",
    "fr = langue[3]\n",
    "\n",
    "print(fr)"
   ]
  },
  {
   "cell_type": "code",
   "execution_count": 26,
   "id": "5bdbec83",
   "metadata": {},
   "outputs": [
    {
     "data": {
      "text/plain": [
       "<dd>français</dd>"
      ]
     },
     "execution_count": 26,
     "metadata": {},
     "output_type": "execute_result"
    }
   ],
   "source": [
    "langue[3]"
   ]
  },
  {
   "cell_type": "markdown",
   "id": "696bc4e8",
   "metadata": {},
   "source": [
    "## Code"
   ]
  },
  {
   "cell_type": "code",
   "execution_count": 272,
   "id": "c224fb11",
   "metadata": {},
   "outputs": [],
   "source": [
    "# Importations \n",
    "import requests\n",
    "from bs4 import BeautifulSoup\n",
    "\n",
    "# page \n",
    "url = 'https://bu-catalogue.univ-brest.fr/cgi-bin/koha/opac-detail.pl?biblionumber=308272'\n",
    "page = requests.get(url)\n",
    "soup = BeautifulSoup(page.content, 'html.parser')\n",
    "\n",
    "\n",
    "\n",
    "# Variables globales\n",
    "liste_EAN = []\n",
    "liste_titres = []\n",
    "auteurs = []\n",
    "edition = []\n",
    "date = []\n",
    "ville = []\n",
    "\n",
    "\n",
    "# récupérer le titre\n",
    "titre = soup.h2.string\n",
    "titre = titre.split(\"/\")[0]\n",
    "# liste_titres.append(titre)\n",
    "\n",
    "\n",
    "# récupérer l'EAN \n",
    "EAN =soup.find_all(\"dd\")\n",
    "\n",
    "# récupère uniquement les chiffres de l'EAN\n",
    "# ajout à la liste\n",
    "for x in EAN[2] :\n",
    "#     liste_EAN.append(int(x))\n",
    "    EAN = x\n",
    "    \n",
    "# Récupérer auteur(s)\n",
    "auteur = soup.h2.string\n",
    "auteur = auteur.split(\"/\")[1]\n",
    "    \n",
    "    \n",
    "# Récupérer l'édition\n",
    "edition = soup.find_all(\"dd\")\n",
    "for x in edition[4]:\n",
    "    edition_complete = x\n",
    "\n",
    "import re\n",
    "maison_edition = re.split(': |,',edition_complete)\n",
    "maison_edition = maison_edition[1]\n",
    "\n",
    "\n",
    "# Récupérer la ville\n",
    "ville = edition_complete.split(\" \")[0]\n",
    "\n",
    "# Récupérer la date\n",
    "date = edition_complete.split(\" \")[-1]"
   ]
  },
  {
   "cell_type": "code",
   "execution_count": 275,
   "id": "181ea5e7",
   "metadata": {},
   "outputs": [
    {
     "name": "stdout",
     "output_type": "stream",
     "text": [
      " Johann Chapoutot , La loi du sang : penser et agir en nazi , Gallimard, Paris, 2014, 9782070141937 \n"
     ]
    }
   ],
   "source": [
    "print(auteur+\", \"+titre+\", \"+maison_edition+\", \"+ville+\", \"+date+\", \"+EAN)\n"
   ]
  },
  {
   "cell_type": "markdown",
   "id": "a1fe072d",
   "metadata": {},
   "source": [
    "## Récupérer infos et les ajouter à un fichier txt"
   ]
  },
  {
   "cell_type": "code",
   "execution_count": 276,
   "id": "6f22186d",
   "metadata": {},
   "outputs": [],
   "source": [
    "biblio = str(auteur+\", \"+titre+\", \"+maison_edition+\", \"+ville+\", \"+date+\", \"+EAN+\"\\n\")"
   ]
  },
  {
   "cell_type": "code",
   "execution_count": 277,
   "id": "01eee40e",
   "metadata": {},
   "outputs": [],
   "source": [
    "with open('biblio.txt', 'a') as f:\n",
    "    f.write(biblio)"
   ]
  }
 ],
 "metadata": {
  "kernelspec": {
   "display_name": "Python 3 (ipykernel)",
   "language": "python",
   "name": "python3"
  },
  "language_info": {
   "codemirror_mode": {
    "name": "ipython",
    "version": 3
   },
   "file_extension": ".py",
   "mimetype": "text/x-python",
   "name": "python",
   "nbconvert_exporter": "python",
   "pygments_lexer": "ipython3",
   "version": "3.8.3"
  }
 },
 "nbformat": 4,
 "nbformat_minor": 5
}
