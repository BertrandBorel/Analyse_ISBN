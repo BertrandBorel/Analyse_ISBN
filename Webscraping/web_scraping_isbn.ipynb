{
 "cells": [
  {
   "cell_type": "markdown",
   "id": "3fd45f4c",
   "metadata": {},
   "source": [
    "# <center> Web scraping : ISBN </center>\n",
    "\n",
    "**Objectif :** récupérer des ISBN via du web scraping. On peut ensuite utiliser les ISBN  pour interroger des API pour récupérer le reste des données."
   ]
  },
  {
   "cell_type": "code",
   "execution_count": 46,
   "id": "28bce4cc",
   "metadata": {},
   "outputs": [],
   "source": [
    "import requests\n",
    "from bs4 import BeautifulSoup\n",
    "import csv\n",
    "from tqdm.notebook import tqdm_notebook\n",
    "\n",
    "\n",
    "def web_scraping(nom_csv='ISBN', nb_livres=5000, nombre=405000, site = 'https://www.leslibraires.fr/livre/'):\n",
    "    global liste_totale\n",
    "    liste_totale = []\n",
    "    for livre in tqdm_notebook(range(nb_livres)) : \n",
    "        erreur = 0\n",
    "        \n",
    "        try : \n",
    "            url = site + str(nombre)\n",
    "            page = requests.get(url)\n",
    "            soup = BeautifulSoup(page.content, 'html.parser')\n",
    "            \n",
    "            liste = []\n",
    "\n",
    "            # ISBN\n",
    "            # Récupérer l'isbn\n",
    "            info = soup.findAll(\"dd\")\n",
    "            # on récupère l'isbn dans une variable temporaire\n",
    "            isbn = info[2].text\n",
    "\n",
    "            liste.append(isbn)\n",
    "            liste_totale.append(liste)\n",
    "\n",
    "            nombre += 1\n",
    "\n",
    "        except :\n",
    "\n",
    "            nombre += 1\n",
    "            erreur += 1\n",
    "\n",
    "\n",
    "    print(\"Nb d'erreurs :\", erreur)\n",
    "    print(liste_totale)\n",
    "\n",
    "    # insérer les informations pour chaque livre (à partir de la liste totale)\n",
    "    with open(nom_csv+'.csv', 'a', encoding='UTF8') as f:\n",
    "            for x in tqdm_notebook(liste_totale) :\n",
    "                writer = csv.writer(f)\n",
    "                writer.writerow(x)\n",
    "\n",
    "    # message de réussite\n",
    "    print(\"Insertion des données réussies.\")\n",
    "    \n",
    "    return liste_totale"
   ]
  },
  {
   "cell_type": "code",
   "execution_count": 47,
   "id": "0138c1d3",
   "metadata": {},
   "outputs": [
    {
     "data": {
      "application/vnd.jupyter.widget-view+json": {
       "model_id": "35331c90a83a484eb14b7f6cd14942c1",
       "version_major": 2,
       "version_minor": 0
      },
      "text/plain": [
       "  0%|          | 0/10 [00:00<?, ?it/s]"
      ]
     },
     "metadata": {},
     "output_type": "display_data"
    },
    {
     "name": "stdout",
     "output_type": "stream",
     "text": [
      "Nb d'erreurs : 0\n",
      "[[\"\\nPresses de l'Université Laval\\n\"], ['9780779827466'], ['9781849180993'], ['9781849181112'], ['9781849181129'], ['9781849181136'], ['9781849181143'], ['9781849181150'], ['9781849181167'], ['9782021063813']]\n"
     ]
    },
    {
     "data": {
      "application/vnd.jupyter.widget-view+json": {
       "model_id": "1d31b3d6e86a4cef879458bc0122431d",
       "version_major": 2,
       "version_minor": 0
      },
      "text/plain": [
       "  0%|          | 0/10 [00:00<?, ?it/s]"
      ]
     },
     "metadata": {},
     "output_type": "display_data"
    },
    {
     "name": "stdout",
     "output_type": "stream",
     "text": [
      "Insertion des données réussies.\n"
     ]
    },
    {
     "data": {
      "text/plain": [
       "[[\"\\nPresses de l'Université Laval\\n\"],\n",
       " ['9780779827466'],\n",
       " ['9781849180993'],\n",
       " ['9781849181112'],\n",
       " ['9781849181129'],\n",
       " ['9781849181136'],\n",
       " ['9781849181143'],\n",
       " ['9781849181150'],\n",
       " ['9781849181167'],\n",
       " ['9782021063813']]"
      ]
     },
     "execution_count": 47,
     "metadata": {},
     "output_type": "execute_result"
    }
   ],
   "source": [
    "web_scraping(nom_csv='ISBN_test', nb_livres=10, nombre=2000000, site = 'https://www.leslibraires.fr/livre/')"
   ]
  },
  {
   "cell_type": "code",
   "execution_count": 48,
   "id": "95cecf8f",
   "metadata": {},
   "outputs": [
    {
     "data": {
      "text/plain": [
       "[[\"\\nPresses de l'Université Laval\\n\"],\n",
       " ['9780779827466'],\n",
       " ['9781849180993'],\n",
       " ['9781849181112'],\n",
       " ['9781849181129'],\n",
       " ['9781849181136'],\n",
       " ['9781849181143'],\n",
       " ['9781849181150'],\n",
       " ['9781849181167'],\n",
       " ['9782021063813']]"
      ]
     },
     "execution_count": 48,
     "metadata": {},
     "output_type": "execute_result"
    }
   ],
   "source": [
    "liste_totale"
   ]
  },
  {
   "cell_type": "code",
   "execution_count": 50,
   "id": "6fe26648",
   "metadata": {},
   "outputs": [
    {
     "data": {
      "application/vnd.jupyter.widget-view+json": {
       "model_id": "52eee50a977d4b3d81b648c3f351c4d0",
       "version_major": 2,
       "version_minor": 0
      },
      "text/plain": [
       "  0%|          | 0/10 [00:00<?, ?it/s]"
      ]
     },
     "metadata": {},
     "output_type": "display_data"
    },
    {
     "name": "stdout",
     "output_type": "stream",
     "text": [
      "[\"\\nPresses de l'Université Laval\\n\"]\n",
      "['9780779827466']\n",
      "['9781849180993']\n",
      "['9781849181112']\n",
      "['9781849181129']\n",
      "['9781849181136']\n",
      "['9781849181143']\n",
      "['9781849181150']\n",
      "['9781849181167']\n",
      "['9782021063813']\n"
     ]
    }
   ],
   "source": [
    " with open('ISBN_test.csv', 'a', encoding='UTF8') as f:\n",
    "            for x in tqdm_notebook(liste_totale) :\n",
    "                print(x)\n",
    "                writer = csv.writer(f)\n",
    "                writer.writerow(x)"
   ]
  },
  {
   "cell_type": "code",
   "execution_count": 55,
   "id": "7073f2d2",
   "metadata": {},
   "outputs": [
    {
     "data": {
      "text/html": [
       "<div>\n",
       "<style scoped>\n",
       "    .dataframe tbody tr th:only-of-type {\n",
       "        vertical-align: middle;\n",
       "    }\n",
       "\n",
       "    .dataframe tbody tr th {\n",
       "        vertical-align: top;\n",
       "    }\n",
       "\n",
       "    .dataframe thead th {\n",
       "        text-align: right;\n",
       "    }\n",
       "</style>\n",
       "<table border=\"1\" class=\"dataframe\">\n",
       "  <thead>\n",
       "    <tr style=\"text-align: right;\">\n",
       "      <th></th>\n",
       "      <th>ISBN</th>\n",
       "    </tr>\n",
       "  </thead>\n",
       "  <tbody>\n",
       "    <tr>\n",
       "      <th>0</th>\n",
       "      <td>9780779827466</td>\n",
       "    </tr>\n",
       "    <tr>\n",
       "      <th>1</th>\n",
       "      <td>9781849180993</td>\n",
       "    </tr>\n",
       "    <tr>\n",
       "      <th>2</th>\n",
       "      <td>9781849181112</td>\n",
       "    </tr>\n",
       "    <tr>\n",
       "      <th>3</th>\n",
       "      <td>9781849181129</td>\n",
       "    </tr>\n",
       "    <tr>\n",
       "      <th>4</th>\n",
       "      <td>9781849181136</td>\n",
       "    </tr>\n",
       "    <tr>\n",
       "      <th>5</th>\n",
       "      <td>9781849181143</td>\n",
       "    </tr>\n",
       "    <tr>\n",
       "      <th>6</th>\n",
       "      <td>9781849181150</td>\n",
       "    </tr>\n",
       "    <tr>\n",
       "      <th>7</th>\n",
       "      <td>9781849181167</td>\n",
       "    </tr>\n",
       "    <tr>\n",
       "      <th>8</th>\n",
       "      <td>9782021063813</td>\n",
       "    </tr>\n",
       "  </tbody>\n",
       "</table>\n",
       "</div>"
      ],
      "text/plain": [
       "            ISBN\n",
       "0  9780779827466\n",
       "1  9781849180993\n",
       "2  9781849181112\n",
       "3  9781849181129\n",
       "4  9781849181136\n",
       "5  9781849181143\n",
       "6  9781849181150\n",
       "7  9781849181167\n",
       "8  9782021063813"
      ]
     },
     "execution_count": 55,
     "metadata": {},
     "output_type": "execute_result"
    }
   ],
   "source": [
    "import pandas as pd\n",
    "df = pd.read_csv('ISBN_test.csv')\n",
    "df"
   ]
  }
 ],
 "metadata": {
  "kernelspec": {
   "display_name": "Python 3 (ipykernel)",
   "language": "python",
   "name": "python3"
  },
  "language_info": {
   "codemirror_mode": {
    "name": "ipython",
    "version": 3
   },
   "file_extension": ".py",
   "mimetype": "text/x-python",
   "name": "python",
   "nbconvert_exporter": "python",
   "pygments_lexer": "ipython3",
   "version": "3.8.3"
  }
 },
 "nbformat": 4,
 "nbformat_minor": 5
}
