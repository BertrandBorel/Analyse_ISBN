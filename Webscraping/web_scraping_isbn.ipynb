{
 "cells": [
  {
   "cell_type": "markdown",
   "id": "3fd45f4c",
   "metadata": {},
   "source": [
    "# <center> Web scraping : ISBN </center>\n",
    "\n",
    "**Objectif :** récupérer des ISBN via du web scraping. On peut ensuite utiliser les ISBN  pour interroger des API pour récupérer le reste des données.\n",
    "Les ISBN sont ajoutés à un fichier txt qui peut être converti en csv et enregistré."
   ]
  },
  {
   "cell_type": "code",
   "execution_count": 62,
   "id": "868f7a2a",
   "metadata": {},
   "outputs": [],
   "source": [
    "import os\n",
    "import requests\n",
    "from bs4 import BeautifulSoup\n",
    "from tqdm import tqdm\n",
    "\n",
    "def webscraping(number=1, etendue=10, txt_file=\"my_isbn.txt\"):\n",
    "    liste_isbn = []\n",
    "    \n",
    "    for x in tqdm(range(etendue), desc=\"Traitement en cours\", dynamic_ncols=True) : \n",
    "\n",
    "        url = f'https://www.leslibraires.fr/livre/{number}' \n",
    "        page = requests.get(url)\n",
    "        soup = BeautifulSoup(page.content, 'html.parser')\n",
    "\n",
    "        div_tab_content = soup.find('dl', class_='dl-horizontal')\n",
    "        isbn_element = div_tab_content.find('dd', itemprop='isbn')\n",
    "        \n",
    "        if isbn_element is None :\n",
    "            number += 1\n",
    "            continue\n",
    "            \n",
    "        else :\n",
    "            isbn = isbn_element.text.strip()\n",
    "            isbn = isbn.replace(\"-\", \"\")\n",
    "            number += 1\n",
    "\n",
    "        liste_isbn.append(isbn)\n",
    "        \n",
    "\n",
    "    # Vérifier si le fichier existe\n",
    "    if os.path.isfile(txt_file):\n",
    "        pass\n",
    "    else:\n",
    "        # Créer le fichier s'il n'existe pas\n",
    "        with open(txt_file, 'w') as f:\n",
    "            print(f'Le fichier {txt_file} a été créé avec succès')    \n",
    "    \n",
    "    # Ouvrir le fichier en mode ajout\n",
    "    with open(txt_file, 'a') as f:\n",
    "        # Écrire chaque élément de la liste sur une nouvelle ligne\n",
    "        f.writelines([element + '\\n' for element in liste_isbn])\n",
    "    print(\"Les ISBNs ont bien été écrits dans le fichier.\")\n",
    "\n"
   ]
  },
  {
   "cell_type": "code",
   "execution_count": 63,
   "id": "221becc7",
   "metadata": {},
   "outputs": [
    {
     "name": "stderr",
     "output_type": "stream",
     "text": [
      "Traitement en cours: 100%|█████████████████████████████████████████████████████████████| 10/10 [00:06<00:00,  1.45it/s]"
     ]
    },
    {
     "name": "stdout",
     "output_type": "stream",
     "text": [
      "Le fichier my_isbn.txt a été créé avec succès\n",
      "Les ISBNs ont bien été écrits dans le fichier.\n"
     ]
    },
    {
     "name": "stderr",
     "output_type": "stream",
     "text": [
      "\n"
     ]
    }
   ],
   "source": [
    "webscraping()"
   ]
  },
  {
   "cell_type": "markdown",
   "id": "8195a956",
   "metadata": {},
   "source": [
    "## Ouverture du fichier "
   ]
  },
  {
   "cell_type": "code",
   "execution_count": 64,
   "id": "70abed24",
   "metadata": {},
   "outputs": [
    {
     "name": "stdout",
     "output_type": "stream",
     "text": [
      "            ISBN\n",
      "0  9782206080161\n",
      "1  9780744010121\n",
      "2  9780140469981\n",
      "3  9782222966241\n",
      "4  9782252020111\n",
      "5  9782747579841\n",
      "6  9782757301821\n",
      "7  9782754006101\n"
     ]
    }
   ],
   "source": [
    "import pandas as pd\n",
    "\n",
    "# Ouvrir le fichier texte et ajouter chaque élément à une liste\n",
    "with open('my_isbn.txt', 'r') as f:\n",
    "    liste_isbn = f.read().splitlines()\n",
    "\n",
    "# Créer un dataframe avec une seule colonne \"ISBN\"\n",
    "df = pd.DataFrame({'ISBN': liste_isbn})\n",
    "\n",
    "# Afficher le dataframe\n",
    "print(df)"
   ]
  },
  {
   "cell_type": "markdown",
   "id": "8547d118",
   "metadata": {},
   "source": [
    "## Création d'un fichier csv"
   ]
  },
  {
   "cell_type": "code",
   "execution_count": 65,
   "id": "a8ef2ffa",
   "metadata": {},
   "outputs": [],
   "source": [
    "# Conversion en CSV et enregistrement\n",
    "df.to_csv('isbn_file.csv', index=False)"
   ]
  }
 ],
 "metadata": {
  "kernelspec": {
   "display_name": "Python 3 (ipykernel)",
   "language": "python",
   "name": "python3"
  },
  "language_info": {
   "codemirror_mode": {
    "name": "ipython",
    "version": 3
   },
   "file_extension": ".py",
   "mimetype": "text/x-python",
   "name": "python",
   "nbconvert_exporter": "python",
   "pygments_lexer": "ipython3",
   "version": "3.8.3"
  }
 },
 "nbformat": 4,
 "nbformat_minor": 5
}
