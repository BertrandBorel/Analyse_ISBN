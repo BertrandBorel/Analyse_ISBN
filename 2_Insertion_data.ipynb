{
 "cells": [
  {
   "cell_type": "markdown",
   "id": "01976e38",
   "metadata": {},
   "source": [
    "# <center> Insertion des données dans la BDD </center>"
   ]
  },
  {
   "cell_type": "code",
   "execution_count": null,
   "id": "4ed21193",
   "metadata": {},
   "outputs": [],
   "source": [
    "import pandas as pd\n",
    "import mysql.connector as msql\n",
    "from mysql.connector import Error\n",
    "from tqdm.notebook import tqdm_notebook"
   ]
  },
  {
   "cell_type": "markdown",
   "id": "70b09187",
   "metadata": {},
   "source": [
    "## Chargement du csv"
   ]
  },
  {
   "cell_type": "code",
   "execution_count": 7,
   "id": "0757f47e",
   "metadata": {},
   "outputs": [
    {
     "name": "stdout",
     "output_type": "stream",
     "text": [
      "<class 'pandas.core.frame.DataFrame'>\n",
      "RangeIndex: 100000 entries, 0 to 99999\n",
      "Data columns (total 5 columns):\n",
      " #   Column   Non-Null Count   Dtype \n",
      "---  ------   --------------   ----- \n",
      " 0   Auteur   100000 non-null  object\n",
      " 1   Titre    100000 non-null  object\n",
      " 2   Edition  100000 non-null  object\n",
      " 3   Date     100000 non-null  int64 \n",
      " 4   ISBN     100000 non-null  int64 \n",
      "dtypes: int64(2), object(3)\n",
      "memory usage: 3.8+ MB\n"
     ]
    }
   ],
   "source": [
    "df = pd.read_csv(\"partie_1.csv\")\n",
    "df.info()"
   ]
  },
  {
   "cell_type": "markdown",
   "id": "104809d3",
   "metadata": {},
   "source": [
    "### Insertion dans les tables secondaires"
   ]
  },
  {
   "cell_type": "code",
   "execution_count": 16,
   "id": "a8aa9fe5",
   "metadata": {},
   "outputs": [],
   "source": [
    "def insertion_tables(df_name):\n",
    "    df = pd.read_csv(df_name + '.csv')\n",
    "    \n",
    "    # Insérer les auteurs \n",
    "    for auteur in tqdm_notebook(df.Auteur):\n",
    "        \n",
    "        cursor = conn.cursor()\n",
    "        # Vérifier si l'auteur existe déjà dans la base\n",
    "        select_auteur_query = \"SELECT id_auteur FROM auteur WHERE nom_auteur = %s\"\n",
    "        cursor.execute(select_auteur_query, (auteur,))\n",
    "        result = cursor.fetchone()\n",
    "\n",
    "        # Si l'auteur n'existe pas, on l'insère dans la base\n",
    "        if not result:\n",
    "            insert_auteur_query = \"INSERT INTO auteur (nom_auteur) VALUES (%s)\"\n",
    "            cursor.execute(insert_auteur_query, (auteur,))\n",
    "            id_auteur = cursor.lastrowid\n",
    "        else:\n",
    "            id_auteur = result[0]\n",
    "\n",
    "        # Valider les changements dans la base\n",
    "        conn.commit()\n",
    "        \n",
    "    # insérer les maisons d'éditions\n",
    "    for edition in tqdm_notebook(df.Edition):\n",
    "        \n",
    "        cursor = conn.cursor()\n",
    "        \n",
    "        select_edition_query = \"SELECT id_edition FROM edition WHERE nom_edition = %s\"\n",
    "        cursor.execute(select_edition_query, (edition,))\n",
    "        result = cursor.fetchone()\n",
    "\n",
    "        if not result:\n",
    "            insert_edition_query = \"INSERT INTO edition (nom_edition) VALUES (%s)\"\n",
    "            cursor.execute(insert_edition_query, (edition,))\n",
    "            id_edition = cursor.lastrowid\n",
    "        else:\n",
    "            id_edition = result[0]\n",
    "\n",
    "        # Valider les changements dans la base\n",
    "        conn.commit()\n",
    "        \n",
    "    # Insérer les dates\n",
    "    for date in tqdm_notebook(df.Date):\n",
    "        \n",
    "        cursor = conn.cursor()\n",
    "        \n",
    "        select_date_query = \"SELECT id_date FROM date WHERE date = %s\"\n",
    "        cursor.execute(select_date_query, (date,))\n",
    "        result = cursor.fetchone()\n",
    "\n",
    "        if not result:\n",
    "            insert_date_query = \"INSERT INTO date (date) VALUES (%s)\"\n",
    "            cursor.execute(insert_date_query, (date,))\n",
    "            id_date = cursor.lastrowid\n",
    "        else:\n",
    "            id_date = result[0]\n",
    "\n",
    "        # Valider les changements dans la base\n",
    "        conn.commit()"
   ]
  },
  {
   "cell_type": "code",
   "execution_count": 17,
   "id": "fafa9d95",
   "metadata": {},
   "outputs": [
    {
     "name": "stdout",
     "output_type": "stream",
     "text": [
      "Connexion réussie !\n"
     ]
    },
    {
     "data": {
      "application/vnd.jupyter.widget-view+json": {
       "model_id": "3bf5f8c101a04d74b00cce5886c83ba9",
       "version_major": 2,
       "version_minor": 0
      },
      "text/plain": [
       "  0%|          | 0/100000 [00:00<?, ?it/s]"
      ]
     },
     "metadata": {},
     "output_type": "display_data"
    },
    {
     "data": {
      "application/vnd.jupyter.widget-view+json": {
       "model_id": "64dc2f940cd343688c933272745ba7ec",
       "version_major": 2,
       "version_minor": 0
      },
      "text/plain": [
       "  0%|          | 0/100000 [00:00<?, ?it/s]"
      ]
     },
     "metadata": {},
     "output_type": "display_data"
    },
    {
     "data": {
      "application/vnd.jupyter.widget-view+json": {
       "model_id": "6e58b1d4fa684e04a64a698acd90bc76",
       "version_major": 2,
       "version_minor": 0
      },
      "text/plain": [
       "  0%|          | 0/100000 [00:00<?, ?it/s]"
      ]
     },
     "metadata": {},
     "output_type": "display_data"
    },
    {
     "name": "stdout",
     "output_type": "stream",
     "text": [
      "Déconnexion réussie.\n"
     ]
    }
   ],
   "source": [
    "connexion(\"test_pco\")\n",
    "insertion_tables(\"partie_1\")\n",
    "deconnexion()"
   ]
  },
  {
   "cell_type": "code",
   "execution_count": 121,
   "id": "6851f6c7",
   "metadata": {},
   "outputs": [
    {
     "name": "stdout",
     "output_type": "stream",
     "text": [
      "Connexion réussie !\n"
     ]
    },
    {
     "data": {
      "application/vnd.jupyter.widget-view+json": {
       "model_id": "a308464b0bc3443d816a82c372e32e26",
       "version_major": 2,
       "version_minor": 0
      },
      "text/plain": [
       "  0%|          | 0/100000 [00:00<?, ?it/s]"
      ]
     },
     "metadata": {},
     "output_type": "display_data"
    },
    {
     "data": {
      "application/vnd.jupyter.widget-view+json": {
       "model_id": "8daf1272420f498e9926511ccc09f36c",
       "version_major": 2,
       "version_minor": 0
      },
      "text/plain": [
       "  0%|          | 0/100000 [00:00<?, ?it/s]"
      ]
     },
     "metadata": {},
     "output_type": "display_data"
    },
    {
     "data": {
      "application/vnd.jupyter.widget-view+json": {
       "model_id": "cc9a9067bc4f4029b21ff83f9611b455",
       "version_major": 2,
       "version_minor": 0
      },
      "text/plain": [
       "  0%|          | 0/100000 [00:00<?, ?it/s]"
      ]
     },
     "metadata": {},
     "output_type": "display_data"
    },
    {
     "name": "stdout",
     "output_type": "stream",
     "text": [
      "Insertions data : ok !\n",
      "Déconnexion réussie.\n"
     ]
    }
   ],
   "source": [
    "connexion(\"test_pco\")\n",
    "data_tables(\"partie_1\")\n",
    "deconnexion()"
   ]
  },
  {
   "cell_type": "markdown",
   "id": "363343d5",
   "metadata": {},
   "source": [
    "### Insertion dans la table principale"
   ]
  },
  {
   "cell_type": "code",
   "execution_count": 18,
   "id": "cd5bd8c1",
   "metadata": {},
   "outputs": [],
   "source": [
    "def data(df_name):\n",
    "    import pandas as pd\n",
    "    # dataframe :\n",
    "    df = pd.read_csv(df_name + '.csv')\n",
    "    # insert data\n",
    "    try : \n",
    "        cursor = conn.cursor()\n",
    "        \n",
    "        for row in tqdm_notebook(df.itertuples()):\n",
    "            \n",
    "        \n",
    "                cursor.execute(\n",
    "                '''INSERT INTO Refs (ISBN, titre, auteur, date, edition)\n",
    "                    VALUES (%s, %s,\n",
    "                    (SELECT id_auteur FROM auteur WHERE nom_auteur = %s LIMIT 1),\n",
    "                    (SELECT id_date FROM date WHERE date = %s LIMIT 1),\n",
    "                    (SELECT id_edition FROM edition WHERE nom_edition = %s LIMIT 1));''',\n",
    "                (row.ISBN, row.Titre, row.Auteur, row.Date, row.Edition))\n",
    "                \n",
    "          \n",
    "\n",
    "\n",
    "        conn.commit()\n",
    "        print(\"Insertions data : ok !\")\n",
    "            \n",
    "            \n",
    "    \n",
    "    except Error as e:\n",
    "        print(\"Error while connecting to MySQL\", e)"
   ]
  },
  {
   "cell_type": "code",
   "execution_count": 19,
   "id": "3309274c",
   "metadata": {},
   "outputs": [
    {
     "name": "stdout",
     "output_type": "stream",
     "text": [
      "Connexion réussie !\n"
     ]
    },
    {
     "data": {
      "application/vnd.jupyter.widget-view+json": {
       "model_id": "c61ea5ace9e34728a4de0d1cd18431c6",
       "version_major": 2,
       "version_minor": 0
      },
      "text/plain": [
       "0it [00:00, ?it/s]"
      ]
     },
     "metadata": {},
     "output_type": "display_data"
    },
    {
     "name": "stdout",
     "output_type": "stream",
     "text": [
      "Insertions data : ok !\n",
      "Déconnexion réussie.\n"
     ]
    }
   ],
   "source": [
    "connexion(\"test_pco\")\n",
    "data(\"partie_1\")\n",
    "deconnexion()"
   ]
  },
  {
   "cell_type": "markdown",
   "id": "6fb9bbf8",
   "metadata": {},
   "source": [
    "## Requêtes "
   ]
  },
  {
   "cell_type": "code",
   "execution_count": 26,
   "id": "a475ddf0",
   "metadata": {},
   "outputs": [
    {
     "name": "stdout",
     "output_type": "stream",
     "text": [
      "Connexion réussie !\n",
      "Record exists: ('9780007498130', 'The Wilful Princess and the Piebald Prince', 17797, 94237, 13)\n",
      "Déconnexion réussie.\n"
     ]
    }
   ],
   "source": [
    "connexion(\"test_pco\")\n",
    "# Create a cursor object\n",
    "cursor = conn.cursor()\n",
    "\n",
    "# Execute the SELECT statement\n",
    "ISBN = 9780007498130\n",
    "query = \"SELECT * FROM refs WHERE ISBN = %s\"\n",
    "cursor.execute(query, (ISBN,))\n",
    "\n",
    "# Fetch the result\n",
    "result = cursor.fetchone()\n",
    "\n",
    "# Check if the result is None (indicating the book does not exist)\n",
    "if result:\n",
    "    print(\"Record exists:\", result)\n",
    "else:\n",
    "    print(\"Record does not exist.\")\n",
    "\n",
    "# Close the cursor and connection\n",
    "deconnexion()"
   ]
  },
  {
   "cell_type": "markdown",
   "id": "b3a32e9c",
   "metadata": {},
   "source": [
    "## Requête pour récupérer les informations d'un livre via l'ISBN"
   ]
  },
  {
   "cell_type": "code",
   "execution_count": 38,
   "id": "845f47f2",
   "metadata": {},
   "outputs": [
    {
     "name": "stdout",
     "output_type": "stream",
     "text": [
      "Connexion réussie !\n",
      "Record exists: ('9780007498130', 'The Wilful Princess and the Piebald Prince', 2013, 'HarperVoyager', 'Robin Hobb')\n",
      "Déconnexion réussie.\n"
     ]
    }
   ],
   "source": [
    "connexion(\"test_pco\")\n",
    "\n",
    "cursor = conn.cursor()\n",
    "\n",
    "ISBN = 9780007498130\n",
    "requete = '''SELECT ISBN, titre, date.date, edition.nom_edition, auteur.nom_auteur\n",
    "FROM refs\n",
    "JOIN date ON refs.date = date.id_date\n",
    "JOIN edition ON refs.edition = edition.id_edition\n",
    "JOIN auteur ON refs.auteur = auteur.id_auteur\n",
    "WHERE refs.ISBN = %s;'''\n",
    "cursor.execute(requete, (ISBN,))\n",
    "\n",
    "# Fetch the result\n",
    "result = cursor.fetchone()\n",
    "\n",
    "# Check if the result is None (indicating the book does not exist)\n",
    "if result:\n",
    "    print(\"Record exists:\", result)\n",
    "else:\n",
    "    print(\"Record does not exist.\")\n",
    "\n",
    "# Close the cursor and connection\n",
    "deconnexion()"
   ]
  },
  {
   "cell_type": "code",
   "execution_count": 57,
   "id": "454284d2",
   "metadata": {},
   "outputs": [
    {
     "name": "stdout",
     "output_type": "stream",
     "text": [
      "Robin Hobb, The Wilful Princess and the Piebald Prince, HarperVoyager, 2013, 9780007498130.\n"
     ]
    }
   ],
   "source": [
    "print(f\"{result[4]}, {result[1]}, {result[3]}, {result[2]}, {int(result[0])}.\", )"
   ]
  }
 ],
 "metadata": {
  "kernelspec": {
   "display_name": "Python 3 (ipykernel)",
   "language": "python",
   "name": "python3"
  },
  "language_info": {
   "codemirror_mode": {
    "name": "ipython",
    "version": 3
   },
   "file_extension": ".py",
   "mimetype": "text/x-python",
   "name": "python",
   "nbconvert_exporter": "python",
   "pygments_lexer": "ipython3",
   "version": "3.8.3"
  }
 },
 "nbformat": 4,
 "nbformat_minor": 5
}
