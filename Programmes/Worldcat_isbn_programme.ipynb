{
 "cells": [
  {
   "cell_type": "markdown",
   "id": "77cd51c3",
   "metadata": {},
   "source": [
    "# <center> Récupérer informations des ISBN </center> "
   ]
  },
  {
   "cell_type": "code",
   "execution_count": 1,
   "id": "fed16a3e",
   "metadata": {},
   "outputs": [],
   "source": [
    "import pandas as pd\n",
    "import isbnlib\n",
    "from isbnlib import canonical, meta\n",
    "import csv\n",
    "from tqdm import tqdm"
   ]
  },
  {
   "cell_type": "code",
   "execution_count": 33,
   "id": "c78f5517",
   "metadata": {},
   "outputs": [],
   "source": [
    "liste_ISBN = [9782757851562, 9782757859896, 9782757844380, 9782130731191, 9782757840009, 9782757844571, \n",
    "]"
   ]
  },
  {
   "cell_type": "markdown",
   "id": "1b8a092d",
   "metadata": {},
   "source": [
    "## Utiliser plusieurs services différents pour récupérer les infos des ISBN"
   ]
  },
  {
   "cell_type": "code",
   "execution_count": 26,
   "id": "2eba649f",
   "metadata": {},
   "outputs": [],
   "source": [
    "# import isbnlib\n",
    "\n",
    "l_worldcat = [isbnlib.meta(isbn='9782757844571', service='worldcat')]\n",
    "#l_openl = [isbnlib.meta(isbn='9782757844571', service='openl')]\n",
    "l_goob = [isbnlib.meta(isbn='9782757844571', service='goob')]\n",
    "l_wiki = [isbnlib.meta(isbn='9782757844571', service='wiki')]"
   ]
  },
  {
   "cell_type": "code",
   "execution_count": 27,
   "id": "2f31b908",
   "metadata": {},
   "outputs": [
    {
     "name": "stdout",
     "output_type": "stream",
     "text": [
      "{'ISBN-13': '9782757844571', 'Title': 'Le crépuscule des révolutions, 1848-1871', 'Authors': ['Quentin Deluermoz', 'Johann Chapoutot'], 'Publisher': 'Points', 'Year': 'DL 2014', 'Language': 'fr'}\n",
      "----------------------\n",
      "----------------------\n",
      "{'ISBN-13': '9782757844571', 'Title': 'La France contemporaine - Tome 3, Le Crépuscule des révolutions, 1848-1871', 'Authors': ['Quentin Deluermoz'], 'Publisher': '', 'Year': '2014', 'Language': 'fr'}\n",
      "----------------------\n",
      "{'ISBN-13': '9782757844571', 'Title': 'Le crépuscule des révolutions, 1848-1871', 'Authors': ['Quentin, Deluermoz'], 'Publisher': 'Points', 'Year': '2014', 'Language': ''}\n"
     ]
    }
   ],
   "source": [
    "for x in l_worldcat: print(x)\n",
    "print(\"----------------------\")\n",
    "# for x in l_openl: print(x)\n",
    "print(\"----------------------\")\n",
    "for x in l_goob: print(x)\n",
    "print(\"----------------------\")\n",
    "for x in l_wiki: print(x)"
   ]
  },
  {
   "cell_type": "markdown",
   "id": "ac756a9b",
   "metadata": {},
   "source": [
    "---"
   ]
  },
  {
   "cell_type": "markdown",
   "id": "f14d84d9",
   "metadata": {},
   "source": [
    "## Récupérer les infos à part (auteur, édition, date...)"
   ]
  },
  {
   "cell_type": "code",
   "execution_count": 2,
   "id": "1f537b14",
   "metadata": {},
   "outputs": [
    {
     "name": "stdout",
     "output_type": "stream",
     "text": [
      "['René-Philippe Dawant', 'Georges Huercano-Hidalgo']\n",
      "2005\n",
      "Pire\n",
      "9782874155185\n"
     ]
    }
   ],
   "source": [
    "# from isbnlib import canonical, meta\n",
    "\n",
    "isbn = canonical(\"978-2874155185\")\n",
    "data = isbnlib.meta(isbn, service='worldcat')\n",
    "\n",
    "print(data['Authors'])\n",
    "print(data['Year'])\n",
    "print(data['Publisher'])\n",
    "print(data['ISBN-13'])"
   ]
  },
  {
   "cell_type": "markdown",
   "id": "be0eb28e",
   "metadata": {},
   "source": [
    "---"
   ]
  },
  {
   "cell_type": "code",
   "execution_count": 225,
   "id": "c1532061",
   "metadata": {},
   "outputs": [],
   "source": [
    "liste_ISBN = [9782915623802, 9782843462962, 9782268066950, 9782356780874, 9782843463129, 9782843462979, 9782857047612, 9782914855198, 9782952144636, 9782843461729]"
   ]
  },
  {
   "cell_type": "code",
   "execution_count": 226,
   "id": "86af7803",
   "metadata": {},
   "outputs": [
    {
     "name": "stdout",
     "output_type": "stream",
     "text": [
      "fichier créé\n",
      "-------------------------------\n",
      "Recherche en cours...\n"
     ]
    },
    {
     "name": "stderr",
     "output_type": "stream",
     "text": [
      "100%|██████████████████████████████████████████████████████████████████████████████████| 10/10 [00:32<00:00,  3.20s/it]\n"
     ]
    },
    {
     "name": "stdout",
     "output_type": "stream",
     "text": [
      "-------------------------------\n",
      "Nombre de livres dans la liste :  10\n",
      "-------------------------------\n",
      "[['Kristian Hamon', 'Agents du Reich en Bretagne', 'Skol Vreizh', '2011', '9782915623802'], [['Alain Cabon', 'Erwan Chartier'], 'Le dossier FLB: plongée chez les clandestins bretons', 'Coop Breizh', '©2006', '9782843462962'], ['Gilles Martin-Chauffier', 'Le roman de la Bretagne', 'Rocher', '©2008', '9782268066950'], ['Jean-Michel Le Boulanger', 'Être breton?', 'Palantines', '2014', '9782356780874'], ['Michel Nicolas', 'Histoire de la revendication bretonne, ou la revanche de la démocratie locale sur le \"démocratisme\": des origines jusqu\\'aux années 1980', 'Coop Breizh', '©2007', '9782843463129'], ['Jean-Christophe Cassard', 'La guerre de succession de Bretagne: dix-huit études', 'Coop breizh', '©2006', '9782843462979'], ['Jean Markale', 'Les saints fondateurs de la Bretagne et des pays celtes', 'Pygmalion', '2002', '9782857047612'], ['Kristian Hamon', \"Les nationalistes bretons sous l'Occupation\", 'Fouesnant Embanner 2005', 'Fouesnant Embanner 2005', '9782914855198'], [['Roparz Hemon', 'Michel Treguer'], 'Un Breton redécouvrant la Bretagne', 'Yoran embann.', 'impr 2005', '9782952144636'], ['Thierry Jigourel', \"Les druides: modernité d'une tradition millénaire\", 'Coop Breizh', '2002', '9782843461729']]\n",
      "-------------------------------\n",
      "Insertion dans le csv...\n"
     ]
    },
    {
     "name": "stderr",
     "output_type": "stream",
     "text": [
      "100%|██████████████████████████████████████████████████████████████████████████████████████████| 10/10 [00:00<?, ?it/s]"
     ]
    },
    {
     "name": "stdout",
     "output_type": "stream",
     "text": [
      "Insertion des données réussies.\n"
     ]
    },
    {
     "name": "stderr",
     "output_type": "stream",
     "text": [
      "\n"
     ]
    }
   ],
   "source": [
    "# from isbnlib import canonical, meta\n",
    "# import csv\n",
    "# from tqdm import tqdm\n",
    "\n",
    "# MODIFICATION DE LA SOURCE\n",
    "SERVICE = 'worldcat'\n",
    "\n",
    "\n",
    "\n",
    "## Création du csv \n",
    "header = ['Auteur(s)', 'Titre', 'Edition', 'Date', 'ISBN']\n",
    "with open(r'worldcat_isbn.csv', 'w') as f:\n",
    "    writer = csv.writer(f)\n",
    "        # write the header\n",
    "    writer.writerow(header)\n",
    "    print(\"fichier créé\")\n",
    "    \n",
    "print(\"-------------------------------\")    \n",
    "print(\"Recherche en cours...\")    \n",
    "    \n",
    "\n",
    "    \n",
    "nombre_livres = 0\n",
    "liste_ref = []\n",
    "curseur = 0\n",
    "ISBN = []\n",
    "\n",
    "for x in tqdm(liste_ISBN) :\n",
    "    try : \n",
    "            isbn = canonical(str(x))\n",
    "            data = meta(isbn, SERVICE)\n",
    "            nombre_livres += 1\n",
    "        #     print(data) \n",
    "\n",
    "\n",
    "            biblio = []\n",
    "\n",
    "            if len(data[\"Authors\"]) == 1 :\n",
    "                for x in data[\"Authors\"] :\n",
    "                    biblio.append(x)\n",
    "            else : \n",
    "                biblio.append(data[\"Authors\"])\n",
    "\n",
    "            biblio.append(data[\"Title\"])\n",
    "            biblio.append(data[\"Publisher\"])\n",
    "            biblio.append(data[\"Year\"])\n",
    "            biblio.append(data['ISBN-13'])\n",
    "\n",
    "\n",
    "            ISBN.append(biblio)\n",
    "            \n",
    "    except : \n",
    "            print(\"ISBN introuvable\", x)\n",
    "\n",
    "print(\"-------------------------------\")\n",
    "print(\"Nombre de livres dans la liste : \", nombre_livres)\n",
    "print(\"-------------------------------\")\n",
    "print(ISBN)\n",
    "print(\"-------------------------------\")\n",
    "print(\"Insertion dans le csv...\")\n",
    "    \n",
    "with open(r'worldcat_isbn.csv', 'a', encoding='UTF8') as f:\n",
    "        for x in tqdm(ISBN) :\n",
    "            writer = csv.writer(f)\n",
    "            writer.writerow(x)\n",
    "    \n",
    "        print(\"Insertion des données réussies.\")"
   ]
  },
  {
   "cell_type": "markdown",
   "id": "a55badd9",
   "metadata": {},
   "source": [
    "--- "
   ]
  },
  {
   "cell_type": "markdown",
   "id": "eabb462a",
   "metadata": {},
   "source": [
    "## Correction et enregistrement du csv"
   ]
  },
  {
   "cell_type": "code",
   "execution_count": 227,
   "id": "95f29239",
   "metadata": {},
   "outputs": [
    {
     "data": {
      "text/html": [
       "<div>\n",
       "<style scoped>\n",
       "    .dataframe tbody tr th:only-of-type {\n",
       "        vertical-align: middle;\n",
       "    }\n",
       "\n",
       "    .dataframe tbody tr th {\n",
       "        vertical-align: top;\n",
       "    }\n",
       "\n",
       "    .dataframe thead th {\n",
       "        text-align: right;\n",
       "    }\n",
       "</style>\n",
       "<table border=\"1\" class=\"dataframe\">\n",
       "  <thead>\n",
       "    <tr style=\"text-align: right;\">\n",
       "      <th></th>\n",
       "      <th>Auteur(s)</th>\n",
       "      <th>Titre</th>\n",
       "      <th>Edition</th>\n",
       "      <th>Date</th>\n",
       "      <th>ISBN</th>\n",
       "    </tr>\n",
       "  </thead>\n",
       "  <tbody>\n",
       "    <tr>\n",
       "      <th>0</th>\n",
       "      <td>Kristian Hamon</td>\n",
       "      <td>Agents du Reich en Bretagne</td>\n",
       "      <td>Skol Vreizh</td>\n",
       "      <td>2011</td>\n",
       "      <td>9782915623802</td>\n",
       "    </tr>\n",
       "    <tr>\n",
       "      <th>1</th>\n",
       "      <td>['Alain Cabon', 'Erwan Chartier']</td>\n",
       "      <td>Le dossier FLB: plongée chez les clandestins ...</td>\n",
       "      <td>Coop Breizh</td>\n",
       "      <td>©2006</td>\n",
       "      <td>9782843462962</td>\n",
       "    </tr>\n",
       "    <tr>\n",
       "      <th>2</th>\n",
       "      <td>Gilles Martin-Chauffier</td>\n",
       "      <td>Le roman de la Bretagne</td>\n",
       "      <td>Rocher</td>\n",
       "      <td>©2008</td>\n",
       "      <td>9782268066950</td>\n",
       "    </tr>\n",
       "    <tr>\n",
       "      <th>3</th>\n",
       "      <td>Jean-Michel Le Boulanger</td>\n",
       "      <td>Être breton?</td>\n",
       "      <td>Palantines</td>\n",
       "      <td>2014</td>\n",
       "      <td>9782356780874</td>\n",
       "    </tr>\n",
       "    <tr>\n",
       "      <th>4</th>\n",
       "      <td>Michel Nicolas</td>\n",
       "      <td>Histoire de la revendication bretonne, ou la r...</td>\n",
       "      <td>Coop Breizh</td>\n",
       "      <td>©2007</td>\n",
       "      <td>9782843463129</td>\n",
       "    </tr>\n",
       "    <tr>\n",
       "      <th>5</th>\n",
       "      <td>Jean-Christophe Cassard</td>\n",
       "      <td>La guerre de succession de Bretagne: dix-huit ...</td>\n",
       "      <td>Coop breizh</td>\n",
       "      <td>©2006</td>\n",
       "      <td>9782843462979</td>\n",
       "    </tr>\n",
       "    <tr>\n",
       "      <th>6</th>\n",
       "      <td>Jean Markale</td>\n",
       "      <td>Les saints fondateurs de la Bretagne et des pa...</td>\n",
       "      <td>Pygmalion</td>\n",
       "      <td>2002</td>\n",
       "      <td>9782857047612</td>\n",
       "    </tr>\n",
       "    <tr>\n",
       "      <th>7</th>\n",
       "      <td>Kristian Hamon</td>\n",
       "      <td>Les nationalistes bretons sous l'Occupation</td>\n",
       "      <td>Fouesnant Embanner 2005</td>\n",
       "      <td>Fouesnant Embanner 2005</td>\n",
       "      <td>9782914855198</td>\n",
       "    </tr>\n",
       "    <tr>\n",
       "      <th>8</th>\n",
       "      <td>['Roparz Hemon', 'Michel Treguer']</td>\n",
       "      <td>Un Breton redécouvrant la Bretagne</td>\n",
       "      <td>Yoran embann.</td>\n",
       "      <td>impr 2005</td>\n",
       "      <td>9782952144636</td>\n",
       "    </tr>\n",
       "    <tr>\n",
       "      <th>9</th>\n",
       "      <td>Thierry Jigourel</td>\n",
       "      <td>Les druides: modernité d'une tradition millé...</td>\n",
       "      <td>Coop Breizh</td>\n",
       "      <td>2002</td>\n",
       "      <td>9782843461729</td>\n",
       "    </tr>\n",
       "  </tbody>\n",
       "</table>\n",
       "</div>"
      ],
      "text/plain": [
       "                            Auteur(s)  \\\n",
       "0                      Kristian Hamon   \n",
       "1   ['Alain Cabon', 'Erwan Chartier']   \n",
       "2             Gilles Martin-Chauffier   \n",
       "3            Jean-Michel Le Boulanger   \n",
       "4                      Michel Nicolas   \n",
       "5             Jean-Christophe Cassard   \n",
       "6                        Jean Markale   \n",
       "7                      Kristian Hamon   \n",
       "8  ['Roparz Hemon', 'Michel Treguer']   \n",
       "9                    Thierry Jigourel   \n",
       "\n",
       "                                               Titre                  Edition  \\\n",
       "0                        Agents du Reich en Bretagne              Skol Vreizh   \n",
       "1  Le dossier FLB: plongée chez les clandestins ...              Coop Breizh   \n",
       "2                            Le roman de la Bretagne                   Rocher   \n",
       "3                                      Être breton?               Palantines   \n",
       "4  Histoire de la revendication bretonne, ou la r...              Coop Breizh   \n",
       "5  La guerre de succession de Bretagne: dix-huit ...              Coop breizh   \n",
       "6  Les saints fondateurs de la Bretagne et des pa...                Pygmalion   \n",
       "7        Les nationalistes bretons sous l'Occupation  Fouesnant Embanner 2005   \n",
       "8                Un Breton redécouvrant la Bretagne            Yoran embann.   \n",
       "9  Les druides: modernité d'une tradition millé...              Coop Breizh   \n",
       "\n",
       "                      Date           ISBN  \n",
       "0                     2011  9782915623802  \n",
       "1                    ©2006  9782843462962  \n",
       "2                    ©2008  9782268066950  \n",
       "3                     2014  9782356780874  \n",
       "4                    ©2007  9782843463129  \n",
       "5                    ©2006  9782843462979  \n",
       "6                     2002  9782857047612  \n",
       "7  Fouesnant Embanner 2005  9782914855198  \n",
       "8                impr 2005  9782952144636  \n",
       "9                     2002  9782843461729  "
      ]
     },
     "execution_count": 227,
     "metadata": {},
     "output_type": "execute_result"
    }
   ],
   "source": [
    "# Ouverture du fichier csv\n",
    "df = pd.read_csv(\"worldcat_isbn.csv\")\n",
    "df"
   ]
  },
  {
   "cell_type": "markdown",
   "id": "33376b40",
   "metadata": {},
   "source": [
    "### Modification"
   ]
  },
  {
   "cell_type": "code",
   "execution_count": 235,
   "id": "180298b2",
   "metadata": {},
   "outputs": [
    {
     "data": {
      "text/html": [
       "<div>\n",
       "<style scoped>\n",
       "    .dataframe tbody tr th:only-of-type {\n",
       "        vertical-align: middle;\n",
       "    }\n",
       "\n",
       "    .dataframe tbody tr th {\n",
       "        vertical-align: top;\n",
       "    }\n",
       "\n",
       "    .dataframe thead th {\n",
       "        text-align: right;\n",
       "    }\n",
       "</style>\n",
       "<table border=\"1\" class=\"dataframe\">\n",
       "  <thead>\n",
       "    <tr style=\"text-align: right;\">\n",
       "      <th></th>\n",
       "      <th>Auteur(s)</th>\n",
       "      <th>Titre</th>\n",
       "      <th>Edition</th>\n",
       "      <th>Date</th>\n",
       "      <th>ISBN</th>\n",
       "    </tr>\n",
       "  </thead>\n",
       "  <tbody>\n",
       "    <tr>\n",
       "      <th>0</th>\n",
       "      <td>Kristian Hamon</td>\n",
       "      <td>Agents du Reich en Bretagne</td>\n",
       "      <td>Skol Vreizh</td>\n",
       "      <td>2011</td>\n",
       "      <td>9782915623802</td>\n",
       "    </tr>\n",
       "    <tr>\n",
       "      <th>1</th>\n",
       "      <td>['Alain Cabon', 'Erwan Chartier']</td>\n",
       "      <td>Le dossier FLB: plongée chez les clandestins ...</td>\n",
       "      <td>Coop Breizh</td>\n",
       "      <td>2006</td>\n",
       "      <td>9782843462962</td>\n",
       "    </tr>\n",
       "    <tr>\n",
       "      <th>2</th>\n",
       "      <td>Gilles Martin-Chauffier</td>\n",
       "      <td>Le roman de la Bretagne</td>\n",
       "      <td>Rocher</td>\n",
       "      <td>2008</td>\n",
       "      <td>9782268066950</td>\n",
       "    </tr>\n",
       "    <tr>\n",
       "      <th>3</th>\n",
       "      <td>Jean-Michel Le Boulanger</td>\n",
       "      <td>Être breton?</td>\n",
       "      <td>Palantines</td>\n",
       "      <td>2014</td>\n",
       "      <td>9782356780874</td>\n",
       "    </tr>\n",
       "    <tr>\n",
       "      <th>4</th>\n",
       "      <td>Michel Nicolas</td>\n",
       "      <td>Histoire de la revendication bretonne, ou la r...</td>\n",
       "      <td>Coop Breizh</td>\n",
       "      <td>2007</td>\n",
       "      <td>9782843463129</td>\n",
       "    </tr>\n",
       "    <tr>\n",
       "      <th>5</th>\n",
       "      <td>Jean-Christophe Cassard</td>\n",
       "      <td>La guerre de succession de Bretagne: dix-huit ...</td>\n",
       "      <td>Coop breizh</td>\n",
       "      <td>2006</td>\n",
       "      <td>9782843462979</td>\n",
       "    </tr>\n",
       "    <tr>\n",
       "      <th>6</th>\n",
       "      <td>Jean Markale</td>\n",
       "      <td>Les saints fondateurs de la Bretagne et des pa...</td>\n",
       "      <td>Pygmalion</td>\n",
       "      <td>2002</td>\n",
       "      <td>9782857047612</td>\n",
       "    </tr>\n",
       "    <tr>\n",
       "      <th>7</th>\n",
       "      <td>Kristian Hamon</td>\n",
       "      <td>Les nationalistes bretons sous l'Occupation</td>\n",
       "      <td>Yoran Embanner</td>\n",
       "      <td>2005</td>\n",
       "      <td>9782914855198</td>\n",
       "    </tr>\n",
       "    <tr>\n",
       "      <th>8</th>\n",
       "      <td>['Roparz Hemon', 'Michel Treguer']</td>\n",
       "      <td>Un Breton redécouvrant la Bretagne</td>\n",
       "      <td>Yoran Embanner</td>\n",
       "      <td>2005</td>\n",
       "      <td>9782952144636</td>\n",
       "    </tr>\n",
       "    <tr>\n",
       "      <th>9</th>\n",
       "      <td>Thierry Jigourel</td>\n",
       "      <td>Les druides: modernité d'une tradition millé...</td>\n",
       "      <td>Coop Breizh</td>\n",
       "      <td>2002</td>\n",
       "      <td>9782843461729</td>\n",
       "    </tr>\n",
       "  </tbody>\n",
       "</table>\n",
       "</div>"
      ],
      "text/plain": [
       "                            Auteur(s)  \\\n",
       "0                      Kristian Hamon   \n",
       "1   ['Alain Cabon', 'Erwan Chartier']   \n",
       "2             Gilles Martin-Chauffier   \n",
       "3            Jean-Michel Le Boulanger   \n",
       "4                      Michel Nicolas   \n",
       "5             Jean-Christophe Cassard   \n",
       "6                        Jean Markale   \n",
       "7                      Kristian Hamon   \n",
       "8  ['Roparz Hemon', 'Michel Treguer']   \n",
       "9                    Thierry Jigourel   \n",
       "\n",
       "                                               Titre         Edition  Date  \\\n",
       "0                        Agents du Reich en Bretagne     Skol Vreizh  2011   \n",
       "1  Le dossier FLB: plongée chez les clandestins ...     Coop Breizh  2006   \n",
       "2                            Le roman de la Bretagne          Rocher  2008   \n",
       "3                                      Être breton?      Palantines  2014   \n",
       "4  Histoire de la revendication bretonne, ou la r...     Coop Breizh  2007   \n",
       "5  La guerre de succession de Bretagne: dix-huit ...     Coop breizh  2006   \n",
       "6  Les saints fondateurs de la Bretagne et des pa...       Pygmalion  2002   \n",
       "7        Les nationalistes bretons sous l'Occupation  Yoran Embanner  2005   \n",
       "8                Un Breton redécouvrant la Bretagne  Yoran Embanner  2005   \n",
       "9  Les druides: modernité d'une tradition millé...     Coop Breizh  2002   \n",
       "\n",
       "            ISBN  \n",
       "0  9782915623802  \n",
       "1  9782843462962  \n",
       "2  9782268066950  \n",
       "3  9782356780874  \n",
       "4  9782843463129  \n",
       "5  9782843462979  \n",
       "6  9782857047612  \n",
       "7  9782914855198  \n",
       "8  9782952144636  \n",
       "9  9782843461729  "
      ]
     },
     "execution_count": 235,
     "metadata": {},
     "output_type": "execute_result"
    }
   ],
   "source": [
    "df.loc[7, \"Date\"] = 2005\n",
    "       \n",
    "# Sauvegarde du csv \n",
    "df.to_csv(\"worldcat_isbn.csv\", index=False)\n",
    "\n",
    "# affichage du df\n",
    "df.tail(10)"
   ]
  },
  {
   "cell_type": "code",
   "execution_count": null,
   "id": "c5a38255",
   "metadata": {},
   "outputs": [],
   "source": []
  }
 ],
 "metadata": {
  "kernelspec": {
   "display_name": "Python 3 (ipykernel)",
   "language": "python",
   "name": "python3"
  },
  "language_info": {
   "codemirror_mode": {
    "name": "ipython",
    "version": 3
   },
   "file_extension": ".py",
   "mimetype": "text/x-python",
   "name": "python",
   "nbconvert_exporter": "python",
   "pygments_lexer": "ipython3",
   "version": "3.8.3"
  }
 },
 "nbformat": 4,
 "nbformat_minor": 5
}
