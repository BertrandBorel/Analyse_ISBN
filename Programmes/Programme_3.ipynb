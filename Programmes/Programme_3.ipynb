{
 "cells": [
  {
   "cell_type": "markdown",
   "id": "3993acfd",
   "metadata": {},
   "source": [
    "# <center> Traitement CSV </center>"
   ]
  },
  {
   "cell_type": "code",
   "execution_count": 216,
   "id": "3b760408",
   "metadata": {},
   "outputs": [],
   "source": [
    "import pandas as pd\n",
    "from tqdm.notebook import tqdm_notebook"
   ]
  },
  {
   "cell_type": "code",
   "execution_count": 278,
   "id": "9bc8fd1d",
   "metadata": {},
   "outputs": [
    {
     "data": {
      "text/html": [
       "<div>\n",
       "<style scoped>\n",
       "    .dataframe tbody tr th:only-of-type {\n",
       "        vertical-align: middle;\n",
       "    }\n",
       "\n",
       "    .dataframe tbody tr th {\n",
       "        vertical-align: top;\n",
       "    }\n",
       "\n",
       "    .dataframe thead th {\n",
       "        text-align: right;\n",
       "    }\n",
       "</style>\n",
       "<table border=\"1\" class=\"dataframe\">\n",
       "  <thead>\n",
       "    <tr style=\"text-align: right;\">\n",
       "      <th></th>\n",
       "      <th>Auteur(s)</th>\n",
       "      <th>Titre</th>\n",
       "      <th>Edition</th>\n",
       "      <th>Date</th>\n",
       "      <th>ISBN</th>\n",
       "    </tr>\n",
       "  </thead>\n",
       "  <tbody>\n",
       "    <tr>\n",
       "      <th>0</th>\n",
       "      <td>Approche linguistico-mathématique</td>\n",
       "      <td>La Sémiotique formelle du folklore</td>\n",
       "      <td>Contributions de Tudor Bălănescu</td>\n",
       "      <td>1978</td>\n",
       "      <td>1683480177</td>\n",
       "    </tr>\n",
       "    <tr>\n",
       "      <th>1</th>\n",
       "      <td>De Paul Beaulier</td>\n",
       "      <td>Pauline</td>\n",
       "      <td>Harmattan</td>\n",
       "      <td>2005</td>\n",
       "      <td>1187920447</td>\n",
       "    </tr>\n",
       "    <tr>\n",
       "      <th>2</th>\n",
       "      <td>De Jacques Labescat</td>\n",
       "      <td>Guide des examens complémentaires</td>\n",
       "      <td>Lamarre</td>\n",
       "      <td>2008</td>\n",
       "      <td>1178198467</td>\n",
       "    </tr>\n",
       "    <tr>\n",
       "      <th>3</th>\n",
       "      <td>De Stéphane Benhamou</td>\n",
       "      <td>Les années 60 pour les nuls</td>\n",
       "      <td>First</td>\n",
       "      <td>2009</td>\n",
       "      <td>1181494187</td>\n",
       "    </tr>\n",
       "    <tr>\n",
       "      <th>4</th>\n",
       "      <td>De Colette Gouvion</td>\n",
       "      <td>Aveyron</td>\n",
       "      <td>Illustrations de Brigitte Julien</td>\n",
       "      <td>2002</td>\n",
       "      <td>1093936187</td>\n",
       "    </tr>\n",
       "  </tbody>\n",
       "</table>\n",
       "</div>"
      ],
      "text/plain": [
       "                           Auteur(s)                               Titre  \\\n",
       "0  Approche linguistico-mathématique  La Sémiotique formelle du folklore   \n",
       "1                   De Paul Beaulier                             Pauline   \n",
       "2                De Jacques Labescat   Guide des examens complémentaires   \n",
       "3               De Stéphane Benhamou         Les années 60 pour les nuls   \n",
       "4                 De Colette Gouvion                             Aveyron   \n",
       "\n",
       "                            Edition  Date        ISBN  \n",
       "0  Contributions de Tudor Bălănescu  1978  1683480177  \n",
       "1                         Harmattan  2005  1187920447  \n",
       "2                           Lamarre  2008  1178198467  \n",
       "3                             First  2009  1181494187  \n",
       "4  Illustrations de Brigitte Julien  2002  1093936187  "
      ]
     },
     "execution_count": 278,
     "metadata": {},
     "output_type": "execute_result"
    }
   ],
   "source": [
    "df= pd.read_csv('test_lib.csv')\n",
    "df.head()"
   ]
  },
  {
   "cell_type": "code",
   "execution_count": null,
   "id": "820d6863",
   "metadata": {},
   "outputs": [],
   "source": [
    "# df= pd.read_csv('test_lib.csv')\n",
    "# df.head()"
   ]
  },
  {
   "cell_type": "code",
   "execution_count": 228,
   "id": "0114502c",
   "metadata": {},
   "outputs": [],
   "source": [
    "# Changer la columne en mettant des valeurs absolues \n",
    "# df['ISBN'] = df['ISBN'].abs()\n",
    "# df.to_csv(\"libraires_webscrap.csv\", index=False)"
   ]
  },
  {
   "cell_type": "code",
   "execution_count": 245,
   "id": "cf1baaca",
   "metadata": {},
   "outputs": [
    {
     "name": "stdout",
     "output_type": "stream",
     "text": [
      "<class 'pandas.core.frame.DataFrame'>\n",
      "RangeIndex: 9240 entries, 0 to 9239\n",
      "Data columns (total 5 columns):\n",
      " #   Column     Non-Null Count  Dtype \n",
      "---  ------     --------------  ----- \n",
      " 0   Auteur(s)  9240 non-null   object\n",
      " 1   Titre      9240 non-null   object\n",
      " 2   Edition    9240 non-null   object\n",
      " 3   Date       9240 non-null   int32 \n",
      " 4   ISBN       9240 non-null   int64 \n",
      "dtypes: int32(1), int64(1), object(3)\n",
      "memory usage: 325.0+ KB\n"
     ]
    }
   ],
   "source": [
    "df.info()"
   ]
  },
  {
   "cell_type": "markdown",
   "id": "c1375162",
   "metadata": {},
   "source": [
    "## Convertir la colonne ISBN en int"
   ]
  },
  {
   "cell_type": "code",
   "execution_count": 230,
   "id": "f9dd2d3d",
   "metadata": {},
   "outputs": [],
   "source": [
    "# # Filtre pour sélectionner les lignes en str\n",
    "# filtre = df[df['Date'].apply(type) == str]\n",
    "# filtre\n",
    "\n",
    "# # Avec les index on peut les supprimer\n",
    "# df.drop([], axis=0, inplace=True)\n",
    "# df.to_csv(\"biblio_leslibraires.csv\", index=False)\n",
    "# df = pd.read_csv(\"biblio_leslibraires.csv\")\n",
    "\n",
    "# # Enfin, on peut convertir la colonne en int\n",
    "# df['Date'] = df['Date'].astype(int)"
   ]
  },
  {
   "cell_type": "markdown",
   "id": "7a554da3",
   "metadata": {},
   "source": [
    "### On récupère l'index des lignes dont l'ISBN n'est pas un nombre"
   ]
  },
  {
   "cell_type": "code",
   "execution_count": 747,
   "id": "5fa18251",
   "metadata": {},
   "outputs": [],
   "source": [
    "test=[]\n",
    "index = 0\n",
    "liste_index = [] \n",
    "\n",
    "for isbn in df['ISBN']:\n",
    "    try :\n",
    "        x = (int(isbn))\n",
    "        index +=1\n",
    "        \n",
    "    except :\n",
    "        liste_index.append(index)\n",
    "        index +=1"
   ]
  },
  {
   "cell_type": "code",
   "execution_count": 748,
   "id": "64cd14c9",
   "metadata": {},
   "outputs": [
    {
     "data": {
      "text/plain": [
       "809"
      ]
     },
     "execution_count": 748,
     "metadata": {},
     "output_type": "execute_result"
    }
   ],
   "source": [
    "# longueur de la liste\n",
    "len(liste_index)"
   ]
  },
  {
   "cell_type": "markdown",
   "id": "86994294",
   "metadata": {},
   "source": [
    "### Suppression des mauvais ISBN"
   ]
  },
  {
   "cell_type": "code",
   "execution_count": 751,
   "id": "65d2c18b",
   "metadata": {},
   "outputs": [],
   "source": [
    "df = pd.read_csv(\"df_bdd.csv\")"
   ]
  },
  {
   "cell_type": "code",
   "execution_count": 749,
   "id": "679c2043",
   "metadata": {},
   "outputs": [
    {
     "data": {
      "application/vnd.jupyter.widget-view+json": {
       "model_id": "b9712165c0274ff8ad09d12824bdb2a9",
       "version_major": 2,
       "version_minor": 0
      },
      "text/plain": [
       "  0%|          | 0/809 [00:00<?, ?it/s]"
      ]
     },
     "metadata": {},
     "output_type": "display_data"
    }
   ],
   "source": [
    " for x in tqdm_notebook(liste_index) :\n",
    "        df.drop([x], axis=0, inplace=True)\n",
    "        df.to_csv(\"df_bdd.csv\", index=False)"
   ]
  },
  {
   "cell_type": "code",
   "execution_count": 234,
   "id": "46f21133",
   "metadata": {},
   "outputs": [],
   "source": [
    "# df = pd.read_csv(\"libraires_webscrap.csv\")\n",
    "# df"
   ]
  },
  {
   "cell_type": "code",
   "execution_count": 752,
   "id": "0d4ac1dd",
   "metadata": {},
   "outputs": [],
   "source": [
    "# # # Enfin, on peut convertir la colonne en int\n",
    "df['ISBN'] = df['ISBN'].astype(int)"
   ]
  },
  {
   "cell_type": "code",
   "execution_count": 753,
   "id": "b8347b2e",
   "metadata": {},
   "outputs": [
    {
     "data": {
      "text/plain": [
       " 1919          6\n",
       " 253965907     2\n",
       " 1928451399    2\n",
       " 630653877     2\n",
       " 1943698989    2\n",
       "              ..\n",
       " 1089638327    1\n",
       " 1865137437    1\n",
       " 1227886287    1\n",
       " 1195195527    1\n",
       "-1083466777    1\n",
       "Name: ISBN, Length: 13772, dtype: int64"
      ]
     },
     "execution_count": 753,
     "metadata": {},
     "output_type": "execute_result"
    }
   ],
   "source": [
    "df['ISBN'].value_counts()"
   ]
  },
  {
   "cell_type": "code",
   "execution_count": 754,
   "id": "52258491",
   "metadata": {},
   "outputs": [],
   "source": [
    "# Valeurs absolues\n",
    "\n",
    "df['ISBN'] = abs(df['ISBN'])"
   ]
  },
  {
   "cell_type": "code",
   "execution_count": 756,
   "id": "71f190c6",
   "metadata": {},
   "outputs": [
    {
     "data": {
      "text/plain": [
       "13803      70289627\n",
       "13804    1888201907\n",
       "13805    1915009487\n",
       "13806    1865209677\n",
       "13807    1715449957\n",
       "13808     557929529\n",
       "13809    1229838297\n",
       "13810    1192760127\n",
       "13811    1180699247\n",
       "13812    1639493957\n",
       "13813    1094536307\n",
       "13814    1093436807\n",
       "13815    1089219817\n",
       "13816    1085414387\n",
       "13817    1067419727\n",
       "13818    1020379987\n",
       "13819    1019947377\n",
       "13820    1682386407\n",
       "13821    1190188357\n",
       "13822    1062676677\n",
       "13823    1039847427\n",
       "13824    1805014167\n",
       "13825    1668486517\n",
       "13826    1651918577\n",
       "13827    1645455167\n",
       "13828    1585369097\n",
       "13829    1430498697\n",
       "13830    1131888827\n",
       "13831    1240587279\n",
       "13832    1094269247\n",
       "13833    1091878547\n",
       "13834    1066889377\n",
       "13835    1026077327\n",
       "13836    1092125337\n",
       "13837    1854291897\n",
       "13838     984032797\n",
       "13839    1224494677\n",
       "13840    1221057417\n",
       "13841    1187485527\n",
       "13842    1094389037\n",
       "13843    1089529277\n",
       "13844    1082367327\n",
       "13845     254234067\n",
       "13846    1723742447\n",
       "13847    1709342407\n",
       "13848    1094197547\n",
       "13849    1682363227\n",
       "13850    1914951847\n",
       "13851    1843673987\n",
       "13852    1083466777\n",
       "Name: ISBN, dtype: int32"
      ]
     },
     "execution_count": 756,
     "metadata": {},
     "output_type": "execute_result"
    }
   ],
   "source": [
    "df['ISBN'].tail(50)"
   ]
  },
  {
   "cell_type": "markdown",
   "id": "3ed28a3a",
   "metadata": {},
   "source": [
    "### Suppression des ISBN différent de 978"
   ]
  },
  {
   "cell_type": "code",
   "execution_count": 757,
   "id": "3883a92d",
   "metadata": {},
   "outputs": [
    {
     "data": {
      "text/plain": [
       "13851"
      ]
     },
     "execution_count": 757,
     "metadata": {},
     "output_type": "execute_result"
    }
   ],
   "source": [
    "df[df['ISBN'] <= 9780000000000].value_counts().sum()"
   ]
  },
  {
   "cell_type": "code",
   "execution_count": 94,
   "id": "bad0034e",
   "metadata": {},
   "outputs": [],
   "source": [
    "# on récupère l'index \n",
    "index = df.index\n",
    "# on récupère les mauvais ISBN\n",
    "condition = df[\"ISBN\"] < 9780000000000\n",
    "# on récupère les index\n",
    "isbn_supp = index[condition]"
   ]
  },
  {
   "cell_type": "markdown",
   "id": "b67d8a59",
   "metadata": {},
   "source": [
    "#### Suppression"
   ]
  },
  {
   "cell_type": "code",
   "execution_count": 95,
   "id": "ea71b332",
   "metadata": {},
   "outputs": [
    {
     "data": {
      "application/vnd.jupyter.widget-view+json": {
       "model_id": "008c32e28e6448c18e5af002f65c22e1",
       "version_major": 2,
       "version_minor": 0
      },
      "text/plain": [
       "  0%|          | 0/196 [00:00<?, ?it/s]"
      ]
     },
     "metadata": {},
     "output_type": "display_data"
    }
   ],
   "source": [
    " for x in tqdm_notebook(isbn_supp) :\n",
    "        df.drop([x], axis=0, inplace=True)\n",
    "        df.to_csv(\"test_lib.csv\", index=False)"
   ]
  },
  {
   "cell_type": "markdown",
   "id": "6d3b9e93",
   "metadata": {},
   "source": [
    "---"
   ]
  },
  {
   "cell_type": "markdown",
   "id": "2e51899c",
   "metadata": {},
   "source": [
    "### Convertir la colonne 'Date' en int "
   ]
  },
  {
   "cell_type": "markdown",
   "id": "e42eab69",
   "metadata": {},
   "source": [
    "#### On récupère l'index des lignes dont l'ISBN n'est pas un nombre"
   ]
  },
  {
   "cell_type": "code",
   "execution_count": 240,
   "id": "1ba780eb",
   "metadata": {},
   "outputs": [],
   "source": [
    "test=[]\n",
    "index = 0\n",
    "liste_index = [] \n",
    "\n",
    "for date in df['Date']:\n",
    "    try :\n",
    "        x = (int(date))\n",
    "        index +=1\n",
    "        \n",
    "    except :\n",
    "        liste_index.append(index)\n",
    "        index +=1"
   ]
  },
  {
   "cell_type": "code",
   "execution_count": 241,
   "id": "ff55e360",
   "metadata": {},
   "outputs": [
    {
     "data": {
      "text/plain": [
       "268"
      ]
     },
     "execution_count": 241,
     "metadata": {},
     "output_type": "execute_result"
    }
   ],
   "source": [
    "len(liste_index)"
   ]
  },
  {
   "cell_type": "markdown",
   "id": "d5f561ae",
   "metadata": {},
   "source": [
    "#### Suppression des mauvaises dates"
   ]
  },
  {
   "cell_type": "code",
   "execution_count": 242,
   "id": "51acc060",
   "metadata": {},
   "outputs": [
    {
     "data": {
      "application/vnd.jupyter.widget-view+json": {
       "model_id": "",
       "version_major": 2,
       "version_minor": 0
      },
      "text/plain": [
       "  0%|          | 0/268 [00:00<?, ?it/s]"
      ]
     },
     "metadata": {},
     "output_type": "display_data"
    }
   ],
   "source": [
    " for x in tqdm_notebook(liste_index) :\n",
    "        df.drop([x], axis=0, inplace=True)\n",
    "        df.to_csv(\"test_lib.csv\", index=False)"
   ]
  },
  {
   "cell_type": "code",
   "execution_count": 243,
   "id": "5c54c9b2",
   "metadata": {},
   "outputs": [],
   "source": [
    "df = pd.read_csv(\"test_lib.csv\")"
   ]
  },
  {
   "cell_type": "code",
   "execution_count": 244,
   "id": "c684e0ad",
   "metadata": {},
   "outputs": [],
   "source": [
    "# conversion de la colonne en int\n",
    "df['Date'] = df['Date'].astype(int)"
   ]
  },
  {
   "cell_type": "markdown",
   "id": "b62ed79f",
   "metadata": {},
   "source": [
    "---"
   ]
  },
  {
   "cell_type": "markdown",
   "id": "3a37ff5f",
   "metadata": {},
   "source": [
    "## Concaténation 2 dataframes"
   ]
  },
  {
   "cell_type": "code",
   "execution_count": 445,
   "id": "e73324b2",
   "metadata": {},
   "outputs": [
    {
     "name": "stdout",
     "output_type": "stream",
     "text": [
      "<class 'pandas.core.frame.DataFrame'>\n",
      "RangeIndex: 3043 entries, 0 to 3042\n",
      "Data columns (total 5 columns):\n",
      " #   Column     Non-Null Count  Dtype \n",
      "---  ------     --------------  ----- \n",
      " 0   Auteur(s)  3043 non-null   object\n",
      " 1   Titre      3043 non-null   object\n",
      " 2   Edition    3043 non-null   object\n",
      " 3   Date       3043 non-null   int64 \n",
      " 4   ISBN       3043 non-null   int64 \n",
      "dtypes: int64(2), object(3)\n",
      "memory usage: 119.0+ KB\n"
     ]
    }
   ],
   "source": [
    "# importing pandas\n",
    "import pandas as pd\n",
    "  \n",
    "# merging two csv files\n",
    "df = pd.concat(\n",
    "    map(pd.read_csv, ['libraires_webscrap_1.csv', 'libraires_webscrap.csv']), ignore_index=True)\n",
    "\n",
    "# Sauvegarde\n",
    "df.to_csv(\"libraires_webscrap_3.csv\", index=False)\n",
    "\n",
    "df.info()"
   ]
  },
  {
   "cell_type": "markdown",
   "id": "33bc7a1b",
   "metadata": {},
   "source": [
    "---"
   ]
  },
  {
   "cell_type": "markdown",
   "id": "31a2cfb0",
   "metadata": {},
   "source": [
    "## Statistiques et grapiques"
   ]
  },
  {
   "cell_type": "code",
   "execution_count": 256,
   "id": "5e8e85ba",
   "metadata": {},
   "outputs": [
    {
     "name": "stdout",
     "output_type": "stream",
     "text": [
      "<class 'pandas.core.frame.DataFrame'>\n",
      "RangeIndex: 9240 entries, 0 to 9239\n",
      "Data columns (total 5 columns):\n",
      " #   Column     Non-Null Count  Dtype \n",
      "---  ------     --------------  ----- \n",
      " 0   Auteur(s)  9240 non-null   object\n",
      " 1   Titre      9240 non-null   object\n",
      " 2   Edition    9240 non-null   object\n",
      " 3   Date       9240 non-null   int64 \n",
      " 4   ISBN       9240 non-null   int64 \n",
      "dtypes: int64(2), object(3)\n",
      "memory usage: 361.1+ KB\n"
     ]
    }
   ],
   "source": [
    "df.info()"
   ]
  },
  {
   "cell_type": "markdown",
   "id": "feb01341",
   "metadata": {},
   "source": [
    "### Suppression des doublons"
   ]
  },
  {
   "cell_type": "code",
   "execution_count": 257,
   "id": "d6d95f22",
   "metadata": {},
   "outputs": [],
   "source": [
    "# Supprimer les doublons\n",
    "df.drop_duplicates(inplace=True)\n",
    "df.to_csv(\"test_lib.csv\", index=False)"
   ]
  },
  {
   "cell_type": "code",
   "execution_count": 261,
   "id": "38ae814c",
   "metadata": {
    "scrolled": true
   },
   "outputs": [
    {
     "name": "stdout",
     "output_type": "stream",
     "text": [
      "<class 'pandas.core.frame.DataFrame'>\n",
      "Int64Index: 9231 entries, 0 to 9239\n",
      "Data columns (total 5 columns):\n",
      " #   Column     Non-Null Count  Dtype \n",
      "---  ------     --------------  ----- \n",
      " 0   Auteur(s)  9231 non-null   object\n",
      " 1   Titre      9231 non-null   object\n",
      " 2   Edition    9231 non-null   object\n",
      " 3   Date       9231 non-null   int64 \n",
      " 4   ISBN       9231 non-null   int64 \n",
      "dtypes: int64(2), object(3)\n",
      "memory usage: 432.7+ KB\n"
     ]
    }
   ],
   "source": [
    "df.info()"
   ]
  },
  {
   "cell_type": "markdown",
   "id": "9002ebc4",
   "metadata": {},
   "source": [
    "### Moyenne sur la Date"
   ]
  },
  {
   "cell_type": "code",
   "execution_count": 259,
   "id": "c1652718",
   "metadata": {},
   "outputs": [
    {
     "name": "stdout",
     "output_type": "stream",
     "text": [
      "Moyenne des années : 1997.482\n",
      "Année minimale : 2\n",
      "Année maximale : 2022\n"
     ]
    }
   ],
   "source": [
    "print(\"Moyenne des années :\", round(df.Date.mean(), 3))\n",
    "print(\"Année minimale :\", df.Date.min())\n",
    "print(\"Année maximale :\", df.Date.max())"
   ]
  },
  {
   "cell_type": "markdown",
   "id": "64b76aec",
   "metadata": {},
   "source": [
    "#### Suppression des valeurs aberrantes ('Date')"
   ]
  },
  {
   "cell_type": "code",
   "execution_count": 260,
   "id": "3c0727a8",
   "metadata": {},
   "outputs": [
    {
     "data": {
      "application/vnd.jupyter.widget-view+json": {
       "model_id": "72f7d61d24674d0983dc83e3b24afe88",
       "version_major": 2,
       "version_minor": 0
      },
      "text/plain": [
       "  0%|          | 0/9 [00:00<?, ?it/s]"
      ]
     },
     "metadata": {},
     "output_type": "display_data"
    }
   ],
   "source": [
    "# on récupère l'index \n",
    "index = df.index\n",
    "# on récupère les mauvais ISBN\n",
    "condition = df[\"Date\"] < 1500\n",
    "# on récupère les index\n",
    "date_supp = index[condition]\n",
    "\n",
    "for x in tqdm_notebook(date_supp) :\n",
    "        df.drop([x], axis=0, inplace=True)\n",
    "        df.to_csv(\"test_lib.csv\", index=False)"
   ]
  },
  {
   "cell_type": "markdown",
   "id": "a28c37fd",
   "metadata": {},
   "source": [
    "### Maison d'édition"
   ]
  },
  {
   "cell_type": "markdown",
   "id": "f6aa03f8",
   "metadata": {},
   "source": [
    "#### Nombre de maisons d'édition différentes :"
   ]
  },
  {
   "cell_type": "code",
   "execution_count": 262,
   "id": "34c393c0",
   "metadata": {},
   "outputs": [
    {
     "data": {
      "text/plain": [
       "9231"
      ]
     },
     "execution_count": 262,
     "metadata": {},
     "output_type": "execute_result"
    }
   ],
   "source": [
    "df['Edition'].value_counts().sum()"
   ]
  },
  {
   "cell_type": "code",
   "execution_count": 263,
   "id": "cc39fc90",
   "metadata": {},
   "outputs": [
    {
     "data": {
      "text/plain": [
       "Gallimard                           319\n",
       "L'Harmattan                         227\n",
       "Harmattan                           169\n",
       "Seuil                               150\n",
       "Le Livre de poche                   125\n",
       "Flammarion                          110\n",
       "Nathan                               93\n",
       "J'ai Lu                              91\n",
       "Presses universitaires de France     86\n",
       "Points                               82\n",
       "Name: Edition, dtype: int64"
      ]
     },
     "execution_count": 263,
     "metadata": {},
     "output_type": "execute_result"
    }
   ],
   "source": [
    "df['Edition'].value_counts().head(10)"
   ]
  },
  {
   "cell_type": "code",
   "execution_count": 264,
   "id": "9d29a917",
   "metadata": {},
   "outputs": [
    {
     "data": {
      "text/plain": [
       "<AxesSubplot:ylabel='Edition'>"
      ]
     },
     "execution_count": 264,
     "metadata": {},
     "output_type": "execute_result"
    },
    {
     "data": {
      "image/png": "[encoded data removed]",
      "text/plain": [
       "<Figure size 432x288 with 1 Axes>"
      ]
     },
     "metadata": {},
     "output_type": "display_data"
    }
   ],
   "source": [
    "df['Edition'].value_counts().head(20).plot.pie()"
   ]
  },
  {
   "cell_type": "markdown",
   "id": "96a8618c",
   "metadata": {},
   "source": [
    "## Modification de l'Edition"
   ]
  },
  {
   "cell_type": "code",
   "execution_count": 265,
   "id": "ead37c24",
   "metadata": {},
   "outputs": [],
   "source": [
    "# replace\n",
    "df['Edition'] = df['Edition'].str.replace(\"Éditions Eska\", \"Eska\", regex=False)\n",
    "\n",
    "# Sauvegarde du csv \n",
    "df.to_csv(\"test_lib.csv\", index=False)"
   ]
  },
  {
   "cell_type": "code",
   "execution_count": 266,
   "id": "f96a9b82",
   "metadata": {},
   "outputs": [
    {
     "data": {
      "text/plain": [
       "Gallimard            319\n",
       "L'Harmattan          227\n",
       "Harmattan            169\n",
       "Seuil                150\n",
       "Le Livre de poche    125\n",
       "                    ... \n",
       "Fixot                  6\n",
       "France-Empire          6\n",
       "Anne Carrière          6\n",
       "LexisNexis             6\n",
       "Berger-Levrault        6\n",
       "Name: Edition, Length: 250, dtype: int64"
      ]
     },
     "execution_count": 266,
     "metadata": {},
     "output_type": "execute_result"
    }
   ],
   "source": [
    "df['Edition'].value_counts().head(250)"
   ]
  },
  {
   "cell_type": "code",
   "execution_count": 267,
   "id": "374726e2",
   "metadata": {},
   "outputs": [],
   "source": [
    "# # remplacer avec l'index\n",
    "# df.loc[[1552,1584,1641,1665,1686,1688,1721,1763,1764,1790,1791,1807,1812,1821,1833], \"Edition\"] = \"Harmattant ('L')\"\n",
    "\n",
    "# # Sauvegarde du csv \n",
    "# df.to_csv(\"libraires_webscrap.csv\", index=False)"
   ]
  },
  {
   "cell_type": "markdown",
   "id": "c9766d73",
   "metadata": {},
   "source": [
    "## 'Auteur'"
   ]
  },
  {
   "cell_type": "code",
   "execution_count": 268,
   "id": "67596055",
   "metadata": {},
   "outputs": [
    {
     "data": {
      "text/plain": [
       "9231"
      ]
     },
     "execution_count": 268,
     "metadata": {},
     "output_type": "execute_result"
    }
   ],
   "source": [
    "df['Auteur(s)'].value_counts().sum()"
   ]
  },
  {
   "cell_type": "code",
   "execution_count": 269,
   "id": "f94d2eab",
   "metadata": {},
   "outputs": [
    {
     "data": {
      "text/plain": [
       "<AxesSubplot:ylabel='Auteur(s)'>"
      ]
     },
     "execution_count": 269,
     "metadata": {},
     "output_type": "execute_result"
    },
    {
     "data": {
      "image/png": "[encoded data removed]",
      "text/plain": [
       "<Figure size 432x288 with 1 Axes>"
      ]
     },
     "metadata": {},
     "output_type": "display_data"
    }
   ],
   "source": [
    "df['Auteur(s)'].value_counts().head(20).plot.pie()"
   ]
  },
  {
   "cell_type": "markdown",
   "id": "4ccd145d",
   "metadata": {},
   "source": [
    "## Modifications 'Auteur'"
   ]
  },
  {
   "cell_type": "code",
   "execution_count": 197,
   "id": "f37fa3f4",
   "metadata": {},
   "outputs": [],
   "source": [
    "# replace\n",
    "df['Auteur(s)'] = df['Auteur(s)'].str.replace(\".\", \"None\", regex=False)\n",
    "\n",
    "# Sauvegarde du csv \n",
    "df.to_csv(\"test_lib.csv\", index=False)"
   ]
  },
  {
   "cell_type": "code",
   "execution_count": 198,
   "id": "1ab68196",
   "metadata": {},
   "outputs": [
    {
     "data": {
      "text/plain": [
       "None                                                  276\n",
       "Collectif                                             106\n",
       "auzias/alNone dominique                                11\n",
       "Barbara Cartland                                        5\n",
       "Phaidon                                                 4\n",
       "De Jean d'Ormesson                                      4\n",
       "De James Hadley Chase                                   3\n",
       "De Bernard Vargaftig                                    3\n",
       "De Prosper Mérimée                                      3\n",
       "De Manufacture française des pneumatiques Michelin      3\n",
       "Name: Auteur(s), dtype: int64"
      ]
     },
     "execution_count": 198,
     "metadata": {},
     "output_type": "execute_result"
    }
   ],
   "source": [
    "df['Auteur(s)'].value_counts().head(10)"
   ]
  },
  {
   "cell_type": "code",
   "execution_count": 201,
   "id": "a9a3c10c",
   "metadata": {},
   "outputs": [
    {
     "data": {
      "text/html": [
       "<div>\n",
       "<style scoped>\n",
       "    .dataframe tbody tr th:only-of-type {\n",
       "        vertical-align: middle;\n",
       "    }\n",
       "\n",
       "    .dataframe tbody tr th {\n",
       "        vertical-align: top;\n",
       "    }\n",
       "\n",
       "    .dataframe thead th {\n",
       "        text-align: right;\n",
       "    }\n",
       "</style>\n",
       "<table border=\"1\" class=\"dataframe\">\n",
       "  <thead>\n",
       "    <tr style=\"text-align: right;\">\n",
       "      <th></th>\n",
       "      <th>Auteur(s)</th>\n",
       "      <th>Titre</th>\n",
       "      <th>Edition</th>\n",
       "      <th>Date</th>\n",
       "      <th>ISBN</th>\n",
       "    </tr>\n",
       "  </thead>\n",
       "  <tbody>\n",
       "    <tr>\n",
       "      <th>12</th>\n",
       "      <td>None</td>\n",
       "      <td>Pogrom</td>\n",
       "      <td>Flammarion</td>\n",
       "      <td>2004</td>\n",
       "      <td>9782080686541</td>\n",
       "    </tr>\n",
       "    <tr>\n",
       "      <th>30</th>\n",
       "      <td>None</td>\n",
       "      <td>Tom est mort</td>\n",
       "      <td>P.O.L.</td>\n",
       "      <td>2007</td>\n",
       "      <td>9782846822091</td>\n",
       "    </tr>\n",
       "  </tbody>\n",
       "</table>\n",
       "</div>"
      ],
      "text/plain": [
       "   Auteur(s)         Titre     Edition  Date           ISBN\n",
       "12      None        Pogrom  Flammarion  2004  9782080686541\n",
       "30      None  Tom est mort      P.O.L.  2007  9782846822091"
      ]
     },
     "execution_count": 201,
     "metadata": {},
     "output_type": "execute_result"
    }
   ],
   "source": [
    "filtre = df[df['Auteur(s)'] == 'None']\n",
    "filtre.head(2)"
   ]
  },
  {
   "cell_type": "markdown",
   "id": "c7176598",
   "metadata": {},
   "source": [
    "---"
   ]
  },
  {
   "cell_type": "markdown",
   "id": "e4e290a3",
   "metadata": {},
   "source": [
    "# Récupérer informations via les librairies python"
   ]
  },
  {
   "cell_type": "code",
   "execution_count": 207,
   "id": "c258f90c",
   "metadata": {},
   "outputs": [
    {
     "data": {
      "text/plain": [
       "3695"
      ]
     },
     "execution_count": 207,
     "metadata": {},
     "output_type": "execute_result"
    }
   ],
   "source": [
    "liste_ISBN = [x for x in df['ISBN']]\n",
    "len(liste_ISBN)"
   ]
  },
  {
   "cell_type": "code",
   "execution_count": 209,
   "id": "0fe40e2c",
   "metadata": {},
   "outputs": [],
   "source": [
    "import pandas as pd\n",
    "from isbnlib import canonical, meta\n",
    "import csv\n",
    "from tqdm.notebook import tqdm_notebook"
   ]
  },
  {
   "cell_type": "code",
   "execution_count": 210,
   "id": "664cf69a",
   "metadata": {},
   "outputs": [
    {
     "name": "stdout",
     "output_type": "stream",
     "text": [
      "fichier créé\n"
     ]
    }
   ],
   "source": [
    "## Création du csv \n",
    "header = ['Auteur(s)', 'Titre', 'Edition', 'Date', 'ISBN']\n",
    "with open(r'libraires_ISBN.csv', 'a') as f:\n",
    "    writer = csv.writer(f)\n",
    "        # write the header\n",
    "    writer.writerow(header)\n",
    "    print(\"fichier créé\")"
   ]
  },
  {
   "cell_type": "code",
   "execution_count": 215,
   "id": "336fbf3b",
   "metadata": {},
   "outputs": [
    {
     "data": {
      "application/vnd.jupyter.widget-view+json": {
       "model_id": "f48020b42fab471cb93327f1cd4b3e54",
       "version_major": 2,
       "version_minor": 0
      },
      "text/plain": [
       "  0%|          | 0/3695 [00:00<?, ?it/s]"
      ]
     },
     "metadata": {},
     "output_type": "display_data"
    },
    {
     "name": "stdout",
     "output_type": "stream",
     "text": [
      "ISBN introuvable 9782290040461\n",
      "ISBN introuvable 9782221026991\n",
      "ISBN introuvable 9783791334141\n",
      "ISBN introuvable 9782737654121\n",
      "ISBN introuvable 9782850085291\n",
      "ISBN introuvable 9782070297931\n",
      "ISBN introuvable 9782211015691\n",
      "ISBN introuvable 9782282300771\n",
      "ISBN introuvable 9782735289141\n",
      "ISBN introuvable 9782081213401\n",
      "ISBN introuvable 9782207221211\n",
      "ISBN introuvable 9782876146051\n",
      "ISBN introuvable 9782700741711\n",
      "ISBN introuvable 9782070264681\n",
      "ISBN introuvable 9782873881351\n",
      "ISBN introuvable 9782070254491\n",
      "ISBN introuvable 9782200906641\n",
      "ISBN introuvable 9782503504971\n",
      "ISBN introuvable 9782130467441\n",
      "ISBN introuvable 9782070225651\n",
      "ISBN introuvable 9782845032361\n",
      "ISBN introuvable 9782742779451\n",
      "ISBN introuvable 9782842786281\n",
      "ISBN introuvable 9782850900181\n",
      "ISBN introuvable 9782070236671\n",
      "ISBN introuvable 9782748165661\n",
      "ISBN introuvable 9782304001921\n",
      "ISBN introuvable 9782070230181\n",
      "ISBN introuvable 9782130566861\n",
      "ISBN introuvable 9782723457071\n",
      "ISBN introuvable 9782020029841\n",
      "ISBN introuvable 9782911698491\n",
      "ISBN introuvable 9782879390161\n",
      "ISBN introuvable 9782746905641\n",
      "ISBN introuvable 9782748330151\n",
      "ISBN introuvable 9782080112101\n",
      "ISBN introuvable 9782868693921\n",
      "ISBN introuvable 9782070171101\n",
      "ISBN introuvable 9782930449081\n",
      "ISBN introuvable 9782130534921\n",
      "ISBN introuvable 9780198613381\n",
      "ISBN introuvable 9782130559221\n",
      "ISBN introuvable 9782213597461\n",
      "ISBN introuvable 9782737654541\n",
      "ISBN introuvable 9782876830981\n",
      "ISBN introuvable 9788873015291\n",
      "ISBN introuvable 9788496820111\n",
      "ISBN introuvable 9782742424351\n",
      "ISBN introuvable 9782844947581\n",
      "ISBN introuvable 9782220060101\n",
      "ISBN introuvable 9782253006701\n",
      "ISBN introuvable 9782707303301\n",
      "ISBN introuvable 9782872420841\n",
      "ISBN introuvable 9782746903951\n",
      "ISBN introuvable 9782130338451\n",
      "ISBN introuvable 9782748311471\n",
      "ISBN introuvable 9782717853261\n",
      "ISBN introuvable 9782864604501\n",
      "ISBN introuvable 9782746911581\n",
      "ISBN introuvable 9782020043151\n",
      "ISBN introuvable 9782070255481\n",
      "ISBN introuvable 9782081605701\n",
      "ISBN introuvable 9782020329231\n",
      "ISBN introuvable 9782082664011\n",
      "ISBN introuvable 9782091836461\n",
      "ISBN introuvable 9782748178821\n",
      "ISBN introuvable 9782070166541\n",
      "ISBN introuvable 9782070364831\n",
      "ISBN introuvable 9782221028001\n",
      "ISBN introuvable 9782713202841\n",
      "ISBN introuvable 9782713800481\n",
      "ISBN introuvable 9782070172191\n",
      "ISBN introuvable 9782070191901\n",
      "ISBN introuvable 9782207243961\n",
      "ISBN introuvable 9782252007051\n",
      "ISBN introuvable 9782070362271\n",
      "ISBN introuvable 9782737317781\n",
      "ISBN introuvable 9782091850641\n",
      "ISBN introuvable 9782130490081\n",
      "ISBN introuvable 9782737652141\n",
      "ISBN introuvable 9782738454461\n",
      "ISBN introuvable 9782742411481\n",
      "ISBN introuvable 9782717723311\n",
      "ISBN introuvable 9782737338991\n",
      "ISBN introuvable 9782304014341\n",
      "ISBN introuvable 9782040288471\n",
      "ISBN introuvable 9782748165241\n",
      "ISBN introuvable 9782911464041\n",
      "ISBN introuvable 9782070470631\n",
      "ISBN introuvable 9782221025611\n",
      "ISBN introuvable 9782862747101\n",
      "ISBN introuvable 9782868838261\n",
      "ISBN introuvable 9782070188161\n",
      "ISBN introuvable 9782081615021\n",
      "ISBN introuvable 9782226021601\n",
      "ISBN introuvable 9782854461411\n",
      "ISBN introuvable 9782070353231\n",
      "ISBN introuvable 9782304016741\n",
      "ISBN introuvable 9782351500101\n",
      "ISBN introuvable 9782746913561\n",
      "ISBN introuvable 9782864605461\n",
      "ISBN introuvable 9782209063031\n",
      "ISBN introuvable 9782748324181\n",
      "ISBN introuvable 9782910957681\n",
      "ISBN introuvable 9782700703351\n",
      "ISBN introuvable 9782070225781\n",
      "ISBN introuvable 9782290030721\n",
      "ISBN introuvable 9782745317971\n",
      "ISBN introuvable 9782020005241\n",
      "ISBN introuvable 9782070479061\n",
      "ISBN introuvable 9782746021891\n",
      "ISBN introuvable 9782701004211\n",
      "ISBN introuvable 9782707319951\n",
      "ISBN introuvable 9782746029941\n",
      "ISBN introuvable 9782070177271\n",
      "ISBN introuvable 9782738431011\n",
      "ISBN introuvable 9782844165831\n",
      "ISBN introuvable 9782226121301\n",
      "ISBN introuvable 9782841292011\n",
      "ISBN introuvable 9782844780621\n",
      "ISBN introuvable 9782903019181\n",
      "ISBN introuvable 9782857078791\n",
      "ISBN introuvable 9782020204521\n",
      "ISBN introuvable 9782841744701\n",
      "ISBN introuvable 9782710319221\n",
      "ISBN introuvable 9782221030431\n",
      "ISBN introuvable 9782748197341\n",
      "ISBN introuvable 9782951602021\n",
      "ISBN introuvable 9782211021081\n",
      "ISBN introuvable 9782283602041\n",
      "ISBN introuvable 9782873883751\n",
      "ISBN introuvable 9782876925151\n",
      "ISBN introuvable 9782130408451\n",
      "ISBN introuvable 9782884742061\n",
      "ISBN introuvable 9782915255591\n",
      "ISBN introuvable 9783314219061\n",
      "ISBN introuvable 9782737315701\n",
      "ISBN introuvable 9782914513111\n",
      "ISBN introuvable 9782866790271\n",
      "ISBN introuvable 9782070205301\n",
      "ISBN introuvable 9782070224111\n",
      "ISBN introuvable 9782203104501\n",
      "ISBN introuvable 9783314210471\n",
      "ISBN introuvable 9782830902181\n",
      "ISBN introuvable 9782203515031\n",
      "ISBN introuvable 9782858310531\n",
      "ISBN introuvable 9782290338131\n",
      "ISBN introuvable 9782070220991\n",
      "ISBN introuvable 9782748300581\n",
      "ISBN introuvable 9782842786441\n",
      "ISBN introuvable 9782203016781\n",
      "ISBN introuvable 9782711601721\n",
      "ISBN introuvable 9782746007321\n",
      "ISBN introuvable 9782900392041\n",
      "ISBN introuvable 9782070483051\n",
      "ISBN introuvable 9782874063381\n",
      "ISBN introuvable 9782209066971\n",
      "ISBN introuvable 9782842785611\n",
      "ISBN introuvable 9782900116081\n",
      "ISBN introuvable 9782503830001\n",
      "ISBN introuvable 9782740312971\n",
      "ISBN introuvable 9782748136661\n",
      "ISBN introuvable 9783775707671\n",
      "ISBN introuvable 9782856204771\n",
      "ISBN introuvable 9788497835701\n",
      "ISBN introuvable 9780714847641\n",
      "ISBN introuvable 9782842593681\n",
      "ISBN introuvable 9782864605041\n",
      "ISBN introuvable 9782070359301\n",
      "ISBN introuvable 9782877751001\n",
      "ISBN introuvable 9782070166121\n",
      "ISBN introuvable 9782070241361\n",
      "ISBN introuvable 9782070251971\n",
      "ISBN introuvable 9782080120991\n",
      "ISBN introuvable 9782070189021\n",
      "ISBN introuvable 9782070479641\n",
      "ISBN introuvable 9782735106721\n",
      "ISBN introuvable 9780978809881\n",
      "ISBN introuvable 9782204043021\n",
      "ISBN introuvable 9782304007121\n",
      "ISBN introuvable 9782748015041\n",
      "ISBN introuvable 9782020020671\n",
      "ISBN introuvable 9782070190171\n",
      "ISBN introuvable 9782070259151\n",
      "ISBN introuvable 9782130507291\n",
      "ISBN introuvable 9782353250301\n",
      "ISBN introuvable 9783865212191\n",
      "ISBN introuvable 9782070211791\n",
      "ISBN introuvable 9782951821231\n",
      "ISBN introuvable 9782842541101\n",
      "ISBN introuvable 9782352475101\n",
      "ISBN introuvable 9782753008571\n",
      "ISBN introuvable 9782911794421\n",
      "ISBN introuvable 9783037330111\n",
      "ISBN introuvable 9782012098091\n",
      "ISBN introuvable 9782749804071\n",
      "ISBN introuvable 9782070216291\n",
      "ISBN introuvable 9782758300311\n",
      "ISBN introuvable 9782802702481\n",
      "ISBN introuvable 9782735206681\n",
      "ISBN introuvable 9782881080111\n",
      "ISBN introuvable 9782290025161\n",
      "ISBN introuvable 9782263035531\n",
      "ISBN introuvable 9780194595551\n",
      "ISBN introuvable 9782070230471\n",
      "ISBN introuvable 9782930353401\n",
      "ISBN introuvable 9782251600581\n",
      "ISBN introuvable 9782858022281\n",
      "ISBN introuvable 9782268066141\n",
      "ISBN introuvable 9782845035331\n",
      "ISBN introuvable 9782012004061\n",
      "ISBN introuvable 9782232121081\n",
      "ISBN introuvable 9782738474681\n",
      "ISBN introuvable 9782732431871\n",
      "ISBN introuvable 9782290049891\n",
      "ISBN introuvable 9782738456571\n",
      "ISBN introuvable 9782910957551\n",
      "ISBN introuvable 9782080830111\n",
      "ISBN introuvable 9782130323211\n",
      "ISBN introuvable 9782842785161\n",
      "ISBN introuvable 9782858780891\n",
      "ISBN introuvable 9789076886251\n",
      "ISBN introuvable 9782857331841\n",
      "ISBN introuvable 9782070266951\n",
      "ISBN introuvable 9782091874661\n",
      "ISBN introuvable 9782501048491\n",
      "ISBN introuvable 9782290032091\n",
      "ISBN introuvable 9782070370931\n",
      "ISBN introuvable 9782221014301\n",
      "ISBN introuvable 9782723436571\n",
      "ISBN introuvable 9782846160711\n",
      "ISBN introuvable 9782130368731\n",
      "ISBN introuvable 9782020031011\n",
      "ISBN introuvable 9782020020961\n",
      "ISBN introuvable 9782700710571\n",
      "ISBN introuvable 9782874590641\n",
      "ISBN introuvable 9782700705621\n",
      "ISBN introuvable 9782707156211\n",
      "ISBN introuvable 9782304005141\n",
      "ISBN introuvable 9782281113891\n",
      "ISBN introuvable 9782070784561\n",
      "ISBN introuvable 9782130306191\n",
      "ISBN introuvable 9782090315431\n",
      "ISBN introuvable 9782715203501\n",
      "ISBN introuvable 9782715206281\n",
      "ISBN introuvable 9782204035651\n",
      "ISBN introuvable 9782701003351\n",
      "ISBN introuvable 9782825129821\n",
      "ISBN introuvable 9782865031221\n",
      "ISBN introuvable 9782081603431\n",
      "ISBN introuvable 9782020217491\n",
      "ISBN introuvable 9782268048451\n",
      "ISBN introuvable 9782207280591\n",
      "ISBN introuvable 9782281112351\n",
      "ISBN introuvable 9782204035941\n",
      "ISBN introuvable 9782710313601\n",
      "ISBN introuvable 9782745312501\n",
      "ISBN introuvable 9782215096221\n",
      "ISBN introuvable 9782748193381\n",
      "ISBN introuvable 9782221033951\n",
      "ISBN introuvable 9782749803821\n",
      "ISBN introuvable 9789058562111\n",
      "ISBN introuvable 9782708706491\n",
      "ISBN introuvable 9782070189441\n",
      "ISBN introuvable 9782070102051\n"
     ]
    },
    {
     "name": "stdout",
     "output_type": "stream",
     "text": [
      "ISBN introuvable 9782702013601\n",
      "ISBN introuvable 9782748198201\n",
      "ISBN introuvable 9782746903531\n",
      "ISBN introuvable 9782070238101\n",
      "ISBN introuvable 9782859191931\n",
      "ISBN introuvable 9782910565701\n",
      "ISBN introuvable 9782701123691\n",
      "ISBN introuvable 9782747551861\n",
      "ISBN introuvable 9782130316671\n",
      "ISBN introuvable 9782252005071\n",
      "ISBN introuvable 9782713210471\n",
      "ISBN introuvable 9782874590221\n",
      "ISBN introuvable 9782070284771\n",
      "ISBN introuvable 9782207281871\n",
      "ISBN introuvable 9782707304391\n",
      "ISBN introuvable 9782203934351\n",
      "ISBN introuvable 9782254685561\n",
      "ISBN introuvable 9782748305821\n",
      "ISBN introuvable 9782748315011\n",
      "ISBN introuvable 9782212056761\n",
      "ISBN introuvable 9782070259311\n",
      "ISBN introuvable 9782809500301\n",
      "ISBN introuvable 9782748175141\n",
      "ISBN introuvable 9782748330571\n",
      "ISBN introuvable 9782872420681\n",
      "ISBN introuvable 9782013217651\n",
      "ISBN introuvable 9782717700541\n",
      "ISBN introuvable 9782910879501\n",
      "ISBN introuvable 9782222965411\n",
      "ISBN introuvable 9782070263851\n",
      "ISBN introuvable 9782853710381\n",
      "ISBN introuvable 9782232116551\n",
      "ISBN introuvable 9782130529491\n",
      "ISBN introuvable 9782130408901\n",
      "ISBN introuvable 9782858827961\n",
      "ISBN introuvable 9782130329411\n",
      "ISBN introuvable 9782130410041\n",
      "ISBN introuvable 9782930273051\n",
      "ISBN introuvable 9782204053761\n",
      "ISBN introuvable 9783822828861\n",
      "ISBN introuvable 9782850695971\n",
      "ISBN introuvable 9782859397951\n",
      "ISBN introuvable 9782070214341\n",
      "ISBN introuvable 9782737656521\n",
      "ISBN introuvable 9782082613071\n",
      "ISBN introuvable 9782207202661\n",
      "ISBN introuvable 9782281193121\n",
      "ISBN introuvable 9782070168521\n",
      "ISBN introuvable 9782221022061\n",
      "ISBN introuvable 9782020323321\n",
      "ISBN introuvable 9782748142341\n",
      "ISBN introuvable 9782091778051\n",
      "ISBN introuvable 9782209063451\n",
      "ISBN introuvable 9782070263561\n",
      "ISBN introuvable 9782717700251\n",
      "ISBN introuvable 9782742005581\n",
      "ISBN introuvable 9782748320671\n",
      "ISBN introuvable 9782070193301\n",
      "ISBN introuvable 9782729704971\n",
      "ISBN introuvable 9782850472381\n",
      "ISBN introuvable 9782858164301\n",
      "ISBN introuvable 9782253066781\n",
      "ISBN introuvable 9782852052031\n",
      "ISBN introuvable 9788387564261\n",
      "ISBN introuvable 9782282302171\n",
      "ISBN introuvable 9782701315331\n",
      "ISBN introuvable 9782070258871\n",
      "ISBN introuvable 9782878541441\n",
      "ISBN introuvable 9782253109051\n",
      "ISBN introuvable 9788872521021\n",
      "ISBN introuvable 9782221094891\n",
      "ISBN introuvable 9782080605511\n",
      "ISBN introuvable 9782207213001\n",
      "ISBN introuvable 9782843872891\n",
      "ISBN introuvable 9787538147001\n",
      "ISBN introuvable 9782746018211\n",
      "ISBN introuvable 9782845910881\n",
      "ISBN introuvable 9782915564501\n",
      "ISBN introuvable 9782070271931\n",
      "ISBN introuvable 9782232110221\n",
      "ISBN introuvable 9782070240241\n",
      "ISBN introuvable 9782742400041\n",
      "ISBN introuvable 9782070188581\n",
      "ISBN introuvable 9782253904731\n",
      "ISBN introuvable 9782749805511\n",
      "ISBN introuvable 9782842593391\n",
      "ISBN introuvable 9782212016581\n",
      "ISBN introuvable 9782707304131\n",
      "ISBN introuvable 9782740313671\n",
      "ISBN introuvable 9782251337111\n",
      "ISBN introuvable 9782070182961\n",
      "ISBN introuvable 9782748175561\n",
      "ISBN introuvable 9782940042111\n",
      "ISBN introuvable 9782226045751\n",
      "ISBN introuvable 9782070252251\n",
      "ISBN introuvable 9782081645721\n",
      "ISBN introuvable 9782251004471\n",
      "ISBN introuvable 9782281192971\n",
      "ISBN introuvable 9782912916891\n",
      "ISBN introuvable 9782204020701\n",
      "ISBN introuvable 9781857591521\n",
      "ISBN introuvable 9782874591501\n",
      "ISBN introuvable 9782748117721\n",
      "ISBN introuvable 9783314214011\n",
      "ISBN introuvable 9782294061301\n",
      "ISBN introuvable 9782254649051\n",
      "ISBN introuvable 9782070561131\n",
      "ISBN introuvable 9782212015201\n",
      "ISBN introuvable 9782737337291\n",
      "ISBN introuvable 9782748183061\n",
      "ISBN introuvable 9782874316371\n",
      "ISBN introuvable 9782711009701\n",
      "ISBN introuvable 9782843850981\n",
      "ISBN introuvable 9782914249331\n",
      "ISBN introuvable 9782877604611\n",
      "ISBN introuvable 9782744618581\n",
      "ISBN introuvable 9782354970451\n",
      "ISBN introuvable 9782020044431\n",
      "ISBN introuvable 9782070744121\n",
      "ISBN introuvable 9782354071011\n",
      "ISBN introuvable 9782748196801\n",
      "ISBN introuvable 9782748303131\n",
      "ISBN introuvable 9782748329841\n",
      "ISBN introuvable 9782855390161\n",
      "ISBN introuvable 9782130534181\n",
      "ISBN introuvable 9782020040211\n",
      "ISBN introuvable 9782912042491\n",
      "ISBN introuvable 9782047304891\n",
      "ISBN introuvable 9782020010481\n",
      "ISBN introuvable 9782020019811\n",
      "ISBN introuvable 9782070202621\n",
      "ISBN introuvable 9782070483471\n",
      "ISBN introuvable 9782748328141\n",
      "ISBN introuvable 9782130313991\n",
      "ISBN introuvable 9782748191141\n",
      "ISBN introuvable 9782748323351\n",
      "ISBN introuvable 9782725625621\n",
      "ISBN introuvable 9782764012291\n",
      "ISBN introuvable 9783314211591\n",
      "ISBN introuvable 9782702016121\n",
      "ISBN introuvable 9782070174331\n",
      "ISBN introuvable 9782910919481\n",
      "ISBN introuvable 9782717700381\n",
      "ISBN introuvable 9782753001251\n",
      "ISBN introuvable 9782825800591\n",
      "ISBN introuvable 9782221035511\n",
      "ISBN introuvable 9782715201231\n",
      "ISBN introuvable 9782748108941\n",
      "ISBN introuvable 9782070241781\n",
      "ISBN introuvable 9780746082041\n",
      "ISBN introuvable 9782070255931\n",
      "ISBN introuvable 9782081214811\n",
      "ISBN introuvable 9782210741331\n",
      "ISBN introuvable 9782735295081\n",
      "ISBN introuvable 9782905047441\n",
      "ISBN introuvable 9782221080351\n",
      "ISBN introuvable 9782748191301\n",
      "ISBN introuvable 9782352473701\n",
      "ISBN introuvable 9782711606641\n",
      "ISBN introuvable 9782070161461\n",
      "ISBN introuvable 9782252008591\n",
      "ISBN introuvable 9782737300141\n",
      "ISBN introuvable 9782800699721\n",
      "ISBN introuvable 9782874490361\n",
      "ISBN introuvable 9782910576721\n",
      "ISBN introuvable 9782020026451\n",
      "ISBN introuvable 9782728802111\n",
      "ISBN introuvable 9782746913271\n",
      "ISBN introuvable 9782747530101\n",
      "ISBN introuvable 9782842782771\n",
      "ISBN introuvable 9782013215671\n",
      "ISBN introuvable 9782735217281\n",
      "ISBN introuvable 9782091723471\n",
      "ISBN introuvable 9782700730661\n",
      "ISBN introuvable 9782845031241\n",
      "ISBN introuvable 9782070292301\n",
      "ISBN introuvable 9782748325041\n",
      "ISBN introuvable 9782858222131\n",
      "ISBN introuvable 9782960046441\n",
      "ISBN introuvable 9782070331611\n",
      "ISBN introuvable 9782080500601\n",
      "ISBN introuvable 9782749104881\n",
      "ISBN introuvable 9782802101031\n",
      "ISBN introuvable 9782070253951\n",
      "ISBN introuvable 9782070274871\n",
      "ISBN introuvable 9782080104731\n",
      "ISBN introuvable 9782710806301\n",
      "ISBN introuvable 9782707801821\n",
      "ISBN introuvable 9782710801191\n",
      "ISBN introuvable 9782850366871\n",
      "ISBN introuvable 9782862739281\n",
      "ISBN introuvable 9782748157741\n",
      "ISBN introuvable 9782846821681\n",
      "ISBN introuvable 9782254687381\n",
      "ISBN introuvable 9782856230121\n",
      "ISBN introuvable 9782130534631\n",
      "ISBN introuvable 9782215054641\n",
      "ISBN introuvable 9782221029091\n",
      "ISBN introuvable 9782748155761\n",
      "ISBN introuvable 9782915796001\n",
      "ISBN introuvable 9780714844121\n",
      "ISBN introuvable 9782081600201\n",
      "ISBN introuvable 9782845161801\n",
      "ISBN introuvable 9782130511861\n",
      "ISBN introuvable 9782080200501\n",
      "ISBN introuvable 9782707308931\n",
      "ISBN introuvable 9782221031711\n",
      "ISBN introuvable 9782700720761\n",
      "ISBN introuvable 9782251353111\n",
      "ISBN introuvable 9782915262261\n",
      "ISBN introuvable 9782744022111\n",
      "ISBN introuvable 9782130471851\n",
      "ISBN introuvable 9782070194391\n",
      "ISBN introuvable 9782130436911\n",
      "ISBN introuvable 9782715212121\n",
      "ISBN introuvable 9782748339611\n",
      "ISBN introuvable 9782867811111\n",
      "ISBN introuvable 9782713202391\n",
      "ISBN introuvable 9782865375301\n",
      "ISBN introuvable 9782930287201\n",
      "ISBN introuvable 9782354660031\n",
      "ISBN introuvable 9782070232291\n",
      "ISBN introuvable 9782840704751\n",
      "ISBN introuvable 9782746917781\n",
      "ISBN introuvable 9782070744411\n",
      "ISBN introuvable 9782215022411\n",
      "ISBN introuvable 9782710311881\n",
      "ISBN introuvable 9782226047731\n",
      "ISBN introuvable 9782910536381\n",
      "ISBN introuvable 9782130314561\n",
      "ISBN introuvable 9782748341201\n",
      "ISBN introuvable 9782748173161\n",
      "ISBN introuvable 9782352091431\n",
      "ISBN introuvable 9782871290841\n",
      "ISBN introuvable 9782845405271\n",
      "ISBN introuvable 9782901628071\n",
      "ISBN introuvable 9782070183371\n",
      "ISBN introuvable 9782304001181\n",
      "ISBN introuvable 9782070331161\n",
      "ISBN introuvable 9782803624591\n",
      "ISBN introuvable 9780714836331\n",
      "ISBN introuvable 9782070352241\n",
      "ISBN introuvable 9782859397531\n",
      "ISBN introuvable 9782753007611\n",
      "ISBN introuvable 9780194378291\n",
      "ISBN introuvable 9782203442221\n",
      "ISBN introuvable 9782748338331\n",
      "ISBN introuvable 9782212015041\n",
      "ISBN introuvable 9782749800271\n",
      "ISBN introuvable 9782825801581\n",
      "ISBN introuvable 9782748186161\n",
      "ISBN introuvable 9782907161411\n",
      "ISBN introuvable 9782742717781\n",
      "ISBN introuvable 9782070218431\n",
      "ISBN introuvable 9782070600571\n",
      "ISBN introuvable 9782268067391\n",
      "ISBN introuvable 9782916090801\n",
      "ISBN introuvable 9782254707041\n",
      "ISBN introuvable 9782266046831\n",
      "ISBN introuvable 9782846980821\n",
      "ISBN introuvable 9782915564211\n",
      "ISBN introuvable 9782070302901\n",
      "ISBN introuvable 9782749800561\n",
      "ISBN introuvable 9782840985631\n",
      "ISBN introuvable 9782070218721\n"
     ]
    },
    {
     "name": "stdout",
     "output_type": "stream",
     "text": [
      "ISBN introuvable 9782758301721\n",
      "ISBN introuvable 9782746006591\n",
      "ISBN introuvable 9782070581061\n",
      "ISBN introuvable 9782091871431\n",
      "ISBN introuvable 9782841149131\n",
      "ISBN introuvable 9782713205811\n",
      "ISBN introuvable 9782070754021\n",
      "ISBN introuvable 9782070234691\n",
      "ISBN introuvable 9782070296071\n",
      "ISBN introuvable 9782222967101\n",
      "ISBN introuvable 9782080507471\n",
      "ISBN introuvable 9782130431121\n",
      "ISBN introuvable 9782207305751\n",
      "ISBN introuvable 9782290321751\n",
      "ISBN introuvable 9782844943231\n",
      "ISBN introuvable 9782221017531\n",
      "ISBN introuvable 9782275023441\n",
      "ISBN introuvable 9782724700831\n",
      "ISBN introuvable 9782296008731\n",
      "ISBN introuvable 9782873400521\n",
      "ISBN introuvable 9782207226261\n",
      "ISBN introuvable 9782221090121\n",
      "ISBN introuvable 9782748332391\n",
      "ISBN introuvable 9782841297511\n",
      "ISBN introuvable 9782080120441\n",
      "ISBN introuvable 9782708880641\n",
      "ISBN introuvable 9782746912601\n",
      "ISBN introuvable 9782913376601\n",
      "ISBN introuvable 9782070223091\n",
      "ISBN introuvable 9782070265251\n",
      "ISBN introuvable 9782841381791\n",
      "ISBN introuvable 9782070349661\n",
      "ISBN introuvable 9782283200261\n",
      "ISBN introuvable 9782914898461\n",
      "ISBN introuvable 9782070167661\n",
      "ISBN introuvable 9782714306371\n",
      "ISBN introuvable 9782748325331\n",
      "ISBN introuvable 9782846181761\n",
      "ISBN introuvable 9782855395821\n",
      "ISBN introuvable 9782715203211\n",
      "ISBN introuvable 9782098763661\n",
      "ISBN introuvable 9782204034081\n",
      "ISBN introuvable 9782221020241\n",
      "ISBN introuvable 9782748104981\n",
      "ISBN introuvable 9782742415861\n",
      "ISBN introuvable 9782742704361\n",
      "ISBN introuvable 9782748198041\n",
      "ISBN introuvable 9782748316711\n",
      "ISBN introuvable 9782707315571\n",
      "ISBN introuvable 9782070260171\n",
      "ISBN introuvable 9782748140361\n",
      "ISBN introuvable 9782905007421\n",
      "ISBN introuvable 9782070522101\n",
      "ISBN introuvable 9782748190861\n",
      "ISBN introuvable 9782290309711\n",
      "ISBN introuvable 9782737334221\n",
      "ISBN introuvable 9782749803081\n",
      "ISBN introuvable 9782905209221\n",
      "ISBN introuvable 9782708702141\n",
      "ISBN introuvable 9782354070731\n",
      "ISBN introuvable 9782081703131\n",
      "ISBN introuvable 9782130517641\n",
      "ISBN introuvable 9782252025291\n",
      "ISBN introuvable 9782304002461\n",
      "ISBN introuvable 9782748113341\n",
      "ISBN introuvable 9782070164721\n",
      "ISBN introuvable 9782735210121\n",
      "ISBN introuvable 9782748114881\n",
      "ISBN introuvable 9782870097731\n",
      "ISBN introuvable 9782352091561\n",
      "ISBN introuvable 9782070380121\n",
      "ISBN introuvable 9782204039611\n",
      "ISBN introuvable 9782020030441\n",
      "ISBN introuvable 9782070275021\n",
      "-------------------------------\n",
      "Nombre de livres dans la liste :  3232\n",
      "-------------------------------\n",
      "Nombre d'ISBN qui n'ont pas été trouvés : 0\n",
      "-------------------------------\n",
      "[]\n",
      "-------------------------------\n",
      "Insertion dans le csv...\n"
     ]
    },
    {
     "data": {
      "application/vnd.jupyter.widget-view+json": {
       "model_id": "f4ab9a0be772444b9de8b651832a9c92",
       "version_major": 2,
       "version_minor": 0
      },
      "text/plain": [
       "  0%|          | 0/3091 [00:00<?, ?it/s]"
      ]
     },
     "metadata": {},
     "output_type": "display_data"
    },
    {
     "name": "stdout",
     "output_type": "stream",
     "text": [
      "Insertion des données réussies.\n"
     ]
    }
   ],
   "source": [
    "# liste recueillant les ISBN (par défaut 'liste_ISBN')\n",
    "\n",
    "# MODIFICATION DE LA SOURCE\n",
    "SERVICE = 'worldcat'\n",
    "    \n",
    "nombre_livres = 0\n",
    "liste_ref = []\n",
    "curseur = 0\n",
    "ISBN = []\n",
    "ISBN_manquants = []\n",
    "\n",
    "for x in tqdm_notebook(liste_ISBN) :\n",
    "    try:\n",
    "        isbn = canonical(str(x))\n",
    "        data = meta(isbn, SERVICE)\n",
    "        nombre_livres += 1\n",
    "    \n",
    "    \n",
    "        biblio = []\n",
    "        \n",
    "        if len(data[\"Authors\"]) == 1 :\n",
    "            for x in data[\"Authors\"] :\n",
    "                biblio.append(x)\n",
    "        else : \n",
    "            biblio.append(data[\"Authors\"])\n",
    "            \n",
    "        biblio.append(data[\"Title\"])\n",
    "        biblio.append(data[\"Publisher\"])\n",
    "        biblio.append(data[\"Year\"])\n",
    "        biblio.append(data['ISBN-13'])\n",
    "\n",
    "        \n",
    "        ISBN.append(biblio)\n",
    "        \n",
    "    except : \n",
    "            print(\"ISBN introuvable\", x)\n",
    "            \n",
    "        \n",
    "\n",
    "print(\"-------------------------------\")\n",
    "print(\"Nombre de livres dans la liste : \", nombre_livres)\n",
    "print(\"-------------------------------\")\n",
    "print(\"Nombre d'ISBN qui n'ont pas été trouvés :\", len(ISBN_manquants))\n",
    "print(\"-------------------------------\")\n",
    "print(ISBN_manquants)\n",
    "print(\"-------------------------------\")\n",
    "print(\"Insertion dans le csv...\")\n",
    "    \n",
    "with open(r'libraires_ISBN.csv', 'a', encoding='UTF8') as f:\n",
    "        for x in tqdm_notebook(ISBN) :\n",
    "            writer = csv.writer(f)\n",
    "            writer.writerow(x)\n",
    "    \n",
    "        print(\"Insertion des données réussies.\")"
   ]
  },
  {
   "cell_type": "code",
   "execution_count": 700,
   "id": "6ba56cb8",
   "metadata": {},
   "outputs": [
    {
     "data": {
      "text/html": [
       "<div>\n",
       "<style scoped>\n",
       "    .dataframe tbody tr th:only-of-type {\n",
       "        vertical-align: middle;\n",
       "    }\n",
       "\n",
       "    .dataframe tbody tr th {\n",
       "        vertical-align: top;\n",
       "    }\n",
       "\n",
       "    .dataframe thead th {\n",
       "        text-align: right;\n",
       "    }\n",
       "</style>\n",
       "<table border=\"1\" class=\"dataframe\">\n",
       "  <thead>\n",
       "    <tr style=\"text-align: right;\">\n",
       "      <th></th>\n",
       "      <th>Auteur(s)</th>\n",
       "      <th>Titre</th>\n",
       "      <th>Edition</th>\n",
       "      <th>Date</th>\n",
       "      <th>ISBN</th>\n",
       "    </tr>\n",
       "  </thead>\n",
       "  <tbody>\n",
       "    <tr>\n",
       "      <th>0</th>\n",
       "      <td>Tudor Bălănescu</td>\n",
       "      <td>La sémiotique formelle du folklore: approche ...</td>\n",
       "      <td>Editura Academiei</td>\n",
       "      <td>1978</td>\n",
       "      <td>9782252020111</td>\n",
       "    </tr>\n",
       "    <tr>\n",
       "      <th>1</th>\n",
       "      <td>Paul Beaulier</td>\n",
       "      <td>PAULINE</td>\n",
       "      <td>Harmattan</td>\n",
       "      <td>2005</td>\n",
       "      <td>9782747579841</td>\n",
       "    </tr>\n",
       "    <tr>\n",
       "      <th>2</th>\n",
       "      <td>Jacques Labescat</td>\n",
       "      <td>Guide des examens complémentaires</td>\n",
       "      <td>Lamarre</td>\n",
       "      <td>2008</td>\n",
       "      <td>9782757301821</td>\n",
       "    </tr>\n",
       "    <tr>\n",
       "      <th>3</th>\n",
       "      <td>Stéphane Benhamou</td>\n",
       "      <td>Les années 60</td>\n",
       "      <td>First éd.</td>\n",
       "      <td>2009</td>\n",
       "      <td>9782754006101</td>\n",
       "    </tr>\n",
       "    <tr>\n",
       "      <th>4</th>\n",
       "      <td>['Colette Gouvion', 'Brigitte Julien']</td>\n",
       "      <td>Aveyron</td>\n",
       "      <td>Rouergue</td>\n",
       "      <td>2002</td>\n",
       "      <td>9782841564101</td>\n",
       "    </tr>\n",
       "  </tbody>\n",
       "</table>\n",
       "</div>"
      ],
      "text/plain": [
       "                                Auteur(s)  \\\n",
       "0                       Tudor Bălănescu   \n",
       "1                           Paul Beaulier   \n",
       "2                        Jacques Labescat   \n",
       "3                      Stéphane Benhamou   \n",
       "4  ['Colette Gouvion', 'Brigitte Julien']   \n",
       "\n",
       "                                               Titre            Edition  Date  \\\n",
       "0  La sémiotique formelle du folklore: approche ...  Editura Academiei  1978   \n",
       "1                                            PAULINE          Harmattan  2005   \n",
       "2                 Guide des examens complémentaires            Lamarre  2008   \n",
       "3                                     Les années 60         First éd.  2009   \n",
       "4                                            Aveyron           Rouergue  2002   \n",
       "\n",
       "            ISBN  \n",
       "0  9782252020111  \n",
       "1  9782747579841  \n",
       "2  9782757301821  \n",
       "3  9782754006101  \n",
       "4  9782841564101  "
      ]
     },
     "execution_count": 700,
     "metadata": {},
     "output_type": "execute_result"
    }
   ],
   "source": [
    "df = pd.read_csv(\"libraires_ISBN.csv\")\n",
    "df.head()"
   ]
  },
  {
   "cell_type": "code",
   "execution_count": 710,
   "id": "c15681dc",
   "metadata": {},
   "outputs": [
    {
     "name": "stdout",
     "output_type": "stream",
     "text": [
      "<class 'pandas.core.frame.DataFrame'>\n",
      "RangeIndex: 2926 entries, 0 to 2925\n",
      "Data columns (total 5 columns):\n",
      " #   Column     Non-Null Count  Dtype \n",
      "---  ------     --------------  ----- \n",
      " 0   Auteur(s)  2925 non-null   object\n",
      " 1   Titre      2926 non-null   object\n",
      " 2   Edition    2926 non-null   object\n",
      " 3   Date       2926 non-null   int32 \n",
      " 4   ISBN       2926 non-null   int64 \n",
      "dtypes: int32(1), int64(1), object(3)\n",
      "memory usage: 103.0+ KB\n"
     ]
    }
   ],
   "source": [
    "df.info()"
   ]
  },
  {
   "cell_type": "markdown",
   "id": "821deac1",
   "metadata": {},
   "source": [
    "### Convertir la colonne 'Date' en int "
   ]
  },
  {
   "cell_type": "markdown",
   "id": "232463a1",
   "metadata": {},
   "source": [
    "#### On récupère l'index des lignes dont l'ISBN n'est pas un nombre"
   ]
  },
  {
   "cell_type": "code",
   "execution_count": 702,
   "id": "92f27ba8",
   "metadata": {},
   "outputs": [
    {
     "data": {
      "text/plain": [
       "165"
      ]
     },
     "execution_count": 702,
     "metadata": {},
     "output_type": "execute_result"
    }
   ],
   "source": [
    "test=[]\n",
    "index = 0\n",
    "liste_index = [] \n",
    "\n",
    "for date in df['Date']:\n",
    "    try :\n",
    "        x = (int(date))\n",
    "        index +=1\n",
    "        \n",
    "    except :\n",
    "        liste_index.append(index)\n",
    "        index +=1\n",
    "        \n",
    "len(liste_index)"
   ]
  },
  {
   "cell_type": "code",
   "execution_count": 703,
   "id": "d142555b",
   "metadata": {},
   "outputs": [
    {
     "data": {
      "text/plain": [
       "[1206,\n",
       " 1207,\n",
       " 1213,\n",
       " 1214,\n",
       " 1218,\n",
       " 1222,\n",
       " 1229,\n",
       " 1231,\n",
       " 1238,\n",
       " 1240,\n",
       " 1261,\n",
       " 1310,\n",
       " 1314,\n",
       " 1315,\n",
       " 1322,\n",
       " 1339,\n",
       " 1350,\n",
       " 1351,\n",
       " 1367,\n",
       " 1370,\n",
       " 1382,\n",
       " 1384,\n",
       " 1406,\n",
       " 1411,\n",
       " 1430,\n",
       " 1459,\n",
       " 1469,\n",
       " 1471,\n",
       " 1475,\n",
       " 1568,\n",
       " 1595,\n",
       " 1603,\n",
       " 1621,\n",
       " 1643,\n",
       " 1644,\n",
       " 1671,\n",
       " 1684,\n",
       " 1694,\n",
       " 1696,\n",
       " 1697,\n",
       " 1710,\n",
       " 1722,\n",
       " 1737,\n",
       " 1751,\n",
       " 1766,\n",
       " 1770,\n",
       " 1784,\n",
       " 1802,\n",
       " 1809,\n",
       " 1825,\n",
       " 1840,\n",
       " 1852,\n",
       " 1853,\n",
       " 1872,\n",
       " 1891,\n",
       " 1918,\n",
       " 1931,\n",
       " 1939,\n",
       " 1941,\n",
       " 1945,\n",
       " 1949,\n",
       " 1953,\n",
       " 1967,\n",
       " 1980,\n",
       " 2000,\n",
       " 2005,\n",
       " 2017,\n",
       " 2056,\n",
       " 2057,\n",
       " 2075,\n",
       " 2084,\n",
       " 2085,\n",
       " 2095,\n",
       " 2103,\n",
       " 2104,\n",
       " 2109,\n",
       " 2110,\n",
       " 2124,\n",
       " 2135,\n",
       " 2148,\n",
       " 2154,\n",
       " 2163,\n",
       " 2164,\n",
       " 2167,\n",
       " 2171,\n",
       " 2197,\n",
       " 2198,\n",
       " 2239,\n",
       " 2243,\n",
       " 2249,\n",
       " 2255,\n",
       " 2282,\n",
       " 2295,\n",
       " 2298,\n",
       " 2341,\n",
       " 2364,\n",
       " 2369,\n",
       " 2371,\n",
       " 2381,\n",
       " 2383,\n",
       " 2392,\n",
       " 2412,\n",
       " 2415,\n",
       " 2428,\n",
       " 2442,\n",
       " 2499,\n",
       " 2513,\n",
       " 2519,\n",
       " 2520,\n",
       " 2521,\n",
       " 2528,\n",
       " 2529,\n",
       " 2532,\n",
       " 2549,\n",
       " 2559,\n",
       " 2570,\n",
       " 2577,\n",
       " 2589,\n",
       " 2590,\n",
       " 2596,\n",
       " 2597,\n",
       " 2616,\n",
       " 2618,\n",
       " 2620,\n",
       " 2643,\n",
       " 2657,\n",
       " 2660,\n",
       " 2671,\n",
       " 2675,\n",
       " 2684,\n",
       " 2699,\n",
       " 2702,\n",
       " 2720,\n",
       " 2745,\n",
       " 2752,\n",
       " 2762,\n",
       " 2768,\n",
       " 2781,\n",
       " 2789,\n",
       " 2799,\n",
       " 2800,\n",
       " 2804,\n",
       " 2821,\n",
       " 2833,\n",
       " 2836,\n",
       " 2842,\n",
       " 2843,\n",
       " 2847,\n",
       " 2856,\n",
       " 2857,\n",
       " 2872,\n",
       " 2876,\n",
       " 2883,\n",
       " 2943,\n",
       " 2944,\n",
       " 2953,\n",
       " 2959,\n",
       " 2964,\n",
       " 2977,\n",
       " 2983,\n",
       " 3037,\n",
       " 3056,\n",
       " 3070,\n",
       " 3071,\n",
       " 3087]"
      ]
     },
     "execution_count": 703,
     "metadata": {},
     "output_type": "execute_result"
    }
   ],
   "source": [
    "liste_index"
   ]
  },
  {
   "cell_type": "code",
   "execution_count": 473,
   "id": "843e4dbe",
   "metadata": {},
   "outputs": [],
   "source": [
    "# # replace\n",
    "# df['Date'] = df['Date'].str.replace(\"DL\", \"\", regex=False)\n",
    "\n",
    "# # Sauvegarde du csv \n",
    "# df.to_csv(\"libraires_ISBN.csv\", index=False)"
   ]
  },
  {
   "cell_type": "markdown",
   "id": "0967240c",
   "metadata": {},
   "source": [
    "#### Suppression des mauvaises dates"
   ]
  },
  {
   "cell_type": "code",
   "execution_count": 706,
   "id": "9b0f98ba",
   "metadata": {},
   "outputs": [
    {
     "data": {
      "application/vnd.jupyter.widget-view+json": {
       "model_id": "dcfb36bebe3f462a9e2ad5fdec3faf13",
       "version_major": 2,
       "version_minor": 0
      },
      "text/plain": [
       "  0%|          | 0/165 [00:00<?, ?it/s]"
      ]
     },
     "metadata": {},
     "output_type": "display_data"
    }
   ],
   "source": [
    " for x in tqdm_notebook(liste_index) :\n",
    "        df.drop([x], axis=0, inplace=True)\n",
    "        df.to_csv(\"libraires_ISBN.csv\", index=False)"
   ]
  },
  {
   "cell_type": "code",
   "execution_count": 707,
   "id": "e6900072",
   "metadata": {},
   "outputs": [],
   "source": [
    "df = pd.read_csv(\"libraires_ISBN.csv\")"
   ]
  },
  {
   "cell_type": "code",
   "execution_count": 708,
   "id": "754fe12f",
   "metadata": {},
   "outputs": [],
   "source": [
    "# conversion de la colonne en int\n",
    "df['Date'] = df['Date'].astype(int)"
   ]
  },
  {
   "cell_type": "code",
   "execution_count": 709,
   "id": "e3d527d2",
   "metadata": {},
   "outputs": [
    {
     "data": {
      "text/plain": [
       "2006    244\n",
       "2008    240\n",
       "1999    240\n",
       "2007    238\n",
       "2005    214\n",
       "2004    209\n",
       "2002    168\n",
       "2003    162\n",
       "2001    140\n",
       "2000    135\n",
       "1998     88\n",
       "1997     69\n",
       "1994     65\n",
       "1996     65\n",
       "1995     64\n",
       "1993     43\n",
       "1991     38\n",
       "1992     38\n",
       "1990     35\n",
       "2009     33\n",
       "1989     31\n",
       "1988     22\n",
       "1986     21\n",
       "1984     21\n",
       "2010     21\n",
       "1987     21\n",
       "1983     17\n",
       "1982     13\n",
       "2011     13\n",
       "2014     12\n",
       "Name: Date, dtype: int64"
      ]
     },
     "execution_count": 709,
     "metadata": {},
     "output_type": "execute_result"
    }
   ],
   "source": [
    "df['Date'].value_counts().head(30)"
   ]
  },
  {
   "cell_type": "markdown",
   "id": "c8ee70e4",
   "metadata": {},
   "source": [
    "#### Statistiques "
   ]
  },
  {
   "cell_type": "code",
   "execution_count": 720,
   "id": "42e45009",
   "metadata": {},
   "outputs": [
    {
     "name": "stdout",
     "output_type": "stream",
     "text": [
      "Moyenne : 2000.99\n",
      "Min : 1885\n",
      "Max : 2020\n"
     ]
    }
   ],
   "source": [
    "print(\"Moyenne :\", round(df['Date'].mean(), 2))\n",
    "print(\"Min :\", df.Date.min())\n",
    "print('Max :', df.Date.max())"
   ]
  },
  {
   "cell_type": "code",
   "execution_count": 719,
   "id": "78388289",
   "metadata": {},
   "outputs": [
    {
     "data": {
      "application/vnd.jupyter.widget-view+json": {
       "model_id": "29b4c55122bb4536ab68930bc3d56b18",
       "version_major": 2,
       "version_minor": 0
      },
      "text/plain": [
       "  0%|          | 0/89 [00:00<?, ?it/s]"
      ]
     },
     "metadata": {},
     "output_type": "display_data"
    }
   ],
   "source": [
    "# suppression des dates aberrantes \n",
    "\n",
    "# # on récupère l'index \n",
    "# index = df.index\n",
    "# # on récupère les mauvais ISBN\n",
    "# condition = df[\"Date\"] > 2025\n",
    "# # on récupère les index\n",
    "# date_supp = index[condition]\n",
    "\n",
    "# for x in tqdm_notebook(date_supp) :\n",
    "#         df.drop([x], axis=0, inplace=True)\n",
    "#         df.to_csv(\"libraires_ISBN.csv\", index=False)"
   ]
  },
  {
   "cell_type": "code",
   "execution_count": 721,
   "id": "f2be9aea",
   "metadata": {},
   "outputs": [
    {
     "name": "stdout",
     "output_type": "stream",
     "text": [
      "<class 'pandas.core.frame.DataFrame'>\n",
      "Int64Index: 2837 entries, 0 to 2925\n",
      "Data columns (total 5 columns):\n",
      " #   Column     Non-Null Count  Dtype \n",
      "---  ------     --------------  ----- \n",
      " 0   Auteur(s)  2836 non-null   object\n",
      " 1   Titre      2837 non-null   object\n",
      " 2   Edition    2837 non-null   object\n",
      " 3   Date       2837 non-null   int32 \n",
      " 4   ISBN       2837 non-null   int64 \n",
      "dtypes: int32(1), int64(1), object(3)\n",
      "memory usage: 121.9+ KB\n"
     ]
    }
   ],
   "source": [
    "df.info()"
   ]
  },
  {
   "cell_type": "code",
   "execution_count": 722,
   "id": "c4bef5ac",
   "metadata": {},
   "outputs": [
    {
     "data": {
      "text/html": [
       "<div>\n",
       "<style scoped>\n",
       "    .dataframe tbody tr th:only-of-type {\n",
       "        vertical-align: middle;\n",
       "    }\n",
       "\n",
       "    .dataframe tbody tr th {\n",
       "        vertical-align: top;\n",
       "    }\n",
       "\n",
       "    .dataframe thead th {\n",
       "        text-align: right;\n",
       "    }\n",
       "</style>\n",
       "<table border=\"1\" class=\"dataframe\">\n",
       "  <thead>\n",
       "    <tr style=\"text-align: right;\">\n",
       "      <th></th>\n",
       "      <th>Auteur(s)</th>\n",
       "      <th>Titre</th>\n",
       "      <th>Edition</th>\n",
       "      <th>Date</th>\n",
       "      <th>ISBN</th>\n",
       "    </tr>\n",
       "  </thead>\n",
       "  <tbody>\n",
       "    <tr>\n",
       "      <th>0</th>\n",
       "      <td>Tudor Bălănescu</td>\n",
       "      <td>La sémiotique formelle du folklore: approche ...</td>\n",
       "      <td>Editura Academiei</td>\n",
       "      <td>1978</td>\n",
       "      <td>9782252020111</td>\n",
       "    </tr>\n",
       "    <tr>\n",
       "      <th>1</th>\n",
       "      <td>Paul Beaulier</td>\n",
       "      <td>PAULINE</td>\n",
       "      <td>Harmattan</td>\n",
       "      <td>2005</td>\n",
       "      <td>9782747579841</td>\n",
       "    </tr>\n",
       "    <tr>\n",
       "      <th>2</th>\n",
       "      <td>Jacques Labescat</td>\n",
       "      <td>Guide des examens complémentaires</td>\n",
       "      <td>Lamarre</td>\n",
       "      <td>2008</td>\n",
       "      <td>9782757301821</td>\n",
       "    </tr>\n",
       "    <tr>\n",
       "      <th>3</th>\n",
       "      <td>Stéphane Benhamou</td>\n",
       "      <td>Les années 60</td>\n",
       "      <td>First éd.</td>\n",
       "      <td>2009</td>\n",
       "      <td>9782754006101</td>\n",
       "    </tr>\n",
       "    <tr>\n",
       "      <th>4</th>\n",
       "      <td>['Colette Gouvion', 'Brigitte Julien']</td>\n",
       "      <td>Aveyron</td>\n",
       "      <td>Rouergue</td>\n",
       "      <td>2002</td>\n",
       "      <td>9782841564101</td>\n",
       "    </tr>\n",
       "    <tr>\n",
       "      <th>...</th>\n",
       "      <td>...</td>\n",
       "      <td>...</td>\n",
       "      <td>...</td>\n",
       "      <td>...</td>\n",
       "      <td>...</td>\n",
       "    </tr>\n",
       "    <tr>\n",
       "      <th>2921</th>\n",
       "      <td>Jean-Paul Eluther</td>\n",
       "      <td>Guide pratique d'analyse financière des colle...</td>\n",
       "      <td>Ed. de La Lettre territorial</td>\n",
       "      <td>1999</td>\n",
       "      <td>9782841302741</td>\n",
       "    </tr>\n",
       "    <tr>\n",
       "      <th>2922</th>\n",
       "      <td>Janine Boissard</td>\n",
       "      <td>Belle-grand-mère: roman</td>\n",
       "      <td>Fayard</td>\n",
       "      <td>1999</td>\n",
       "      <td>9782253137061</td>\n",
       "    </tr>\n",
       "    <tr>\n",
       "      <th>2923</th>\n",
       "      <td>James D. Keyser</td>\n",
       "      <td>L'art des Indiens des Grandes Plaines</td>\n",
       "      <td>Seuil</td>\n",
       "      <td>2004</td>\n",
       "      <td>9782020548441</td>\n",
       "    </tr>\n",
       "    <tr>\n",
       "      <th>2924</th>\n",
       "      <td>Catherine Baroin</td>\n",
       "      <td>Latin: 4e</td>\n",
       "      <td>Nathan</td>\n",
       "      <td>1999</td>\n",
       "      <td>9782091826301</td>\n",
       "    </tr>\n",
       "    <tr>\n",
       "      <th>2925</th>\n",
       "      <td>Christine van Rogger-Andréucci</td>\n",
       "      <td>Poésie et religion dans l'œuvre de Max Jacob</td>\n",
       "      <td>H. Champion</td>\n",
       "      <td>1994</td>\n",
       "      <td>9782852033511</td>\n",
       "    </tr>\n",
       "  </tbody>\n",
       "</table>\n",
       "<p>2837 rows × 5 columns</p>\n",
       "</div>"
      ],
      "text/plain": [
       "                                   Auteur(s)  \\\n",
       "0                          Tudor Bălănescu   \n",
       "1                              Paul Beaulier   \n",
       "2                           Jacques Labescat   \n",
       "3                         Stéphane Benhamou   \n",
       "4     ['Colette Gouvion', 'Brigitte Julien']   \n",
       "...                                      ...   \n",
       "2921                       Jean-Paul Eluther   \n",
       "2922                         Janine Boissard   \n",
       "2923                         James D. Keyser   \n",
       "2924                        Catherine Baroin   \n",
       "2925         Christine van Rogger-Andréucci   \n",
       "\n",
       "                                                  Titre  \\\n",
       "0     La sémiotique formelle du folklore: approche ...   \n",
       "1                                               PAULINE   \n",
       "2                    Guide des examens complémentaires   \n",
       "3                                        Les années 60   \n",
       "4                                               Aveyron   \n",
       "...                                                 ...   \n",
       "2921  Guide pratique d'analyse financière des colle...   \n",
       "2922                           Belle-grand-mère: roman   \n",
       "2923              L'art des Indiens des Grandes Plaines   \n",
       "2924                                          Latin: 4e   \n",
       "2925      Poésie et religion dans l'œuvre de Max Jacob   \n",
       "\n",
       "                           Edition  Date           ISBN  \n",
       "0                Editura Academiei  1978  9782252020111  \n",
       "1                        Harmattan  2005  9782747579841  \n",
       "2                          Lamarre  2008  9782757301821  \n",
       "3                       First éd.  2009  9782754006101  \n",
       "4                         Rouergue  2002  9782841564101  \n",
       "...                            ...   ...            ...  \n",
       "2921  Ed. de La Lettre territorial  1999  9782841302741  \n",
       "2922                        Fayard  1999  9782253137061  \n",
       "2923                         Seuil  2004  9782020548441  \n",
       "2924                        Nathan  1999  9782091826301  \n",
       "2925                   H. Champion  1994  9782852033511  \n",
       "\n",
       "[2837 rows x 5 columns]"
      ]
     },
     "execution_count": 722,
     "metadata": {},
     "output_type": "execute_result"
    }
   ],
   "source": [
    "df"
   ]
  },
  {
   "cell_type": "code",
   "execution_count": 723,
   "id": "37c177e8",
   "metadata": {},
   "outputs": [
    {
     "data": {
      "text/html": [
       "<div>\n",
       "<style scoped>\n",
       "    .dataframe tbody tr th:only-of-type {\n",
       "        vertical-align: middle;\n",
       "    }\n",
       "\n",
       "    .dataframe tbody tr th {\n",
       "        vertical-align: top;\n",
       "    }\n",
       "\n",
       "    .dataframe thead th {\n",
       "        text-align: right;\n",
       "    }\n",
       "</style>\n",
       "<table border=\"1\" class=\"dataframe\">\n",
       "  <thead>\n",
       "    <tr style=\"text-align: right;\">\n",
       "      <th></th>\n",
       "      <th>Auteur(s)</th>\n",
       "      <th>Titre</th>\n",
       "      <th>Edition</th>\n",
       "      <th>Date</th>\n",
       "      <th>ISBN</th>\n",
       "    </tr>\n",
       "  </thead>\n",
       "  <tbody>\n",
       "    <tr>\n",
       "      <th>0</th>\n",
       "      <td>Approche linguistico-mathématique</td>\n",
       "      <td>La Sémiotique formelle du folklore</td>\n",
       "      <td>Contributions de Tudor Bălănescu</td>\n",
       "      <td>1978</td>\n",
       "      <td>1683480177</td>\n",
       "    </tr>\n",
       "    <tr>\n",
       "      <th>1</th>\n",
       "      <td>De Paul Beaulier</td>\n",
       "      <td>Pauline</td>\n",
       "      <td>Harmattan</td>\n",
       "      <td>2005</td>\n",
       "      <td>1187920447</td>\n",
       "    </tr>\n",
       "    <tr>\n",
       "      <th>2</th>\n",
       "      <td>De Jacques Labescat</td>\n",
       "      <td>Guide des examens complémentaires</td>\n",
       "      <td>Lamarre</td>\n",
       "      <td>2008</td>\n",
       "      <td>1178198467</td>\n",
       "    </tr>\n",
       "    <tr>\n",
       "      <th>3</th>\n",
       "      <td>De Stéphane Benhamou</td>\n",
       "      <td>Les années 60 pour les nuls</td>\n",
       "      <td>First</td>\n",
       "      <td>2009</td>\n",
       "      <td>1181494187</td>\n",
       "    </tr>\n",
       "    <tr>\n",
       "      <th>4</th>\n",
       "      <td>De Colette Gouvion</td>\n",
       "      <td>Aveyron</td>\n",
       "      <td>Illustrations de Brigitte Julien</td>\n",
       "      <td>2002</td>\n",
       "      <td>1093936187</td>\n",
       "    </tr>\n",
       "    <tr>\n",
       "      <th>...</th>\n",
       "      <td>...</td>\n",
       "      <td>...</td>\n",
       "      <td>...</td>\n",
       "      <td>...</td>\n",
       "      <td>...</td>\n",
       "    </tr>\n",
       "    <tr>\n",
       "      <th>11985</th>\n",
       "      <td>De Michel Milcent</td>\n",
       "      <td>Le lemming</td>\n",
       "      <td>Les deux encres</td>\n",
       "      <td>2005</td>\n",
       "      <td>9782912975911</td>\n",
       "    </tr>\n",
       "    <tr>\n",
       "      <th>11986</th>\n",
       "      <td>histoire d'un grand ensemble, 1953-2003</td>\n",
       "      <td>Billardon, histoire d'un grand ensemble</td>\n",
       "      <td>Créaphis</td>\n",
       "      <td>2004</td>\n",
       "      <td>9782913610521</td>\n",
       "    </tr>\n",
       "    <tr>\n",
       "      <th>11987</th>\n",
       "      <td>Collectif</td>\n",
       "      <td>L'Année psychologique - vol. 108 (1/2008)</td>\n",
       "      <td>Armand Colin</td>\n",
       "      <td>305 g</td>\n",
       "      <td>Armand Colin</td>\n",
       "    </tr>\n",
       "    <tr>\n",
       "      <th>11988</th>\n",
       "      <td>De Christine Wystup</td>\n",
       "      <td>Bordel de Dieu</td>\n",
       "      <td>Art et Comédie</td>\n",
       "      <td>2005</td>\n",
       "      <td>9782844224651</td>\n",
       "    </tr>\n",
       "    <tr>\n",
       "      <th>11989</th>\n",
       "      <td>De Claude Collin</td>\n",
       "      <td>Août 44, Villeurbanne se soulève</td>\n",
       "      <td>Illustrations de Yannick Chambon</td>\n",
       "      <td>210 g</td>\n",
       "      <td>la Passe du vent</td>\n",
       "    </tr>\n",
       "  </tbody>\n",
       "</table>\n",
       "<p>11990 rows × 5 columns</p>\n",
       "</div>"
      ],
      "text/plain": [
       "                                     Auteur(s)  \\\n",
       "0            Approche linguistico-mathématique   \n",
       "1                             De Paul Beaulier   \n",
       "2                          De Jacques Labescat   \n",
       "3                         De Stéphane Benhamou   \n",
       "4                           De Colette Gouvion   \n",
       "...                                        ...   \n",
       "11985                        De Michel Milcent   \n",
       "11986  histoire d'un grand ensemble, 1953-2003   \n",
       "11987                                Collectif   \n",
       "11988                      De Christine Wystup   \n",
       "11989                         De Claude Collin   \n",
       "\n",
       "                                           Titre  \\\n",
       "0             La Sémiotique formelle du folklore   \n",
       "1                                        Pauline   \n",
       "2              Guide des examens complémentaires   \n",
       "3                    Les années 60 pour les nuls   \n",
       "4                                        Aveyron   \n",
       "...                                          ...   \n",
       "11985                                 Le lemming   \n",
       "11986    Billardon, histoire d'un grand ensemble   \n",
       "11987  L'Année psychologique - vol. 108 (1/2008)   \n",
       "11988                             Bordel de Dieu   \n",
       "11989           Août 44, Villeurbanne se soulève   \n",
       "\n",
       "                                Edition   Date              ISBN  \n",
       "0      Contributions de Tudor Bălănescu   1978        1683480177  \n",
       "1                             Harmattan   2005        1187920447  \n",
       "2                               Lamarre   2008        1178198467  \n",
       "3                                 First   2009        1181494187  \n",
       "4      Illustrations de Brigitte Julien   2002        1093936187  \n",
       "...                                 ...    ...               ...  \n",
       "11985                   Les deux encres   2005     9782912975911  \n",
       "11986                          Créaphis   2004     9782913610521  \n",
       "11987                      Armand Colin  305 g      Armand Colin  \n",
       "11988                    Art et Comédie   2005     9782844224651  \n",
       "11989  Illustrations de Yannick Chambon  210 g  la Passe du vent  \n",
       "\n",
       "[11990 rows x 5 columns]"
      ]
     },
     "execution_count": 723,
     "metadata": {},
     "output_type": "execute_result"
    }
   ],
   "source": [
    "df2 = pd.read_csv(\"test_lib.csv\")\n",
    "df2"
   ]
  },
  {
   "cell_type": "code",
   "execution_count": 762,
   "id": "dadf86fe",
   "metadata": {},
   "outputs": [],
   "source": [
    "import pandas as pd\n",
    "s1 = pd.read_csv(\"test_lib.csv\")\n",
    "s2= pd.read_csv(\"libraires_ISBN.csv\")\n",
    "test = pd.concat([s1, s2], ignore_index=False)"
   ]
  },
  {
   "cell_type": "code",
   "execution_count": 763,
   "id": "84e83a19",
   "metadata": {},
   "outputs": [
    {
     "data": {
      "text/html": [
       "<div>\n",
       "<style scoped>\n",
       "    .dataframe tbody tr th:only-of-type {\n",
       "        vertical-align: middle;\n",
       "    }\n",
       "\n",
       "    .dataframe tbody tr th {\n",
       "        vertical-align: top;\n",
       "    }\n",
       "\n",
       "    .dataframe thead th {\n",
       "        text-align: right;\n",
       "    }\n",
       "</style>\n",
       "<table border=\"1\" class=\"dataframe\">\n",
       "  <thead>\n",
       "    <tr style=\"text-align: right;\">\n",
       "      <th></th>\n",
       "      <th>Unnamed: 0</th>\n",
       "      <th>Auteur(s)</th>\n",
       "      <th>Titre</th>\n",
       "      <th>Edition</th>\n",
       "      <th>Date</th>\n",
       "      <th>ISBN</th>\n",
       "    </tr>\n",
       "  </thead>\n",
       "  <tbody>\n",
       "    <tr>\n",
       "      <th>2832</th>\n",
       "      <td>NaN</td>\n",
       "      <td>Jean-Paul Eluther</td>\n",
       "      <td>Guide pratique d'analyse financière des colle...</td>\n",
       "      <td>Ed. de La Lettre territorial</td>\n",
       "      <td>1999</td>\n",
       "      <td>9782841302741</td>\n",
       "    </tr>\n",
       "    <tr>\n",
       "      <th>2833</th>\n",
       "      <td>NaN</td>\n",
       "      <td>Janine Boissard</td>\n",
       "      <td>Belle-grand-mère: roman</td>\n",
       "      <td>Fayard</td>\n",
       "      <td>1999</td>\n",
       "      <td>9782253137061</td>\n",
       "    </tr>\n",
       "    <tr>\n",
       "      <th>2834</th>\n",
       "      <td>NaN</td>\n",
       "      <td>James D. Keyser</td>\n",
       "      <td>L'art des Indiens des Grandes Plaines</td>\n",
       "      <td>Seuil</td>\n",
       "      <td>2004</td>\n",
       "      <td>9782020548441</td>\n",
       "    </tr>\n",
       "    <tr>\n",
       "      <th>2835</th>\n",
       "      <td>NaN</td>\n",
       "      <td>Catherine Baroin</td>\n",
       "      <td>Latin: 4e</td>\n",
       "      <td>Nathan</td>\n",
       "      <td>1999</td>\n",
       "      <td>9782091826301</td>\n",
       "    </tr>\n",
       "    <tr>\n",
       "      <th>2836</th>\n",
       "      <td>NaN</td>\n",
       "      <td>Christine van Rogger-Andréucci</td>\n",
       "      <td>Poésie et religion dans l'œuvre de Max Jacob</td>\n",
       "      <td>H. Champion</td>\n",
       "      <td>1994</td>\n",
       "      <td>9782852033511</td>\n",
       "    </tr>\n",
       "  </tbody>\n",
       "</table>\n",
       "</div>"
      ],
      "text/plain": [
       "      Unnamed: 0                        Auteur(s)  \\\n",
       "2832         NaN                Jean-Paul Eluther   \n",
       "2833         NaN                  Janine Boissard   \n",
       "2834         NaN                  James D. Keyser   \n",
       "2835         NaN                 Catherine Baroin   \n",
       "2836         NaN  Christine van Rogger-Andréucci   \n",
       "\n",
       "                                                  Titre  \\\n",
       "2832  Guide pratique d'analyse financière des colle...   \n",
       "2833                           Belle-grand-mère: roman   \n",
       "2834              L'art des Indiens des Grandes Plaines   \n",
       "2835                                          Latin: 4e   \n",
       "2836      Poésie et religion dans l'œuvre de Max Jacob   \n",
       "\n",
       "                           Edition  Date           ISBN  \n",
       "2832  Ed. de La Lettre territorial  1999  9782841302741  \n",
       "2833                        Fayard  1999  9782253137061  \n",
       "2834                         Seuil  2004  9782020548441  \n",
       "2835                        Nathan  1999  9782091826301  \n",
       "2836                   H. Champion  1994  9782852033511  "
      ]
     },
     "execution_count": 763,
     "metadata": {},
     "output_type": "execute_result"
    }
   ],
   "source": [
    "test.tail()"
   ]
  },
  {
   "cell_type": "code",
   "execution_count": 737,
   "id": "2ed2aec8",
   "metadata": {},
   "outputs": [
    {
     "name": "stdout",
     "output_type": "stream",
     "text": [
      "<class 'pandas.core.frame.DataFrame'>\n",
      "RangeIndex: 14827 entries, 0 to 14826\n",
      "Data columns (total 5 columns):\n",
      " #   Column     Non-Null Count  Dtype \n",
      "---  ------     --------------  ----- \n",
      " 0   Auteur(s)  14825 non-null  object\n",
      " 1   Titre      14827 non-null  object\n",
      " 2   Edition    14827 non-null  object\n",
      " 3   Date       14827 non-null  object\n",
      " 4   ISBN       14827 non-null  object\n",
      "dtypes: object(5)\n",
      "memory usage: 579.3+ KB\n"
     ]
    }
   ],
   "source": [
    "test.info()"
   ]
  },
  {
   "cell_type": "code",
   "execution_count": 764,
   "id": "b431e9dd",
   "metadata": {},
   "outputs": [],
   "source": [
    "test.to_csv(\"df_bdd.csv\")"
   ]
  },
  {
   "cell_type": "code",
   "execution_count": 739,
   "id": "d9d8e749",
   "metadata": {},
   "outputs": [],
   "source": [
    "df = pd.read_csv(\"df_bdd.csv\")"
   ]
  },
  {
   "cell_type": "code",
   "execution_count": 758,
   "id": "e6b115d4",
   "metadata": {},
   "outputs": [
    {
     "data": {
      "text/html": [
       "<div>\n",
       "<style scoped>\n",
       "    .dataframe tbody tr th:only-of-type {\n",
       "        vertical-align: middle;\n",
       "    }\n",
       "\n",
       "    .dataframe tbody tr th {\n",
       "        vertical-align: top;\n",
       "    }\n",
       "\n",
       "    .dataframe thead th {\n",
       "        text-align: right;\n",
       "    }\n",
       "</style>\n",
       "<table border=\"1\" class=\"dataframe\">\n",
       "  <thead>\n",
       "    <tr style=\"text-align: right;\">\n",
       "      <th></th>\n",
       "      <th>Unnamed: 0</th>\n",
       "      <th>Auteur(s)</th>\n",
       "      <th>Titre</th>\n",
       "      <th>Edition</th>\n",
       "      <th>Date</th>\n",
       "      <th>ISBN</th>\n",
       "    </tr>\n",
       "  </thead>\n",
       "  <tbody>\n",
       "    <tr>\n",
       "      <th>13848</th>\n",
       "      <td>14822</td>\n",
       "      <td>Jean-Paul Eluther</td>\n",
       "      <td>Guide pratique d'analyse financière des colle...</td>\n",
       "      <td>Ed. de La Lettre territorial</td>\n",
       "      <td>1999</td>\n",
       "      <td>1094197547</td>\n",
       "    </tr>\n",
       "    <tr>\n",
       "      <th>13849</th>\n",
       "      <td>14823</td>\n",
       "      <td>Janine Boissard</td>\n",
       "      <td>Belle-grand-mère: roman</td>\n",
       "      <td>Fayard</td>\n",
       "      <td>1999</td>\n",
       "      <td>1682363227</td>\n",
       "    </tr>\n",
       "    <tr>\n",
       "      <th>13850</th>\n",
       "      <td>14824</td>\n",
       "      <td>James D. Keyser</td>\n",
       "      <td>L'art des Indiens des Grandes Plaines</td>\n",
       "      <td>Seuil</td>\n",
       "      <td>2004</td>\n",
       "      <td>1914951847</td>\n",
       "    </tr>\n",
       "    <tr>\n",
       "      <th>13851</th>\n",
       "      <td>14825</td>\n",
       "      <td>Catherine Baroin</td>\n",
       "      <td>Latin: 4e</td>\n",
       "      <td>Nathan</td>\n",
       "      <td>1999</td>\n",
       "      <td>1843673987</td>\n",
       "    </tr>\n",
       "    <tr>\n",
       "      <th>13852</th>\n",
       "      <td>14826</td>\n",
       "      <td>Christine van Rogger-Andréucci</td>\n",
       "      <td>Poésie et religion dans l'œuvre de Max Jacob</td>\n",
       "      <td>H. Champion</td>\n",
       "      <td>1994</td>\n",
       "      <td>1083466777</td>\n",
       "    </tr>\n",
       "  </tbody>\n",
       "</table>\n",
       "</div>"
      ],
      "text/plain": [
       "       Unnamed: 0                        Auteur(s)  \\\n",
       "13848       14822                Jean-Paul Eluther   \n",
       "13849       14823                  Janine Boissard   \n",
       "13850       14824                  James D. Keyser   \n",
       "13851       14825                 Catherine Baroin   \n",
       "13852       14826  Christine van Rogger-Andréucci   \n",
       "\n",
       "                                                   Titre  \\\n",
       "13848  Guide pratique d'analyse financière des colle...   \n",
       "13849                           Belle-grand-mère: roman   \n",
       "13850              L'art des Indiens des Grandes Plaines   \n",
       "13851                                          Latin: 4e   \n",
       "13852      Poésie et religion dans l'œuvre de Max Jacob   \n",
       "\n",
       "                            Edition  Date        ISBN  \n",
       "13848  Ed. de La Lettre territorial  1999  1094197547  \n",
       "13849                        Fayard  1999  1682363227  \n",
       "13850                         Seuil  2004  1914951847  \n",
       "13851                        Nathan  1999  1843673987  \n",
       "13852                   H. Champion  1994  1083466777  "
      ]
     },
     "execution_count": 758,
     "metadata": {},
     "output_type": "execute_result"
    }
   ],
   "source": [
    "df.tail()"
   ]
  }
 ],
 "metadata": {
  "kernelspec": {
   "display_name": "Python 3 (ipykernel)",
   "language": "python",
   "name": "python3"
  },
  "language_info": {
   "codemirror_mode": {
    "name": "ipython",
    "version": 3
   },
   "file_extension": ".py",
   "mimetype": "text/x-python",
   "name": "python",
   "nbconvert_exporter": "python",
   "pygments_lexer": "ipython3",
   "version": "3.8.3"
  }
 },
 "nbformat": 4,
 "nbformat_minor": 5
}
