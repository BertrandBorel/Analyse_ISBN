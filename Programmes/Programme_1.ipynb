{
 "cells": [
  {
   "cell_type": "markdown",
   "id": "e8f42f1d",
   "metadata": {},
   "source": [
    "## Récupérer informations d'un livre grâce à l'ISBN"
   ]
  },
  {
   "cell_type": "markdown",
   "id": "bd894a94",
   "metadata": {},
   "source": [
    "`pip install isbnlib`\n",
    "\n",
    "source : https://pypi.org/project/isbnlib/"
   ]
  },
  {
   "cell_type": "markdown",
   "id": "a77d2ecd",
   "metadata": {},
   "source": [
    "### Exemple : "
   ]
  },
  {
   "cell_type": "code",
   "execution_count": 16,
   "id": "a4d1f26c",
   "metadata": {},
   "outputs": [
    {
     "name": "stdout",
     "output_type": "stream",
     "text": [
      "@book{9782846701655,\n",
      "     title = {L'Intelligence artificielle - idées reçues sur l'intelligence artificielle},\n",
      "    author = {Jean-Gabriel Ganascia},\n",
      "      isbn = {9782846701655},\n",
      "      year = {2007},\n",
      " publisher = {CAVALIER BLEU}\n",
      "}\n"
     ]
    }
   ],
   "source": [
    "from isbnlib import meta\n",
    "from isbnlib.registry import bibformatters\n",
    "\n",
    "SERVICE = \"openl\"\n",
    "\n",
    "# now you can use the service\n",
    "isbn = \"9782846701655\"\n",
    "bibtex = bibformatters[\"bibtex\"]\n",
    "print(bibtex(meta(isbn, SERVICE)))"
   ]
  },
  {
   "cell_type": "markdown",
   "id": "1d6c2c4c",
   "metadata": {},
   "source": [
    "### Autre exemple :"
   ]
  },
  {
   "cell_type": "code",
   "execution_count": 323,
   "id": "35b40cda",
   "metadata": {},
   "outputs": [
    {
     "name": "stdout",
     "output_type": "stream",
     "text": [
      "{'ISBN-13': '9782707194213', 'Title': 'Pierre Vidal-Naquet - Une vie', 'Authors': ['François Dosse'], 'Publisher': '', 'Year': '2020', 'Language': 'fr'}\n"
     ]
    }
   ],
   "source": [
    "from isbnlib import canonical, meta\n",
    "\n",
    "isbn = canonical(\"9782707194213\")\n",
    "data = meta(isbn)\n",
    "\n",
    "print(data)"
   ]
  },
  {
   "cell_type": "code",
   "execution_count": 33,
   "id": "7ce4468d",
   "metadata": {},
   "outputs": [
    {
     "name": "stdout",
     "output_type": "stream",
     "text": [
      "9782846701655\n",
      "L'intelligence artificielle\n",
      "['Jean-Gabriel Ganascia']\n",
      "Editions Le Cavalier Bleu\n",
      "2007\n",
      "fr\n"
     ]
    }
   ],
   "source": [
    "for x in data : \n",
    "    print (data[x])"
   ]
  },
  {
   "cell_type": "code",
   "execution_count": 255,
   "id": "eb6ff2a3",
   "metadata": {},
   "outputs": [
    {
     "name": "stdout",
     "output_type": "stream",
     "text": [
      "['François Dosse']\n"
     ]
    }
   ],
   "source": [
    "print(data[\"Authors\"])"
   ]
  },
  {
   "cell_type": "code",
   "execution_count": 40,
   "id": "0b690343",
   "metadata": {},
   "outputs": [],
   "source": [
    "liste = []\n",
    "nombre_livres = 0\n",
    "\n",
    "liste.append(data[\"Authors\"])\n",
    "liste.append(data[\"Title\"])\n",
    "liste.append(data[\"Publisher\"])\n",
    "liste.append(data[\"Year\"])\n",
    "liste.append(\";\")\n",
    "nombre_livres += 1"
   ]
  },
  {
   "cell_type": "code",
   "execution_count": 41,
   "id": "b98b5b84",
   "metadata": {},
   "outputs": [
    {
     "data": {
      "text/plain": [
       "[['Jean-Gabriel Ganascia'],\n",
       " \"L'intelligence artificielle\",\n",
       " 'Editions Le Cavalier Bleu',\n",
       " '2007',\n",
       " ';']"
      ]
     },
     "execution_count": 41,
     "metadata": {},
     "output_type": "execute_result"
    }
   ],
   "source": [
    "liste"
   ]
  },
  {
   "cell_type": "code",
   "execution_count": 42,
   "id": "dd2d05d7",
   "metadata": {},
   "outputs": [
    {
     "name": "stdout",
     "output_type": "stream",
     "text": [
      "['Jean-Gabriel Ganascia']\n",
      "L'intelligence artificielle\n",
      "Editions Le Cavalier Bleu\n",
      "2007\n",
      ";\n"
     ]
    }
   ],
   "source": [
    "for x in liste : \n",
    "    print(x)"
   ]
  },
  {
   "cell_type": "markdown",
   "id": "8a617863",
   "metadata": {},
   "source": [
    "## Lire un fichier txt et récupérer ISBN dans une liste"
   ]
  },
  {
   "cell_type": "code",
   "execution_count": 97,
   "id": "d8b4ea9d",
   "metadata": {},
   "outputs": [],
   "source": [
    "# Conversion du fichier txt en csv\n",
    "\n",
    "df = pd.read_csv (r'ISBN.txt')\n",
    "df.to_csv (r'ISBN.csv', index=None)"
   ]
  },
  {
   "cell_type": "code",
   "execution_count": 115,
   "id": "f028e8ba",
   "metadata": {},
   "outputs": [],
   "source": [
    "# on ajoute chaque ISBN à la liste\n",
    "liste_isbn = [x for x in df.ISBN]"
   ]
  },
  {
   "cell_type": "code",
   "execution_count": 116,
   "id": "b0592f40",
   "metadata": {},
   "outputs": [
    {
     "data": {
      "text/plain": [
       "[9782020234085,\n",
       " 9782246813897,\n",
       " 9782354780135,\n",
       " 9782204103374,\n",
       " 9791091245449,\n",
       " 9782364051935,\n",
       " 9782021309997,\n",
       " 9782883533073,\n",
       " 9782846701655]"
      ]
     },
     "execution_count": 116,
     "metadata": {},
     "output_type": "execute_result"
    }
   ],
   "source": [
    "liste_isbn"
   ]
  },
  {
   "cell_type": "markdown",
   "id": "0253f6ff",
   "metadata": {},
   "source": [
    "## Extraire des informations de chaque ISBN (stockés dans un csv)"
   ]
  },
  {
   "cell_type": "code",
   "execution_count": 118,
   "id": "94b46e0c",
   "metadata": {},
   "outputs": [
    {
     "name": "stdout",
     "output_type": "stream",
     "text": [
      "-------------------------------\n",
      "Nombre de livres dans la liste :  9\n"
     ]
    }
   ],
   "source": [
    "from isbnlib import canonical, meta\n",
    "\n",
    "nombre_livres = 0\n",
    "extraction_donnees = []\n",
    "\n",
    "for x in liste_isbn :\n",
    "    isbn = canonical(str(x))\n",
    "    data = meta(isbn)\n",
    "    nombre_livres += 1\n",
    "#     print(data)\n",
    "\n",
    "    extraction_donnees.append(data[\"Authors\"])\n",
    "    extraction_donnees.append(data[\"Title\"])\n",
    "    extraction_donnees.append(data[\"Publisher\"])\n",
    "    extraction_donnees.append(data[\"Year\"])\n",
    "    extraction_donnees.append(data['ISBN-13'])\n",
    "    extraction_donnees.append(\";\")\n",
    "    \n",
    "print(\"-------------------------------\")\n",
    "print(\"Nombre de livres dans la liste : \", nombre_livres)"
   ]
  },
  {
   "cell_type": "code",
   "execution_count": 119,
   "id": "0d6400cc",
   "metadata": {},
   "outputs": [
    {
     "name": "stdout",
     "output_type": "stream",
     "text": [
      "['Philippe Burrin']\n",
      "Hitler et les Juifs - genèse d'un génocide\n",
      "Contemporary French Fiction\n",
      "1995\n",
      "9782020234085\n",
      ";\n",
      "['Umberto Eco']\n",
      "Reconnaître le fascisme\n",
      "Grasset\n",
      "2017\n",
      "9782246813897\n",
      ";\n",
      "['Dominique Porte']\n",
      "L'antisémitisme à l'université - la responsabilité des intellectuels, années 1930-1940\n",
      "Singulières (Editions)\n",
      "2007\n",
      "9782354780135\n",
      ";\n",
      "['Louis Manaranche']\n",
      "Retrouver l'histoire\n",
      "Cerf\n",
      "2015\n",
      "9782204103374\n",
      ";\n",
      "['Jean-Claude Heudin']\n",
      "Comprendre le deep learning - Une introduction aux réseaux de neurones\n",
      "Science eBook\n",
      "2016\n",
      "9791091245449\n",
      ";\n",
      "['Romain Kroës']\n",
      "Décrochage - Comment l'intelligence artificielle fabrique de nouveaux esclaves\n",
      "\n",
      "2020\n",
      "9782364051935\n",
      ";\n",
      "['Jean-Gabriel Ganascia']\n",
      "Le mythe de la singularité - Faut-il craindre l'intelligence artificielle ?\n",
      "\n",
      "2017\n",
      "9782021309997\n",
      ";\n",
      "['David Grossman', 'René Blind', 'Michael Pool']\n",
      "Comment la télévision et les jeux vidéo apprennent aux enfants à tuer - tuer n'est pas naturel à l'être humain, tuer s'apprend : notes sur le cas américain\n",
      "\n",
      "2003\n",
      "9782883533073\n",
      ";\n",
      "['Jean-Gabriel Ganascia']\n",
      "L'intelligence artificielle\n",
      "Editions Le Cavalier Bleu\n",
      "2007\n",
      "9782846701655\n",
      ";\n"
     ]
    }
   ],
   "source": [
    "for x in extraction_donnees :\n",
    "    print(x)"
   ]
  },
  {
   "cell_type": "code",
   "execution_count": 114,
   "id": "52b489dd",
   "metadata": {},
   "outputs": [
    {
     "data": {
      "text/plain": [
       "['Philippe Burrin']"
      ]
     },
     "execution_count": 114,
     "metadata": {},
     "output_type": "execute_result"
    }
   ],
   "source": [
    "extraction_donnees[0]"
   ]
  },
  {
   "cell_type": "markdown",
   "id": "550dfb19",
   "metadata": {},
   "source": [
    "## Gestion d'erreurs \n",
    "\n",
    "[à ajouter]"
   ]
  },
  {
   "cell_type": "markdown",
   "id": "b01c3eb6",
   "metadata": {},
   "source": [
    "## Ajouter des listes dans une liste"
   ]
  },
  {
   "cell_type": "code",
   "execution_count": 128,
   "id": "44262877",
   "metadata": {},
   "outputs": [
    {
     "name": "stdout",
     "output_type": "stream",
     "text": [
      "-------------------------------\n",
      "Nombre de livres dans la liste :  9\n",
      "-------------------------------\n",
      "[[['Philippe Burrin'], \"Hitler et les Juifs - genèse d'un génocide\", 'Contemporary French Fiction', '1995', '9782020234085'], [['Umberto Eco'], 'Reconnaître le fascisme', 'Grasset', '2017', '9782246813897'], [['Dominique Porte'], \"L'antisémitisme à l'université - la responsabilité des intellectuels, années 1930-1940\", 'Singulières (Editions)', '2007', '9782354780135'], [['Louis Manaranche'], \"Retrouver l'histoire\", 'Cerf', '2015', '9782204103374'], [['Jean-Claude Heudin'], 'Comprendre le deep learning - Une introduction aux réseaux de neurones', 'Science eBook', '2016', '9791091245449'], [['Romain Kroës'], \"Décrochage - Comment l'intelligence artificielle fabrique de nouveaux esclaves\", '', '2020', '9782364051935'], [['Jean-Gabriel Ganascia'], \"Le mythe de la singularité - Faut-il craindre l'intelligence artificielle ?\", '', '2017', '9782021309997'], [['David Grossman', 'René Blind', 'Michael Pool'], \"Comment la télévision et les jeux vidéo apprennent aux enfants à tuer - tuer n'est pas naturel à l'être humain, tuer s'apprend : notes sur le cas américain\", '', '2003', '9782883533073'], [['Jean-Gabriel Ganascia'], \"L'intelligence artificielle\", 'Editions Le Cavalier Bleu', '2007', '9782846701655']]\n"
     ]
    }
   ],
   "source": [
    "from isbnlib import canonical, meta\n",
    "\n",
    "nombre_livres = 0\n",
    "extraction_donnees = []\n",
    "curseur = 0\n",
    "\n",
    "for x in liste_isbn :\n",
    "    isbn = canonical(str(x))\n",
    "    data = meta(isbn)\n",
    "    nombre_livres += 1\n",
    "#     print(data)\n",
    "\n",
    "    extraction_donnees.append([])\n",
    "    extraction_donnees[curseur].append(data[\"Authors\"])\n",
    "    extraction_donnees[curseur].append(data[\"Title\"])\n",
    "    extraction_donnees[curseur].append(data[\"Publisher\"])\n",
    "    extraction_donnees[curseur].append(data[\"Year\"])\n",
    "    extraction_donnees[curseur].append(data['ISBN-13'])\n",
    "    curseur += 1\n",
    "    \n",
    "print(\"-------------------------------\")\n",
    "print(\"Nombre de livres dans la liste : \", nombre_livres)\n",
    "print(\"-------------------------------\")\n",
    "print(extraction_donnees)"
   ]
  },
  {
   "cell_type": "code",
   "execution_count": 129,
   "id": "f9dc3b95",
   "metadata": {},
   "outputs": [
    {
     "data": {
      "text/plain": [
       "[['Philippe Burrin'],\n",
       " \"Hitler et les Juifs - genèse d'un génocide\",\n",
       " 'Contemporary French Fiction',\n",
       " '1995',\n",
       " '9782020234085']"
      ]
     },
     "execution_count": 129,
     "metadata": {},
     "output_type": "execute_result"
    }
   ],
   "source": [
    "extraction_donnees[0]"
   ]
  },
  {
   "cell_type": "code",
   "execution_count": 347,
   "id": "08efae65",
   "metadata": {},
   "outputs": [
    {
     "name": "stdout",
     "output_type": "stream",
     "text": [
      "[['Philippe Burrin'], \"Hitler et les Juifs - genèse d'un génocide\", 'Contemporary French Fiction', '1995', '9782020234085']\n",
      "[['Umberto Eco'], 'Reconnaître le fascisme', 'Grasset', '2017', '9782246813897']\n",
      "[['Dominique Porte'], \"L'antisémitisme à l'université - la responsabilité des intellectuels, années 1930-1940\", 'Singulières (Editions)', '2007', '9782354780135']\n",
      "[['Louis Manaranche'], \"Retrouver l'histoire\", 'Cerf', '2015', '9782204103374']\n",
      "[['Jean-Claude Heudin'], 'Comprendre le deep learning - Une introduction aux réseaux de neurones', 'Science eBook', '2016', '9791091245449']\n",
      "[['Romain Kroës'], \"Décrochage - Comment l'intelligence artificielle fabrique de nouveaux esclaves\", '', '2020', '9782364051935']\n",
      "[['Jean-Gabriel Ganascia'], \"Le mythe de la singularité - Faut-il craindre l'intelligence artificielle ?\", '', '2017', '9782021309997']\n",
      "[['David Grossman', 'René Blind', 'Michael Pool'], \"Comment la télévision et les jeux vidéo apprennent aux enfants à tuer - tuer n'est pas naturel à l'être humain, tuer s'apprend : notes sur le cas américain\", '', '2003', '9782883533073']\n",
      "[['Jean-Gabriel Ganascia'], \"L'intelligence artificielle\", 'Editions Le Cavalier Bleu', '2007', '9782846701655']\n"
     ]
    }
   ],
   "source": [
    "for x in extraction_donnees :\n",
    "    print(x)"
   ]
  },
  {
   "cell_type": "code",
   "execution_count": 350,
   "id": "4be08ef5",
   "metadata": {},
   "outputs": [
    {
     "name": "stdout",
     "output_type": "stream",
     "text": [
      "['Philippe Burrin']\n",
      "Hitler et les Juifs - genèse d'un génocide\n",
      "Contemporary French Fiction\n",
      "1995\n",
      "9782020234085\n"
     ]
    }
   ],
   "source": [
    "for x  in extraction_donnees[0]:\n",
    "    print(x)"
   ]
  },
  {
   "cell_type": "markdown",
   "id": "4236e6e7",
   "metadata": {},
   "source": [
    "## Création d'un csv et insertion des données"
   ]
  },
  {
   "cell_type": "code",
   "execution_count": 307,
   "id": "3e0af9f8",
   "metadata": {},
   "outputs": [],
   "source": [
    "import csv  \n",
    "\n",
    "header = ['Auteur(s)', 'Titre', 'Edition', 'Date', 'ISBN']\n",
    "\n",
    "\n",
    "with open('test_csv_list.csv', 'w', encoding='UTF8') as f:\n",
    "    writer = csv.writer(f)\n",
    "\n",
    "    # write the header\n",
    "    writer.writerow(header)\n",
    "    \n",
    "    for x in extraction_donnees :\n",
    "        # write the data\n",
    "        writer.writerow(x)"
   ]
  },
  {
   "cell_type": "code",
   "execution_count": 308,
   "id": "1057d049",
   "metadata": {},
   "outputs": [],
   "source": [
    "df = pd.read_csv('test_csv_list.csv')"
   ]
  },
  {
   "cell_type": "code",
   "execution_count": 309,
   "id": "214da5b6",
   "metadata": {},
   "outputs": [
    {
     "data": {
      "text/html": [
       "<div>\n",
       "<style scoped>\n",
       "    .dataframe tbody tr th:only-of-type {\n",
       "        vertical-align: middle;\n",
       "    }\n",
       "\n",
       "    .dataframe tbody tr th {\n",
       "        vertical-align: top;\n",
       "    }\n",
       "\n",
       "    .dataframe thead th {\n",
       "        text-align: right;\n",
       "    }\n",
       "</style>\n",
       "<table border=\"1\" class=\"dataframe\">\n",
       "  <thead>\n",
       "    <tr style=\"text-align: right;\">\n",
       "      <th></th>\n",
       "      <th>Auteur(s)</th>\n",
       "      <th>Titre</th>\n",
       "      <th>Edition</th>\n",
       "      <th>Date</th>\n",
       "      <th>ISBN</th>\n",
       "    </tr>\n",
       "  </thead>\n",
       "  <tbody>\n",
       "    <tr>\n",
       "      <th>0</th>\n",
       "      <td>['Philippe Burrin']</td>\n",
       "      <td>Hitler et les Juifs - genèse d'un génocide</td>\n",
       "      <td>Contemporary French Fiction</td>\n",
       "      <td>1995</td>\n",
       "      <td>9782020234085</td>\n",
       "    </tr>\n",
       "    <tr>\n",
       "      <th>1</th>\n",
       "      <td>['Umberto Eco']</td>\n",
       "      <td>Reconnaître le fascisme</td>\n",
       "      <td>Grasset</td>\n",
       "      <td>2017</td>\n",
       "      <td>9782246813897</td>\n",
       "    </tr>\n",
       "    <tr>\n",
       "      <th>2</th>\n",
       "      <td>['Dominique Porte']</td>\n",
       "      <td>L'antisémitisme à l'université - la responsabi...</td>\n",
       "      <td>Singulières (Editions)</td>\n",
       "      <td>2007</td>\n",
       "      <td>9782354780135</td>\n",
       "    </tr>\n",
       "    <tr>\n",
       "      <th>3</th>\n",
       "      <td>['Louis Manaranche']</td>\n",
       "      <td>Retrouver l'histoire</td>\n",
       "      <td>Cerf</td>\n",
       "      <td>2015</td>\n",
       "      <td>9782204103374</td>\n",
       "    </tr>\n",
       "    <tr>\n",
       "      <th>4</th>\n",
       "      <td>['Jean-Claude Heudin']</td>\n",
       "      <td>Comprendre le deep learning - Une introduction...</td>\n",
       "      <td>Science eBook</td>\n",
       "      <td>2016</td>\n",
       "      <td>9791091245449</td>\n",
       "    </tr>\n",
       "    <tr>\n",
       "      <th>5</th>\n",
       "      <td>['Romain Kroës']</td>\n",
       "      <td>Décrochage - Comment l'intelligence artificiel...</td>\n",
       "      <td>NaN</td>\n",
       "      <td>2020</td>\n",
       "      <td>9782364051935</td>\n",
       "    </tr>\n",
       "    <tr>\n",
       "      <th>6</th>\n",
       "      <td>['Jean-Gabriel Ganascia']</td>\n",
       "      <td>Le mythe de la singularité - Faut-il craindre ...</td>\n",
       "      <td>NaN</td>\n",
       "      <td>2017</td>\n",
       "      <td>9782021309997</td>\n",
       "    </tr>\n",
       "    <tr>\n",
       "      <th>7</th>\n",
       "      <td>['David Grossman', 'René Blind', 'Michael Pool']</td>\n",
       "      <td>Comment la télévision et les jeux vidéo appren...</td>\n",
       "      <td>NaN</td>\n",
       "      <td>2003</td>\n",
       "      <td>9782883533073</td>\n",
       "    </tr>\n",
       "    <tr>\n",
       "      <th>8</th>\n",
       "      <td>['Jean-Gabriel Ganascia']</td>\n",
       "      <td>L'intelligence artificielle</td>\n",
       "      <td>Editions Le Cavalier Bleu</td>\n",
       "      <td>2007</td>\n",
       "      <td>9782846701655</td>\n",
       "    </tr>\n",
       "  </tbody>\n",
       "</table>\n",
       "</div>"
      ],
      "text/plain": [
       "                                          Auteur(s)  \\\n",
       "0                               ['Philippe Burrin']   \n",
       "1                                   ['Umberto Eco']   \n",
       "2                               ['Dominique Porte']   \n",
       "3                              ['Louis Manaranche']   \n",
       "4                            ['Jean-Claude Heudin']   \n",
       "5                                  ['Romain Kroës']   \n",
       "6                         ['Jean-Gabriel Ganascia']   \n",
       "7  ['David Grossman', 'René Blind', 'Michael Pool']   \n",
       "8                         ['Jean-Gabriel Ganascia']   \n",
       "\n",
       "                                               Titre  \\\n",
       "0         Hitler et les Juifs - genèse d'un génocide   \n",
       "1                            Reconnaître le fascisme   \n",
       "2  L'antisémitisme à l'université - la responsabi...   \n",
       "3                               Retrouver l'histoire   \n",
       "4  Comprendre le deep learning - Une introduction...   \n",
       "5  Décrochage - Comment l'intelligence artificiel...   \n",
       "6  Le mythe de la singularité - Faut-il craindre ...   \n",
       "7  Comment la télévision et les jeux vidéo appren...   \n",
       "8                        L'intelligence artificielle   \n",
       "\n",
       "                       Edition  Date           ISBN  \n",
       "0  Contemporary French Fiction  1995  9782020234085  \n",
       "1                      Grasset  2017  9782246813897  \n",
       "2       Singulières (Editions)  2007  9782354780135  \n",
       "3                         Cerf  2015  9782204103374  \n",
       "4                Science eBook  2016  9791091245449  \n",
       "5                          NaN  2020  9782364051935  \n",
       "6                          NaN  2017  9782021309997  \n",
       "7                          NaN  2003  9782883533073  \n",
       "8    Editions Le Cavalier Bleu  2007  9782846701655  "
      ]
     },
     "execution_count": 309,
     "metadata": {},
     "output_type": "execute_result"
    }
   ],
   "source": [
    "df"
   ]
  },
  {
   "cell_type": "markdown",
   "id": "4211a899",
   "metadata": {},
   "source": [
    "## Extraire ISBN d'un fichier texte"
   ]
  },
  {
   "cell_type": "code",
   "execution_count": 324,
   "id": "01883e87",
   "metadata": {},
   "outputs": [],
   "source": [
    "def extraire_ISBN(fichier):\n",
    "    \n",
    "    # Conversion du fichier txt en csv\n",
    "\n",
    "    df = pd.read_csv (fichier)\n",
    "    df.to_csv (r'ISBN_test.csv', index=None)\n",
    "\n",
    "    # on ajoute chaque ISBN à la liste\n",
    "    liste_isbn = [x for x in df.ISBN]\n",
    "\n",
    "    return liste_isbn"
   ]
  },
  {
   "cell_type": "code",
   "execution_count": 325,
   "id": "03f643dd",
   "metadata": {},
   "outputs": [
    {
     "data": {
      "text/plain": [
       "[9782843377242, 9782081510883, 9782412059845]"
      ]
     },
     "execution_count": 325,
     "metadata": {},
     "output_type": "execute_result"
    }
   ],
   "source": [
    "extraire_ISBN('isbn_suite.txt')"
   ]
  },
  {
   "cell_type": "code",
   "execution_count": 344,
   "id": "56a87f9a",
   "metadata": {},
   "outputs": [],
   "source": [
    "def extraire_ISBN(fichier):\n",
    "    \n",
    "    # Conversion du fichier txt en csv\n",
    "\n",
    "    df = pd.read_csv (fichier)\n",
    "    df.to_csv (r'ISBN_test.csv', index=None)\n",
    "\n",
    "    # on ajoute chaque ISBN à la liste\n",
    "    liste_isbn = [x for x in df.ISBN]\n",
    "    \n",
    "    from isbnlib import canonical, meta\n",
    "\n",
    "    nombre_livres = 0\n",
    "    extraction_donnees = []\n",
    "    curseur = 0\n",
    "\n",
    "    for x in liste_isbn :\n",
    "        isbn = canonical(str(x))\n",
    "        data = meta(isbn)\n",
    "        nombre_livres += 1\n",
    "    #     print(data)\n",
    "\n",
    "        extraction_donnees.append([])\n",
    "        extraction_donnees[curseur].append(data[\"Authors\"])\n",
    "        extraction_donnees[curseur].append(data[\"Title\"])\n",
    "        extraction_donnees[curseur].append(data[\"Publisher\"])\n",
    "        extraction_donnees[curseur].append(data[\"Year\"])\n",
    "        extraction_donnees[curseur].append(data['ISBN-13'])\n",
    "        curseur += 1\n",
    "\n",
    "    print(\"-------------------------------\")\n",
    "    print(\"Nombre de livres dans la liste : \", nombre_livres)\n",
    "    print(\"-------------------------------\")\n",
    "    for x in extraction_donnees :\n",
    "        print(x)\n",
    "        \n",
    "    import csv  \n",
    "\n",
    "    header = ['Auteur(s)', 'Titre', 'Edition', 'Date', 'ISBN']\n",
    "\n",
    "\n",
    "    with open('new.csv', 'w', encoding='UTF8') as f:\n",
    "        writer = csv.writer(f)\n",
    "\n",
    "        # write the header\n",
    "        writer.writerow(header)\n",
    "\n",
    "        for x in extraction_donnees :\n",
    "            # write the data\n",
    "            writer.writerow(x)\n",
    "    df = pd.read_csv('new.csv')\n",
    "    print(df)\n",
    "    \n",
    "    print(\"-------------------------------\")\n",
    "    print(\"CSV enregistré sous le nom : 'new.csv'\")"
   ]
  },
  {
   "cell_type": "code",
   "execution_count": 346,
   "id": "92cbb2d5",
   "metadata": {},
   "outputs": [
    {
     "name": "stdout",
     "output_type": "stream",
     "text": [
      "-------------------------------\n",
      "Nombre de livres dans la liste :  5\n",
      "-------------------------------\n",
      "[['François Dosse'], 'Pierre Vidal-Naquet - Une vie', '', '2020', '9782707194213']\n",
      "[['François Hartog'], \"Chronos - L'Occident aux prises avec le temps\", '', '2020', '9782072893070']\n",
      "[['François Hartog'], 'Anciens, modernes, sauvages', '', '2008', '9782757806869']\n",
      "[['François Dosse'], 'Pierre Nora - homo historicus', 'Librairie Académique Perrin', '2011', '9782262033798']\n",
      "[['Pierre Bourdieu'], 'Homo academicus', 'Les Editions de Minuit', '1984', '9782707306968']\n",
      "             Auteur(s)                                          Titre  \\\n",
      "0   ['François Dosse']                  Pierre Vidal-Naquet - Une vie   \n",
      "1  ['François Hartog']  Chronos - L'Occident aux prises avec le temps   \n",
      "2  ['François Hartog']                    Anciens, modernes, sauvages   \n",
      "3   ['François Dosse']                  Pierre Nora - homo historicus   \n",
      "4  ['Pierre Bourdieu']                                Homo academicus   \n",
      "\n",
      "                       Edition  Date           ISBN  \n",
      "0                          NaN  2020  9782707194213  \n",
      "1                          NaN  2020  9782072893070  \n",
      "2                          NaN  2008  9782757806869  \n",
      "3  Librairie Académique Perrin  2011  9782262033798  \n",
      "4       Les Editions de Minuit  1984  9782707306968  \n",
      "-------------------------------\n",
      "CSV enregistré sous le nom : 'new.csv'\n"
     ]
    }
   ],
   "source": [
    "extraire_ISBN('isbn_2.csv')"
   ]
  },
  {
   "cell_type": "code",
   "execution_count": 284,
   "id": "c1f5b05b",
   "metadata": {},
   "outputs": [
    {
     "data": {
      "text/html": [
       "<div>\n",
       "<style scoped>\n",
       "    .dataframe tbody tr th:only-of-type {\n",
       "        vertical-align: middle;\n",
       "    }\n",
       "\n",
       "    .dataframe tbody tr th {\n",
       "        vertical-align: top;\n",
       "    }\n",
       "\n",
       "    .dataframe thead th {\n",
       "        text-align: right;\n",
       "    }\n",
       "</style>\n",
       "<table border=\"1\" class=\"dataframe\">\n",
       "  <thead>\n",
       "    <tr style=\"text-align: right;\">\n",
       "      <th></th>\n",
       "      <th>Auteur(s)</th>\n",
       "      <th>Titre</th>\n",
       "      <th>Edition</th>\n",
       "      <th>Date</th>\n",
       "      <th>ISBN</th>\n",
       "    </tr>\n",
       "  </thead>\n",
       "  <tbody>\n",
       "    <tr>\n",
       "      <th>0</th>\n",
       "      <td>['Aymeric Patricot']</td>\n",
       "      <td>Les petits blancs - un voyage dans la France d...</td>\n",
       "      <td>NaN</td>\n",
       "      <td>2013</td>\n",
       "      <td>9782843377242</td>\n",
       "    </tr>\n",
       "    <tr>\n",
       "      <th>1</th>\n",
       "      <td>['Nicholas Ayache', 'Alain Damasio', 'Yuval No...</td>\n",
       "      <td>Nouvelle enquête sur l’intelligence artificiel...</td>\n",
       "      <td>NaN</td>\n",
       "      <td>2020</td>\n",
       "      <td>9782081510883</td>\n",
       "    </tr>\n",
       "    <tr>\n",
       "      <th>2</th>\n",
       "      <td>[\"Stéphane d' Ascoli\"]</td>\n",
       "      <td>L'intelligence artificielle en 5 minutes par jour</td>\n",
       "      <td>NaN</td>\n",
       "      <td>2020</td>\n",
       "      <td>9782412059845</td>\n",
       "    </tr>\n",
       "  </tbody>\n",
       "</table>\n",
       "</div>"
      ],
      "text/plain": [
       "                                           Auteur(s)  \\\n",
       "0                               ['Aymeric Patricot']   \n",
       "1  ['Nicholas Ayache', 'Alain Damasio', 'Yuval No...   \n",
       "2                             [\"Stéphane d' Ascoli\"]   \n",
       "\n",
       "                                               Titre  Edition  Date  \\\n",
       "0  Les petits blancs - un voyage dans la France d...      NaN  2013   \n",
       "1  Nouvelle enquête sur l’intelligence artificiel...      NaN  2020   \n",
       "2  L'intelligence artificielle en 5 minutes par jour      NaN  2020   \n",
       "\n",
       "            ISBN  \n",
       "0  9782843377242  \n",
       "1  9782081510883  \n",
       "2  9782412059845  "
      ]
     },
     "execution_count": 284,
     "metadata": {},
     "output_type": "execute_result"
    }
   ],
   "source": [
    "test = pd.read_csv('new.csv')\n",
    "test"
   ]
  },
  {
   "cell_type": "markdown",
   "id": "21e82d7b",
   "metadata": {},
   "source": [
    "## Fonction pour fusionner deux csv"
   ]
  },
  {
   "cell_type": "code",
   "execution_count": 312,
   "id": "c7ac03a8",
   "metadata": {},
   "outputs": [],
   "source": [
    "def fusionner_csv(df1, df2):\n",
    "    frames = [df1, df2]\n",
    "    result = pd.concat(frames,ignore_index=True, sort=False)\n",
    "    return result"
   ]
  },
  {
   "cell_type": "code",
   "execution_count": 313,
   "id": "cbccb0b6",
   "metadata": {},
   "outputs": [
    {
     "data": {
      "text/html": [
       "<div>\n",
       "<style scoped>\n",
       "    .dataframe tbody tr th:only-of-type {\n",
       "        vertical-align: middle;\n",
       "    }\n",
       "\n",
       "    .dataframe tbody tr th {\n",
       "        vertical-align: top;\n",
       "    }\n",
       "\n",
       "    .dataframe thead th {\n",
       "        text-align: right;\n",
       "    }\n",
       "</style>\n",
       "<table border=\"1\" class=\"dataframe\">\n",
       "  <thead>\n",
       "    <tr style=\"text-align: right;\">\n",
       "      <th></th>\n",
       "      <th>Auteur(s)</th>\n",
       "      <th>Titre</th>\n",
       "      <th>Edition</th>\n",
       "      <th>Date</th>\n",
       "      <th>ISBN</th>\n",
       "    </tr>\n",
       "  </thead>\n",
       "  <tbody>\n",
       "    <tr>\n",
       "      <th>0</th>\n",
       "      <td>['Aymeric Patricot']</td>\n",
       "      <td>Les petits blancs - un voyage dans la France d...</td>\n",
       "      <td>NaN</td>\n",
       "      <td>2013</td>\n",
       "      <td>9782843377242</td>\n",
       "    </tr>\n",
       "    <tr>\n",
       "      <th>1</th>\n",
       "      <td>['Nicholas Ayache', 'Alain Damasio', 'Yuval No...</td>\n",
       "      <td>Nouvelle enquête sur l’intelligence artificiel...</td>\n",
       "      <td>NaN</td>\n",
       "      <td>2020</td>\n",
       "      <td>9782081510883</td>\n",
       "    </tr>\n",
       "    <tr>\n",
       "      <th>2</th>\n",
       "      <td>[\"Stéphane d' Ascoli\"]</td>\n",
       "      <td>L'intelligence artificielle en 5 minutes par jour</td>\n",
       "      <td>NaN</td>\n",
       "      <td>2020</td>\n",
       "      <td>9782412059845</td>\n",
       "    </tr>\n",
       "    <tr>\n",
       "      <th>3</th>\n",
       "      <td>['Philippe Burrin']</td>\n",
       "      <td>Hitler et les Juifs - genèse d'un génocide</td>\n",
       "      <td>Contemporary French Fiction</td>\n",
       "      <td>1995</td>\n",
       "      <td>9782020234085</td>\n",
       "    </tr>\n",
       "    <tr>\n",
       "      <th>4</th>\n",
       "      <td>['Umberto Eco']</td>\n",
       "      <td>Reconnaître le fascisme</td>\n",
       "      <td>Grasset</td>\n",
       "      <td>2017</td>\n",
       "      <td>9782246813897</td>\n",
       "    </tr>\n",
       "    <tr>\n",
       "      <th>5</th>\n",
       "      <td>['Dominique Porte']</td>\n",
       "      <td>L'antisémitisme à l'université - la responsabi...</td>\n",
       "      <td>Singulières (Editions)</td>\n",
       "      <td>2007</td>\n",
       "      <td>9782354780135</td>\n",
       "    </tr>\n",
       "    <tr>\n",
       "      <th>6</th>\n",
       "      <td>['Louis Manaranche']</td>\n",
       "      <td>Retrouver l'histoire</td>\n",
       "      <td>Cerf</td>\n",
       "      <td>2015</td>\n",
       "      <td>9782204103374</td>\n",
       "    </tr>\n",
       "    <tr>\n",
       "      <th>7</th>\n",
       "      <td>['Jean-Claude Heudin']</td>\n",
       "      <td>Comprendre le deep learning - Une introduction...</td>\n",
       "      <td>Science eBook</td>\n",
       "      <td>2016</td>\n",
       "      <td>9791091245449</td>\n",
       "    </tr>\n",
       "    <tr>\n",
       "      <th>8</th>\n",
       "      <td>['Romain Kroës']</td>\n",
       "      <td>Décrochage - Comment l'intelligence artificiel...</td>\n",
       "      <td>NaN</td>\n",
       "      <td>2020</td>\n",
       "      <td>9782364051935</td>\n",
       "    </tr>\n",
       "    <tr>\n",
       "      <th>9</th>\n",
       "      <td>['Jean-Gabriel Ganascia']</td>\n",
       "      <td>Le mythe de la singularité - Faut-il craindre ...</td>\n",
       "      <td>NaN</td>\n",
       "      <td>2017</td>\n",
       "      <td>9782021309997</td>\n",
       "    </tr>\n",
       "    <tr>\n",
       "      <th>10</th>\n",
       "      <td>['David Grossman', 'René Blind', 'Michael Pool']</td>\n",
       "      <td>Comment la télévision et les jeux vidéo appren...</td>\n",
       "      <td>NaN</td>\n",
       "      <td>2003</td>\n",
       "      <td>9782883533073</td>\n",
       "    </tr>\n",
       "    <tr>\n",
       "      <th>11</th>\n",
       "      <td>['Jean-Gabriel Ganascia']</td>\n",
       "      <td>L'intelligence artificielle</td>\n",
       "      <td>Editions Le Cavalier Bleu</td>\n",
       "      <td>2007</td>\n",
       "      <td>9782846701655</td>\n",
       "    </tr>\n",
       "  </tbody>\n",
       "</table>\n",
       "</div>"
      ],
      "text/plain": [
       "                                            Auteur(s)  \\\n",
       "0                                ['Aymeric Patricot']   \n",
       "1   ['Nicholas Ayache', 'Alain Damasio', 'Yuval No...   \n",
       "2                              [\"Stéphane d' Ascoli\"]   \n",
       "3                                 ['Philippe Burrin']   \n",
       "4                                     ['Umberto Eco']   \n",
       "5                                 ['Dominique Porte']   \n",
       "6                                ['Louis Manaranche']   \n",
       "7                              ['Jean-Claude Heudin']   \n",
       "8                                    ['Romain Kroës']   \n",
       "9                           ['Jean-Gabriel Ganascia']   \n",
       "10   ['David Grossman', 'René Blind', 'Michael Pool']   \n",
       "11                          ['Jean-Gabriel Ganascia']   \n",
       "\n",
       "                                                Titre  \\\n",
       "0   Les petits blancs - un voyage dans la France d...   \n",
       "1   Nouvelle enquête sur l’intelligence artificiel...   \n",
       "2   L'intelligence artificielle en 5 minutes par jour   \n",
       "3          Hitler et les Juifs - genèse d'un génocide   \n",
       "4                             Reconnaître le fascisme   \n",
       "5   L'antisémitisme à l'université - la responsabi...   \n",
       "6                                Retrouver l'histoire   \n",
       "7   Comprendre le deep learning - Une introduction...   \n",
       "8   Décrochage - Comment l'intelligence artificiel...   \n",
       "9   Le mythe de la singularité - Faut-il craindre ...   \n",
       "10  Comment la télévision et les jeux vidéo appren...   \n",
       "11                        L'intelligence artificielle   \n",
       "\n",
       "                        Edition  Date           ISBN  \n",
       "0                           NaN  2013  9782843377242  \n",
       "1                           NaN  2020  9782081510883  \n",
       "2                           NaN  2020  9782412059845  \n",
       "3   Contemporary French Fiction  1995  9782020234085  \n",
       "4                       Grasset  2017  9782246813897  \n",
       "5        Singulières (Editions)  2007  9782354780135  \n",
       "6                          Cerf  2015  9782204103374  \n",
       "7                 Science eBook  2016  9791091245449  \n",
       "8                           NaN  2020  9782364051935  \n",
       "9                           NaN  2017  9782021309997  \n",
       "10                          NaN  2003  9782883533073  \n",
       "11    Editions Le Cavalier Bleu  2007  9782846701655  "
      ]
     },
     "execution_count": 313,
     "metadata": {},
     "output_type": "execute_result"
    }
   ],
   "source": [
    "fusionner_csv(test, df)"
   ]
  },
  {
   "cell_type": "markdown",
   "id": "3195645d",
   "metadata": {},
   "source": [
    "## Enregistrer CSV"
   ]
  },
  {
   "cell_type": "code",
   "execution_count": 316,
   "id": "1557514f",
   "metadata": {},
   "outputs": [],
   "source": [
    "# df = fusion de deux csv grâce à une fonction\n",
    "df_2 = fusionner_csv(test, df)\n",
    "\n",
    "# enregistrement du nouveau csv\n",
    "df_2.to_csv(\"bdd_maj.csv\")"
   ]
  },
  {
   "cell_type": "code",
   "execution_count": 351,
   "id": "395ed9af",
   "metadata": {},
   "outputs": [
    {
     "data": {
      "text/html": [
       "<div>\n",
       "<style scoped>\n",
       "    .dataframe tbody tr th:only-of-type {\n",
       "        vertical-align: middle;\n",
       "    }\n",
       "\n",
       "    .dataframe tbody tr th {\n",
       "        vertical-align: top;\n",
       "    }\n",
       "\n",
       "    .dataframe thead th {\n",
       "        text-align: right;\n",
       "    }\n",
       "</style>\n",
       "<table border=\"1\" class=\"dataframe\">\n",
       "  <thead>\n",
       "    <tr style=\"text-align: right;\">\n",
       "      <th></th>\n",
       "      <th>Auteur(s)</th>\n",
       "      <th>Titre</th>\n",
       "      <th>Edition</th>\n",
       "      <th>Date</th>\n",
       "      <th>Discipline</th>\n",
       "      <th>Sujet</th>\n",
       "      <th>Mots-clés</th>\n",
       "    </tr>\n",
       "  </thead>\n",
       "  <tbody>\n",
       "    <tr>\n",
       "      <th>0</th>\n",
       "      <td>Test1</td>\n",
       "      <td>titre1</td>\n",
       "      <td>test1</td>\n",
       "      <td>1000</td>\n",
       "      <td>Histoire</td>\n",
       "      <td>test1</td>\n",
       "      <td>x y z</td>\n",
       "    </tr>\n",
       "    <tr>\n",
       "      <th>1</th>\n",
       "      <td>Test2</td>\n",
       "      <td>titre2</td>\n",
       "      <td>test2</td>\n",
       "      <td>1010</td>\n",
       "      <td>Sociologie</td>\n",
       "      <td>test2</td>\n",
       "      <td>ceci est un test</td>\n",
       "    </tr>\n",
       "    <tr>\n",
       "      <th>2</th>\n",
       "      <td>Test3</td>\n",
       "      <td>titre3</td>\n",
       "      <td>test3</td>\n",
       "      <td>1100</td>\n",
       "      <td>Philosophie</td>\n",
       "      <td>test3</td>\n",
       "      <td>test en plus</td>\n",
       "    </tr>\n",
       "    <tr>\n",
       "      <th>3</th>\n",
       "      <td>Test4</td>\n",
       "      <td>titre4</td>\n",
       "      <td>test4</td>\n",
       "      <td>1</td>\n",
       "      <td>Informatique</td>\n",
       "      <td>test4</td>\n",
       "      <td>test quatrième programmation</td>\n",
       "    </tr>\n",
       "  </tbody>\n",
       "</table>\n",
       "</div>"
      ],
      "text/plain": [
       "  Auteur(s)    Titre  Edition   Date     Discipline   Sujet  \\\n",
       "0     Test1   titre1    test1   1000       Histoire   test1   \n",
       "1     Test2   titre2    test2   1010     Sociologie   test2   \n",
       "2     Test3   titre3    test3   1100    Philosophie   test3   \n",
       "3     Test4   titre4    test4      1   Informatique   test4   \n",
       "\n",
       "                       Mots-clés  \n",
       "0                         x y z   \n",
       "1               ceci est un test  \n",
       "2                   test en plus  \n",
       "3   test quatrième programmation  "
      ]
     },
     "execution_count": 351,
     "metadata": {},
     "output_type": "execute_result"
    }
   ],
   "source": [
    "df"
   ]
  }
 ],
 "metadata": {
  "kernelspec": {
   "display_name": "Python 3 (ipykernel)",
   "language": "python",
   "name": "python3"
  },
  "language_info": {
   "codemirror_mode": {
    "name": "ipython",
    "version": 3
   },
   "file_extension": ".py",
   "mimetype": "text/x-python",
   "name": "python",
   "nbconvert_exporter": "python",
   "pygments_lexer": "ipython3",
   "version": "3.8.3"
  }
 },
 "nbformat": 4,
 "nbformat_minor": 5
}
