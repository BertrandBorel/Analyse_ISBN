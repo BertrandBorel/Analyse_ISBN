{
 "cells": [
  {
   "cell_type": "markdown",
   "id": "ee7fe226",
   "metadata": {},
   "source": [
    "# <center> Création d'un csv avec infos ISBN, traitement des données et insertion à la bibliographie complète </center>"
   ]
  },
  {
   "cell_type": "code",
   "execution_count": 1,
   "id": "01e813dc",
   "metadata": {},
   "outputs": [],
   "source": [
    "import pandas as pd\n",
    "from isbnlib import canonical, meta\n",
    "import csv\n",
    "from tqdm import tqdm"
   ]
  },
  {
   "cell_type": "markdown",
   "id": "cdc820c4",
   "metadata": {},
   "source": [
    "## Création csv et importation des données"
   ]
  },
  {
   "cell_type": "code",
   "execution_count": 402,
   "id": "35f0378c",
   "metadata": {},
   "outputs": [
    {
     "name": "stdout",
     "output_type": "stream",
     "text": [
      "fichier créé\n",
      "-------------------------------\n",
      "Recherche en cours...\n"
     ]
    },
    {
     "name": "stderr",
     "output_type": "stream",
     "text": [
      "100%|██████████████████████████████████████████████████████████████████████████████████| 10/10 [00:13<00:00,  1.33s/it]\n"
     ]
    },
    {
     "name": "stdout",
     "output_type": "stream",
     "text": [
      "-------------------------------\n",
      "Nombre de livres dans la liste :  10\n",
      "-------------------------------\n",
      "[[['Xavier Niel', 'Dominique Roux'], \"Les 100 mots de l'Internet\", 'Presses Universitaires de France - PUF', '2012', '9782130592112'], [['Jean-François Pillou', 'Pascal Caillerez'], \"Tout sur les systèmes d'information - Grandes, moyennes et petites entreprises\", '', '2016', '9782100743841'], [['Jean-François Pillou', 'Fabrice Lemainque'], 'Tout sur les Réseaux et Internet', '', '2020', '9782100807673'], ['Xavier Oberson', \"Taxer les robots - Aider l'économie à s'adapter à l'usage de l'intelligence artificielle\", '', '2020', '9782807921399'], ['Eric John Hobsbawm', 'Franc-tireur - autobiographie', '', '2005', '9782841147625'], [['Dimitri Casali', 'Olivier Gracia'], \"L'histoire se répète toujours deux fois\", '', '2017', '9782035939937'], ['Karim Massimov', \"Le prochain maître du monde - L'intelligence artificielle\", '', '2020', '9782213717432'], ['Jean-Pierre Le Goff', 'La fin du village - une histoire française', 'Editions Gallimard', '2012', '9782070774425'], ['Daniel Jonah Goldhagen', \"Les Bourreaux volontaires de Hitler - les Allemands ordinaires et l'Holocauste+ Hitler's Willing executioners: ordinary Germans and the Holocaust\", 'Contemporary French Fiction', '1998', '9782020334174'], ['Roland Fitoussi', \"Mondialisation Acte II - Le choc de l'intelligence artificielle\", '', '2017', '9782343114910']]\n",
      "-------------------------------\n",
      "Insertion dans le csv...\n"
     ]
    },
    {
     "name": "stderr",
     "output_type": "stream",
     "text": [
      "100%|██████████████████████████████████████████████████████████████████████████████████████████| 10/10 [00:00<?, ?it/s]"
     ]
    },
    {
     "name": "stdout",
     "output_type": "stream",
     "text": [
      "Insertion des données réussies.\n"
     ]
    },
    {
     "name": "stderr",
     "output_type": "stream",
     "text": [
      "\n"
     ]
    }
   ],
   "source": [
    "# from isbnlib import canonical, meta\n",
    "# import csv\n",
    "# from tqdm import tqdm\n",
    "\n",
    "## Création du csv \n",
    "header = ['Auteur(s)', 'Titre', 'Edition', 'Date', 'ISBN']\n",
    "with open(r'biblio_traitement.csv', 'a') as f:\n",
    "    writer = csv.writer(f)\n",
    "        # write the header\n",
    "    writer.writerow(header)\n",
    "    print(\"fichier créé\")\n",
    "    \n",
    "print(\"-------------------------------\")    \n",
    "print(\"Recherche en cours...\")    \n",
    "    \n",
    "# Variable optionnelle : liste recueillant les ISBN à traiter\n",
    "liste_ISBN = [   ]\n",
    "\n",
    "    \n",
    "nombre_livres = 0\n",
    "liste_ref = []\n",
    "curseur = 0\n",
    "ISBN = []\n",
    "\n",
    "for x in tqdm(liste_ISBN) :\n",
    "        isbn = canonical(str(x))\n",
    "        data = meta(isbn)\n",
    "        nombre_livres += 1\n",
    "    #     print(data) \n",
    "    \n",
    "    \n",
    "        biblio = []\n",
    "        \n",
    "        if len(data[\"Authors\"]) == 1 :\n",
    "            for x in data[\"Authors\"] :\n",
    "                biblio.append(x)\n",
    "        else : \n",
    "            biblio.append(data[\"Authors\"])\n",
    "            \n",
    "        biblio.append(data[\"Title\"])\n",
    "        biblio.append(data[\"Publisher\"])\n",
    "        biblio.append(data[\"Year\"])\n",
    "        biblio.append(data['ISBN-13'])\n",
    "\n",
    "        \n",
    "        ISBN.append(biblio)\n",
    "\n",
    "print(\"-------------------------------\")\n",
    "print(\"Nombre de livres dans la liste : \", nombre_livres)\n",
    "print(\"-------------------------------\")\n",
    "print(ISBN)\n",
    "print(\"-------------------------------\")\n",
    "print(\"Insertion dans le csv...\")\n",
    "    \n",
    "with open(r'biblio_traitement.csv', 'a', encoding='UTF8') as f:\n",
    "        for x in tqdm(ISBN) :\n",
    "            writer = csv.writer(f)\n",
    "            writer.writerow(x)\n",
    "    \n",
    "        print(\"Insertion des données réussies.\")"
   ]
  },
  {
   "cell_type": "markdown",
   "id": "0050f3cf",
   "metadata": {},
   "source": [
    "### Ouverture du nouveau df"
   ]
  },
  {
   "cell_type": "code",
   "execution_count": 72,
   "id": "3b984712",
   "metadata": {},
   "outputs": [
    {
     "data": {
      "text/html": [
       "<div>\n",
       "<style scoped>\n",
       "    .dataframe tbody tr th:only-of-type {\n",
       "        vertical-align: middle;\n",
       "    }\n",
       "\n",
       "    .dataframe tbody tr th {\n",
       "        vertical-align: top;\n",
       "    }\n",
       "\n",
       "    .dataframe thead th {\n",
       "        text-align: right;\n",
       "    }\n",
       "</style>\n",
       "<table border=\"1\" class=\"dataframe\">\n",
       "  <thead>\n",
       "    <tr style=\"text-align: right;\">\n",
       "      <th></th>\n",
       "      <th>Auteur(s)</th>\n",
       "      <th>Titre</th>\n",
       "      <th>Edition</th>\n",
       "      <th>Date</th>\n",
       "      <th>ISBN</th>\n",
       "    </tr>\n",
       "  </thead>\n",
       "  <tbody>\n",
       "    <tr>\n",
       "      <th>0</th>\n",
       "      <td>Yves Coppens</td>\n",
       "      <td>Pré-ambules - les premiers pas de l'homme</td>\n",
       "      <td>Odile Jacob</td>\n",
       "      <td>2001</td>\n",
       "      <td>9782738109361</td>\n",
       "    </tr>\n",
       "    <tr>\n",
       "      <th>1</th>\n",
       "      <td>Karl Marx</td>\n",
       "      <td>Le 18 Brumaire de Louis Bonaparte</td>\n",
       "      <td>Editions Mille et une nuits</td>\n",
       "      <td>1997</td>\n",
       "      <td>9782842051822</td>\n",
       "    </tr>\n",
       "    <tr>\n",
       "      <th>2</th>\n",
       "      <td>Christophe Deloire</td>\n",
       "      <td>Sexus politicus</td>\n",
       "      <td>J'ai lu</td>\n",
       "      <td>2008</td>\n",
       "      <td>9782290008652</td>\n",
       "    </tr>\n",
       "    <tr>\n",
       "      <th>3</th>\n",
       "      <td>Fabrice d' Almeida</td>\n",
       "      <td>Comment naissent les révolutions</td>\n",
       "      <td>Librairie Académique Perrin</td>\n",
       "      <td>2009</td>\n",
       "      <td>9782262030292</td>\n",
       "    </tr>\n",
       "    <tr>\n",
       "      <th>4</th>\n",
       "      <td>Alessandro Barbero</td>\n",
       "      <td>Le jour des barbares - Andrinople, 9 août 378</td>\n",
       "      <td>NaN</td>\n",
       "      <td>2010</td>\n",
       "      <td>9782081220553</td>\n",
       "    </tr>\n",
       "    <tr>\n",
       "      <th>5</th>\n",
       "      <td>Pirmin Lemberger</td>\n",
       "      <td>Big data et machine learning: les concepts et ...</td>\n",
       "      <td>Dunod</td>\n",
       "      <td>2016</td>\n",
       "      <td>9782100754632</td>\n",
       "    </tr>\n",
       "    <tr>\n",
       "      <th>6</th>\n",
       "      <td>Alain Gérard Slama</td>\n",
       "      <td>La société d'indifférence</td>\n",
       "      <td>Perrin</td>\n",
       "      <td>2010</td>\n",
       "      <td>9782262033682</td>\n",
       "    </tr>\n",
       "    <tr>\n",
       "      <th>7</th>\n",
       "      <td>Philippe Ariès</td>\n",
       "      <td>Essais sur l'histoire de la mort en Occident d...</td>\n",
       "      <td>Éditions du Seuil</td>\n",
       "      <td>1977</td>\n",
       "      <td>9782020047364</td>\n",
       "    </tr>\n",
       "    <tr>\n",
       "      <th>8</th>\n",
       "      <td>Aurélie Jean</td>\n",
       "      <td>Les algorithmes font-ils la loi ?</td>\n",
       "      <td>NaN</td>\n",
       "      <td>2021</td>\n",
       "      <td>9791032915011</td>\n",
       "    </tr>\n",
       "  </tbody>\n",
       "</table>\n",
       "</div>"
      ],
      "text/plain": [
       "             Auteur(s)                                              Titre  \\\n",
       "0         Yves Coppens          Pré-ambules - les premiers pas de l'homme   \n",
       "1            Karl Marx                  Le 18 Brumaire de Louis Bonaparte   \n",
       "2   Christophe Deloire                                    Sexus politicus   \n",
       "3   Fabrice d' Almeida                   Comment naissent les révolutions   \n",
       "4   Alessandro Barbero      Le jour des barbares - Andrinople, 9 août 378   \n",
       "5     Pirmin Lemberger  Big data et machine learning: les concepts et ...   \n",
       "6  Alain Gérard Slama                       La société d'indifférence   \n",
       "7      Philippe Ariès  Essais sur l'histoire de la mort en Occident d...   \n",
       "8        Aurélie Jean                  Les algorithmes font-ils la loi ?   \n",
       "\n",
       "                       Edition  Date           ISBN  \n",
       "0                  Odile Jacob  2001  9782738109361  \n",
       "1  Editions Mille et une nuits  1997  9782842051822  \n",
       "2                      J'ai lu  2008  9782290008652  \n",
       "3  Librairie Académique Perrin  2009  9782262030292  \n",
       "4                          NaN  2010  9782081220553  \n",
       "5                        Dunod  2016  9782100754632  \n",
       "6                       Perrin  2010  9782262033682  \n",
       "7           Éditions du Seuil  1977  9782020047364  \n",
       "8                          NaN  2021  9791032915011  "
      ]
     },
     "execution_count": 72,
     "metadata": {},
     "output_type": "execute_result"
    }
   ],
   "source": [
    "df = pd.read_csv(\"test_source.csv\")\n",
    "df"
   ]
  },
  {
   "cell_type": "markdown",
   "id": "27ed54f8",
   "metadata": {},
   "source": [
    "## Traitement sur les données"
   ]
  },
  {
   "cell_type": "markdown",
   "id": "96dd9204",
   "metadata": {},
   "source": [
    "### Remplacer les valeurs NaN"
   ]
  },
  {
   "cell_type": "code",
   "execution_count": 76,
   "id": "f1cd8f4f",
   "metadata": {},
   "outputs": [
    {
     "data": {
      "text/html": [
       "<div>\n",
       "<style scoped>\n",
       "    .dataframe tbody tr th:only-of-type {\n",
       "        vertical-align: middle;\n",
       "    }\n",
       "\n",
       "    .dataframe tbody tr th {\n",
       "        vertical-align: top;\n",
       "    }\n",
       "\n",
       "    .dataframe thead th {\n",
       "        text-align: right;\n",
       "    }\n",
       "</style>\n",
       "<table border=\"1\" class=\"dataframe\">\n",
       "  <thead>\n",
       "    <tr style=\"text-align: right;\">\n",
       "      <th></th>\n",
       "      <th>Auteur(s)</th>\n",
       "      <th>Titre</th>\n",
       "      <th>Edition</th>\n",
       "      <th>Date</th>\n",
       "      <th>ISBN</th>\n",
       "    </tr>\n",
       "  </thead>\n",
       "  <tbody>\n",
       "    <tr>\n",
       "      <th>0</th>\n",
       "      <td>Yves Coppens</td>\n",
       "      <td>Pré-ambules - les premiers pas de l'homme</td>\n",
       "      <td>Odile Jacob</td>\n",
       "      <td>2001</td>\n",
       "      <td>9782738109361</td>\n",
       "    </tr>\n",
       "    <tr>\n",
       "      <th>1</th>\n",
       "      <td>Karl Marx</td>\n",
       "      <td>Le 18 Brumaire de Louis Bonaparte</td>\n",
       "      <td>Editions Mille et une nuits</td>\n",
       "      <td>1997</td>\n",
       "      <td>9782842051822</td>\n",
       "    </tr>\n",
       "    <tr>\n",
       "      <th>2</th>\n",
       "      <td>Christophe Deloire</td>\n",
       "      <td>Sexus politicus</td>\n",
       "      <td>J'ai lu</td>\n",
       "      <td>2008</td>\n",
       "      <td>9782290008652</td>\n",
       "    </tr>\n",
       "    <tr>\n",
       "      <th>3</th>\n",
       "      <td>Fabrice d' Almeida</td>\n",
       "      <td>Comment naissent les révolutions</td>\n",
       "      <td>Perrin</td>\n",
       "      <td>2009</td>\n",
       "      <td>9782262030292</td>\n",
       "    </tr>\n",
       "    <tr>\n",
       "      <th>4</th>\n",
       "      <td>Alessandro Barbero</td>\n",
       "      <td>Le jour des barbares - Andrinople, 9 août 378</td>\n",
       "      <td>Flammarion</td>\n",
       "      <td>2010</td>\n",
       "      <td>9782081220553</td>\n",
       "    </tr>\n",
       "    <tr>\n",
       "      <th>5</th>\n",
       "      <td>Pirmin Lemberger</td>\n",
       "      <td>Big data et machine learning: les concepts et ...</td>\n",
       "      <td>Dunod</td>\n",
       "      <td>2016</td>\n",
       "      <td>9782100754632</td>\n",
       "    </tr>\n",
       "    <tr>\n",
       "      <th>6</th>\n",
       "      <td>Alain Gérard Slama</td>\n",
       "      <td>La société d'indifférence</td>\n",
       "      <td>Perrin</td>\n",
       "      <td>2010</td>\n",
       "      <td>9782262033682</td>\n",
       "    </tr>\n",
       "    <tr>\n",
       "      <th>7</th>\n",
       "      <td>Philippe Ariès</td>\n",
       "      <td>Essais sur l'histoire de la mort en Occident d...</td>\n",
       "      <td>Seuil</td>\n",
       "      <td>1977</td>\n",
       "      <td>9782020047364</td>\n",
       "    </tr>\n",
       "    <tr>\n",
       "      <th>8</th>\n",
       "      <td>Aurélie Jean</td>\n",
       "      <td>Les algorithmes font-ils la loi ?</td>\n",
       "      <td>Observatoire</td>\n",
       "      <td>2021</td>\n",
       "      <td>9791032915011</td>\n",
       "    </tr>\n",
       "  </tbody>\n",
       "</table>\n",
       "</div>"
      ],
      "text/plain": [
       "             Auteur(s)                                              Titre  \\\n",
       "0         Yves Coppens          Pré-ambules - les premiers pas de l'homme   \n",
       "1            Karl Marx                  Le 18 Brumaire de Louis Bonaparte   \n",
       "2   Christophe Deloire                                    Sexus politicus   \n",
       "3   Fabrice d' Almeida                   Comment naissent les révolutions   \n",
       "4   Alessandro Barbero      Le jour des barbares - Andrinople, 9 août 378   \n",
       "5     Pirmin Lemberger  Big data et machine learning: les concepts et ...   \n",
       "6  Alain Gérard Slama                       La société d'indifférence   \n",
       "7      Philippe Ariès  Essais sur l'histoire de la mort en Occident d...   \n",
       "8        Aurélie Jean                  Les algorithmes font-ils la loi ?   \n",
       "\n",
       "                       Edition  Date           ISBN  \n",
       "0                  Odile Jacob  2001  9782738109361  \n",
       "1  Editions Mille et une nuits  1997  9782842051822  \n",
       "2                      J'ai lu  2008  9782290008652  \n",
       "3                       Perrin  2009  9782262030292  \n",
       "4                   Flammarion  2010  9782081220553  \n",
       "5                        Dunod  2016  9782100754632  \n",
       "6                       Perrin  2010  9782262033682  \n",
       "7                        Seuil  1977  9782020047364  \n",
       "8                 Observatoire  2021  9791032915011  "
      ]
     },
     "execution_count": 76,
     "metadata": {},
     "output_type": "execute_result"
    }
   ],
   "source": [
    "df.loc[8, \"Edition\"] = \"Observatoire\"\n",
    "\n",
    "df\n",
    "# Sauvegarde du csv \n",
    "df.to_csv(\"test_source.csv\", index=False)\n",
    "\n",
    "# affichage du df\n",
    "df"
   ]
  },
  {
   "cell_type": "code",
   "execution_count": 77,
   "id": "59225ae2",
   "metadata": {},
   "outputs": [
    {
     "data": {
      "text/html": [
       "<div>\n",
       "<style scoped>\n",
       "    .dataframe tbody tr th:only-of-type {\n",
       "        vertical-align: middle;\n",
       "    }\n",
       "\n",
       "    .dataframe tbody tr th {\n",
       "        vertical-align: top;\n",
       "    }\n",
       "\n",
       "    .dataframe thead th {\n",
       "        text-align: right;\n",
       "    }\n",
       "</style>\n",
       "<table border=\"1\" class=\"dataframe\">\n",
       "  <thead>\n",
       "    <tr style=\"text-align: right;\">\n",
       "      <th></th>\n",
       "      <th>Auteur(s)</th>\n",
       "      <th>Titre</th>\n",
       "      <th>Edition</th>\n",
       "      <th>Date</th>\n",
       "      <th>ISBN</th>\n",
       "    </tr>\n",
       "  </thead>\n",
       "  <tbody>\n",
       "    <tr>\n",
       "      <th>0</th>\n",
       "      <td>Yves Coppens</td>\n",
       "      <td>Pré-ambules - les premiers pas de l'homme</td>\n",
       "      <td>Odile Jacob</td>\n",
       "      <td>2001</td>\n",
       "      <td>9782738109361</td>\n",
       "    </tr>\n",
       "    <tr>\n",
       "      <th>1</th>\n",
       "      <td>Karl Marx</td>\n",
       "      <td>Le 18 Brumaire de Louis Bonaparte</td>\n",
       "      <td>Editions Mille et une nuits</td>\n",
       "      <td>1997</td>\n",
       "      <td>9782842051822</td>\n",
       "    </tr>\n",
       "    <tr>\n",
       "      <th>2</th>\n",
       "      <td>Christophe Deloire</td>\n",
       "      <td>Sexus politicus</td>\n",
       "      <td>J'ai lu</td>\n",
       "      <td>2008</td>\n",
       "      <td>9782290008652</td>\n",
       "    </tr>\n",
       "    <tr>\n",
       "      <th>3</th>\n",
       "      <td>Fabrice d' Almeida</td>\n",
       "      <td>Comment naissent les révolutions</td>\n",
       "      <td>Perrin</td>\n",
       "      <td>2009</td>\n",
       "      <td>9782262030292</td>\n",
       "    </tr>\n",
       "    <tr>\n",
       "      <th>4</th>\n",
       "      <td>Alessandro Barbero</td>\n",
       "      <td>Le jour des barbares - Andrinople, 9 août 378</td>\n",
       "      <td>Flammarion</td>\n",
       "      <td>2010</td>\n",
       "      <td>9782081220553</td>\n",
       "    </tr>\n",
       "    <tr>\n",
       "      <th>5</th>\n",
       "      <td>Pirmin Lemberger</td>\n",
       "      <td>Big data et machine learning: les concepts et ...</td>\n",
       "      <td>Dunod</td>\n",
       "      <td>2016</td>\n",
       "      <td>9782100754632</td>\n",
       "    </tr>\n",
       "    <tr>\n",
       "      <th>6</th>\n",
       "      <td>Alain Gérard Slama</td>\n",
       "      <td>La société d'indifférence</td>\n",
       "      <td>Perrin</td>\n",
       "      <td>2010</td>\n",
       "      <td>9782262033682</td>\n",
       "    </tr>\n",
       "    <tr>\n",
       "      <th>7</th>\n",
       "      <td>Philippe Ariès</td>\n",
       "      <td>Essais sur l'histoire de la mort en Occident d...</td>\n",
       "      <td>Seuil</td>\n",
       "      <td>1977</td>\n",
       "      <td>9782020047364</td>\n",
       "    </tr>\n",
       "    <tr>\n",
       "      <th>8</th>\n",
       "      <td>Aurélie Jean</td>\n",
       "      <td>Les algorithmes font-ils la loi ?</td>\n",
       "      <td>Observatoire</td>\n",
       "      <td>2021</td>\n",
       "      <td>9791032915011</td>\n",
       "    </tr>\n",
       "  </tbody>\n",
       "</table>\n",
       "</div>"
      ],
      "text/plain": [
       "             Auteur(s)                                              Titre  \\\n",
       "0         Yves Coppens          Pré-ambules - les premiers pas de l'homme   \n",
       "1            Karl Marx                  Le 18 Brumaire de Louis Bonaparte   \n",
       "2   Christophe Deloire                                    Sexus politicus   \n",
       "3   Fabrice d' Almeida                   Comment naissent les révolutions   \n",
       "4   Alessandro Barbero      Le jour des barbares - Andrinople, 9 août 378   \n",
       "5     Pirmin Lemberger  Big data et machine learning: les concepts et ...   \n",
       "6  Alain Gérard Slama                       La société d'indifférence   \n",
       "7      Philippe Ariès  Essais sur l'histoire de la mort en Occident d...   \n",
       "8        Aurélie Jean                  Les algorithmes font-ils la loi ?   \n",
       "\n",
       "                       Edition  Date           ISBN  \n",
       "0                  Odile Jacob  2001  9782738109361  \n",
       "1  Editions Mille et une nuits  1997  9782842051822  \n",
       "2                      J'ai lu  2008  9782290008652  \n",
       "3                       Perrin  2009  9782262030292  \n",
       "4                   Flammarion  2010  9782081220553  \n",
       "5                        Dunod  2016  9782100754632  \n",
       "6                       Perrin  2010  9782262033682  \n",
       "7                        Seuil  1977  9782020047364  \n",
       "8                 Observatoire  2021  9791032915011  "
      ]
     },
     "execution_count": 77,
     "metadata": {},
     "output_type": "execute_result"
    }
   ],
   "source": [
    "# Vérification des données\n",
    "df = pd.read_csv(\"test_source.csv\")\n",
    "df"
   ]
  },
  {
   "cell_type": "markdown",
   "id": "54778dd1",
   "metadata": {},
   "source": [
    "---"
   ]
  },
  {
   "cell_type": "markdown",
   "id": "f542daee",
   "metadata": {},
   "source": [
    "## Ajouter le csv à la bibliographie complète"
   ]
  },
  {
   "cell_type": "code",
   "execution_count": 11,
   "id": "248ae4a6",
   "metadata": {},
   "outputs": [],
   "source": [
    "import pandas as pd\n",
    "s1 = pd.read_csv(\"bdd.csv\")\n",
    "s2= pd.read_csv(\"ubodoc_isbn.csv\")"
   ]
  },
  {
   "cell_type": "code",
   "execution_count": 12,
   "id": "0ee13557",
   "metadata": {},
   "outputs": [],
   "source": [
    "test = pd.concat([s1, s2], ignore_index=True)"
   ]
  },
  {
   "cell_type": "code",
   "execution_count": 20,
   "id": "d3aa7bda",
   "metadata": {},
   "outputs": [
    {
     "data": {
      "text/html": [
       "<div>\n",
       "<style scoped>\n",
       "    .dataframe tbody tr th:only-of-type {\n",
       "        vertical-align: middle;\n",
       "    }\n",
       "\n",
       "    .dataframe tbody tr th {\n",
       "        vertical-align: top;\n",
       "    }\n",
       "\n",
       "    .dataframe thead th {\n",
       "        text-align: right;\n",
       "    }\n",
       "</style>\n",
       "<table border=\"1\" class=\"dataframe\">\n",
       "  <thead>\n",
       "    <tr style=\"text-align: right;\">\n",
       "      <th></th>\n",
       "      <th>Auteur(s)</th>\n",
       "      <th>Titre</th>\n",
       "      <th>Edition</th>\n",
       "      <th>Date</th>\n",
       "      <th>ISBN</th>\n",
       "    </tr>\n",
       "  </thead>\n",
       "  <tbody>\n",
       "    <tr>\n",
       "      <th>1489</th>\n",
       "      <td>Jacqueline Corsin</td>\n",
       "      <td>Biologie animale: structures et fonctions</td>\n",
       "      <td>Ellipses-Edition Marketing</td>\n",
       "      <td>©1994</td>\n",
       "      <td>9782729894146</td>\n",
       "    </tr>\n",
       "    <tr>\n",
       "      <th>1490</th>\n",
       "      <td>Henri Brunschwig</td>\n",
       "      <td>Le partage de l'Afrique noire</td>\n",
       "      <td>Flammarion</td>\n",
       "      <td>1993</td>\n",
       "      <td>9782080812919</td>\n",
       "    </tr>\n",
       "  </tbody>\n",
       "</table>\n",
       "</div>"
      ],
      "text/plain": [
       "              Auteur(s)                                      Titre  \\\n",
       "1489  Jacqueline Corsin  Biologie animale: structures et fonctions   \n",
       "1490   Henri Brunschwig              Le partage de l'Afrique noire   \n",
       "\n",
       "                         Edition   Date           ISBN  \n",
       "1489  Ellipses-Edition Marketing  ©1994  9782729894146  \n",
       "1490                  Flammarion   1993  9782080812919  "
      ]
     },
     "execution_count": 20,
     "metadata": {},
     "output_type": "execute_result"
    }
   ],
   "source": [
    "test.tail(2)"
   ]
  },
  {
   "cell_type": "code",
   "execution_count": 21,
   "id": "45bb5ca3",
   "metadata": {},
   "outputs": [
    {
     "data": {
      "text/html": [
       "<div>\n",
       "<style scoped>\n",
       "    .dataframe tbody tr th:only-of-type {\n",
       "        vertical-align: middle;\n",
       "    }\n",
       "\n",
       "    .dataframe tbody tr th {\n",
       "        vertical-align: top;\n",
       "    }\n",
       "\n",
       "    .dataframe thead th {\n",
       "        text-align: right;\n",
       "    }\n",
       "</style>\n",
       "<table border=\"1\" class=\"dataframe\">\n",
       "  <thead>\n",
       "    <tr style=\"text-align: right;\">\n",
       "      <th></th>\n",
       "      <th>Auteur(s)</th>\n",
       "      <th>Titre</th>\n",
       "      <th>Edition</th>\n",
       "      <th>Date</th>\n",
       "      <th>ISBN</th>\n",
       "    </tr>\n",
       "  </thead>\n",
       "  <tbody>\n",
       "    <tr>\n",
       "      <th>1489</th>\n",
       "      <td>Jacqueline Corsin</td>\n",
       "      <td>Biologie animale: structures et fonctions</td>\n",
       "      <td>Ellipses-Edition Marketing</td>\n",
       "      <td>©1994</td>\n",
       "      <td>9782729894146</td>\n",
       "    </tr>\n",
       "    <tr>\n",
       "      <th>1490</th>\n",
       "      <td>Henri Brunschwig</td>\n",
       "      <td>Le partage de l'Afrique noire</td>\n",
       "      <td>Flammarion</td>\n",
       "      <td>1993</td>\n",
       "      <td>9782080812919</td>\n",
       "    </tr>\n",
       "  </tbody>\n",
       "</table>\n",
       "</div>"
      ],
      "text/plain": [
       "              Auteur(s)                                      Titre  \\\n",
       "1489  Jacqueline Corsin  Biologie animale: structures et fonctions   \n",
       "1490   Henri Brunschwig              Le partage de l'Afrique noire   \n",
       "\n",
       "                         Edition   Date           ISBN  \n",
       "1489  Ellipses-Edition Marketing  ©1994  9782729894146  \n",
       "1490                  Flammarion   1993  9782080812919  "
      ]
     },
     "execution_count": 21,
     "metadata": {},
     "output_type": "execute_result"
    }
   ],
   "source": [
    "test.to_csv(\"bdd.csv\", index=False)\n",
    "df = pd.read_csv(\"bdd.csv\")\n",
    "df.tail(2)"
   ]
  },
  {
   "cell_type": "code",
   "execution_count": 45,
   "id": "4e70e86b",
   "metadata": {},
   "outputs": [],
   "source": [
    "# # Modification d'une ligne\n",
    "\n",
    "# df.loc[304, \"Date\"]=1998\n",
    "       \n",
    "# # Sauvegarde du csv \n",
    "# df.to_csv(\"bdd.csv\", index=False)\n",
    "\n",
    "# # affichage du df\n",
    "# df.tail(10)"
   ]
  },
  {
   "cell_type": "markdown",
   "id": "6ac0ef7d",
   "metadata": {},
   "source": [
    "## Supprimer les doublons"
   ]
  },
  {
   "cell_type": "code",
   "execution_count": 16,
   "id": "4d2aee35",
   "metadata": {},
   "outputs": [],
   "source": [
    "# Suppression\n",
    "df.drop_duplicates(subset=None, inplace=True)\n",
    "\n",
    "# Sauvegarde\n",
    "df.to_csv(\"bdd.csv\", index=False)"
   ]
  },
  {
   "cell_type": "code",
   "execution_count": 18,
   "id": "2c386194",
   "metadata": {},
   "outputs": [
    {
     "name": "stdout",
     "output_type": "stream",
     "text": [
      "<class 'pandas.core.frame.DataFrame'>\n",
      "Int64Index: 1348 entries, 0 to 1490\n",
      "Data columns (total 5 columns):\n",
      " #   Column     Non-Null Count  Dtype \n",
      "---  ------     --------------  ----- \n",
      " 0   Auteur(s)  1348 non-null   object\n",
      " 1   Titre      1348 non-null   object\n",
      " 2   Edition    1348 non-null   object\n",
      " 3   Date       1348 non-null   object\n",
      " 4   ISBN       1348 non-null   int64 \n",
      "dtypes: int64(1), object(4)\n",
      "memory usage: 63.2+ KB\n"
     ]
    }
   ],
   "source": [
    "df.info()"
   ]
  },
  {
   "cell_type": "markdown",
   "id": "e43a328b",
   "metadata": {},
   "source": [
    "---"
   ]
  },
  {
   "cell_type": "markdown",
   "id": "15a854f1",
   "metadata": {},
   "source": [
    "## Supprimer des colonnes "
   ]
  },
  {
   "cell_type": "markdown",
   "id": "0026b692",
   "metadata": {},
   "source": [
    "- `df.drop('a', inplace=True, axis=1)`\n",
    "\n",
    "\n",
    "- `del df['column name']`\n",
    "\n",
    "\n",
    "- `df.pop(\"a\")`"
   ]
  },
  {
   "cell_type": "markdown",
   "id": "f7eb98df",
   "metadata": {},
   "source": [
    "#### Supprimer plusieurs colonnes :\n",
    "\n",
    "`df.drop(['a', 'b', 'c', 'd'], inplace=True, axis=1)`"
   ]
  },
  {
   "cell_type": "markdown",
   "id": "899f4022",
   "metadata": {},
   "source": [
    "## Sélectionner des colonnes pour les mettre dans un nouveau df"
   ]
  },
  {
   "cell_type": "markdown",
   "id": "778de493",
   "metadata": {},
   "source": [
    "`df2 = df[['Publisher', 'Item Type', 'Publication Year', 'Author', 'Title', 'ISBN']]`"
   ]
  }
 ],
 "metadata": {
  "kernelspec": {
   "display_name": "Python 3 (ipykernel)",
   "language": "python",
   "name": "python3"
  },
  "language_info": {
   "codemirror_mode": {
    "name": "ipython",
    "version": 3
   },
   "file_extension": ".py",
   "mimetype": "text/x-python",
   "name": "python",
   "nbconvert_exporter": "python",
   "pygments_lexer": "ipython3",
   "version": "3.8.3"
  }
 },
 "nbformat": 4,
 "nbformat_minor": 5
}
