{
 "cells": [
  {
   "cell_type": "markdown",
   "id": "520644cd",
   "metadata": {},
   "source": [
    "# <center> Fonctions projet chef-d'oeuvre </center>"
   ]
  },
  {
   "cell_type": "code",
   "execution_count": 34,
   "id": "75c74bf9",
   "metadata": {},
   "outputs": [],
   "source": [
    "import pandas as pd\n",
    "import csv\n",
    "from tqdm.notebook import tqdm_notebook\n",
    "import isbnlib\n",
    "from isbnlib import canonical, meta"
   ]
  },
  {
   "cell_type": "markdown",
   "id": "0f132387",
   "metadata": {},
   "source": [
    "---"
   ]
  },
  {
   "cell_type": "markdown",
   "id": "efc66cf9",
   "metadata": {},
   "source": [
    "## <center> Web scraping </center>"
   ]
  },
  {
   "cell_type": "markdown",
   "id": "d6b865d0",
   "metadata": {},
   "source": [
    "## Créer un nouveau csv"
   ]
  },
  {
   "cell_type": "code",
   "execution_count": 35,
   "id": "da3e256c",
   "metadata": {},
   "outputs": [],
   "source": [
    "def creation_csv(nom): # il suffit d'indiquer le nom du csv (sans l'extension)\n",
    "    header = ['Auteur', 'Titre', 'Edition', 'Date', 'ISBN']\n",
    "    with open(nom +'.csv', 'w') as f:\n",
    "            writer = csv.writer(f)\n",
    "            # write the header\n",
    "            writer.writerow(header)\n",
    "    print(\"fichier créé avec le nom suivant :\", nom)"
   ]
  },
  {
   "cell_type": "markdown",
   "id": "9d0414e3",
   "metadata": {},
   "source": [
    "## Web-scraping "
   ]
  },
  {
   "cell_type": "code",
   "execution_count": 37,
   "id": "3b586319",
   "metadata": {},
   "outputs": [],
   "source": [
    "import requests\n",
    "from bs4 import BeautifulSoup\n",
    "import csv\n",
    "from tqdm.notebook import tqdm_notebook\n",
    "\n",
    "\n",
    "def web_scraping(nom_csv, nb_livre, nombre, site):\n",
    "    liste_totale = []\n",
    "    for livre in tqdm_notebook(range(nb_livres)) : \n",
    "        erreur = 0\n",
    "        \n",
    "        try : \n",
    "            url = site + str(nombre)\n",
    "            page = requests.get(url)\n",
    "            soup = BeautifulSoup(page.content, 'html.parser')\n",
    "\n",
    "            liste = []\n",
    "\n",
    "            # auteur \n",
    "            auteur = soup.find(\"h2\")\n",
    "            auteur = auteur.text.strip('\\n')\n",
    "            liste.append(auteur)\n",
    "\n",
    "            # titre\n",
    "            titre = soup.find(\"h1\")\n",
    "            titre = titre.text.strip('\\n')\n",
    "            liste.append(titre)\n",
    "\n",
    "            # edition\n",
    "            edition = soup.find(\"h3\")\n",
    "            edition = edition.text.strip('\\n')\n",
    "            liste.append(edition)\n",
    "\n",
    "            # date\n",
    "            date = soup.findAll(\"dd\")\n",
    "            # on récupère la date dans une variable temporaire\n",
    "            var_temp = date[5].text\n",
    "            # on split la date et on ne récupère que l'année\n",
    "            split = var_temp.split(\"/\")\n",
    "            date = split[-1]\n",
    "            # # on ajoute la date (format : int) à la liste\n",
    "            # liste.append(int(date))\n",
    "            liste.append(date)\n",
    "\n",
    "            # ISBN\n",
    "            # Récupérer l'isbn\n",
    "            info = soup.findAll(\"dd\")\n",
    "            # on récupère l'isbn dans une variable temporaire\n",
    "            isbn = info[2].text\n",
    "            liste.append(isbn)\n",
    "\n",
    "            liste_totale.append(liste)\n",
    "\n",
    "            nombre += 1\n",
    "\n",
    "        except :\n",
    "\n",
    "            nombre += 1\n",
    "            erreur += 1\n",
    "\n",
    "\n",
    "    print(\"Nb d'erreurs :\", erreur)\n",
    "\n",
    "    # insérer les informations pour chaque livre (à partir de la liste totale)\n",
    "    with open(nom_csv+'.csv', 'a', encoding='UTF8') as f:\n",
    "            for x in tqdm_notebook(liste_totale) :\n",
    "                writer = csv.writer(f)\n",
    "                writer.writerow(x)\n",
    "\n",
    "            # message de réussite\n",
    "            print(\"Insertion des données réussies.\")"
   ]
  },
  {
   "cell_type": "markdown",
   "id": "340d65f4",
   "metadata": {},
   "source": [
    "---"
   ]
  },
  {
   "cell_type": "markdown",
   "id": "8b6b04b3",
   "metadata": {},
   "source": [
    "## <center> Formatage des données </center>"
   ]
  },
  {
   "cell_type": "markdown",
   "id": "6ca7aa12",
   "metadata": {},
   "source": [
    "## Ouvrir un df"
   ]
  },
  {
   "cell_type": "code",
   "execution_count": 38,
   "id": "9b881703",
   "metadata": {},
   "outputs": [],
   "source": [
    "import pandas as pd\n",
    "\n",
    "def open_df(file_name):\n",
    "    df = pd.read_csv(file_name + '.csv')\n",
    "    return df"
   ]
  },
  {
   "cell_type": "markdown",
   "id": "67b7c500",
   "metadata": {},
   "source": [
    "## Récupérer des infos sur le df"
   ]
  },
  {
   "cell_type": "code",
   "execution_count": 40,
   "id": "9700c022",
   "metadata": {},
   "outputs": [],
   "source": [
    "def info_df (file_name):\n",
    "    df = open_df(file_name)\n",
    "    df.info()"
   ]
  },
  {
   "cell_type": "markdown",
   "id": "3d413897",
   "metadata": {},
   "source": [
    "## Supprimer doublons dans le csv"
   ]
  },
  {
   "cell_type": "code",
   "execution_count": 42,
   "id": "7e90a53b",
   "metadata": {},
   "outputs": [],
   "source": [
    "def delete_duplicates(file_name):\n",
    "    # Suppression\n",
    "    df.drop_duplicates(subset=None, inplace=True)\n",
    "    # Sauvegarde = écrase le csv\n",
    "    df.to_csv(file_name + \".csv\", index=False)\n",
    "    print(\"Les doublons ont bien été supprimés.\")\n",
    "    return df"
   ]
  },
  {
   "cell_type": "markdown",
   "id": "aa29b5bf",
   "metadata": {},
   "source": [
    "## Formater la colonne 'Titre'"
   ]
  },
  {
   "cell_type": "code",
   "execution_count": 43,
   "id": "7940c0d7",
   "metadata": {},
   "outputs": [],
   "source": [
    "# def formater_titre(file_name):\n",
    "#     df['Titre'] = df['Titre'].replace(to_replace =[\"\\n\", \"\\r\"], \n",
    "#                                 value =\"\")\n",
    "\n",
    "#     # Sauvegarde du csv \n",
    "#     df.to_csv(file_name + \".csv\", index=False)\n",
    "#     print(\"Formatage de la colonne 'Titre' : OK\")\n",
    "#     return df"
   ]
  },
  {
   "cell_type": "markdown",
   "id": "4dd31fbf",
   "metadata": {},
   "source": [
    "## Formater la colonne 'Auteur'"
   ]
  },
  {
   "cell_type": "code",
   "execution_count": 44,
   "id": "6c8302ef",
   "metadata": {},
   "outputs": [],
   "source": [
    "def formater_auteur(file_name):\n",
    "    # replace\n",
    "    df['Auteur'] = df['Auteur'].str.replace(\"De \", \"\", regex=False)\n",
    "#     # Sauvegarde du csv \n",
    "#     df.to_csv(file_name + \".csv\", index=False)\n",
    "    # # None \n",
    "    df['Auteur'] = df['Auteur'].replace(to_replace =[\"[none]\", \"[None]\", \"nones\", \"none\", \"Inconnu\", \"inconnu\", \"Xxx\", \" . \",\n",
    "                                                          \"nouvelles\", \"nouvelle\", \"roman\", \"romans\", \"poème\", \"poèmes\",\"Poèmes\", \"Poème\", \"poésie\", \"poésies\", \"récit\", \n",
    "                                                          \"récits\", \"Livre\", \"Livres\", \"livre\", \"livres\", \"Volume 2\", \"et autres nouvelles\",\n",
    "                                                          \"<<<<< \", \"<<<<<\", \"Volume 1\", \"[nouvelles]\", \"livre du professeur\", \"l'intégrale\",\n",
    "                                                          \"Pro\", \"Prof\", \"théâtre\", \"Théâtre\", \"A Preciser\", \"Po\", \"France\", \"- Roman\", \"Roman\",\n",
    "                                                          \"3\",\"2\", \"Anonyme\", \"anthologie\", \"Inconnu / Inconnu\", \"essai\", \"essais\", \"5e\", \"Tome 1\"], \n",
    "                                value =\"None\")\n",
    "\n",
    "    # Collectif\n",
    "    df['Auteur'] = df['Auteur'].replace(to_replace =[\"De Collectif\", \"Collectifs\", \"collectif\", \" Collectif\", \"De Collectifs\",\n",
    "                                                          \"Collectif d'auteurs\", \" Collectif d'auteurs\", \"Collectifs Jeunesse\", \"Collectifs Lois\",\n",
    "                                                          \"Collectif,\", \"Collectifs Gallimard\"],\n",
    "                                value = \"Collectif\")\n",
    "    # Sauvegarde du csv \n",
    "    df.to_csv(file_name + \".csv\", index=False)\n",
    "    print(\"Formatage de la colonne 'Auteur' : OK\")\n",
    "    return df"
   ]
  },
  {
   "cell_type": "markdown",
   "id": "3c76fd27",
   "metadata": {},
   "source": [
    "## Formatage de la colonne 'Edition'"
   ]
  },
  {
   "cell_type": "code",
   "execution_count": 45,
   "id": "92e18cf8",
   "metadata": {},
   "outputs": [],
   "source": [
    "def formater_edition(file_name):\n",
    "    # Formatage des éditions \n",
    "    df['Edition'] = df['Edition'].str.replace(\"L'Harmattan\", \"Harmattan\", regex=False)\n",
    "    df['Edition'] = df['Edition'].str.replace(\"Presses universitaires de France\", \"PUF\", regex=False)\n",
    "    df['Edition'] = df['Edition'].str.replace(\"Editions Ellipses\", \"Ellipses\", regex=False)\n",
    "    df['Edition'] = df['Edition'].str.replace(\"Éditions du Rocher\", \"Rocher\", regex=False)\n",
    "    df['Edition'] = df['Edition'].str.replace(\"Editions du Rocher\", \"Rocher\", regex=False)\n",
    "    df['Edition'] = df['Edition'].str.replace(\"Editions \", \"\", regex=False)\n",
    "    df['Edition'] = df['Edition'].str.replace(\"Éditions \", \"\", regex=False)\n",
    "\n",
    "    # Sauvegarde du csv \n",
    "    df.to_csv(file_name + \".csv\", index=False)\n",
    "    print(\"Formatage de la colonne 'Edition' : OK\")\n",
    "    return df"
   ]
  },
  {
   "cell_type": "markdown",
   "id": "353c2f4e",
   "metadata": {},
   "source": [
    "---"
   ]
  },
  {
   "cell_type": "markdown",
   "id": "7dca6f2f",
   "metadata": {},
   "source": [
    "## Traitement des ISBN"
   ]
  },
  {
   "cell_type": "code",
   "execution_count": 46,
   "id": "526a7c06",
   "metadata": {},
   "outputs": [],
   "source": [
    "# Suppression des ISBN non chiffrés\n",
    "from tqdm.notebook import tqdm_notebook\n",
    "\n",
    "def traitement_isbn(nom_csv):\n",
    "    liste=[]\n",
    "    index = 0\n",
    "    for x in tqdm_notebook(df['ISBN']):\n",
    "        try :\n",
    "            test = int(x)\n",
    "            index += 1\n",
    "        except :\n",
    "            df.drop([index], axis=0, inplace=True)\n",
    "            index +=1 \n",
    "\n",
    "    # Sauvegarde\n",
    "    df.to_csv(nom_csv+\".csv\", index=False)\n",
    "    \n",
    "    return df\n"
   ]
  },
  {
   "cell_type": "code",
   "execution_count": 47,
   "id": "efea5b02",
   "metadata": {},
   "outputs": [],
   "source": [
    "# Trouver des ISBN aberrants :\n",
    "\n",
    "def min_max_isbn():\n",
    "    print(\"Min : \", df['ISBN'].min())\n",
    "    print(\"Max : \", df['ISBN'].max())"
   ]
  },
  {
   "cell_type": "code",
   "execution_count": 48,
   "id": "fabcd725",
   "metadata": {},
   "outputs": [],
   "source": [
    "# Supprimer les ISBN aberrants\n",
    "\n",
    "\n",
    "def delete_bad_isbn(csv_name):\n",
    "    index = -1\n",
    "    liste = []\n",
    "\n",
    "    for x in df['ISBN']:\n",
    "        index += 1\n",
    "        if x <= 9780000000000 :\n",
    "            liste.append(index)\n",
    "        \n",
    "    # message    \n",
    "    print(\"Nb d'erreurs d'ISBN :\", len(liste))\n",
    "    # delete\n",
    "    df.drop(liste, axis=0, inplace=True)\n",
    "    # save\n",
    "    df.to_csv(csv_name + \".csv\", index=False)\n",
    "    \n",
    "    return df.info()"
   ]
  },
  {
   "cell_type": "markdown",
   "id": "39f31577",
   "metadata": {},
   "source": [
    "## Traitement sur les dates"
   ]
  },
  {
   "cell_type": "code",
   "execution_count": 49,
   "id": "5e961490",
   "metadata": {},
   "outputs": [],
   "source": [
    "# Formatage\n",
    "def formater_date(csv_name):\n",
    "    # formatage des dates\n",
    "    df['Date'] = df['Date'].replace(to_replace =[\"©\",\"© \",\"Imp \",\"imp\",\"imp \",\"impr \",\"Impr \",\"DL \",\"dl \",\"ilmpr\",\"ilmpr \",\n",
    "        \"cop\",\"Cop\",\"ca\",\"(c)\",\"Paris PUF \",\"Paris PUF\",\"Paris Gallimard \",\"Paris Gallimard\",\"Paris Flammarion \",\n",
    "        \"Paris Flammarion\",\"Paris Les Belles Lettres \",\"Paris Les Belles Lettres\",\"Paris L'Harmattan \",\"Paris L'Harmattan\",\n",
    "        \"Paris Hachette \",\"Paris Hachette\",\"Paris Colin\",\"Paris Colin \" \n",
    "        ],\n",
    "        value = \"\")\n",
    "    # suppression des dates non numériques\n",
    "    liste=[]\n",
    "    index = 0\n",
    "    for x in tqdm_notebook(df['Date']):\n",
    "        try :\n",
    "            test = int(x)\n",
    "            index += 1\n",
    "        except :\n",
    "            df.drop([index], axis=0, inplace=True)\n",
    "            index +=1 \n",
    "\n",
    "    # Sauvegarde du csv \n",
    "    df.to_csv(csv_name +\".csv\", index=False)\n",
    "    \n",
    "    return df"
   ]
  },
  {
   "cell_type": "code",
   "execution_count": 50,
   "id": "71bc4d6f",
   "metadata": {},
   "outputs": [],
   "source": [
    "# Statistiques sur les dates\n",
    "\n",
    "def stats_date():\n",
    "    print(\"Moyenne :\", round(df.Date.mean(), 2))\n",
    "    print(\"Min :\", df.Date.min())\n",
    "    print(\"Max :\", df.Date.max())"
   ]
  },
  {
   "cell_type": "code",
   "execution_count": 51,
   "id": "0312be2a",
   "metadata": {},
   "outputs": [],
   "source": [
    "# supression des dates aberrantes \n",
    "\n",
    "def delete_bad_dates(csv_name):\n",
    "    nombre = 0\n",
    "    index = -1\n",
    "    for x in df['Date']:\n",
    "        index += 1\n",
    "        if x < 1700 :\n",
    "            df.drop([index], axis=0, inplace=True)\n",
    "            nombre += 1\n",
    "    # Save\n",
    "    df.to_csv(csv_name+\".csv\", index=False)"
   ]
  },
  {
   "cell_type": "markdown",
   "id": "c413547c",
   "metadata": {},
   "source": [
    "## Remplacer \".\" par \"None\""
   ]
  },
  {
   "cell_type": "code",
   "execution_count": 52,
   "id": "86879269",
   "metadata": {},
   "outputs": [],
   "source": [
    "def remplacer_point(file_name):\n",
    "    df = open_df(file_name)\n",
    "    # filtre sélectionnant tous les \".\"\n",
    "    filtre_point = df[df['Auteur']== \".\"]\n",
    "\n",
    "    # création d'une liste pour les index\n",
    "    liste_index = []\n",
    "    for index, row in filtre_point.iterrows(): \n",
    "        liste_index.append(index)   \n",
    "    print(\"Nombre d'index dans la liste :\", len(liste_index))\n",
    "\n",
    "    # Remplacement par None\n",
    "    for x in tqdm_notebook(liste_index) :\n",
    "        df.loc[x, 'Auteur']= \"None\"\n",
    "        df.to_csv(\"test.csv\", index=False)\n",
    "        \n",
    "    # Save\n",
    "    df.to_csv(file_name+\".csv\", index=False)"
   ]
  },
  {
   "cell_type": "markdown",
   "id": "c6c82402",
   "metadata": {},
   "source": [
    "## Remplacer les \"None\" par les noms des auteurs"
   ]
  },
  {
   "cell_type": "code",
   "execution_count": 53,
   "id": "57feaee9",
   "metadata": {},
   "outputs": [],
   "source": [
    "def traiter_None(file_name):\n",
    "    \n",
    "    erreur = 0\n",
    "    \n",
    "    df = open_df(file_name)\n",
    "    # Filtre avec les None\n",
    "    filtre_None = df[df['Auteur'] == 'None']\n",
    "    # Récupérer les index du filtre_None\n",
    "    liste_index = filtre_None.index\n",
    "\n",
    "    for index in tqdm_notebook(liste_index):\n",
    "        # Récupérer l'ISBN\n",
    "        ISBN = df.loc[index, 'ISBN']\n",
    "        # recherche info : on récupère l'auteur\n",
    "        try :\n",
    "            isbn = canonical(str(ISBN))\n",
    "            data = isbnlib.meta(isbn, service='goob') # changer le service\n",
    "            try :\n",
    "                auteur = data['Authors']\n",
    "\n",
    "                ISBN = df.loc[index, 'ISBN']\n",
    "                # recherche info : on récupère l'auteur\n",
    "                isbn = canonical(str(ISBN))\n",
    "                data = isbnlib.meta(isbn, service='goob') # changer le service\n",
    "                try :\n",
    "                    auteur = data['Authors']\n",
    "\n",
    "                    if len(auteur) == 1 :\n",
    "                        for x in auteur :\n",
    "                            auteur = x\n",
    "                    else : \n",
    "                        continue\n",
    "\n",
    "                except :\n",
    "                    erreur +=1\n",
    "                    continue\n",
    "            except :\n",
    "                erreur += 1\n",
    "                continue\n",
    "        except :\n",
    "            erreur += 1\n",
    "            continue\n",
    "\n",
    "        # On change la valeur\n",
    "        df.loc[index, 'Auteur']= auteur\n",
    "\n",
    "    # Save\n",
    "    df.to_csv(file_name+\".csv\", index=False)\n",
    "    \n",
    "    print(\"Nombre d'erreurs : \", erreur)"
   ]
  },
  {
   "cell_type": "markdown",
   "id": "4325efa2",
   "metadata": {},
   "source": [
    "## Concaténation"
   ]
  },
  {
   "cell_type": "code",
   "execution_count": 54,
   "id": "362cea84",
   "metadata": {},
   "outputs": [],
   "source": [
    "def concat_csv(csv_1, csv_2, nom_csv):\n",
    "    df = pd.concat(\n",
    "    map(pd.read_csv, [csv_1+'.csv',csv_2+'.csv']), ignore_index=True)\n",
    "    # Sauvegarde\n",
    "    df.to_csv(nom_csv+\".csv\", index=False)"
   ]
  },
  {
   "cell_type": "markdown",
   "id": "70269285",
   "metadata": {},
   "source": [
    "---"
   ]
  },
  {
   "cell_type": "markdown",
   "id": "988446e1",
   "metadata": {},
   "source": [
    "# <center> Traitement du csv </center>"
   ]
  },
  {
   "cell_type": "code",
   "execution_count": 72,
   "id": "ad142334",
   "metadata": {},
   "outputs": [],
   "source": [
    "nom_csv = 'bdd_1'"
   ]
  },
  {
   "cell_type": "code",
   "execution_count": 83,
   "id": "9e5345c4",
   "metadata": {},
   "outputs": [
    {
     "name": "stdout",
     "output_type": "stream",
     "text": [
      "<class 'pandas.core.frame.DataFrame'>\n",
      "RangeIndex: 39658 entries, 0 to 39657\n",
      "Data columns (total 5 columns):\n",
      " #   Column   Non-Null Count  Dtype \n",
      "---  ------   --------------  ----- \n",
      " 0   Auteur   39536 non-null  object\n",
      " 1   Titre    39658 non-null  object\n",
      " 2   Edition  39658 non-null  object\n",
      " 3   Date     39658 non-null  int64 \n",
      " 4   ISBN     39658 non-null  int64 \n",
      "dtypes: int64(2), object(3)\n",
      "memory usage: 1.5+ MB\n"
     ]
    }
   ],
   "source": [
    "df = open_df(nom_csv)\n",
    "df.info()"
   ]
  },
  {
   "cell_type": "markdown",
   "id": "84ddaffa",
   "metadata": {},
   "source": [
    "## Formater Auteur/Edition"
   ]
  },
  {
   "cell_type": "code",
   "execution_count": 74,
   "id": "41ec5244",
   "metadata": {},
   "outputs": [],
   "source": [
    "def traitement_csv(file_name):\n",
    "    df = open_df(file_name)\n",
    "    df = delete_duplicates(file_name)\n",
    "    df = formater_auteur(file_name)\n",
    "    df = formater_edition(file_name)\n",
    "    df = remplacer_point(file_name)\n",
    "    return df"
   ]
  },
  {
   "cell_type": "code",
   "execution_count": 75,
   "id": "96c50f1a",
   "metadata": {},
   "outputs": [
    {
     "name": "stdout",
     "output_type": "stream",
     "text": [
      "Les doublons ont bien été supprimés.\n",
      "Formatage de la colonne 'Auteur' : OK\n",
      "Formatage de la colonne 'Edition' : OK\n",
      "Nombre d'index dans la liste : 327\n"
     ]
    },
    {
     "data": {
      "application/vnd.jupyter.widget-view+json": {
       "model_id": "f31fcf6eecc04f89bca4265d6075ff9a",
       "version_major": 2,
       "version_minor": 0
      },
      "text/plain": [
       "  0%|          | 0/327 [00:00<?, ?it/s]"
      ]
     },
     "metadata": {},
     "output_type": "display_data"
    }
   ],
   "source": [
    "traitement_csv(nom_csv)"
   ]
  },
  {
   "cell_type": "markdown",
   "id": "d78291b3",
   "metadata": {},
   "source": [
    "## Formater ISBN/Dates"
   ]
  },
  {
   "cell_type": "code",
   "execution_count": 78,
   "id": "583b9728",
   "metadata": {},
   "outputs": [
    {
     "data": {
      "application/vnd.jupyter.widget-view+json": {
       "model_id": "173f461a649c46ed874c4891598a245d",
       "version_major": 2,
       "version_minor": 0
      },
      "text/plain": [
       "  0%|          | 0/60133 [00:00<?, ?it/s]"
      ]
     },
     "metadata": {},
     "output_type": "display_data"
    },
    {
     "name": "stdout",
     "output_type": "stream",
     "text": [
      "Nb d'erreurs d'ISBN : 2049\n",
      "<class 'pandas.core.frame.DataFrame'>\n",
      "Int64Index: 39690 entries, 0 to 41738\n",
      "Data columns (total 5 columns):\n",
      " #   Column   Non-Null Count  Dtype \n",
      "---  ------   --------------  ----- \n",
      " 0   Auteur   39682 non-null  object\n",
      " 1   Titre    39690 non-null  object\n",
      " 2   Edition  39690 non-null  object\n",
      " 3   Date     39690 non-null  object\n",
      " 4   ISBN     39690 non-null  int64 \n",
      "dtypes: int64(1), object(4)\n",
      "memory usage: 1.8+ MB\n"
     ]
    },
    {
     "data": {
      "application/vnd.jupyter.widget-view+json": {
       "model_id": "2289edc7cb674789891bc4fc65cafed9",
       "version_major": 2,
       "version_minor": 0
      },
      "text/plain": [
       "  0%|          | 0/39690 [00:00<?, ?it/s]"
      ]
     },
     "metadata": {},
     "output_type": "display_data"
    },
    {
     "name": "stdout",
     "output_type": "stream",
     "text": [
      "<class 'pandas.core.frame.DataFrame'>\n",
      "RangeIndex: 39658 entries, 0 to 39657\n",
      "Data columns (total 5 columns):\n",
      " #   Column   Non-Null Count  Dtype \n",
      "---  ------   --------------  ----- \n",
      " 0   Auteur   39650 non-null  object\n",
      " 1   Titre    39658 non-null  object\n",
      " 2   Edition  39658 non-null  object\n",
      " 3   Date     39658 non-null  int64 \n",
      " 4   ISBN     39658 non-null  int64 \n",
      "dtypes: int64(2), object(3)\n",
      "memory usage: 1.5+ MB\n"
     ]
    }
   ],
   "source": [
    "traitement_isbn(nom_csv)\n",
    "df = open_df(nom_csv)\n",
    "\n",
    "delete_bad_isbn(nom_csv)\n",
    "df = open_df(nom_csv)\n",
    "\n",
    "formater_date(nom_csv)\n",
    "df = open_df(nom_csv)\n",
    "\n",
    "delete_bad_dates(nom_csv)\n",
    "df = open_df(nom_csv)\n",
    "df.info()"
   ]
  },
  {
   "cell_type": "code",
   "execution_count": 84,
   "id": "dcdcdde6",
   "metadata": {},
   "outputs": [
    {
     "data": {
      "text/plain": [
       "Collectif                                          1279\n",
       "None                                                815\n",
       "auzias/al. dominique                                108\n",
       "Collectif,                                           34\n",
       "Dominique Auzias, Jean-Paul Labourdette              28\n",
       "N.C.                                                 26\n",
       "Adaptation Piccolia                                  25\n",
       "Agatha Christie                                      21\n",
       "Barbara Cartland                                     21\n",
       "Manufacture française des pneumatiques Michelin      19\n",
       "Name: Auteur, dtype: int64"
      ]
     },
     "execution_count": 84,
     "metadata": {},
     "output_type": "execute_result"
    }
   ],
   "source": [
    "df['Auteur'].value_counts().head(10)"
   ]
  },
  {
   "cell_type": "markdown",
   "id": "b33de9ef",
   "metadata": {},
   "source": [
    "## Remplacer les '.' par \"None\""
   ]
  },
  {
   "cell_type": "code",
   "execution_count": 80,
   "id": "8cf60280",
   "metadata": {},
   "outputs": [
    {
     "name": "stdout",
     "output_type": "stream",
     "text": [
      "Nombre d'index dans la liste : 0\n"
     ]
    },
    {
     "data": {
      "application/vnd.jupyter.widget-view+json": {
       "model_id": "2d4089787e9c4f3e9478c8b00c2f65f3",
       "version_major": 2,
       "version_minor": 0
      },
      "text/plain": [
       "0it [00:00, ?it/s]"
      ]
     },
     "metadata": {},
     "output_type": "display_data"
    }
   ],
   "source": [
    "remplacer_point(nom_csv)"
   ]
  },
  {
   "cell_type": "markdown",
   "id": "0f7a106b",
   "metadata": {},
   "source": [
    "## Remplacer les None"
   ]
  },
  {
   "cell_type": "code",
   "execution_count": 81,
   "id": "80521598",
   "metadata": {},
   "outputs": [
    {
     "data": {
      "application/vnd.jupyter.widget-view+json": {
       "model_id": "4e44e77eea3548b593ee9a134d2aa2e3",
       "version_major": 2,
       "version_minor": 0
      },
      "text/plain": [
       "  0%|          | 0/3259 [00:00<?, ?it/s]"
      ]
     },
     "metadata": {},
     "output_type": "display_data"
    },
    {
     "name": "stdout",
     "output_type": "stream",
     "text": [
      "Nombre d'erreurs :  491\n"
     ]
    }
   ],
   "source": [
    "traiter_None(nom_csv)"
   ]
  },
  {
   "cell_type": "markdown",
   "id": "395c7bf3",
   "metadata": {},
   "source": [
    "## Concaténation"
   ]
  },
  {
   "cell_type": "code",
   "execution_count": 85,
   "id": "923c7384",
   "metadata": {},
   "outputs": [],
   "source": [
    "concat_csv(\"54\", nom_csv, \"55\")"
   ]
  },
  {
   "cell_type": "markdown",
   "id": "5836fa80",
   "metadata": {},
   "source": [
    "---"
   ]
  }
 ],
 "metadata": {
  "kernelspec": {
   "display_name": "Python 3 (ipykernel)",
   "language": "python",
   "name": "python3"
  },
  "language_info": {
   "codemirror_mode": {
    "name": "ipython",
    "version": 3
   },
   "file_extension": ".py",
   "mimetype": "text/x-python",
   "name": "python",
   "nbconvert_exporter": "python",
   "pygments_lexer": "ipython3",
   "version": "3.8.3"
  }
 },
 "nbformat": 4,
 "nbformat_minor": 5
}
