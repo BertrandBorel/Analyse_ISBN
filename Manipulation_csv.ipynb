{
 "cells": [
  {
   "cell_type": "markdown",
   "id": "06f86c22",
   "metadata": {},
   "source": [
    "# <center> Manipulation du csv </center>"
   ]
  },
  {
   "cell_type": "code",
   "execution_count": 1,
   "id": "fb628ca2",
   "metadata": {},
   "outputs": [],
   "source": [
    "import pandas as pd\n",
    "import matplotlib.pyplot as plt"
   ]
  },
  {
   "cell_type": "code",
   "execution_count": 6,
   "id": "c3d02338",
   "metadata": {},
   "outputs": [
    {
     "data": {
      "text/html": [
       "<div>\n",
       "<style scoped>\n",
       "    .dataframe tbody tr th:only-of-type {\n",
       "        vertical-align: middle;\n",
       "    }\n",
       "\n",
       "    .dataframe tbody tr th {\n",
       "        vertical-align: top;\n",
       "    }\n",
       "\n",
       "    .dataframe thead th {\n",
       "        text-align: right;\n",
       "    }\n",
       "</style>\n",
       "<table border=\"1\" class=\"dataframe\">\n",
       "  <thead>\n",
       "    <tr style=\"text-align: right;\">\n",
       "      <th></th>\n",
       "      <th>Auteur</th>\n",
       "      <th>Titre</th>\n",
       "      <th>Edition</th>\n",
       "      <th>Date</th>\n",
       "      <th>ISBN</th>\n",
       "    </tr>\n",
       "  </thead>\n",
       "  <tbody>\n",
       "    <tr>\n",
       "      <th>0</th>\n",
       "      <td>Pierre Vidal-Naquet</td>\n",
       "      <td>Le choix de l'histoire - pourquoi et comment j...</td>\n",
       "      <td>Arléa</td>\n",
       "      <td>2007</td>\n",
       "      <td>9782869597624</td>\n",
       "    </tr>\n",
       "    <tr>\n",
       "      <th>1</th>\n",
       "      <td>Ian Kershaw</td>\n",
       "      <td>Choix fatidiques - dix décisions qui ont chang...</td>\n",
       "      <td>Seuil</td>\n",
       "      <td>2012</td>\n",
       "      <td>9782757829707</td>\n",
       "    </tr>\n",
       "  </tbody>\n",
       "</table>\n",
       "</div>"
      ],
      "text/plain": [
       "                Auteur                                              Titre  \\\n",
       "0  Pierre Vidal-Naquet  Le choix de l'histoire - pourquoi et comment j...   \n",
       "1          Ian Kershaw  Choix fatidiques - dix décisions qui ont chang...   \n",
       "\n",
       "  Edition  Date           ISBN  \n",
       "0   Arléa  2007  9782869597624  \n",
       "1   Seuil  2012  9782757829707  "
      ]
     },
     "execution_count": 6,
     "metadata": {},
     "output_type": "execute_result"
    }
   ],
   "source": [
    "df = pd.read_csv(\"56.csv\")\n",
    "df.head(2)"
   ]
  },
  {
   "cell_type": "code",
   "execution_count": 73,
   "id": "d219bec3",
   "metadata": {},
   "outputs": [],
   "source": [
    "# # Sauvegarde du csv \n",
    "# df.to_csv(\"bibliographie.csv\", index=False)"
   ]
  },
  {
   "cell_type": "code",
   "execution_count": 7,
   "id": "46092b81",
   "metadata": {},
   "outputs": [
    {
     "name": "stdout",
     "output_type": "stream",
     "text": [
      "<class 'pandas.core.frame.DataFrame'>\n",
      "RangeIndex: 416648 entries, 0 to 416647\n",
      "Data columns (total 5 columns):\n",
      " #   Column   Non-Null Count   Dtype \n",
      "---  ------   --------------   ----- \n",
      " 0   Auteur   415923 non-null  object\n",
      " 1   Titre    416648 non-null  object\n",
      " 2   Edition  416648 non-null  object\n",
      " 3   Date     416648 non-null  int64 \n",
      " 4   ISBN     416648 non-null  int64 \n",
      "dtypes: int64(2), object(3)\n",
      "memory usage: 15.9+ MB\n"
     ]
    }
   ],
   "source": [
    "df.info()"
   ]
  },
  {
   "cell_type": "code",
   "execution_count": 75,
   "id": "48ee13c0",
   "metadata": {},
   "outputs": [
    {
     "data": {
      "text/html": [
       "<div>\n",
       "<style scoped>\n",
       "    .dataframe tbody tr th:only-of-type {\n",
       "        vertical-align: middle;\n",
       "    }\n",
       "\n",
       "    .dataframe tbody tr th {\n",
       "        vertical-align: top;\n",
       "    }\n",
       "\n",
       "    .dataframe thead th {\n",
       "        text-align: right;\n",
       "    }\n",
       "</style>\n",
       "<table border=\"1\" class=\"dataframe\">\n",
       "  <thead>\n",
       "    <tr style=\"text-align: right;\">\n",
       "      <th></th>\n",
       "      <th>Date</th>\n",
       "      <th>ISBN</th>\n",
       "    </tr>\n",
       "  </thead>\n",
       "  <tbody>\n",
       "    <tr>\n",
       "      <th>count</th>\n",
       "      <td>118136.000000</td>\n",
       "      <td>1.181360e+05</td>\n",
       "    </tr>\n",
       "    <tr>\n",
       "      <th>mean</th>\n",
       "      <td>1999.226375</td>\n",
       "      <td>9.782592e+12</td>\n",
       "    </tr>\n",
       "    <tr>\n",
       "      <th>std</th>\n",
       "      <td>10.820716</td>\n",
       "      <td>8.467288e+08</td>\n",
       "    </tr>\n",
       "    <tr>\n",
       "      <th>min</th>\n",
       "      <td>1885.000000</td>\n",
       "      <td>9.780002e+12</td>\n",
       "    </tr>\n",
       "    <tr>\n",
       "      <th>25%</th>\n",
       "      <td>1997.000000</td>\n",
       "      <td>9.782207e+12</td>\n",
       "    </tr>\n",
       "    <tr>\n",
       "      <th>50%</th>\n",
       "      <td>2002.000000</td>\n",
       "      <td>9.782729e+12</td>\n",
       "    </tr>\n",
       "    <tr>\n",
       "      <th>75%</th>\n",
       "      <td>2006.000000</td>\n",
       "      <td>9.782848e+12</td>\n",
       "    </tr>\n",
       "    <tr>\n",
       "      <th>max</th>\n",
       "      <td>2022.000000</td>\n",
       "      <td>9.791093e+12</td>\n",
       "    </tr>\n",
       "  </tbody>\n",
       "</table>\n",
       "</div>"
      ],
      "text/plain": [
       "                Date          ISBN\n",
       "count  118136.000000  1.181360e+05\n",
       "mean     1999.226375  9.782592e+12\n",
       "std        10.820716  8.467288e+08\n",
       "min      1885.000000  9.780002e+12\n",
       "25%      1997.000000  9.782207e+12\n",
       "50%      2002.000000  9.782729e+12\n",
       "75%      2006.000000  9.782848e+12\n",
       "max      2022.000000  9.791093e+12"
      ]
     },
     "execution_count": 75,
     "metadata": {},
     "output_type": "execute_result"
    }
   ],
   "source": [
    "df.describe()"
   ]
  },
  {
   "cell_type": "markdown",
   "id": "ee116970",
   "metadata": {},
   "source": [
    "---"
   ]
  },
  {
   "cell_type": "markdown",
   "id": "4d631952",
   "metadata": {},
   "source": [
    "## Changer l'index pour trier par auteur"
   ]
  },
  {
   "cell_type": "code",
   "execution_count": 10,
   "id": "9f82b0e6",
   "metadata": {},
   "outputs": [
    {
     "data": {
      "text/html": [
       "<div>\n",
       "<style scoped>\n",
       "    .dataframe tbody tr th:only-of-type {\n",
       "        vertical-align: middle;\n",
       "    }\n",
       "\n",
       "    .dataframe tbody tr th {\n",
       "        vertical-align: top;\n",
       "    }\n",
       "\n",
       "    .dataframe thead th {\n",
       "        text-align: right;\n",
       "    }\n",
       "</style>\n",
       "<table border=\"1\" class=\"dataframe\">\n",
       "  <thead>\n",
       "    <tr style=\"text-align: right;\">\n",
       "      <th></th>\n",
       "      <th>Titre</th>\n",
       "      <th>Edition</th>\n",
       "      <th>Date</th>\n",
       "      <th>ISBN</th>\n",
       "    </tr>\n",
       "    <tr>\n",
       "      <th>Auteur(s)</th>\n",
       "      <th></th>\n",
       "      <th></th>\n",
       "      <th></th>\n",
       "      <th></th>\n",
       "    </tr>\n",
       "  </thead>\n",
       "  <tbody>\n",
       "    <tr>\n",
       "      <th>Jean-Gabriel Ganascia</th>\n",
       "      <td>Le mythe de la singularité - Faut-il craindre ...</td>\n",
       "      <td>NaN</td>\n",
       "      <td>2017</td>\n",
       "      <td>9782021309997</td>\n",
       "    </tr>\n",
       "    <tr>\n",
       "      <th>Jean-Gabriel Ganascia</th>\n",
       "      <td>L'intelligence artificielle</td>\n",
       "      <td>Editions Le Cavalier Bleu</td>\n",
       "      <td>2007</td>\n",
       "      <td>9782846701655</td>\n",
       "    </tr>\n",
       "  </tbody>\n",
       "</table>\n",
       "</div>"
      ],
      "text/plain": [
       "                                                                   Titre  \\\n",
       "Auteur(s)                                                                  \n",
       "Jean-Gabriel Ganascia  Le mythe de la singularité - Faut-il craindre ...   \n",
       "Jean-Gabriel Ganascia                        L'intelligence artificielle   \n",
       "\n",
       "                                         Edition  Date           ISBN  \n",
       "Auteur(s)                                                              \n",
       "Jean-Gabriel Ganascia                        NaN  2017  9782021309997  \n",
       "Jean-Gabriel Ganascia  Editions Le Cavalier Bleu  2007  9782846701655  "
      ]
     },
     "execution_count": 10,
     "metadata": {},
     "output_type": "execute_result"
    }
   ],
   "source": [
    "df_auteur = df.set_index(\"Auteur(s)\")\n",
    "df_auteur.loc[\"Jean-Gabriel Ganascia\"]"
   ]
  },
  {
   "cell_type": "code",
   "execution_count": 11,
   "id": "a34070ce",
   "metadata": {},
   "outputs": [
    {
     "data": {
      "text/plain": [
       "Titre      Le choix de l'histoire - pourquoi et comment j...\n",
       "Edition                                                  NaN\n",
       "Date                                                    2007\n",
       "ISBN                                           9782869597624\n",
       "Name: Pierre Vidal-Naquet, dtype: object"
      ]
     },
     "execution_count": 11,
     "metadata": {},
     "output_type": "execute_result"
    }
   ],
   "source": [
    "df_auteur.loc[\"Pierre Vidal-Naquet\"]"
   ]
  },
  {
   "cell_type": "markdown",
   "id": "203ae769",
   "metadata": {},
   "source": [
    "## Mettre l'ISBN en index"
   ]
  },
  {
   "cell_type": "code",
   "execution_count": 17,
   "id": "7c8aca16",
   "metadata": {},
   "outputs": [
    {
     "data": {
      "text/html": [
       "<div>\n",
       "<style scoped>\n",
       "    .dataframe tbody tr th:only-of-type {\n",
       "        vertical-align: middle;\n",
       "    }\n",
       "\n",
       "    .dataframe tbody tr th {\n",
       "        vertical-align: top;\n",
       "    }\n",
       "\n",
       "    .dataframe thead th {\n",
       "        text-align: right;\n",
       "    }\n",
       "</style>\n",
       "<table border=\"1\" class=\"dataframe\">\n",
       "  <thead>\n",
       "    <tr style=\"text-align: right;\">\n",
       "      <th></th>\n",
       "      <th>Auteur(s)</th>\n",
       "      <th>Titre</th>\n",
       "      <th>Edition</th>\n",
       "      <th>Date</th>\n",
       "    </tr>\n",
       "    <tr>\n",
       "      <th>ISBN</th>\n",
       "      <th></th>\n",
       "      <th></th>\n",
       "      <th></th>\n",
       "      <th></th>\n",
       "    </tr>\n",
       "  </thead>\n",
       "  <tbody>\n",
       "    <tr>\n",
       "      <th>9782869597624</th>\n",
       "      <td>Pierre Vidal-Naquet</td>\n",
       "      <td>Le choix de l'histoire - pourquoi et comment j...</td>\n",
       "      <td>NaN</td>\n",
       "      <td>2007</td>\n",
       "    </tr>\n",
       "    <tr>\n",
       "      <th>9782757829707</th>\n",
       "      <td>Ian Kershaw</td>\n",
       "      <td>Choix fatidiques - dix décisions qui ont chang...</td>\n",
       "      <td>Points</td>\n",
       "      <td>2012</td>\n",
       "    </tr>\n",
       "  </tbody>\n",
       "</table>\n",
       "</div>"
      ],
      "text/plain": [
       "                         Auteur(s)  \\\n",
       "ISBN                                 \n",
       "9782869597624  Pierre Vidal-Naquet   \n",
       "9782757829707          Ian Kershaw   \n",
       "\n",
       "                                                           Titre Edition  Date  \n",
       "ISBN                                                                            \n",
       "9782869597624  Le choix de l'histoire - pourquoi et comment j...     NaN  2007  \n",
       "9782757829707  Choix fatidiques - dix décisions qui ont chang...  Points  2012  "
      ]
     },
     "execution_count": 17,
     "metadata": {},
     "output_type": "execute_result"
    }
   ],
   "source": [
    "df_ISBN = df.set_index(\"ISBN\")\n",
    "df_ISBN.head(2)"
   ]
  },
  {
   "cell_type": "markdown",
   "id": "00c9c8b3",
   "metadata": {},
   "source": [
    "---"
   ]
  },
  {
   "cell_type": "markdown",
   "id": "caf2e74d",
   "metadata": {},
   "source": [
    "## Modifications du contenu"
   ]
  },
  {
   "cell_type": "code",
   "execution_count": 194,
   "id": "2d3d90eb",
   "metadata": {},
   "outputs": [],
   "source": [
    "# df.loc[22, \"Edition\"] = \"ENI\"\n",
    "# df"
   ]
  },
  {
   "cell_type": "code",
   "execution_count": 136,
   "id": "0e62b903",
   "metadata": {},
   "outputs": [],
   "source": [
    "# # Sauvegarde du csv \n",
    "# df.to_csv(\"biblio_ultime.csv\", index=False)"
   ]
  },
  {
   "cell_type": "code",
   "execution_count": 99,
   "id": "e5052af7",
   "metadata": {},
   "outputs": [],
   "source": [
    "# supprimer une colonne définitivement\n",
    "# del df[\"Unnamed: 0\"]"
   ]
  },
  {
   "cell_type": "markdown",
   "id": "bad85308",
   "metadata": {},
   "source": [
    "---"
   ]
  },
  {
   "cell_type": "markdown",
   "id": "e7b2a543",
   "metadata": {},
   "source": [
    "## <center> Filtres </center>"
   ]
  },
  {
   "cell_type": "markdown",
   "id": "e6b2e734",
   "metadata": {},
   "source": [
    "## Filtre pour l'auteur "
   ]
  },
  {
   "cell_type": "code",
   "execution_count": 9,
   "id": "4e95bff0",
   "metadata": {},
   "outputs": [
    {
     "data": {
      "text/html": [
       "<div>\n",
       "<style scoped>\n",
       "    .dataframe tbody tr th:only-of-type {\n",
       "        vertical-align: middle;\n",
       "    }\n",
       "\n",
       "    .dataframe tbody tr th {\n",
       "        vertical-align: top;\n",
       "    }\n",
       "\n",
       "    .dataframe thead th {\n",
       "        text-align: right;\n",
       "    }\n",
       "</style>\n",
       "<table border=\"1\" class=\"dataframe\">\n",
       "  <thead>\n",
       "    <tr style=\"text-align: right;\">\n",
       "      <th></th>\n",
       "      <th>Auteur</th>\n",
       "      <th>Titre</th>\n",
       "      <th>Edition</th>\n",
       "      <th>Date</th>\n",
       "      <th>ISBN</th>\n",
       "    </tr>\n",
       "  </thead>\n",
       "  <tbody>\n",
       "    <tr>\n",
       "      <th>15</th>\n",
       "      <td>Jean-Gabriel Ganascia</td>\n",
       "      <td>L'intelligence artificielle</td>\n",
       "      <td>Cavalier Bleu</td>\n",
       "      <td>2007</td>\n",
       "      <td>9782846701655</td>\n",
       "    </tr>\n",
       "    <tr>\n",
       "      <th>194</th>\n",
       "      <td>Jean-Gabriel Ganascia</td>\n",
       "      <td>L'intelligence artificielle: un exposé pour c...</td>\n",
       "      <td>Flammarion</td>\n",
       "      <td>1993</td>\n",
       "      <td>9782080351418</td>\n",
       "    </tr>\n",
       "    <tr>\n",
       "      <th>196</th>\n",
       "      <td>Jean-Gabriel Ganascia</td>\n",
       "      <td>L'âme-machine: les enjeux de l'intelligence a...</td>\n",
       "      <td>Seuil</td>\n",
       "      <td>1990</td>\n",
       "      <td>9782020114707</td>\n",
       "    </tr>\n",
       "    <tr>\n",
       "      <th>21979</th>\n",
       "      <td>Jean-Gabriel Ganascia</td>\n",
       "      <td>Les sciences cognitives - Poche</td>\n",
       "      <td>du Pommier</td>\n",
       "      <td>2006</td>\n",
       "      <td>9782746503021</td>\n",
       "    </tr>\n",
       "    <tr>\n",
       "      <th>22305</th>\n",
       "      <td>Jean-Gabriel Ganascia</td>\n",
       "      <td>Sciences cognitives (Les)</td>\n",
       "      <td>Flammarion</td>\n",
       "      <td>1998</td>\n",
       "      <td>9782080354181</td>\n",
       "    </tr>\n",
       "  </tbody>\n",
       "</table>\n",
       "</div>"
      ],
      "text/plain": [
       "                      Auteur  \\\n",
       "15     Jean-Gabriel Ganascia   \n",
       "194    Jean-Gabriel Ganascia   \n",
       "196    Jean-Gabriel Ganascia   \n",
       "21979  Jean-Gabriel Ganascia   \n",
       "22305  Jean-Gabriel Ganascia   \n",
       "\n",
       "                                                   Titre        Edition  Date  \\\n",
       "15                           L'intelligence artificielle  Cavalier Bleu  2007   \n",
       "194    L'intelligence artificielle: un exposé pour c...     Flammarion  1993   \n",
       "196    L'âme-machine: les enjeux de l'intelligence a...          Seuil  1990   \n",
       "21979                    Les sciences cognitives - Poche     du Pommier  2006   \n",
       "22305                          Sciences cognitives (Les)     Flammarion  1998   \n",
       "\n",
       "                ISBN  \n",
       "15     9782846701655  \n",
       "194    9782080351418  \n",
       "196    9782020114707  \n",
       "21979  9782746503021  \n",
       "22305  9782080354181  "
      ]
     },
     "execution_count": 9,
     "metadata": {},
     "output_type": "execute_result"
    }
   ],
   "source": [
    "df[df['Auteur'] == 'Jean-Gabriel Ganascia']"
   ]
  },
  {
   "cell_type": "markdown",
   "id": "1d208189",
   "metadata": {},
   "source": [
    "## Filtre pour la date"
   ]
  },
  {
   "cell_type": "code",
   "execution_count": 11,
   "id": "d30e5834",
   "metadata": {},
   "outputs": [],
   "source": [
    "# df[df[\"Date\"] == 1942]"
   ]
  },
  {
   "cell_type": "markdown",
   "id": "1dac78d9",
   "metadata": {},
   "source": [
    "## Filtre pour la maison d'édition"
   ]
  },
  {
   "cell_type": "code",
   "execution_count": 10,
   "id": "00023d36",
   "metadata": {},
   "outputs": [
    {
     "data": {
      "text/html": [
       "<div>\n",
       "<style scoped>\n",
       "    .dataframe tbody tr th:only-of-type {\n",
       "        vertical-align: middle;\n",
       "    }\n",
       "\n",
       "    .dataframe tbody tr th {\n",
       "        vertical-align: top;\n",
       "    }\n",
       "\n",
       "    .dataframe thead th {\n",
       "        text-align: right;\n",
       "    }\n",
       "</style>\n",
       "<table border=\"1\" class=\"dataframe\">\n",
       "  <thead>\n",
       "    <tr style=\"text-align: right;\">\n",
       "      <th></th>\n",
       "      <th>Auteur</th>\n",
       "      <th>Titre</th>\n",
       "      <th>Edition</th>\n",
       "      <th>Date</th>\n",
       "      <th>ISBN</th>\n",
       "    </tr>\n",
       "  </thead>\n",
       "  <tbody>\n",
       "    <tr>\n",
       "      <th>4</th>\n",
       "      <td>Pascal Picq</td>\n",
       "      <td>Il était une fois la paléoanthropologie - Quel...</td>\n",
       "      <td>Odile Jacob</td>\n",
       "      <td>2010</td>\n",
       "      <td>9782738124944</td>\n",
       "    </tr>\n",
       "    <tr>\n",
       "      <th>5</th>\n",
       "      <td>Pascal Picq</td>\n",
       "      <td>Lucy et l’obscurantisme</td>\n",
       "      <td>Odile Jacob</td>\n",
       "      <td>2007</td>\n",
       "      <td>9782738117830</td>\n",
       "    </tr>\n",
       "  </tbody>\n",
       "</table>\n",
       "</div>"
      ],
      "text/plain": [
       "        Auteur                                              Titre  \\\n",
       "4  Pascal Picq  Il était une fois la paléoanthropologie - Quel...   \n",
       "5  Pascal Picq                            Lucy et l’obscurantisme   \n",
       "\n",
       "       Edition  Date           ISBN  \n",
       "4  Odile Jacob  2010  9782738124944  \n",
       "5  Odile Jacob  2007  9782738117830  "
      ]
     },
     "execution_count": 10,
     "metadata": {},
     "output_type": "execute_result"
    }
   ],
   "source": [
    "df[df[\"Edition\"] == \"Odile Jacob\"].head(2)"
   ]
  },
  {
   "cell_type": "markdown",
   "id": "d5934655",
   "metadata": {},
   "source": [
    "## Filtre avec 2 données"
   ]
  },
  {
   "cell_type": "code",
   "execution_count": 11,
   "id": "371aeda5",
   "metadata": {},
   "outputs": [
    {
     "data": {
      "text/html": [
       "<div>\n",
       "<style scoped>\n",
       "    .dataframe tbody tr th:only-of-type {\n",
       "        vertical-align: middle;\n",
       "    }\n",
       "\n",
       "    .dataframe tbody tr th {\n",
       "        vertical-align: top;\n",
       "    }\n",
       "\n",
       "    .dataframe thead th {\n",
       "        text-align: right;\n",
       "    }\n",
       "</style>\n",
       "<table border=\"1\" class=\"dataframe\">\n",
       "  <thead>\n",
       "    <tr style=\"text-align: right;\">\n",
       "      <th></th>\n",
       "      <th>Auteur</th>\n",
       "      <th>Titre</th>\n",
       "      <th>Edition</th>\n",
       "      <th>Date</th>\n",
       "      <th>ISBN</th>\n",
       "    </tr>\n",
       "  </thead>\n",
       "  <tbody>\n",
       "    <tr>\n",
       "      <th>1</th>\n",
       "      <td>Ian Kershaw</td>\n",
       "      <td>Choix fatidiques - dix décisions qui ont chang...</td>\n",
       "      <td>Seuil</td>\n",
       "      <td>2012</td>\n",
       "      <td>9782757829707</td>\n",
       "    </tr>\n",
       "    <tr>\n",
       "      <th>2</th>\n",
       "      <td>Jean-Claude Barreau</td>\n",
       "      <td>Sans la nation, le chaos</td>\n",
       "      <td>du Toucan</td>\n",
       "      <td>2012</td>\n",
       "      <td>9782810004676</td>\n",
       "    </tr>\n",
       "  </tbody>\n",
       "</table>\n",
       "</div>"
      ],
      "text/plain": [
       "                Auteur                                              Titre  \\\n",
       "1          Ian Kershaw  Choix fatidiques - dix décisions qui ont chang...   \n",
       "2  Jean-Claude Barreau                           Sans la nation, le chaos   \n",
       "\n",
       "     Edition  Date           ISBN  \n",
       "1      Seuil  2012  9782757829707  \n",
       "2  du Toucan  2012  9782810004676  "
      ]
     },
     "execution_count": 11,
     "metadata": {},
     "output_type": "execute_result"
    }
   ],
   "source": [
    "# Les années 2010 et 2012\n",
    "df[df[\"Date\"].isin((2010, 2012))].head(2)"
   ]
  },
  {
   "cell_type": "code",
   "execution_count": 537,
   "id": "88d47ec5",
   "metadata": {},
   "outputs": [
    {
     "data": {
      "text/html": [
       "<div>\n",
       "<style scoped>\n",
       "    .dataframe tbody tr th:only-of-type {\n",
       "        vertical-align: middle;\n",
       "    }\n",
       "\n",
       "    .dataframe tbody tr th {\n",
       "        vertical-align: top;\n",
       "    }\n",
       "\n",
       "    .dataframe thead th {\n",
       "        text-align: right;\n",
       "    }\n",
       "</style>\n",
       "<table border=\"1\" class=\"dataframe\">\n",
       "  <thead>\n",
       "    <tr style=\"text-align: right;\">\n",
       "      <th></th>\n",
       "      <th>Auteur(s)</th>\n",
       "      <th>Titre</th>\n",
       "      <th>Edition</th>\n",
       "      <th>Date</th>\n",
       "      <th>ISBN</th>\n",
       "    </tr>\n",
       "  </thead>\n",
       "  <tbody>\n",
       "    <tr>\n",
       "      <th>4</th>\n",
       "      <td>Pascal Picq</td>\n",
       "      <td>Il était une fois la paléoanthropologie - Quel...</td>\n",
       "      <td>Odile Jacob</td>\n",
       "      <td>2010</td>\n",
       "      <td>9782738124944</td>\n",
       "    </tr>\n",
       "    <tr>\n",
       "      <th>5</th>\n",
       "      <td>Pascal Picq</td>\n",
       "      <td>Lucy et l’obscurantisme</td>\n",
       "      <td>Odile Jacob</td>\n",
       "      <td>2007</td>\n",
       "      <td>9782738117830</td>\n",
       "    </tr>\n",
       "  </tbody>\n",
       "</table>\n",
       "</div>"
      ],
      "text/plain": [
       "     Auteur(s)                                              Titre  \\\n",
       "4  Pascal Picq  Il était une fois la paléoanthropologie - Quel...   \n",
       "5  Pascal Picq                            Lucy et l’obscurantisme   \n",
       "\n",
       "       Edition  Date           ISBN  \n",
       "4  Odile Jacob  2010  9782738124944  \n",
       "5  Odile Jacob  2007  9782738117830  "
      ]
     },
     "execution_count": 537,
     "metadata": {},
     "output_type": "execute_result"
    }
   ],
   "source": [
    "# Deux maisons d'éditions différentes\n",
    "df[df['Edition'].isin(('Odile Jacob', 'Grasset'))].head(2)"
   ]
  },
  {
   "cell_type": "markdown",
   "id": "390cfb7d",
   "metadata": {},
   "source": [
    "## Affichage groupé"
   ]
  },
  {
   "cell_type": "code",
   "execution_count": 538,
   "id": "86998160",
   "metadata": {},
   "outputs": [],
   "source": [
    "# df.groupby(\"Edition\").sum()"
   ]
  },
  {
   "cell_type": "code",
   "execution_count": 540,
   "id": "4bebd72a",
   "metadata": {},
   "outputs": [],
   "source": [
    "# df.groupby(\"Date\").sum()"
   ]
  },
  {
   "cell_type": "markdown",
   "id": "ac80af6c",
   "metadata": {},
   "source": [
    "---"
   ]
  },
  {
   "cell_type": "markdown",
   "id": "1f1d2a8d",
   "metadata": {},
   "source": [
    "## Statistiques sur les données "
   ]
  },
  {
   "cell_type": "markdown",
   "id": "24823c05",
   "metadata": {},
   "source": [
    "### Moyenne sur les maisons d'édition"
   ]
  },
  {
   "cell_type": "code",
   "execution_count": 215,
   "id": "ec259de2",
   "metadata": {},
   "outputs": [],
   "source": [
    "# df.groupby(\"Edition\").mean()"
   ]
  },
  {
   "cell_type": "markdown",
   "id": "211500c3",
   "metadata": {},
   "source": [
    "### Moyenne de l'année"
   ]
  },
  {
   "cell_type": "code",
   "execution_count": 12,
   "id": "de924c28",
   "metadata": {},
   "outputs": [
    {
     "data": {
      "text/plain": [
       "1999.29"
      ]
     },
     "execution_count": 12,
     "metadata": {},
     "output_type": "execute_result"
    }
   ],
   "source": [
    "round(df.Date.mean(), 2)"
   ]
  },
  {
   "cell_type": "markdown",
   "id": "e4ea11ad",
   "metadata": {},
   "source": [
    "#### Médiane de l'année"
   ]
  },
  {
   "cell_type": "code",
   "execution_count": 13,
   "id": "28df53e4",
   "metadata": {},
   "outputs": [
    {
     "data": {
      "text/plain": [
       "2002.0"
      ]
     },
     "execution_count": 13,
     "metadata": {},
     "output_type": "execute_result"
    }
   ],
   "source": [
    "df.Date.median()"
   ]
  },
  {
   "cell_type": "markdown",
   "id": "50cfd3ca",
   "metadata": {},
   "source": [
    "#### Dates extrêmes "
   ]
  },
  {
   "cell_type": "code",
   "execution_count": 14,
   "id": "f472cc47",
   "metadata": {},
   "outputs": [
    {
     "name": "stdout",
     "output_type": "stream",
     "text": [
      "Date min : 1885\n",
      "Date max : 2025\n"
     ]
    }
   ],
   "source": [
    "# Minimum\n",
    "date_min = df.Date.min()\n",
    "print(\"Date min :\", date_min)\n",
    "\n",
    "# Maximum\n",
    "\n",
    "date_max = df.Date.max()\n",
    "print(\"Date max :\", date_max)"
   ]
  },
  {
   "cell_type": "code",
   "execution_count": 16,
   "id": "6747602a",
   "metadata": {},
   "outputs": [],
   "source": [
    "# # filtre pour récupérer les dates aberrantes \n",
    "# filtre = df[df['Date'] > 2022]\n",
    "# filtre"
   ]
  },
  {
   "cell_type": "code",
   "execution_count": 17,
   "id": "7671dcd2",
   "metadata": {},
   "outputs": [],
   "source": [
    "## Changer la date d'une ligne\n",
    "# df.loc[64394, 'Date']= 1924\n",
    "# df.to_csv(\"37.csv\", index=False)"
   ]
  },
  {
   "cell_type": "markdown",
   "id": "4cbb0c40",
   "metadata": {},
   "source": [
    "### Récupérer les auteurs "
   ]
  },
  {
   "cell_type": "code",
   "execution_count": 20,
   "id": "b4738a8d",
   "metadata": {},
   "outputs": [],
   "source": [
    "# df['Auteur'].unique()"
   ]
  },
  {
   "cell_type": "markdown",
   "id": "16489c44",
   "metadata": {},
   "source": [
    "### Nombre d'auteurs "
   ]
  },
  {
   "cell_type": "code",
   "execution_count": 19,
   "id": "5ebeb582",
   "metadata": {},
   "outputs": [
    {
     "data": {
      "text/plain": [
       "250293"
      ]
     },
     "execution_count": 19,
     "metadata": {},
     "output_type": "execute_result"
    }
   ],
   "source": [
    "df['Auteur'].nunique()"
   ]
  },
  {
   "cell_type": "markdown",
   "id": "ad780386",
   "metadata": {},
   "source": [
    "### Nombre de maisons d'édition différentes "
   ]
  },
  {
   "cell_type": "code",
   "execution_count": 21,
   "id": "54e2c064",
   "metadata": {},
   "outputs": [
    {
     "data": {
      "text/plain": [
       "44739"
      ]
     },
     "execution_count": 21,
     "metadata": {},
     "output_type": "execute_result"
    }
   ],
   "source": [
    "df['Edition'].nunique()"
   ]
  },
  {
   "cell_type": "code",
   "execution_count": 84,
   "id": "9a19192a",
   "metadata": {},
   "outputs": [],
   "source": [
    "# # Liste complète, il peut y avoir des NaN\n",
    "# df['Edition'].unique()"
   ]
  },
  {
   "cell_type": "markdown",
   "id": "bfad9a3f",
   "metadata": {},
   "source": [
    "## Nombre de livres selon les maisons d'édition"
   ]
  },
  {
   "cell_type": "code",
   "execution_count": 22,
   "id": "ed481ea7",
   "metadata": {},
   "outputs": [
    {
     "data": {
      "text/plain": [
       "Harmattan                                          16672\n",
       "Gallimard                                          14783\n",
       "Seuil                                               7388\n",
       "PUF                                                 7289\n",
       "Flammarion                                          5927\n",
       "                                                   ...  \n",
       "Cerf Volant GF                                         1\n",
       "Traduit par Emmanuel Hocquard, Christine Michel        1\n",
       "Traduit par Philippe Gerval                            1\n",
       "Postface de Luc Vidal                                  1\n",
       "Illustrations de Lefred Thouron                        1\n",
       "Name: Edition, Length: 44739, dtype: int64"
      ]
     },
     "execution_count": 22,
     "metadata": {},
     "output_type": "execute_result"
    }
   ],
   "source": [
    "df[\"Edition\"].value_counts()"
   ]
  },
  {
   "cell_type": "code",
   "execution_count": 86,
   "id": "a3262bf6",
   "metadata": {},
   "outputs": [],
   "source": [
    "# Version normalisée (valeur comprise en 0 et 1)\n",
    "# df[\"Edition\"].value_counts(normalize=True)"
   ]
  },
  {
   "cell_type": "markdown",
   "id": "43b4b99d",
   "metadata": {},
   "source": [
    "---"
   ]
  },
  {
   "cell_type": "markdown",
   "id": "bdc7718e",
   "metadata": {},
   "source": [
    "## <center> Visualisation </center>"
   ]
  },
  {
   "cell_type": "markdown",
   "id": "3e3c9d12",
   "metadata": {},
   "source": [
    "## Nombre de livres par maison d'édition"
   ]
  },
  {
   "cell_type": "code",
   "execution_count": 87,
   "id": "dfffcd1a",
   "metadata": {},
   "outputs": [],
   "source": [
    "# df[\"Edition\"].value_counts().plot.bar()"
   ]
  },
  {
   "cell_type": "code",
   "execution_count": 23,
   "id": "f52f2fcf",
   "metadata": {},
   "outputs": [
    {
     "data": {
      "text/plain": [
       "<AxesSubplot:xlabel='Edition'>"
      ]
     },
     "execution_count": 23,
     "metadata": {},
     "output_type": "execute_result"
    },
    {
     "data": {
      "image/png": "[encoded data removed]",
      "text/plain": [
       "<Figure size 432x288 with 1 Axes>"
      ]
     },
     "metadata": {
      "needs_background": "light"
     },
     "output_type": "display_data"
    }
   ],
   "source": [
    "# Classement des 10 premières maison d'édition\n",
    "top_10 = df.value_counts(\"Edition\", ascending = False).head(10)\n",
    "top_10.plot.bar()"
   ]
  },
  {
   "cell_type": "code",
   "execution_count": 24,
   "id": "a3203c2e",
   "metadata": {},
   "outputs": [
    {
     "data": {
      "text/plain": [
       "9.312859026799885"
      ]
     },
     "execution_count": 24,
     "metadata": {},
     "output_type": "execute_result"
    }
   ],
   "source": [
    "# Moyenne de livre par maison d'édition \n",
    "moyenne = df.value_counts(\"Edition\").mean()\n",
    "moyenne"
   ]
  },
  {
   "cell_type": "code",
   "execution_count": 90,
   "id": "39b23df2",
   "metadata": {},
   "outputs": [],
   "source": [
    "# Camembert avec l'ensemble des maisons d'édition (trop lourd, pas lisible)\n",
    "# df[\"Edition\"].value_counts(normalize=False).plot.pie(legend=False, figsize=(7, 7))"
   ]
  },
  {
   "cell_type": "code",
   "execution_count": 25,
   "id": "3da18b0d",
   "metadata": {},
   "outputs": [
    {
     "data": {
      "image/png": "[encoded data removed]",
      "text/plain": [
       "<Figure size 432x288 with 1 Axes>"
      ]
     },
     "metadata": {},
     "output_type": "display_data"
    }
   ],
   "source": [
    "# 10 maisons d'éditions dans la bdd\n",
    "top_edition = df.value_counts(\"Edition\", ascending = False).head(10).plot.pie(legend=False)"
   ]
  },
  {
   "cell_type": "code",
   "execution_count": 26,
   "id": "bfb1d5fb",
   "metadata": {},
   "outputs": [
    {
     "data": {
      "text/plain": [
       "{'whiskers': [<matplotlib.lines.Line2D at 0x21a4d9c5310>,\n",
       "  <matplotlib.lines.Line2D at 0x21a4d9c55e0>],\n",
       " 'caps': [<matplotlib.lines.Line2D at 0x21a4d9c58b0>,\n",
       "  <matplotlib.lines.Line2D at 0x21a4d9c5b80>],\n",
       " 'boxes': [<matplotlib.lines.Line2D at 0x21a4d9c5040>],\n",
       " 'medians': [<matplotlib.lines.Line2D at 0x21a4d9c5e50>],\n",
       " 'fliers': [<matplotlib.lines.Line2D at 0x21a4d9d3160>],\n",
       " 'means': []}"
      ]
     },
     "execution_count": 26,
     "metadata": {},
     "output_type": "execute_result"
    },
    {
     "data": {
      "image/png": "[encoded data removed]",
      "text/plain": [
       "<Figure size 432x288 with 1 Axes>"
      ]
     },
     "metadata": {
      "needs_background": "light"
     },
     "output_type": "display_data"
    }
   ],
   "source": [
    "# Diagramme sur 10 maisons d'édition \n",
    "\n",
    "nb_livre_par_maison = df.value_counts(\"Edition\").head(10)\n",
    "\n",
    "fig1, ax1 = plt.subplots()\n",
    "ax1.set_title('Visualisation')\n",
    "ax1.boxplot(nb_livre_par_maison)"
   ]
  },
  {
   "cell_type": "markdown",
   "id": "c912c8d5",
   "metadata": {},
   "source": [
    "## Nombre de livres par auteur"
   ]
  },
  {
   "cell_type": "code",
   "execution_count": 28,
   "id": "93cc1f9e",
   "metadata": {},
   "outputs": [
    {
     "data": {
      "text/plain": [
       "<AxesSubplot:xlabel='Auteur'>"
      ]
     },
     "execution_count": 28,
     "metadata": {},
     "output_type": "execute_result"
    },
    {
     "data": {
      "image/png": "[encoded data removed]",
      "text/plain": [
       "<Figure size 432x288 with 1 Axes>"
      ]
     },
     "metadata": {
      "needs_background": "light"
     },
     "output_type": "display_data"
    }
   ],
   "source": [
    "# Top 10 des auteurs\n",
    "\n",
    "top_10_auteurs = df.value_counts(\"Auteur\", ascending = False).head(10)\n",
    "top_10_auteurs.plot.bar()"
   ]
  },
  {
   "cell_type": "code",
   "execution_count": 31,
   "id": "acbb4dd2",
   "metadata": {},
   "outputs": [
    {
     "data": {
      "image/png": "[encoded data removed]",
      "text/plain": [
       "<Figure size 432x288 with 1 Axes>"
      ]
     },
     "metadata": {},
     "output_type": "display_data"
    }
   ],
   "source": [
    "# Ensemble de tous les auteurs (illisible)\n",
    "# df[\"Auteur(s)\"].value_counts(normalize=False).plot.pie(legend=False, figsize=(7, 7))\n",
    "\n",
    "# top 10 des auteurs\n",
    "top_auteurs = df.value_counts(\"Auteur\", ascending = False).head(10).plot.pie(legend=False)"
   ]
  },
  {
   "cell_type": "markdown",
   "id": "91acf2fa",
   "metadata": {},
   "source": [
    "# Nombre de livres par date"
   ]
  },
  {
   "cell_type": "code",
   "execution_count": 32,
   "id": "8b1d4831",
   "metadata": {},
   "outputs": [
    {
     "data": {
      "text/plain": [
       "<AxesSubplot:xlabel='Date'>"
      ]
     },
     "execution_count": 32,
     "metadata": {},
     "output_type": "execute_result"
    },
    {
     "data": {
      "image/png": "[encoded data removed]",
      "text/plain": [
       "<Figure size 432x288 with 1 Axes>"
      ]
     },
     "metadata": {
      "needs_background": "light"
     },
     "output_type": "display_data"
    }
   ],
   "source": [
    "# Top 10 des dates\n",
    "\n",
    "top_10_date = df.value_counts(\"Date\", ascending = False).head(10)\n",
    "top_10_date.plot.bar()"
   ]
  },
  {
   "cell_type": "code",
   "execution_count": 33,
   "id": "1369a58e",
   "metadata": {},
   "outputs": [
    {
     "data": {
      "text/plain": [
       "<AxesSubplot:ylabel='Date'>"
      ]
     },
     "execution_count": 33,
     "metadata": {},
     "output_type": "execute_result"
    },
    {
     "data": {
      "image/png": "[encoded data removed]",
      "text/plain": [
       "<Figure size 504x504 with 1 Axes>"
      ]
     },
     "metadata": {},
     "output_type": "display_data"
    }
   ],
   "source": [
    "df[\"Date\"].value_counts(normalize=False).plot.pie(legend=False, figsize=(7, 7))"
   ]
  },
  {
   "cell_type": "code",
   "execution_count": 34,
   "id": "973aeea6",
   "metadata": {},
   "outputs": [
    {
     "data": {
      "image/png": "[encoded data removed]",
      "text/plain": [
       "<Figure size 432x288 with 1 Axes>"
      ]
     },
     "metadata": {},
     "output_type": "display_data"
    }
   ],
   "source": [
    "# Top 10 des dates \n",
    "top_date = df.value_counts(\"Date\", ascending = False).head(10).plot.pie(legend=False)"
   ]
  },
  {
   "cell_type": "code",
   "execution_count": 35,
   "id": "d63b63d0",
   "metadata": {},
   "outputs": [
    {
     "data": {
      "text/plain": [
       "{'whiskers': [<matplotlib.lines.Line2D at 0x21a4f086340>,\n",
       "  <matplotlib.lines.Line2D at 0x21a4f093910>],\n",
       " 'caps': [<matplotlib.lines.Line2D at 0x21a4f093be0>,\n",
       "  <matplotlib.lines.Line2D at 0x21a4f093eb0>],\n",
       " 'boxes': [<matplotlib.lines.Line2D at 0x21a4f093490>],\n",
       " 'medians': [<matplotlib.lines.Line2D at 0x21a4f0a11c0>],\n",
       " 'fliers': [<matplotlib.lines.Line2D at 0x21a4f0a1490>],\n",
       " 'means': []}"
      ]
     },
     "execution_count": 35,
     "metadata": {},
     "output_type": "execute_result"
    },
    {
     "data": {
      "image/png": "[encoded data removed]",
      "text/plain": [
       "<Figure size 432x288 with 1 Axes>"
      ]
     },
     "metadata": {
      "needs_background": "light"
     },
     "output_type": "display_data"
    }
   ],
   "source": [
    "# Diagramme sur la colonne DATE\n",
    "\n",
    "fig1, ax1 = plt.subplots()\n",
    "ax1.set_title('Visualisation')\n",
    "ax1.boxplot(df[\"Date\"])"
   ]
  },
  {
   "cell_type": "markdown",
   "id": "4dd2ffdf",
   "metadata": {},
   "source": [
    "---"
   ]
  },
  {
   "cell_type": "markdown",
   "id": "b87fd771",
   "metadata": {},
   "source": [
    "# <center>Modification du csv</center>"
   ]
  },
  {
   "cell_type": "markdown",
   "id": "bd064d1b",
   "metadata": {},
   "source": [
    "---"
   ]
  },
  {
   "cell_type": "markdown",
   "id": "fad6a517",
   "metadata": {},
   "source": [
    "## Remplace les caractères spéciaux dans la colonne 'Date'"
   ]
  },
  {
   "cell_type": "code",
   "execution_count": 133,
   "id": "0b7ebece",
   "metadata": {},
   "outputs": [],
   "source": [
    "# Il y a des données manquantes dans les dates, il faut les remplacer par O\n",
    "df['Date'] = df['Date'].fillna(0)"
   ]
  },
  {
   "cell_type": "code",
   "execution_count": 57,
   "id": "dd398d8f",
   "metadata": {},
   "outputs": [],
   "source": [
    "# Suppression d'un caractère spécial\n",
    "df['Date'] = df['Date'].str.replace('©','')"
   ]
  },
  {
   "cell_type": "markdown",
   "id": "204a9ad9",
   "metadata": {},
   "source": [
    "## Transformer la colonne en int"
   ]
  },
  {
   "cell_type": "code",
   "execution_count": 601,
   "id": "a61eb5b0",
   "metadata": {},
   "outputs": [
    {
     "data": {
      "text/plain": [
       "dtype('int64')"
      ]
     },
     "execution_count": 601,
     "metadata": {},
     "output_type": "execute_result"
    }
   ],
   "source": [
    "# vérification du type\n",
    "df['Date'].dtypes"
   ]
  },
  {
   "cell_type": "code",
   "execution_count": 527,
   "id": "a10a4a67",
   "metadata": {},
   "outputs": [],
   "source": [
    "# transformer en int \n",
    "df['Date'] = df['Date'].astype(int)"
   ]
  },
  {
   "cell_type": "code",
   "execution_count": 141,
   "id": "8a3c49e5",
   "metadata": {},
   "outputs": [],
   "source": [
    "# Vérification des valeurs nulles \n",
    "df[df['Date'].isnull()]\n",
    "\n",
    "# # S'il y a des valeurs nulles faire :\n",
    "df['Date'] = df['Date'].fillna(0)"
   ]
  },
  {
   "cell_type": "code",
   "execution_count": 627,
   "id": "090c685e",
   "metadata": {},
   "outputs": [
    {
     "data": {
      "text/html": [
       "<div>\n",
       "<style scoped>\n",
       "    .dataframe tbody tr th:only-of-type {\n",
       "        vertical-align: middle;\n",
       "    }\n",
       "\n",
       "    .dataframe tbody tr th {\n",
       "        vertical-align: top;\n",
       "    }\n",
       "\n",
       "    .dataframe thead th {\n",
       "        text-align: right;\n",
       "    }\n",
       "</style>\n",
       "<table border=\"1\" class=\"dataframe\">\n",
       "  <thead>\n",
       "    <tr style=\"text-align: right;\">\n",
       "      <th></th>\n",
       "      <th>Auteur(s)</th>\n",
       "      <th>Titre</th>\n",
       "      <th>Edition</th>\n",
       "      <th>Date</th>\n",
       "      <th>ISBN</th>\n",
       "    </tr>\n",
       "  </thead>\n",
       "  <tbody>\n",
       "  </tbody>\n",
       "</table>\n",
       "</div>"
      ],
      "text/plain": [
       "Empty DataFrame\n",
       "Columns: [Auteur(s), Titre, Edition, Date, ISBN]\n",
       "Index: []"
      ]
     },
     "execution_count": 627,
     "metadata": {},
     "output_type": "execute_result"
    }
   ],
   "source": [
    "filtre = df[df['Date'] == 0  ]\n",
    "filtre"
   ]
  },
  {
   "cell_type": "code",
   "execution_count": 526,
   "id": "97b6fe21",
   "metadata": {},
   "outputs": [],
   "source": [
    "# remplacer avec l'index\n",
    "df.loc[1271, \"Edition\"] = \"Documentation Française (La)\"\n",
    "\n",
    "# Sauvegarde du csv \n",
    "df.to_csv(\"bdd.csv\", index=False)"
   ]
  },
  {
   "cell_type": "code",
   "execution_count": 630,
   "id": "31fa6810",
   "metadata": {},
   "outputs": [],
   "source": [
    "# replace\n",
    "df['Edition'] = df['Edition'].str.replace('Presses universitaires de France','PUF')\n",
    "\n",
    "# Sauvegarde du csv \n",
    "df.to_csv(\"bdd.csv\", index=False)"
   ]
  },
  {
   "cell_type": "markdown",
   "id": "b65d1937",
   "metadata": {},
   "source": [
    "### Remplacer les 0 dans 'Date' par la date véritable "
   ]
  },
  {
   "cell_type": "code",
   "execution_count": 597,
   "id": "1e8c1720",
   "metadata": {},
   "outputs": [
    {
     "data": {
      "text/html": [
       "<div>\n",
       "<style scoped>\n",
       "    .dataframe tbody tr th:only-of-type {\n",
       "        vertical-align: middle;\n",
       "    }\n",
       "\n",
       "    .dataframe tbody tr th {\n",
       "        vertical-align: top;\n",
       "    }\n",
       "\n",
       "    .dataframe thead th {\n",
       "        text-align: right;\n",
       "    }\n",
       "</style>\n",
       "<table border=\"1\" class=\"dataframe\">\n",
       "  <thead>\n",
       "    <tr style=\"text-align: right;\">\n",
       "      <th></th>\n",
       "      <th>Auteur(s)</th>\n",
       "      <th>Titre</th>\n",
       "      <th>Edition</th>\n",
       "      <th>Date</th>\n",
       "      <th>ISBN</th>\n",
       "    </tr>\n",
       "  </thead>\n",
       "  <tbody>\n",
       "    <tr>\n",
       "      <th>1296</th>\n",
       "      <td>Besse</td>\n",
       "      <td>L'zillettrismey En Questions</td>\n",
       "      <td>Presses Universitaires de Lyon</td>\n",
       "      <td>0</td>\n",
       "      <td>9782729704315</td>\n",
       "    </tr>\n",
       "  </tbody>\n",
       "</table>\n",
       "</div>"
      ],
      "text/plain": [
       "     Auteur(s)                         Titre                         Edition  \\\n",
       "1296     Besse  L'zillettrismey En Questions  Presses Universitaires de Lyon   \n",
       "\n",
       "      Date           ISBN  \n",
       "1296     0  9782729704315  "
      ]
     },
     "execution_count": 597,
     "metadata": {},
     "output_type": "execute_result"
    }
   ],
   "source": [
    "# Filtre pour repérer les '0'\n",
    "filtre = df[df['Date'] == 0  ]\n",
    "filtre"
   ]
  },
  {
   "cell_type": "code",
   "execution_count": 599,
   "id": "947364a4",
   "metadata": {},
   "outputs": [],
   "source": [
    "# remplacer avec l'index\n",
    "df.loc[1296, \"Auteur(s)\"] = \"Jean-Marie Besse\"\n",
    "\n",
    "# Sauvegarde du csv \n",
    "df.to_csv(\"bdd.csv\", index=False)"
   ]
  },
  {
   "cell_type": "code",
   "execution_count": 640,
   "id": "e09ef20c",
   "metadata": {},
   "outputs": [
    {
     "data": {
      "text/html": [
       "<div>\n",
       "<style scoped>\n",
       "    .dataframe tbody tr th:only-of-type {\n",
       "        vertical-align: middle;\n",
       "    }\n",
       "\n",
       "    .dataframe tbody tr th {\n",
       "        vertical-align: top;\n",
       "    }\n",
       "\n",
       "    .dataframe thead th {\n",
       "        text-align: right;\n",
       "    }\n",
       "</style>\n",
       "<table border=\"1\" class=\"dataframe\">\n",
       "  <thead>\n",
       "    <tr style=\"text-align: right;\">\n",
       "      <th></th>\n",
       "      <th>Auteur(s)</th>\n",
       "      <th>Titre</th>\n",
       "      <th>Edition</th>\n",
       "      <th>Date</th>\n",
       "      <th>ISBN</th>\n",
       "    </tr>\n",
       "  </thead>\n",
       "  <tbody>\n",
       "    <tr>\n",
       "      <th>218</th>\n",
       "      <td>Yves Coppens</td>\n",
       "      <td>Pré-ambules - les premiers pas de l'homme</td>\n",
       "      <td>Odile Jacob</td>\n",
       "      <td>2001</td>\n",
       "      <td>9782738109361</td>\n",
       "    </tr>\n",
       "  </tbody>\n",
       "</table>\n",
       "</div>"
      ],
      "text/plain": [
       "        Auteur(s)                                      Titre      Edition  \\\n",
       "218  Yves Coppens  Pré-ambules - les premiers pas de l'homme  Odile Jacob   \n",
       "\n",
       "     Date           ISBN  \n",
       "218  2001  9782738109361  "
      ]
     },
     "execution_count": 640,
     "metadata": {},
     "output_type": "execute_result"
    }
   ],
   "source": [
    "filtre = df[df[\"Auteur(s)\"] == \"Yves Coppens\"]\n",
    "filtre"
   ]
  },
  {
   "cell_type": "code",
   "execution_count": 649,
   "id": "e321a7ad",
   "metadata": {},
   "outputs": [
    {
     "data": {
      "text/html": [
       "<div>\n",
       "<style scoped>\n",
       "    .dataframe tbody tr th:only-of-type {\n",
       "        vertical-align: middle;\n",
       "    }\n",
       "\n",
       "    .dataframe tbody tr th {\n",
       "        vertical-align: top;\n",
       "    }\n",
       "\n",
       "    .dataframe thead th {\n",
       "        text-align: right;\n",
       "    }\n",
       "</style>\n",
       "<table border=\"1\" class=\"dataframe\">\n",
       "  <thead>\n",
       "    <tr style=\"text-align: right;\">\n",
       "      <th></th>\n",
       "      <th>Auteur(s)</th>\n",
       "      <th>Titre</th>\n",
       "      <th>Edition</th>\n",
       "      <th>Date</th>\n",
       "      <th>ISBN</th>\n",
       "    </tr>\n",
       "  </thead>\n",
       "  <tbody>\n",
       "    <tr>\n",
       "      <th>0</th>\n",
       "      <td>Pierre Vidal-Naquet</td>\n",
       "      <td>Le choix de l'histoire - pourquoi et comment j...</td>\n",
       "      <td>Arléa</td>\n",
       "      <td>2007</td>\n",
       "      <td>9782869597624</td>\n",
       "    </tr>\n",
       "    <tr>\n",
       "      <th>1</th>\n",
       "      <td>Ian Kershaw</td>\n",
       "      <td>Choix fatidiques - dix décisions qui ont chang...</td>\n",
       "      <td>Seuil</td>\n",
       "      <td>2012</td>\n",
       "      <td>9782757829707</td>\n",
       "    </tr>\n",
       "    <tr>\n",
       "      <th>2</th>\n",
       "      <td>Jean-Claude Barreau</td>\n",
       "      <td>Sans la nation, le chaos</td>\n",
       "      <td>Editions du Toucan</td>\n",
       "      <td>2012</td>\n",
       "      <td>9782810004676</td>\n",
       "    </tr>\n",
       "    <tr>\n",
       "      <th>3</th>\n",
       "      <td>François Bousquet</td>\n",
       "      <td>La Droite buissonnière</td>\n",
       "      <td>Rocher</td>\n",
       "      <td>2017</td>\n",
       "      <td>9782268089898</td>\n",
       "    </tr>\n",
       "    <tr>\n",
       "      <th>4</th>\n",
       "      <td>Pascal Picq</td>\n",
       "      <td>Il était une fois la paléoanthropologie - Quel...</td>\n",
       "      <td>Odile Jacob</td>\n",
       "      <td>2010</td>\n",
       "      <td>9782738124944</td>\n",
       "    </tr>\n",
       "    <tr>\n",
       "      <th>...</th>\n",
       "      <td>...</td>\n",
       "      <td>...</td>\n",
       "      <td>...</td>\n",
       "      <td>...</td>\n",
       "      <td>...</td>\n",
       "    </tr>\n",
       "    <tr>\n",
       "      <th>265</th>\n",
       "      <td>Jean-Philippe Couturier</td>\n",
       "      <td>Lorsque mon patron sera une intelligence artif...</td>\n",
       "      <td>VA</td>\n",
       "      <td>2019</td>\n",
       "      <td>9782360930128</td>\n",
       "    </tr>\n",
       "    <tr>\n",
       "      <th>266</th>\n",
       "      <td>Luc Julia</td>\n",
       "      <td>L'intelligence artificielle n'existe pas</td>\n",
       "      <td>First</td>\n",
       "      <td>2019</td>\n",
       "      <td>9782412043400</td>\n",
       "    </tr>\n",
       "    <tr>\n",
       "      <th>267</th>\n",
       "      <td>Jean-Philippe Desbiolles</td>\n",
       "      <td>L'IA sera ce que tu en feras: les 10 règles d...</td>\n",
       "      <td>Dunod</td>\n",
       "      <td>2019</td>\n",
       "      <td>9782100800438</td>\n",
       "    </tr>\n",
       "    <tr>\n",
       "      <th>268</th>\n",
       "      <td>Daniel Crevier</td>\n",
       "      <td>A la recherche de l'intelligence artificielle</td>\n",
       "      <td>Flammarion</td>\n",
       "      <td>1997</td>\n",
       "      <td>9782080814289</td>\n",
       "    </tr>\n",
       "    <tr>\n",
       "      <th>269</th>\n",
       "      <td>Laurent Alexandre</td>\n",
       "      <td>La guerre des intelligences: comment l'intelli...</td>\n",
       "      <td>LGF</td>\n",
       "      <td>2019</td>\n",
       "      <td>9782253257417</td>\n",
       "    </tr>\n",
       "  </tbody>\n",
       "</table>\n",
       "<p>270 rows × 5 columns</p>\n",
       "</div>"
      ],
      "text/plain": [
       "                    Auteur(s)  \\\n",
       "0         Pierre Vidal-Naquet   \n",
       "1                 Ian Kershaw   \n",
       "2         Jean-Claude Barreau   \n",
       "3           François Bousquet   \n",
       "4                 Pascal Picq   \n",
       "..                        ...   \n",
       "265   Jean-Philippe Couturier   \n",
       "266                 Luc Julia   \n",
       "267  Jean-Philippe Desbiolles   \n",
       "268            Daniel Crevier   \n",
       "269         Laurent Alexandre   \n",
       "\n",
       "                                                 Titre             Edition  \\\n",
       "0    Le choix de l'histoire - pourquoi et comment j...               Arléa   \n",
       "1    Choix fatidiques - dix décisions qui ont chang...               Seuil   \n",
       "2                             Sans la nation, le chaos  Editions du Toucan   \n",
       "3                               La Droite buissonnière              Rocher   \n",
       "4    Il était une fois la paléoanthropologie - Quel...         Odile Jacob   \n",
       "..                                                 ...                 ...   \n",
       "265  Lorsque mon patron sera une intelligence artif...                  VA   \n",
       "266           L'intelligence artificielle n'existe pas               First   \n",
       "267  L'IA sera ce que tu en feras: les 10 règles d...               Dunod   \n",
       "268      A la recherche de l'intelligence artificielle          Flammarion   \n",
       "269  La guerre des intelligences: comment l'intelli...                 LGF   \n",
       "\n",
       "     Date           ISBN  \n",
       "0    2007  9782869597624  \n",
       "1    2012  9782757829707  \n",
       "2    2012  9782810004676  \n",
       "3    2017  9782268089898  \n",
       "4    2010  9782738124944  \n",
       "..    ...            ...  \n",
       "265  2019  9782360930128  \n",
       "266  2019  9782412043400  \n",
       "267  2019  9782100800438  \n",
       "268  1997  9782080814289  \n",
       "269  2019  9782253257417  \n",
       "\n",
       "[270 rows x 5 columns]"
      ]
     },
     "execution_count": 649,
     "metadata": {},
     "output_type": "execute_result"
    }
   ],
   "source": [
    "df.head(270)"
   ]
  },
  {
   "cell_type": "markdown",
   "id": "68c9fb6b",
   "metadata": {},
   "source": [
    "---"
   ]
  },
  {
   "cell_type": "markdown",
   "id": "cbb36b08",
   "metadata": {},
   "source": [
    "## Changer le nom d'éditeur \".\"\n",
    "\n",
    "Objectifs :\n",
    "- Récupérer chaque index dans une liste\n",
    "- Remplacer par \"None\" dans une boucle"
   ]
  },
  {
   "cell_type": "code",
   "execution_count": 50,
   "id": "267f384b",
   "metadata": {},
   "outputs": [
    {
     "name": "stdout",
     "output_type": "stream",
     "text": [
      "<class 'pandas.core.frame.DataFrame'>\n",
      "RangeIndex: 6146 entries, 0 to 6145\n",
      "Data columns (total 5 columns):\n",
      " #   Column     Non-Null Count  Dtype \n",
      "---  ------     --------------  ----- \n",
      " 0   Auteur(s)  6144 non-null   object\n",
      " 1   Titre      6146 non-null   object\n",
      " 2   Edition    6146 non-null   object\n",
      " 3   Date       6146 non-null   int64 \n",
      " 4   ISBN       6146 non-null   int64 \n",
      "dtypes: int64(2), object(3)\n",
      "memory usage: 240.2+ KB\n"
     ]
    }
   ],
   "source": [
    "import pandas as pd\n",
    "df = pd.read_csv('test.csv')\n",
    "df.info()"
   ]
  },
  {
   "cell_type": "code",
   "execution_count": 54,
   "id": "630a7230",
   "metadata": {},
   "outputs": [
    {
     "data": {
      "text/html": [
       "<div>\n",
       "<style scoped>\n",
       "    .dataframe tbody tr th:only-of-type {\n",
       "        vertical-align: middle;\n",
       "    }\n",
       "\n",
       "    .dataframe tbody tr th {\n",
       "        vertical-align: top;\n",
       "    }\n",
       "\n",
       "    .dataframe thead th {\n",
       "        text-align: right;\n",
       "    }\n",
       "</style>\n",
       "<table border=\"1\" class=\"dataframe\">\n",
       "  <thead>\n",
       "    <tr style=\"text-align: right;\">\n",
       "      <th></th>\n",
       "      <th>Auteur(s)</th>\n",
       "      <th>Titre</th>\n",
       "      <th>Edition</th>\n",
       "      <th>Date</th>\n",
       "      <th>ISBN</th>\n",
       "    </tr>\n",
       "  </thead>\n",
       "  <tbody>\n",
       "  </tbody>\n",
       "</table>\n",
       "</div>"
      ],
      "text/plain": [
       "Empty DataFrame\n",
       "Columns: [Auteur(s), Titre, Edition, Date, ISBN]\n",
       "Index: []"
      ]
     },
     "execution_count": 54,
     "metadata": {},
     "output_type": "execute_result"
    }
   ],
   "source": [
    "# filtre auteur == \".\"\n",
    "filtre_point = df[df['Auteur(s)']== \".\"]\n",
    "filtre_point"
   ]
  },
  {
   "cell_type": "code",
   "execution_count": 52,
   "id": "7d4bede1",
   "metadata": {},
   "outputs": [
    {
     "name": "stdout",
     "output_type": "stream",
     "text": [
      "Nombre d'index dans la liste : 19\n"
     ]
    }
   ],
   "source": [
    "# création d'une liste pour les index\n",
    "liste_index = []\n",
    "for index, row in filtre_point.iterrows(): \n",
    "    liste_index.append(index)\n",
    "    \n",
    "print(\"Nombre d'index dans la liste :\", len(liste_index))"
   ]
  },
  {
   "cell_type": "code",
   "execution_count": 53,
   "id": "36e0ac9b",
   "metadata": {},
   "outputs": [
    {
     "name": "stderr",
     "output_type": "stream",
     "text": [
      "100%|██████████████████████████████████████████████████████████████████████████████████| 19/19 [00:00<00:00, 28.00it/s]\n"
     ]
    }
   ],
   "source": [
    "# Remplacement par None\n",
    "from tqdm import tqdm\n",
    "\n",
    "for x in tqdm(liste_index) :\n",
    "    df.loc[x, 'Auteur(s)']= \"None\"\n",
    "    df.to_csv(\"test.csv\", index=False)"
   ]
  },
  {
   "cell_type": "markdown",
   "id": "8aa92858",
   "metadata": {},
   "source": [
    "---"
   ]
  },
  {
   "cell_type": "markdown",
   "id": "081d3430",
   "metadata": {},
   "source": [
    "# Remplacer les \"None\" par les noms des auteurs"
   ]
  },
  {
   "cell_type": "code",
   "execution_count": 55,
   "id": "1c298000",
   "metadata": {},
   "outputs": [
    {
     "name": "stdout",
     "output_type": "stream",
     "text": [
      "<class 'pandas.core.frame.DataFrame'>\n",
      "RangeIndex: 6146 entries, 0 to 6145\n",
      "Data columns (total 5 columns):\n",
      " #   Column     Non-Null Count  Dtype \n",
      "---  ------     --------------  ----- \n",
      " 0   Auteur(s)  6144 non-null   object\n",
      " 1   Titre      6146 non-null   object\n",
      " 2   Edition    6146 non-null   object\n",
      " 3   Date       6146 non-null   int64 \n",
      " 4   ISBN       6146 non-null   int64 \n",
      "dtypes: int64(2), object(3)\n",
      "memory usage: 240.2+ KB\n"
     ]
    }
   ],
   "source": [
    "import pandas as pd\n",
    "df = pd.read_csv(\"test.csv\")\n",
    "df.info()"
   ]
  },
  {
   "cell_type": "code",
   "execution_count": 56,
   "id": "a065d2a6",
   "metadata": {},
   "outputs": [
    {
     "data": {
      "text/html": [
       "<div>\n",
       "<style scoped>\n",
       "    .dataframe tbody tr th:only-of-type {\n",
       "        vertical-align: middle;\n",
       "    }\n",
       "\n",
       "    .dataframe tbody tr th {\n",
       "        vertical-align: top;\n",
       "    }\n",
       "\n",
       "    .dataframe thead th {\n",
       "        text-align: right;\n",
       "    }\n",
       "</style>\n",
       "<table border=\"1\" class=\"dataframe\">\n",
       "  <thead>\n",
       "    <tr style=\"text-align: right;\">\n",
       "      <th></th>\n",
       "      <th>Auteur(s)</th>\n",
       "      <th>Titre</th>\n",
       "      <th>Edition</th>\n",
       "      <th>Date</th>\n",
       "      <th>ISBN</th>\n",
       "    </tr>\n",
       "  </thead>\n",
       "  <tbody>\n",
       "    <tr>\n",
       "      <th>2</th>\n",
       "      <td>None</td>\n",
       "      <td>La danse d'amour du vieux corbeau</td>\n",
       "      <td>Denoël</td>\n",
       "      <td>1983</td>\n",
       "      <td>9782207228180</td>\n",
       "    </tr>\n",
       "    <tr>\n",
       "      <th>10</th>\n",
       "      <td>None</td>\n",
       "      <td>Le pornographe timide</td>\n",
       "      <td>Traduit par Marc de Gouvenain, Lena Grumbach</td>\n",
       "      <td>2000</td>\n",
       "      <td>9782742726400</td>\n",
       "    </tr>\n",
       "    <tr>\n",
       "      <th>11</th>\n",
       "      <td>None</td>\n",
       "      <td>**Yvelines**</td>\n",
       "      <td>Ponchet Plan Net éditions</td>\n",
       "      <td>2000</td>\n",
       "      <td>9782846670760</td>\n",
       "    </tr>\n",
       "    <tr>\n",
       "      <th>34</th>\n",
       "      <td>None</td>\n",
       "      <td>Costa Brava/Andorre/Perpignan - 1/200.000</td>\n",
       "      <td>Marco Polo</td>\n",
       "      <td>2000</td>\n",
       "      <td>9783895252310</td>\n",
       "    </tr>\n",
       "    <tr>\n",
       "      <th>38</th>\n",
       "      <td>None</td>\n",
       "      <td>New Appartment design /multilingue</td>\n",
       "      <td>Daab</td>\n",
       "      <td>2005</td>\n",
       "      <td>9783937718170</td>\n",
       "    </tr>\n",
       "    <tr>\n",
       "      <th>...</th>\n",
       "      <td>...</td>\n",
       "      <td>...</td>\n",
       "      <td>...</td>\n",
       "      <td>...</td>\n",
       "      <td>...</td>\n",
       "    </tr>\n",
       "    <tr>\n",
       "      <th>6095</th>\n",
       "      <td>None</td>\n",
       "      <td>Abécédaire de l'Apocalypse [Board book] Parnov...</td>\n",
       "      <td>Traduit par Bernard Kreise</td>\n",
       "      <td>2008</td>\n",
       "      <td>9782355860010</td>\n",
       "    </tr>\n",
       "    <tr>\n",
       "      <th>6096</th>\n",
       "      <td>None</td>\n",
       "      <td>Un pont sur la Loire</td>\n",
       "      <td>Table Ronde</td>\n",
       "      <td>2006</td>\n",
       "      <td>9782710328490</td>\n",
       "    </tr>\n",
       "    <tr>\n",
       "      <th>6100</th>\n",
       "      <td>None</td>\n",
       "      <td>Villa Argane</td>\n",
       "      <td>Presses du Midi</td>\n",
       "      <td>2001</td>\n",
       "      <td>9782878673050</td>\n",
       "    </tr>\n",
       "    <tr>\n",
       "      <th>6122</th>\n",
       "      <td>None</td>\n",
       "      <td>Sept jours pour expier</td>\n",
       "      <td>Traduit par Jean Bonnefoy</td>\n",
       "      <td>1993</td>\n",
       "      <td>9782207240960</td>\n",
       "    </tr>\n",
       "    <tr>\n",
       "      <th>6141</th>\n",
       "      <td>None</td>\n",
       "      <td>La correspondance pratique espagnole</td>\n",
       "      <td>Langues pour tous</td>\n",
       "      <td>2006</td>\n",
       "      <td>9782266161190</td>\n",
       "    </tr>\n",
       "  </tbody>\n",
       "</table>\n",
       "<p>496 rows × 5 columns</p>\n",
       "</div>"
      ],
      "text/plain": [
       "     Auteur(s)                                              Titre  \\\n",
       "2         None                  La danse d'amour du vieux corbeau   \n",
       "10        None                              Le pornographe timide   \n",
       "11        None                                       **Yvelines**   \n",
       "34        None          Costa Brava/Andorre/Perpignan - 1/200.000   \n",
       "38        None                 New Appartment design /multilingue   \n",
       "...        ...                                                ...   \n",
       "6095      None  Abécédaire de l'Apocalypse [Board book] Parnov...   \n",
       "6096      None                               Un pont sur la Loire   \n",
       "6100      None                                       Villa Argane   \n",
       "6122      None                             Sept jours pour expier   \n",
       "6141      None               La correspondance pratique espagnole   \n",
       "\n",
       "                                           Edition  Date           ISBN  \n",
       "2                                           Denoël  1983  9782207228180  \n",
       "10    Traduit par Marc de Gouvenain, Lena Grumbach  2000  9782742726400  \n",
       "11                       Ponchet Plan Net éditions  2000  9782846670760  \n",
       "34                                      Marco Polo  2000  9783895252310  \n",
       "38                                            Daab  2005  9783937718170  \n",
       "...                                            ...   ...            ...  \n",
       "6095                    Traduit par Bernard Kreise  2008  9782355860010  \n",
       "6096                                   Table Ronde  2006  9782710328490  \n",
       "6100                               Presses du Midi  2001  9782878673050  \n",
       "6122                     Traduit par Jean Bonnefoy  1993  9782207240960  \n",
       "6141                             Langues pour tous  2006  9782266161190  \n",
       "\n",
       "[496 rows x 5 columns]"
      ]
     },
     "execution_count": 56,
     "metadata": {},
     "output_type": "execute_result"
    }
   ],
   "source": [
    "# afficher les None \n",
    "filtre = df[df['Auteur(s)']==\"None\"]\n",
    "filtre"
   ]
  },
  {
   "cell_type": "markdown",
   "id": "ad5a24d6",
   "metadata": {},
   "source": [
    "### Avec ISBNLIB"
   ]
  },
  {
   "cell_type": "code",
   "execution_count": 7,
   "id": "06884b26",
   "metadata": {},
   "outputs": [],
   "source": [
    "import pandas as pd\n",
    "import isbnlib\n",
    "from isbnlib import canonical, meta\n",
    "import csv\n",
    "from tqdm import tqdm"
   ]
  },
  {
   "cell_type": "code",
   "execution_count": 24,
   "id": "fdc55c05",
   "metadata": {},
   "outputs": [
    {
     "data": {
      "text/plain": [
       "1249"
      ]
     },
     "execution_count": 24,
     "metadata": {},
     "output_type": "execute_result"
    }
   ],
   "source": [
    "# liste récupérant les ISBN du filtre 'None'\n",
    "liste_ISBN = [x for x in filtre['ISBN']]\n",
    "\n",
    "len(liste_ISBN)"
   ]
  },
  {
   "cell_type": "markdown",
   "id": "bc5a18f9",
   "metadata": {},
   "source": [
    "## Correction des 'None' (suite)"
   ]
  },
  {
   "cell_type": "code",
   "execution_count": 57,
   "id": "617c6ae8",
   "metadata": {},
   "outputs": [
    {
     "data": {
      "application/vnd.jupyter.widget-view+json": {
       "model_id": "107dad62cba242328af5f09a637aa5d0",
       "version_major": 2,
       "version_minor": 0
      },
      "text/plain": [
       "0it [00:00, ?it/s]"
      ]
     },
     "metadata": {},
     "output_type": "display_data"
    },
    {
     "name": "stdout",
     "output_type": "stream",
     "text": [
      "Nb d'erreurs : 120\n"
     ]
    }
   ],
   "source": [
    "from isbnlib import canonical, meta\n",
    "import csv\n",
    "from tqdm.notebook import tqdm_notebook\n",
    "\n",
    "erreur = 0\n",
    "\n",
    "# MODIFICATION DE LA SOURCE\n",
    "SERVICE = 'goob'\n",
    "\n",
    "for index, row in tqdm_notebook(filtre.iterrows()):\n",
    "    isbn = str(row[4])\n",
    "    try : \n",
    "        data = meta(isbn, SERVICE)\n",
    "\n",
    "        try :\n",
    "            if len(data[\"Authors\"]) == 1 :\n",
    "                            for x in data[\"Authors\"] :\n",
    "\n",
    "                                filtre.loc[index, \"Auteur(s)\"] = str(x)\n",
    "                                filtre.to_csv(\"copie_noms.csv\", index=False)\n",
    "            else : \n",
    "                filtre.loc[index, \"Auteur(s)\"] = data[\"Authors\"]\n",
    "\n",
    "        except :\n",
    "            erreur += 1\n",
    "            continue\n",
    "    \n",
    "    except :\n",
    "        erreur += 1\n",
    "        continue\n",
    "\n",
    "\n",
    "print(\"Nb d'erreurs :\", erreur)\n",
    "\n",
    "# Sauvegarde\n",
    "filtre.to_csv(\"filtre.csv\", index=False)"
   ]
  },
  {
   "cell_type": "markdown",
   "id": "55ae29a5",
   "metadata": {},
   "source": [
    "## Suppression des lignes "
   ]
  },
  {
   "cell_type": "markdown",
   "id": "2733f9b9",
   "metadata": {},
   "source": [
    "**Objectif :** maintenant que nous avons retravaillé les 'None', on peut récupérer les index des lignes grâce au précédent filtre. Une fois les index ajoutés à une liste, on peut les supprimer dans le df. Il ne nous reste plus qu'à concaténer le df avec le nouveau .csv (sans les 'None')"
   ]
  },
  {
   "cell_type": "code",
   "execution_count": 58,
   "id": "701b1520",
   "metadata": {},
   "outputs": [
    {
     "name": "stdout",
     "output_type": "stream",
     "text": [
      "Nombre d'index dans la liste : 496\n"
     ]
    }
   ],
   "source": [
    "# Premier filtre \n",
    "# filtre = df[df['Auteur(s)']==\"None\"]\n",
    "\n",
    "# création d'une liste pour les index\n",
    "liste_index = []\n",
    "for index, row in filtre.iterrows(): \n",
    "    liste_index.append(index)\n",
    "    \n",
    "print(\"Nombre d'index dans la liste :\", len(liste_index))"
   ]
  },
  {
   "cell_type": "code",
   "execution_count": 59,
   "id": "acf1a26e",
   "metadata": {},
   "outputs": [
    {
     "name": "stdout",
     "output_type": "stream",
     "text": [
      "[2, 10, 11, 34, 38, 42, 48, 50, 53, 61, 73, 76, 84, 93, 98, 111, 112, 121, 151, 191, 204, 219, 225, 230, 238, 247, 253, 259, 270, 278, 301, 317, 319, 324, 343, 358, 374, 407, 415, 438, 449, 450, 471, 491, 494, 502, 553, 556, 587, 616, 632, 635, 638, 647, 653, 660, 664, 690, 691, 712, 721, 744, 747, 769, 778, 779, 789, 802, 813, 848, 849, 880, 909, 922, 931, 942, 946, 951, 956, 957, 977, 979, 984, 994, 1004, 1005, 1019, 1035, 1038, 1057, 1071, 1078, 1101, 1140, 1159, 1165, 1166, 1187, 1188, 1196, 1198, 1199, 1208, 1214, 1227, 1230, 1243, 1245, 1254, 1262, 1277, 1280, 1287, 1306, 1319, 1378, 1419, 1449, 1461, 1474, 1481, 1488, 1511, 1524, 1544, 1570, 1586, 1589, 1603, 1612, 1628, 1635, 1639, 1655, 1660, 1695, 1700, 1704, 1746, 1755, 1776, 1789, 1790, 1814, 1817, 1834, 1854, 1867, 1903, 1908, 1935, 1970, 1971, 1998, 2006, 2008, 2009, 2058, 2074, 2077, 2079, 2104, 2126, 2131, 2138, 2159, 2161, 2165, 2166, 2175, 2179, 2183, 2184, 2228, 2237, 2243, 2261, 2264, 2265, 2277, 2295, 2301, 2303, 2319, 2332, 2338, 2351, 2356, 2359, 2377, 2381, 2382, 2389, 2404, 2431, 2438, 2458, 2466, 2468, 2480, 2490, 2492, 2495, 2504, 2512, 2514, 2520, 2521, 2569, 2585, 2600, 2604, 2607, 2623, 2637, 2665, 2676, 2680, 2704, 2732, 2751, 2752, 2757, 2773, 2791, 2805, 2843, 2874, 2890, 2893, 2920, 2922, 2945, 2949, 2973, 2979, 2980, 2987, 2990, 2999, 3002, 3009, 3014, 3025, 3034, 3041, 3051, 3052, 3058, 3084, 3095, 3103, 3108, 3115, 3123, 3124, 3127, 3134, 3140, 3142, 3211, 3218, 3232, 3245, 3261, 3270, 3278, 3294, 3303, 3309, 3312, 3316, 3317, 3328, 3338, 3343, 3347, 3358, 3372, 3378, 3383, 3408, 3434, 3440, 3460, 3463, 3480, 3481, 3482, 3493, 3496, 3502, 3510, 3523, 3551, 3557, 3569, 3576, 3585, 3590, 3601, 3609, 3622, 3632, 3642, 3647, 3657, 3709, 3712, 3716, 3721, 3726, 3730, 3742, 3769, 3772, 3779, 3791, 3795, 3804, 3837, 3843, 3844, 3858, 3879, 3893, 3906, 3938, 3941, 3947, 3954, 3991, 3998, 4048, 4058, 4097, 4109, 4110, 4113, 4115, 4119, 4196, 4197, 4204, 4212, 4233, 4249, 4279, 4293, 4295, 4325, 4328, 4336, 4344, 4346, 4352, 4374, 4411, 4444, 4447, 4468, 4501, 4507, 4520, 4526, 4573, 4578, 4584, 4591, 4601, 4603, 4610, 4612, 4614, 4636, 4640, 4653, 4704, 4707, 4727, 4781, 4782, 4783, 4813, 4816, 4844, 4846, 4849, 4865, 4879, 4895, 4899, 4906, 4913, 4926, 4937, 4941, 4951, 4969, 4986, 4987, 4994, 5003, 5023, 5039, 5076, 5085, 5093, 5094, 5113, 5154, 5178, 5185, 5188, 5206, 5244, 5246, 5247, 5302, 5312, 5314, 5324, 5346, 5350, 5372, 5394, 5404, 5409, 5410, 5413, 5421, 5445, 5453, 5496, 5503, 5515, 5530, 5540, 5541, 5542, 5558, 5571, 5578, 5609, 5622, 5658, 5661, 5666, 5668, 5675, 5677, 5738, 5742, 5748, 5754, 5771, 5782, 5784, 5791, 5794, 5796, 5801, 5818, 5825, 5836, 5841, 5846, 5847, 5863, 5883, 5885, 5893, 5895, 5896, 5902, 5905, 5914, 5924, 5952, 5955, 5963, 5966, 5973, 5974, 5980, 5993, 6009, 6016, 6045, 6054, 6076, 6095, 6096, 6100, 6122, 6141]\n"
     ]
    }
   ],
   "source": [
    "print(liste_index)"
   ]
  },
  {
   "cell_type": "code",
   "execution_count": 60,
   "id": "12ff55d4",
   "metadata": {},
   "outputs": [
    {
     "name": "stdout",
     "output_type": "stream",
     "text": [
      "<class 'pandas.core.frame.DataFrame'>\n",
      "RangeIndex: 6146 entries, 0 to 6145\n",
      "Data columns (total 5 columns):\n",
      " #   Column     Non-Null Count  Dtype \n",
      "---  ------     --------------  ----- \n",
      " 0   Auteur(s)  6144 non-null   object\n",
      " 1   Titre      6146 non-null   object\n",
      " 2   Edition    6146 non-null   object\n",
      " 3   Date       6146 non-null   int64 \n",
      " 4   ISBN       6146 non-null   int64 \n",
      "dtypes: int64(2), object(3)\n",
      "memory usage: 240.2+ KB\n"
     ]
    }
   ],
   "source": [
    "df = pd.read_csv('test.csv')\n",
    "df.info()"
   ]
  },
  {
   "cell_type": "code",
   "execution_count": 62,
   "id": "bce71def",
   "metadata": {},
   "outputs": [
    {
     "name": "stdout",
     "output_type": "stream",
     "text": [
      "<class 'pandas.core.frame.DataFrame'>\n",
      "Int64Index: 5650 entries, 0 to 6145\n",
      "Data columns (total 5 columns):\n",
      " #   Column     Non-Null Count  Dtype \n",
      "---  ------     --------------  ----- \n",
      " 0   Auteur(s)  5648 non-null   object\n",
      " 1   Titre      5650 non-null   object\n",
      " 2   Edition    5650 non-null   object\n",
      " 3   Date       5650 non-null   int64 \n",
      " 4   ISBN       5650 non-null   int64 \n",
      "dtypes: int64(2), object(3)\n",
      "memory usage: 264.8+ KB\n"
     ]
    }
   ],
   "source": [
    "# Suppression des lignes\n",
    "df.drop([2, 10, 11, 34, 38, 42, 48, 50, 53, 61, 73, 76, 84, 93, 98, 111, 112, 121, 151, 191, 204, 219, 225, 230, 238, 247, 253, 259, 270, 278, 301, 317, 319, 324, 343, 358, 374, 407, 415, 438, 449, 450, 471, 491, 494, 502, 553, 556, 587, 616, 632, 635, 638, 647, 653, 660, 664, 690, 691, 712, 721, 744, 747, 769, 778, 779, 789, 802, 813, 848, 849, 880, 909, 922, 931, 942, 946, 951, 956, 957, 977, 979, 984, 994, 1004, 1005, 1019, 1035, 1038, 1057, 1071, 1078, 1101, 1140, 1159, 1165, 1166, 1187, 1188, 1196, 1198, 1199, 1208, 1214, 1227, 1230, 1243, 1245, 1254, 1262, 1277, 1280, 1287, 1306, 1319, 1378, 1419, 1449, 1461, 1474, 1481, 1488, 1511, 1524, 1544, 1570, 1586, 1589, 1603, 1612, 1628, 1635, 1639, 1655, 1660, 1695, 1700, 1704, 1746, 1755, 1776, 1789, 1790, 1814, 1817, 1834, 1854, 1867, 1903, 1908, 1935, 1970, 1971, 1998, 2006, 2008, 2009, 2058, 2074, 2077, 2079, 2104, 2126, 2131, 2138, 2159, 2161, 2165, 2166, 2175, 2179, 2183, 2184, 2228, 2237, 2243, 2261, 2264, 2265, 2277, 2295, 2301, 2303, 2319, 2332, 2338, 2351, 2356, 2359, 2377, 2381, 2382, 2389, 2404, 2431, 2438, 2458, 2466, 2468, 2480, 2490, 2492, 2495, 2504, 2512, 2514, 2520, 2521, 2569, 2585, 2600, 2604, 2607, 2623, 2637, 2665, 2676, 2680, 2704, 2732, 2751, 2752, 2757, 2773, 2791, 2805, 2843, 2874, 2890, 2893, 2920, 2922, 2945, 2949, 2973, 2979, 2980, 2987, 2990, 2999, 3002, 3009, 3014, 3025, 3034, 3041, 3051, 3052, 3058, 3084, 3095, 3103, 3108, 3115, 3123, 3124, 3127, 3134, 3140, 3142, 3211, 3218, 3232, 3245, 3261, 3270, 3278, 3294, 3303, 3309, 3312, 3316, 3317, 3328, 3338, 3343, 3347, 3358, 3372, 3378, 3383, 3408, 3434, 3440, 3460, 3463, 3480, 3481, 3482, 3493, 3496, 3502, 3510, 3523, 3551, 3557, 3569, 3576, 3585, 3590, 3601, 3609, 3622, 3632, 3642, 3647, 3657, 3709, 3712, 3716, 3721, 3726, 3730, 3742, 3769, 3772, 3779, 3791, 3795, 3804, 3837, 3843, 3844, 3858, 3879, 3893, 3906, 3938, 3941, 3947, 3954, 3991, 3998, 4048, 4058, 4097, 4109, 4110, 4113, 4115, 4119, 4196, 4197, 4204, 4212, 4233, 4249, 4279, 4293, 4295, 4325, 4328, 4336, 4344, 4346, 4352, 4374, 4411, 4444, 4447, 4468, 4501, 4507, 4520, 4526, 4573, 4578, 4584, 4591, 4601, 4603, 4610, 4612, 4614, 4636, 4640, 4653, 4704, 4707, 4727, 4781, 4782, 4783, 4813, 4816, 4844, 4846, 4849, 4865, 4879, 4895, 4899, 4906, 4913, 4926, 4937, 4941, 4951, 4969, 4986, 4987, 4994, 5003, 5023, 5039, 5076, 5085, 5093, 5094, 5113, 5154, 5178, 5185, 5188, 5206, 5244, 5246, 5247, 5302, 5312, 5314, 5324, 5346, 5350, 5372, 5394, 5404, 5409, 5410, 5413, 5421, 5445, 5453, 5496, 5503, 5515, 5530, 5540, 5541, 5542, 5558, 5571, 5578, 5609, 5622, 5658, 5661, 5666, 5668, 5675, 5677, 5738, 5742, 5748, 5754, 5771, 5782, 5784, 5791, 5794, 5796, 5801, 5818, 5825, 5836, 5841, 5846, 5847, 5863, 5883, 5885, 5893, 5895, 5896, 5902, 5905, 5914, 5924, 5952, 5955, 5963, 5966, 5973, 5974, 5980, 5993, 6009, 6016, 6045, 6054, 6076, 6095, 6096, 6100, 6122, 6141], axis=0, inplace=True)\n",
    "df.info()\n",
    "# Sauvegarde\n",
    "df.to_csv(\"test.csv\", index=False)"
   ]
  },
  {
   "cell_type": "code",
   "execution_count": 69,
   "id": "c09357c6",
   "metadata": {},
   "outputs": [],
   "source": [
    "# Concaténation des 2 df\n",
    "df = pd.concat(\n",
    "    map(pd.read_csv, ['40.csv', 'test_2.csv']), ignore_index=True)\n",
    "\n",
    "# Sauvegarde\n",
    "df.to_csv(\"41.csv\", index=False)"
   ]
  },
  {
   "cell_type": "code",
   "execution_count": 71,
   "id": "b029fb53",
   "metadata": {},
   "outputs": [
    {
     "name": "stdout",
     "output_type": "stream",
     "text": [
      "<class 'pandas.core.frame.DataFrame'>\n",
      "RangeIndex: 111990 entries, 0 to 111989\n",
      "Data columns (total 5 columns):\n",
      " #   Column     Non-Null Count   Dtype \n",
      "---  ------     --------------   ----- \n",
      " 0   Auteur(s)  111410 non-null  object\n",
      " 1   Titre      111990 non-null  object\n",
      " 2   Edition    111812 non-null  object\n",
      " 3   Date       111990 non-null  int64 \n",
      " 4   ISBN       111990 non-null  int64 \n",
      "dtypes: int64(2), object(3)\n",
      "memory usage: 4.3+ MB\n"
     ]
    }
   ],
   "source": [
    "df = pd.read_csv('40.csv')\n",
    "df.info()"
   ]
  },
  {
   "cell_type": "code",
   "execution_count": 67,
   "id": "489c7734",
   "metadata": {},
   "outputs": [
    {
     "data": {
      "text/html": [
       "<div>\n",
       "<style scoped>\n",
       "    .dataframe tbody tr th:only-of-type {\n",
       "        vertical-align: middle;\n",
       "    }\n",
       "\n",
       "    .dataframe tbody tr th {\n",
       "        vertical-align: top;\n",
       "    }\n",
       "\n",
       "    .dataframe thead th {\n",
       "        text-align: right;\n",
       "    }\n",
       "</style>\n",
       "<table border=\"1\" class=\"dataframe\">\n",
       "  <thead>\n",
       "    <tr style=\"text-align: right;\">\n",
       "      <th></th>\n",
       "      <th>Auteur(s)</th>\n",
       "      <th>Titre</th>\n",
       "      <th>Edition</th>\n",
       "      <th>Date</th>\n",
       "      <th>ISBN</th>\n",
       "    </tr>\n",
       "  </thead>\n",
       "  <tbody>\n",
       "    <tr>\n",
       "      <th>2</th>\n",
       "      <td>None</td>\n",
       "      <td>La danse d'amour du vieux corbeau</td>\n",
       "      <td>Denoël</td>\n",
       "      <td>1983</td>\n",
       "      <td>9782207228180</td>\n",
       "    </tr>\n",
       "    <tr>\n",
       "      <th>10</th>\n",
       "      <td>None</td>\n",
       "      <td>Le pornographe timide</td>\n",
       "      <td>Traduit par Marc de Gouvenain, Lena Grumbach</td>\n",
       "      <td>2000</td>\n",
       "      <td>9782742726400</td>\n",
       "    </tr>\n",
       "    <tr>\n",
       "      <th>11</th>\n",
       "      <td>None</td>\n",
       "      <td>**Yvelines**</td>\n",
       "      <td>Ponchet Plan Net éditions</td>\n",
       "      <td>2000</td>\n",
       "      <td>9782846670760</td>\n",
       "    </tr>\n",
       "    <tr>\n",
       "      <th>34</th>\n",
       "      <td>None</td>\n",
       "      <td>Costa Brava/Andorre/Perpignan - 1/200.000</td>\n",
       "      <td>Marco Polo</td>\n",
       "      <td>2000</td>\n",
       "      <td>9783895252310</td>\n",
       "    </tr>\n",
       "    <tr>\n",
       "      <th>38</th>\n",
       "      <td>None</td>\n",
       "      <td>New Appartment design /multilingue</td>\n",
       "      <td>Daab</td>\n",
       "      <td>2005</td>\n",
       "      <td>9783937718170</td>\n",
       "    </tr>\n",
       "    <tr>\n",
       "      <th>...</th>\n",
       "      <td>...</td>\n",
       "      <td>...</td>\n",
       "      <td>...</td>\n",
       "      <td>...</td>\n",
       "      <td>...</td>\n",
       "    </tr>\n",
       "    <tr>\n",
       "      <th>12282</th>\n",
       "      <td>None</td>\n",
       "      <td>La ligne de feu</td>\n",
       "      <td>Traduit par Jacques Fontaine, Ivan Steenhout</td>\n",
       "      <td>2000</td>\n",
       "      <td>9782842612160</td>\n",
       "    </tr>\n",
       "    <tr>\n",
       "      <th>12285</th>\n",
       "      <td>None</td>\n",
       "      <td>Les Amis de Milosz, numéro 27</td>\n",
       "      <td>Rocher</td>\n",
       "      <td>1998</td>\n",
       "      <td>9782850552250</td>\n",
       "    </tr>\n",
       "    <tr>\n",
       "      <th>12288</th>\n",
       "      <td>None</td>\n",
       "      <td>Nouveau paradis</td>\n",
       "      <td>Seuil Jeunesse</td>\n",
       "      <td>1937</td>\n",
       "      <td>9782020033510</td>\n",
       "    </tr>\n",
       "    <tr>\n",
       "      <th>12295</th>\n",
       "      <td>None</td>\n",
       "      <td>Sept jours pour expier</td>\n",
       "      <td>Traduit par Jean Bonnefoy</td>\n",
       "      <td>1993</td>\n",
       "      <td>9782207240960</td>\n",
       "    </tr>\n",
       "    <tr>\n",
       "      <th>12296</th>\n",
       "      <td>None</td>\n",
       "      <td>La correspondance pratique espagnole</td>\n",
       "      <td>Langues pour tous</td>\n",
       "      <td>2006</td>\n",
       "      <td>9782266161190</td>\n",
       "    </tr>\n",
       "  </tbody>\n",
       "</table>\n",
       "<p>597 rows × 5 columns</p>\n",
       "</div>"
      ],
      "text/plain": [
       "      Auteur(s)                                      Titre  \\\n",
       "2          None          La danse d'amour du vieux corbeau   \n",
       "10         None                      Le pornographe timide   \n",
       "11         None                               **Yvelines**   \n",
       "34         None  Costa Brava/Andorre/Perpignan - 1/200.000   \n",
       "38         None         New Appartment design /multilingue   \n",
       "...         ...                                        ...   \n",
       "12282      None                            La ligne de feu   \n",
       "12285      None              Les Amis de Milosz, numéro 27   \n",
       "12288      None                            Nouveau paradis   \n",
       "12295      None                     Sept jours pour expier   \n",
       "12296      None       La correspondance pratique espagnole   \n",
       "\n",
       "                                            Edition  Date           ISBN  \n",
       "2                                            Denoël  1983  9782207228180  \n",
       "10     Traduit par Marc de Gouvenain, Lena Grumbach  2000  9782742726400  \n",
       "11                        Ponchet Plan Net éditions  2000  9782846670760  \n",
       "34                                       Marco Polo  2000  9783895252310  \n",
       "38                                             Daab  2005  9783937718170  \n",
       "...                                             ...   ...            ...  \n",
       "12282  Traduit par Jacques Fontaine, Ivan Steenhout  2000  9782842612160  \n",
       "12285                                        Rocher  1998  9782850552250  \n",
       "12288                                Seuil Jeunesse  1937  9782020033510  \n",
       "12295                     Traduit par Jean Bonnefoy  1993  9782207240960  \n",
       "12296                             Langues pour tous  2006  9782266161190  \n",
       "\n",
       "[597 rows x 5 columns]"
      ]
     },
     "execution_count": 67,
     "metadata": {},
     "output_type": "execute_result"
    }
   ],
   "source": [
    "df[df['Auteur(s)']== \"None\"]"
   ]
  }
 ],
 "metadata": {
  "kernelspec": {
   "display_name": "Python 3 (ipykernel)",
   "language": "python",
   "name": "python3"
  },
  "language_info": {
   "codemirror_mode": {
    "name": "ipython",
    "version": 3
   },
   "file_extension": ".py",
   "mimetype": "text/x-python",
   "name": "python",
   "nbconvert_exporter": "python",
   "pygments_lexer": "ipython3",
   "version": "3.8.3"
  }
 },
 "nbformat": 4,
 "nbformat_minor": 5
}
